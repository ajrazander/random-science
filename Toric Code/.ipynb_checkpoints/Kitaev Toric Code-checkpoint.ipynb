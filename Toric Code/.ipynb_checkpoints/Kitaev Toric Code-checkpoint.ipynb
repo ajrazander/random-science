{
 "cells": [
  {
   "cell_type": "markdown",
   "metadata": {},
   "source": [
    "# Kitaev Model: Toric Code\n",
    "\n",
    "Kitaev Hamiltonian:\n",
    "$\n",
    "\\begin{equation}\n",
    "H_K = - \\sum_p B_p - \\sum_s A_s\n",
    "\\end{equation}\n",
    "$\n",
    "\n",
    "With operators defined as:\n",
    "\n",
    "$\n",
    "\\begin{align}\n",
    "B_p &= \\Pi_{(ij) \\in p} \\sigma_{(ij)}^z \\\\\n",
    "A_s &= \\Pi_{(ij) \\in s} \\sigma_{(ij)}^x \\\\\n",
    "\\end{align}\n",
    "$\n",
    "\n",
    "where $p$ is a plaquette of the lattice and $s$ is a star vertex of the lattice."
   ]
  },
  {
   "cell_type": "code",
   "execution_count": 4,
   "metadata": {},
   "outputs": [],
   "source": [
    "import numpy as np\n",
    "import networkx as nx\n",
    "\n",
    "import matplotlib.pyplot as plt"
   ]
  },
  {
   "cell_type": "markdown",
   "metadata": {},
   "source": [
    "![Code](images/two_by_two.png)"
   ]
  },
  {
   "cell_type": "code",
   "execution_count": 9,
   "metadata": {},
   "outputs": [],
   "source": [
    "# Generate lattice\n",
    "\n",
    "lattice = nx.Graph()\n",
    "lattice.add_edges_from([(1, 2), (2, 3), (1, 4), (3, 5), (4, 6), (6, 7), (7, 8), (5, 8)])"
   ]
  },
  {
   "cell_type": "code",
   "execution_count": 19,
   "metadata": {},
   "outputs": [
    {
     "data": {
      "image/png": "[encoded data removed]",
      "text/plain": [
       "<Figure size 432x288 with 2 Axes>"
      ]
     },
     "metadata": {},
     "output_type": "display_data"
    }
   ],
   "source": [
    "# Draw lattice\n",
    "\n",
    "plt.subplot(121)\n",
    "nx.draw(lattice, with_labels=True, font_weight='bold')\n",
    "plt.subplot(122)\n",
    "nx.draw(lattice, nlist=[range(3),4,5,range(5,8)], with_labels=True, font_weight='bold')\n",
    "plt.show()"
   ]
  },
  {
   "cell_type": "code",
   "execution_count": 20,
   "metadata": {},
   "outputs": [
    {
     "data": {
      "text/plain": [
       "512"
      ]
     },
     "execution_count": 20,
     "metadata": {},
     "output_type": "execute_result"
    }
   ],
   "source": []
  },
  {
   "cell_type": "markdown",
   "metadata": {},
   "source": [
    "Consider an $N=2$ torus, meaning there are $2N^2 = 8$ spin sites and periodic boundary conditions"
   ]
  },
  {
   "cell_type": "code",
   "execution_count": 2,
   "metadata": {},
   "outputs": [],
   "source": [
    "Nspins = 8  # number of spins on lattice\n",
    "Np = 4  # number of plaquettes\n",
    "Ns = 4  # number of star vertices"
   ]
  },
  {
   "cell_type": "markdown",
   "metadata": {},
   "source": [
    "Generate $B_p$ and $A_s$ operators. Since there are only $8$ operators in total, I'll just write them in by hand. Later, we can automate it based off a graph representing the spin sites."
   ]
  },
  {
   "cell_type": "code",
   "execution_count": 3,
   "metadata": {},
   "outputs": [],
   "source": [
    "x = np.array([[0,1],[1,0]])\n",
    "z = np.array([[1,0],[0,-1]])\n",
    "iden = np.identity(2)\n",
    "\n",
    "Bp_s = []  # list of Bp operators indexed from 0 to 3\n",
    "Bp_s.append(np.kron(np.kron(np.kron(np.kron(np.kron(np.kron(np.kron(iden, z), z), z), iden), z), iden), iden))\n",
    "Bp_s.append(np.kron(np.kron(np.kron(np.kron(np.kron(np.kron(np.kron(z, iden), z), z), z), iden), iden), iden))\n",
    "Bp_s.append(np.kron(np.kron(np.kron(np.kron(np.kron(np.kron(np.kron(iden, z), iden), iden), iden), z), z), z))\n",
    "Bp_s.append(np.kron(np.kron(np.kron(np.kron(np.kron(np.kron(np.kron(z, iden), iden), iden), z), iden), z), z))\n",
    "\n",
    "As_s = []  # list of Bp operators indexed from 0 to 3\n",
    "As_s.append(np.kron(np.kron(np.kron(np.kron(np.kron(np.kron(np.kron(iden, iden), x), iden), x), x), x), iden))\n",
    "As_s.append(np.kron(np.kron(np.kron(np.kron(np.kron(np.kron(np.kron(iden, iden), iden), x), x), x), iden), x))\n",
    "As_s.append(np.kron(np.kron(np.kron(np.kron(np.kron(np.kron(np.kron(x, x), x), iden), iden), iden), x), iden))\n",
    "As_s.append(np.kron(np.kron(np.kron(np.kron(np.kron(np.kron(np.kron(x, x), iden), x), iden), iden), iden), x))"
   ]
  },
  {
   "cell_type": "markdown",
   "metadata": {},
   "source": [
    "Check $B_p$ and $A_s$ operators commute according to\n",
    "\n",
    "$\n",
    "\\begin{align}\n",
    "[B_p, B_{p\\prime}] &= 0 \\\\\n",
    "[A_s, A_{s\\prime}] &= 0 \\\\\n",
    "[B_p, A_s] &= 0 \\\\\n",
    "\\end{align}\n",
    "$\n",
    "\n",
    "Check that periodic boundary condition\n",
    "\n",
    "$\n",
    "\\begin{align}\n",
    "\\Pi_s A_s &= 1 \\\\\n",
    "\\Pi_p B_p &= 1 \\\\\n",
    "\\end{align}\n",
    "$\n",
    "\n",
    "holds.\n"
   ]
  },
  {
   "cell_type": "code",
   "execution_count": 4,
   "metadata": {},
   "outputs": [
    {
     "name": "stdout",
     "output_type": "stream",
     "text": [
      "Is the product of Bp operators equal to the identity matrix?: True\n",
      "Is the product of As operators equal to the identity matrix?: True\n"
     ]
    }
   ],
   "source": [
    "# Check commutation relations. Print if there something does NOT commute\n",
    "\n",
    "# Commutation between different Bp operators\n",
    "for i in range(len(Bp_s) - 1):\n",
    "    if not np.array_equal(np.matmul(Bp_s[i], Bp_s[i+1]), np.matmul(Bp_s[i+1], Bp_s[i])):\n",
    "        print('Bp', i, 'does not commute with Bp', i+1)\n",
    "\n",
    "# Commutation between different As operators\n",
    "for i in range(len(As_s) - 1):\n",
    "    if not np.array_equal(np.matmul(As_s[i], As_s[i+1]), np.matmul(As_s[i+1], As_s[i])):\n",
    "        print('As', i, 'does not commute with As', i+1)\n",
    "\n",
    "# Commutation between different Bp and As operators\n",
    "for i in range(len(As_s)):\n",
    "    for j in range(len(Bp_s)):\n",
    "        if not np.array_equal(np.matmul(As_s[i], Bp_s[j]), np.matmul(Bp_s[j], As_s[i])):\n",
    "            print('As', i, 'does not commute with As', i+1)\n",
    "\n",
    "# Check periodic boundary condition\n",
    "Bp_product = np.identity(Bp_s[0].shape[0])\n",
    "for i in range(len(Bp_s)):\n",
    "    Bp_product = np.matmul(Bp_product, Bp_s[i])\n",
    "print('Is the product of Bp operators equal to the identity matrix?:', np.array_equal(Bp_product, np.identity(Bp_s[0].shape[0])))\n",
    "\n",
    "As_product = np.identity(As_s[0].shape[0])\n",
    "for i in range(len(As_s)):\n",
    "    As_product = np.matmul(As_product, As_s[i])\n",
    "print('Is the product of As operators equal to the identity matrix?:', np.array_equal(As_product, np.identity(As_s[0].shape[0])))"
   ]
  },
  {
   "cell_type": "markdown",
   "metadata": {},
   "source": [
    "Looks like everything checks out. Now to compute the Hamiltonian $H_K$"
   ]
  },
  {
   "cell_type": "code",
   "execution_count": 7,
   "metadata": {},
   "outputs": [],
   "source": [
    "# Sum all the Bp and As operators\n",
    "H_k = -sum(Bp_s) - sum(As_s)"
   ]
  },
  {
   "cell_type": "markdown",
   "metadata": {},
   "source": [
    "# Compute eigenvalues and eigenvectors of Hamiltonian"
   ]
  },
  {
   "cell_type": "code",
   "execution_count": 10,
   "metadata": {},
   "outputs": [
    {
     "name": "stdout",
     "output_type": "stream",
     "text": [
      "[-8. -4. -0.  4.  8.] [  4  48 152  48   4]\n",
      "average norm: 1.0\n"
     ]
    }
   ],
   "source": [
    "# Compute eigenvalues and eigenvectors\n",
    "# Should be four ground states because lattice is on a torus\n",
    "# 1st excited state energy must be 4 above ground state again due to torus manifold\n",
    "eigen_vals, eigen_vecs = np.linalg.eig(H_k)  # np.real is used to removed 1e-17j values\n",
    "\n",
    "# Clean up eigenvalues\n",
    "eigen_vals = np.round(np.real(eigen_vals), 4)\n",
    "unqiue_eigvals, counts = np.unique(eigen_vals, return_counts=True)\n",
    "print(unqiue_eigvals, counts)\n",
    "\n",
    "# normalize eigenvectors\n",
    "eigen_vecs = np.round(np.real(eigen_vecs), 4)\n",
    "norms = np.linalg.norm(eigen_vecs, ord=2, axis=1)\n",
    "for i, norm in enumerate(norms):\n",
    "    eigen_vecs[i] = eigen_vecs[i] / norm\n",
    "print('average norm:', np.mean(np.linalg.norm(eigen_vecs, ord=2, axis=1)))"
   ]
  },
  {
   "cell_type": "code",
   "execution_count": 34,
   "metadata": {},
   "outputs": [
    {
     "name": "stdout",
     "output_type": "stream",
     "text": [
      "0.9999999999999999\n",
      "-0.03990973939708617\n",
      "-0.003005483570822708\n",
      "-0.13505679902182943\n"
     ]
    }
   ],
   "source": [
    "# 4 ground states and check orthogonality\n",
    "ground_states = []\n",
    "ground_energy = eigen_vals.min()\n",
    "for i, val in enumerate(eigen_vals):\n",
    "    if val == ground_energy:\n",
    "        ground_states.append(eigen_vecs[i])\n",
    "\n",
    "# Inner product should be 1 between ground state 0 and itself and 0 between ground state 0 and the other 3 ground states  \n",
    "for j in range(len(ground_states)):\n",
    "    inner_product = np.matmul(np.conj(ground_states[0]), ground_states[j][np.newaxis].T)[0]\n",
    "    print(inner_product)\n"
   ]
  },
  {
   "cell_type": "code",
   "execution_count": 35,
   "metadata": {},
   "outputs": [
    {
     "data": {
      "text/plain": [
       "(256, 1)"
      ]
     },
     "execution_count": 35,
     "metadata": {},
     "output_type": "execute_result"
    }
   ],
   "source": [
    "ground_states[0][np.newaxis].T.shape"
   ]
  },
  {
   "cell_type": "code",
   "execution_count": 32,
   "metadata": {},
   "outputs": [
    {
     "data": {
      "text/plain": [
       "(1, 256)"
      ]
     },
     "execution_count": 32,
     "metadata": {},
     "output_type": "execute_result"
    }
   ],
   "source": [
    "ground_states[0][np.newaxis].shape"
   ]
  },
  {
   "cell_type": "code",
   "execution_count": null,
   "metadata": {},
   "outputs": [],
   "source": []
  }
 ],
 "metadata": {
  "kernelspec": {
   "display_name": "Python 3",
   "language": "python",
   "name": "python3"
  },
  "language_info": {
   "codemirror_mode": {
    "name": "ipython",
    "version": 3
   },
   "file_extension": ".py",
   "mimetype": "text/x-python",
   "name": "python",
   "nbconvert_exporter": "python",
   "pygments_lexer": "ipython3",
   "version": "3.6.4"
  }
 },
 "nbformat": 4,
 "nbformat_minor": 4
}
