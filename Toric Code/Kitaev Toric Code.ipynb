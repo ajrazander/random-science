{
 "cells": [
  {
   "cell_type": "markdown",
   "metadata": {},
   "source": [
    "# Kitaev Model: Toric Code\n",
    "\n",
    "Kitaev Hamiltonian:\n",
    "$\n",
    "\\begin{equation}\n",
    "H_K = - \\sum_p B_p - \\sum_s A_s\n",
    "\\end{equation}\n",
    "$\n",
    "\n",
    "With operators defined as:\n",
    "\n",
    "$\n",
    "\\begin{align}\n",
    "B_p &= \\Pi_{(ij) \\in p} \\sigma_{(ij)}^z \\\\\n",
    "A_s &= \\Pi_{(ij) \\in s} \\sigma_{(ij)}^x \\\\\n",
    "\\end{align}\n",
    "$\n",
    "\n",
    "where $p$ is a <span style=\"color:blue\"> plaquette </span> (in blue below) of the lattice and $s$ is a <span style=\"color:red\">star vertex</span> (in red below) of the lattice.\n",
    "\n",
    "The Toric Code is a lattice embedded onto a torus with spin-1/2 particles on the <strong>bonds</strong>. If we \"flatten\" the torus out onto a plane, we get something like the image below where the lattice is marked in black (ignoring the blue and red)\n",
    "![](./images/four_by_four.png)\n",
    "There are 8 spins on this lattice marked by x's. In the interactions in Kitaev's Model take place among spins in each blue and red group. For example, in the image below, each spin is labeled and each interaction group labeled: there are four blue groups and four red groups. The spins belonging to each group interact with each other (more details later). Since the lattice is on a torus there are periodic boundaries. This means the right most spins in the image are actually neighbors with the left most spins, and the top most spins are neighbors with the bottom most spins.\n",
    "![](./images/four_by_four_labeled.png)"
   ]
  },
  {
   "cell_type": "code",
   "execution_count": 1,
   "metadata": {},
   "outputs": [],
   "source": [
    "import numpy as np"
   ]
  },
  {
   "cell_type": "markdown",
   "metadata": {},
   "source": [
    "Consider the specific scenario depicted above. The total number of spins $N_{spins} = 8$. The number of plaquettes $N_p = 4$, and the number of star verticies $N_s = 4$."
   ]
  },
  {
   "cell_type": "code",
   "execution_count": 2,
   "metadata": {},
   "outputs": [],
   "source": [
    "Nspins = 8  # number of spins on lattice\n",
    "Np = 4  # number of plaquettes\n",
    "Ns = 4  # number of star vertices"
   ]
  },
  {
   "cell_type": "markdown",
   "metadata": {},
   "source": [
    "Generate $B_p$ and $A_s$ operators. Since there are only $8$ spins in total, I'll just write them in by hand. Later, we can automate it based off a graph representing the spin sites."
   ]
  },
  {
   "cell_type": "code",
   "execution_count": 3,
   "metadata": {},
   "outputs": [],
   "source": [
    "x = np.array([[0,1],[1,0]])\n",
    "z = np.array([[1,0],[0,-1]])\n",
    "iden = np.identity(2)\n",
    "\n",
    "Bp_s = []  # list of Bp operators indexed from 0 to 3\n",
    "Bp_s.append(np.kron(np.kron(np.kron(np.kron(np.kron(np.kron(np.kron(z, iden), z), z), z), iden), iden), iden))\n",
    "Bp_s.append(np.kron(np.kron(np.kron(np.kron(np.kron(np.kron(np.kron(iden, z), z), z), iden), z), iden), iden))\n",
    "Bp_s.append(np.kron(np.kron(np.kron(np.kron(np.kron(np.kron(np.kron(z, iden), iden), iden), z), iden), z), z))\n",
    "Bp_s.append(np.kron(np.kron(np.kron(np.kron(np.kron(np.kron(np.kron(iden, z), iden), iden), iden), z), z), z))\n",
    "\n",
    "As_s = []  # list of As operators indexed from 0 to 3\n",
    "As_s.append(np.kron(np.kron(np.kron(np.kron(np.kron(np.kron(np.kron(iden, iden), x), iden), x), x), x), iden))\n",
    "As_s.append(np.kron(np.kron(np.kron(np.kron(np.kron(np.kron(np.kron(iden, iden), iden), x), x), x), iden), x))\n",
    "As_s.append(np.kron(np.kron(np.kron(np.kron(np.kron(np.kron(np.kron(x, x), x), iden), iden), iden), x), iden))\n",
    "As_s.append(np.kron(np.kron(np.kron(np.kron(np.kron(np.kron(np.kron(x, x), iden), x), iden), iden), iden), x))"
   ]
  },
  {
   "cell_type": "markdown",
   "metadata": {},
   "source": [
    "Check $B_p$ and $A_s$ operators commute according to\n",
    "\n",
    "$\n",
    "\\begin{align}\n",
    "[B_p, B_{p\\prime}] &= 0 \\\\\n",
    "[A_s, A_{s\\prime}] &= 0 \\\\\n",
    "[B_p, A_s] &= 0 \\\\\n",
    "\\end{align}\n",
    "$\n",
    "\n",
    "Check that periodic boundary condition\n",
    "\n",
    "$\n",
    "\\begin{align}\n",
    "\\Pi_s A_s &= 1 \\\\\n",
    "\\Pi_p B_p &= 1 \\\\\n",
    "\\end{align}\n",
    "$\n",
    "\n",
    "holds.\n"
   ]
  },
  {
   "cell_type": "code",
   "execution_count": 4,
   "metadata": {},
   "outputs": [
    {
     "name": "stdout",
     "output_type": "stream",
     "text": [
      "Is the product of Bp operators equal to the identity matrix?: True\n",
      "Is the product of As operators equal to the identity matrix?: True\n"
     ]
    }
   ],
   "source": [
    "# Check commutation relations. Print if there something does NOT commute\n",
    "\n",
    "# Commutation between different Bp operators\n",
    "for i in range(len(Bp_s) - 1):\n",
    "    if not np.array_equal(np.matmul(Bp_s[i], Bp_s[i+1]), np.matmul(Bp_s[i+1], Bp_s[i])):\n",
    "        print('Bp', i, 'does not commute with Bp', i+1)\n",
    "\n",
    "# Commutation between different As operators\n",
    "for i in range(len(As_s) - 1):\n",
    "    if not np.array_equal(np.matmul(As_s[i], As_s[i+1]), np.matmul(As_s[i+1], As_s[i])):\n",
    "        print('As', i, 'does not commute with As', i+1)\n",
    "\n",
    "# Commutation between different Bp and As operators\n",
    "for i in range(len(As_s)):\n",
    "    for j in range(len(Bp_s)):\n",
    "        if not np.array_equal(np.matmul(As_s[i], Bp_s[j]), np.matmul(Bp_s[j], As_s[i])):\n",
    "            print('As', i, 'does not commute with As', i+1)\n",
    "\n",
    "# Check periodic boundary condition\n",
    "Bp_product = np.identity(Bp_s[0].shape[0])\n",
    "for i in range(len(Bp_s)):\n",
    "    Bp_product = np.matmul(Bp_product, Bp_s[i])\n",
    "print('Is the product of Bp operators equal to the identity matrix?:', np.array_equal(Bp_product, np.identity(Bp_s[0].shape[0])))\n",
    "\n",
    "As_product = np.identity(As_s[0].shape[0])\n",
    "for i in range(len(As_s)):\n",
    "    As_product = np.matmul(As_product, As_s[i])\n",
    "print('Is the product of As operators equal to the identity matrix?:', np.array_equal(As_product, np.identity(As_s[0].shape[0])))"
   ]
  },
  {
   "cell_type": "markdown",
   "metadata": {},
   "source": [
    "Looks like everything checks out. Now to compute the Hamiltonian $H_K$"
   ]
  },
  {
   "cell_type": "code",
   "execution_count": 5,
   "metadata": {},
   "outputs": [],
   "source": [
    "# Sum all the Bp and As operators\n",
    "H_k = -sum(Bp_s) - sum(As_s)"
   ]
  },
  {
   "cell_type": "markdown",
   "metadata": {},
   "source": [
    "# Compute eigenvalues and eigenvectors of Hamiltonian"
   ]
  },
  {
   "cell_type": "code",
   "execution_count": 6,
   "metadata": {},
   "outputs": [
    {
     "name": "stdout",
     "output_type": "stream",
     "text": [
      "[-8. -4. -0.  4.  8.] [  4  48 152  48   4]\n",
      "average norm: 1.0\n"
     ]
    }
   ],
   "source": [
    "# Compute eigenvalues and eigenvectors\n",
    "# Should be four ground states because lattice is on a torus\n",
    "# 1st excited state energy must be 4 above ground state again due to torus manifold\n",
    "eigen_vals, eigen_vecs = np.linalg.eig(H_k)\n",
    "\n",
    "# Clean up eigenvalues\n",
    "eigen_vals = np.round(np.real(eigen_vals), 4)\n",
    "unqiue_eigvals, counts = np.unique(eigen_vals, return_counts=True)\n",
    "print(unqiue_eigvals, counts)\n",
    "\n",
    "# normalize eigenvectors\n",
    "eigen_vecs = np.round(np.real(eigen_vecs), 4)\n",
    "norms = np.linalg.norm(eigen_vecs, ord=2, axis=1)\n",
    "for i, norm in enumerate(norms):\n",
    "    eigen_vecs[i] = eigen_vecs[i] / norm\n",
    "print('average norm:', np.mean(np.linalg.norm(eigen_vecs, ord=2, axis=1)))"
   ]
  },
  {
   "cell_type": "code",
   "execution_count": 7,
   "metadata": {},
   "outputs": [
    {
     "name": "stdout",
     "output_type": "stream",
     "text": [
      "inner prodict of 0 and  0 state\n",
      "0.9999999999999999\n",
      "inner prodict of 0 and  1 state\n",
      "-0.03990973939708617\n",
      "inner prodict of 0 and  2 state\n",
      "-0.003005483570822708\n",
      "inner prodict of 0 and  3 state\n",
      "-0.13505679902182943\n"
     ]
    }
   ],
   "source": [
    "# 4 ground states and check orthogonality\n",
    "ground_states = []\n",
    "ground_energy = eigen_vals.min()\n",
    "for i, val in enumerate(eigen_vals):\n",
    "    if val == ground_energy:\n",
    "        ground_states.append(eigen_vecs[i])\n",
    "\n",
    "# Inner product should be 1 between ground state 0 and itself and 0 between ground state 0 and the other 3 ground states  \n",
    "for j in range(len(ground_states)):\n",
    "    print('inner prodict of 0 and ',j,'state')\n",
    "    inner_product = np.matmul(np.conj(ground_states[0]), ground_states[j][np.newaxis].T)[0]\n",
    "    print(inner_product)\n"
   ]
  },
  {
   "cell_type": "code",
   "execution_count": 8,
   "metadata": {},
   "outputs": [
    {
     "data": {
      "text/plain": [
       "-8.0"
      ]
     },
     "execution_count": 8,
     "metadata": {},
     "output_type": "execute_result"
    }
   ],
   "source": [
    "eigen_vals.min()"
   ]
  },
  {
   "cell_type": "code",
   "execution_count": null,
   "metadata": {},
   "outputs": [],
   "source": []
  },
  {
   "cell_type": "markdown",
   "metadata": {},
   "source": [
    "# See what happens when single qubit error acts on a site"
   ]
  },
  {
   "cell_type": "code",
   "execution_count": 9,
   "metadata": {},
   "outputs": [
    {
     "data": {
      "text/plain": [
       "-0.5744760165761754"
      ]
     },
     "execution_count": 9,
     "metadata": {},
     "output_type": "execute_result"
    }
   ],
   "source": [
    "error = np.kron(np.kron(np.kron(np.kron(np.kron(np.kron(np.kron(iden, z), iden), iden), iden), iden), iden), iden)\n",
    "\n",
    "\n",
    "i = 0\n",
    "np.matmul(np.conj(ground_states[i]), np.matmul(H_k, ground_states[i]))"
   ]
  },
  {
   "cell_type": "code",
   "execution_count": 10,
   "metadata": {},
   "outputs": [
    {
     "data": {
      "text/plain": [
       "(256,)"
      ]
     },
     "execution_count": 10,
     "metadata": {},
     "output_type": "execute_result"
    }
   ],
   "source": [
    "ground_states[1].shape"
   ]
  },
  {
   "cell_type": "markdown",
   "metadata": {},
   "source": [
    "# Smaller Geometry for Trapped Ions\n",
    "What if we use a lattice geometry achievable in one of our ion traps? Four spins sites might do the trick. We can definitely make this geometry in the trap. Let's see how the theory plays out.\n",
    "![](./images/two_by_two_labeled.png)"
   ]
  },
  {
   "cell_type": "code",
   "execution_count": 11,
   "metadata": {},
   "outputs": [],
   "source": [
    "Nspins = 4  # number of spins on lattice\n",
    "Np = 2  # number of plaquettes\n",
    "Ns = 2  # number of star vertices"
   ]
  },
  {
   "cell_type": "markdown",
   "metadata": {},
   "source": [
    "Generate $B_p$ and $A_s$ operators. Since there are only $8$ spins in total, I'll just write them in by hand. Later, we can automate it based off a graph representing the spin sites."
   ]
  },
  {
   "cell_type": "code",
   "execution_count": 12,
   "metadata": {},
   "outputs": [],
   "source": [
    "x = np.array([[0,1],[1,0]])\n",
    "z = np.array([[1,0],[0,-1]])\n",
    "iden = np.identity(2)\n",
    "\n",
    "# Both plaquettes are identical!\n",
    "Bp_s = []  # list of Bp operators indexed from 0 to 1\n",
    "Bp_s.append(np.kron(np.kron(np.kron(z, z), z), z))\n",
    "Bp_s.append(np.kron(np.kron(np.kron(z, z), z), z))\n",
    "\n",
    "# Both As operators are the identity!\n",
    "As_s = []  # list of As operators indexed from 0 to 1\n",
    "As_s.append(np.matmul(np.kron(np.kron(np.kron(x, x), iden), iden), np.kron(np.kron(np.kron(x, x), iden), iden)))\n",
    "As_s.append(np.matmul(np.kron(np.kron(np.kron(iden, iden), x), x), np.kron(np.kron(np.kron(iden, iden), x), x)))"
   ]
  },
  {
   "cell_type": "markdown",
   "metadata": {},
   "source": [
    "Check $B_p$ and $A_s$ operators commute according to\n",
    "\n",
    "$\n",
    "\\begin{align}\n",
    "[B_p, B_{p\\prime}] &= 0 \\\\\n",
    "[A_s, A_{s\\prime}] &= 0 \\\\\n",
    "[B_p, A_s] &= 0 \\\\\n",
    "\\end{align}\n",
    "$\n",
    "\n",
    "Check that periodic boundary condition\n",
    "\n",
    "$\n",
    "\\begin{align}\n",
    "\\Pi_s A_s &= 1 \\\\\n",
    "\\Pi_p B_p &= 1 \\\\\n",
    "\\end{align}\n",
    "$\n",
    "\n",
    "holds.\n"
   ]
  },
  {
   "cell_type": "code",
   "execution_count": 13,
   "metadata": {},
   "outputs": [
    {
     "name": "stdout",
     "output_type": "stream",
     "text": [
      "Is the product of Bp operators equal to the identity matrix?: True\n",
      "Is the product of As operators equal to the identity matrix?: True\n"
     ]
    }
   ],
   "source": [
    "# Check commutation relations. Print if there something does NOT commute\n",
    "\n",
    "# Commutation between different Bp operators\n",
    "for i in range(len(Bp_s) - 1):\n",
    "    if not np.array_equal(np.matmul(Bp_s[i], Bp_s[i+1]), np.matmul(Bp_s[i+1], Bp_s[i])):\n",
    "        print('Bp', i, 'does not commute with Bp', i+1)\n",
    "\n",
    "# Commutation between different As operators\n",
    "for i in range(len(As_s) - 1):\n",
    "    if not np.array_equal(np.matmul(As_s[i], As_s[i+1]), np.matmul(As_s[i+1], As_s[i])):\n",
    "        print('As', i, 'does not commute with As', i+1)\n",
    "\n",
    "# Commutation between different Bp and As operators\n",
    "for i in range(len(As_s)):\n",
    "    for j in range(len(Bp_s)):\n",
    "        if not np.array_equal(np.matmul(As_s[i], Bp_s[j]), np.matmul(Bp_s[j], As_s[i])):\n",
    "            print('As', i, 'does not commute with As', i+1)\n",
    "\n",
    "# Check periodic boundary condition\n",
    "Bp_product = np.identity(Bp_s[0].shape[0])\n",
    "for i in range(len(Bp_s)):\n",
    "    Bp_product = np.matmul(Bp_product, Bp_s[i])\n",
    "print('Is the product of Bp operators equal to the identity matrix?:', np.array_equal(Bp_product, np.identity(Bp_s[0].shape[0])))\n",
    "\n",
    "As_product = np.identity(As_s[0].shape[0])\n",
    "for i in range(len(As_s)):\n",
    "    As_product = np.matmul(As_product, As_s[i])\n",
    "print('Is the product of As operators equal to the identity matrix?:', np.array_equal(As_product, np.identity(As_s[0].shape[0])))"
   ]
  },
  {
   "cell_type": "markdown",
   "metadata": {},
   "source": [
    "Looks like everything checks out. Now to compute the Hamiltonian $H_K$"
   ]
  },
  {
   "cell_type": "code",
   "execution_count": 14,
   "metadata": {},
   "outputs": [],
   "source": [
    "# Sum all the Bp and As operators\n",
    "H_k = -sum(Bp_s) - sum(As_s)"
   ]
  },
  {
   "cell_type": "markdown",
   "metadata": {},
   "source": [
    "# Compute eigenvalues and eigenvectors of Hamiltonian"
   ]
  },
  {
   "cell_type": "code",
   "execution_count": 15,
   "metadata": {},
   "outputs": [
    {
     "name": "stdout",
     "output_type": "stream",
     "text": [
      "[-4.  0.] [8 8]\n",
      "average norm: 1.0\n"
     ]
    }
   ],
   "source": [
    "# Compute eigenvalues and eigenvectors\n",
    "# Should be four ground states because lattice is on a torus\n",
    "# 1st excited state energy must be 4 above ground state again due to torus manifold\n",
    "eigen_vals, eigen_vecs = np.linalg.eig(H_k)  # np.real is used to removed 1e-17j values\n",
    "\n",
    "# Clean up eigenvalues\n",
    "eigen_vals = np.round(np.real(eigen_vals), 4)\n",
    "unqiue_eigvals, counts = np.unique(eigen_vals, return_counts=True)\n",
    "print(unqiue_eigvals, counts)\n",
    "\n",
    "# normalize eigenvectors\n",
    "eigen_vecs = np.round(np.real(eigen_vecs), 4)\n",
    "norms = np.linalg.norm(eigen_vecs, ord=2, axis=1)\n",
    "for i, norm in enumerate(norms):\n",
    "    eigen_vecs[i] = eigen_vecs[i] / norm\n",
    "print('average norm:', np.mean(np.linalg.norm(eigen_vecs, ord=2, axis=1)))"
   ]
  },
  {
   "cell_type": "code",
   "execution_count": 16,
   "metadata": {},
   "outputs": [
    {
     "name": "stdout",
     "output_type": "stream",
     "text": [
      "inner prodict of 0 and  0 state\n",
      "1.0\n",
      "inner prodict of 0 and  1 state\n",
      "0.0\n",
      "inner prodict of 0 and  2 state\n",
      "0.0\n",
      "inner prodict of 0 and  3 state\n",
      "0.0\n",
      "inner prodict of 0 and  4 state\n",
      "0.0\n",
      "inner prodict of 0 and  5 state\n",
      "0.0\n",
      "inner prodict of 0 and  6 state\n",
      "0.0\n",
      "inner prodict of 0 and  7 state\n",
      "0.0\n"
     ]
    }
   ],
   "source": [
    "# 4 ground states and check orthogonality\n",
    "ground_states = []\n",
    "ground_energy = eigen_vals.min()\n",
    "for i, val in enumerate(eigen_vals):\n",
    "    if val == ground_energy:\n",
    "        ground_states.append(eigen_vecs[i])\n",
    "\n",
    "# Inner product should be 1 between ground state 0 and itself and 0 between ground state 0 and the other 3 ground states  \n",
    "for j in range(len(ground_states)):\n",
    "    print('inner prodict of 0 and ',j,'state')\n",
    "    inner_product = np.matmul(np.conj(ground_states[0]), ground_states[j][np.newaxis].T)[0]\n",
    "    print(inner_product)\n"
   ]
  },
  {
   "cell_type": "code",
   "execution_count": 17,
   "metadata": {},
   "outputs": [
    {
     "data": {
      "text/plain": [
       "4.0"
      ]
     },
     "execution_count": 17,
     "metadata": {},
     "output_type": "execute_result"
    }
   ],
   "source": [
    "error = np.kron(np.kron(np.kron(iden, z), iden), iden)\n",
    "\n",
    "i = 2\n",
    "np.matmul(np.conj(ground_states[i]), np.matmul(H_k, np.matmul(error, ground_states[i])))"
   ]
  },
  {
   "cell_type": "markdown",
   "metadata": {},
   "source": [
    "# Ground states\n",
    "From the ```ground_states``` list the eight ground states in Dirac notation are:\n",
    "$$\n",
    "\\begin{align}\n",
    "|\\psi_0^{(1)} \\rangle &= |0000\\rangle \\\\\n",
    "|\\psi_0^{(2)} \\rangle &= |1100\\rangle \\\\\n",
    "|\\psi_0^{(3)} \\rangle &= |1010\\rangle \\\\\n",
    "|\\psi_0^{(4)} \\rangle &= |0110\\rangle \\\\\n",
    "|\\psi_0^{(5)} \\rangle &= |1001\\rangle \\\\\n",
    "|\\psi_0^{(6)} \\rangle &= |0101\\rangle \\\\\n",
    "|\\psi_0^{(7)} \\rangle &= |0011\\rangle \\\\\n",
    "|\\psi_0^{(8)} \\rangle &= |1111\\rangle\n",
    "\\end{align}\n",
    "$$\n",
    "\n",
    "These are the same states used to make up the [4,2,2] code!! The [4,2,2] codespace is:\n",
    "\n",
    "$$\n",
    "\\begin{align}\n",
    "|00\\rangle_L &= |0000\\rangle + |1111\\rangle \\\\\n",
    "|01\\rangle_L &= |1100\\rangle + |0011\\rangle \\\\\n",
    "|10\\rangle_L &= |1010\\rangle + |0101\\rangle \\\\\n",
    "|11\\rangle_L &= |0110\\rangle + |1001\\rangle\n",
    "\\end{align}\n",
    "$$\n",
    "\n",
    "For [4,2,2] code can detection any single qubit error, but cannot correct errors. [Gottesman 2016](https://arxiv.org/abs/1610.03507). Coincidental? Seems unlikely."
   ]
  },
  {
   "cell_type": "markdown",
   "metadata": {},
   "source": [
    "# Error Susceptibility \n",
    "In the Toric Code $N_{spins} \\gg $ the number of local errors. In the case of $N_{spins} = 4$, we may not have that topological protect which makes this such a useful quantum memory. Let's see if this case still satisfies the two conditions of QEC: error distinguishability and non-demolish measurement."
   ]
  },
  {
   "cell_type": "code",
   "execution_count": null,
   "metadata": {},
   "outputs": [],
   "source": []
  }
 ],
 "metadata": {
  "kernelspec": {
   "display_name": "Python 3",
   "language": "python",
   "name": "python3"
  },
  "language_info": {
   "codemirror_mode": {
    "name": "ipython",
    "version": 3
   },
   "file_extension": ".py",
   "mimetype": "text/x-python",
   "name": "python",
   "nbconvert_exporter": "python",
   "pygments_lexer": "ipython3",
   "version": "3.6.4"
  }
 },
 "nbformat": 4,
 "nbformat_minor": 4
}
