{
 "cells": [
  {
   "cell_type": "markdown",
   "metadata": {},
   "source": [
    "# Stabilizer Code on IBM Quantum Computers\n",
    "\n",
    "Use [4,2,2] stabilizer code to extend coherence times"
   ]
  },
  {
   "cell_type": "code",
   "execution_count": 134,
   "metadata": {},
   "outputs": [
    {
     "name": "stderr",
     "output_type": "stream",
     "text": [
      "/Users/Razander/anaconda3/lib/python3.6/site-packages/qiskit/providers/ibmq/ibmqfactory.py:181: UserWarning: Credentials are already in use. The existing account in the session will be replaced.\n",
      "  warnings.warn('Credentials are already in use. The existing '\n"
     ]
    }
   ],
   "source": [
    "import numpy as np\n",
    "import pandas as pd\n",
    "from scipy.optimize import curve_fit\n",
    "import matplotlib.pyplot as plt\n",
    "\n",
    "from tqdm.notebook import trange, tqdm\n",
    "\n",
    "from qiskit import *\n",
    "IBMQ.load_account()\n",
    "\n",
    "import pickle\n",
    "import random\n",
    "from itertools import permutations\n",
    "from itertools import product"
   ]
  },
  {
   "cell_type": "markdown",
   "metadata": {},
   "source": [
    "# Generate Realizable Group R(2)\n",
    "helpful [implementation](https://github.com/Octophi/quantum_rb/blob/master/Find%20R(2)%20.ipynb)\n",
    "\n",
    "\n",
    "There are 576 elements in this group. The generates are $X_1$, $X_2$, $Z_1$, $Z_2$, $CNOT_{1,2}$, $CNOT_{2,1}$, $SWAP_{1,2} (H_1 H_2)$, $(Z_1 Z_2) CZ_{1,2}$"
   ]
  },
  {
   "cell_type": "code",
   "execution_count": 2,
   "metadata": {},
   "outputs": [],
   "source": [
    "# Single qubit gates in single qubit Hilbert space\n",
    "x = np.array([[0,1],[1,0]])\n",
    "iden = np.identity(2)\n",
    "z = np.array([[1,0],[0,-1]])\n",
    "h = np.array([[1, 1], [1, -1]]) / np.sqrt(2)\n",
    "\n",
    "# Logic gates for two qubits in [4,2,2] code. Generators of R(2) group.\n",
    "X1 = np.kron(iden, x)\n",
    "X2 = np.kron(x, iden)\n",
    "Z1 = np.kron(iden, z)\n",
    "Z2 = np.kron(z, iden)\n",
    "CNOT12 = np.array([[1,0,0,0],[0,1,0,0],[0,0,0,1],[0,0,1,0]])\n",
    "CNOT21 = np.array([[1,0,0,0],[0,0,0,1],[0,0,1,0],[0,1,0,0]])\n",
    "SWAP12_H1H2 = np.matmul(np.array([[1,0,0,0],[0,0,1,0],[0,1,0,0],[0,0,0,1]]), np.kron(h, h))\n",
    "Z1Z2_CZ12 = np.matmul(np.kron(z, z), np.array([[1,0,0,0],[0,1,0,0],[0,0,1,0],[0,0,0,-1]]))"
   ]
  },
  {
   "cell_type": "markdown",
   "metadata": {},
   "source": [
    "### R(2) group element generation"
   ]
  },
  {
   "cell_type": "code",
   "execution_count": 3,
   "metadata": {},
   "outputs": [],
   "source": [
    "# Initialize R(2) group\n",
    "r2_group = {}\n",
    "r2_group['0'] = np.identity(4)\n",
    "r2_group['1'] = X1\n",
    "r2_group['2'] = X2\n",
    "r2_group['3'] = Z1\n",
    "r2_group['4'] = Z2\n",
    "r2_group['5'] = SWAP12_H1H2\n",
    "r2_group['6'] = Z1Z2_CZ12\n",
    "r2_group['7'] = CNOT12\n",
    "r2_group['8'] = CNOT21"
   ]
  },
  {
   "cell_type": "code",
   "execution_count": 4,
   "metadata": {
    "scrolled": true
   },
   "outputs": [
    {
     "name": "stdout",
     "output_type": "stream",
     "text": [
      "loop: 1\n",
      "new keys: 36\n",
      "loop: 2\n",
      "new keys: 101\n",
      "loop: 3\n",
      "new keys: 157\n",
      "loop: 4\n",
      "new keys: 146\n",
      "loop: 5\n",
      "new keys: 88\n",
      "loop: 6\n",
      "new keys: 33\n",
      "loop: 7\n",
      "new keys: 6\n",
      "loop: 8\n",
      "new keys: 0\n"
     ]
    }
   ],
   "source": [
    "# temporary storage of R(2) group elements. Helpful in generating R(2) group elements from generators\n",
    "r2_group_previous = {} \n",
    "r2_group_previous['1'] = X1\n",
    "r2_group_previous['2'] = X2\n",
    "r2_group_previous['3'] = Z1\n",
    "r2_group_previous['4'] = Z2\n",
    "r2_group_previous['5'] = SWAP12_H1H2\n",
    "r2_group_previous['6'] = Z1Z2_CZ12\n",
    "r2_group_previous['7'] = CNOT12\n",
    "r2_group_previous['8'] = CNOT21\n",
    "\n",
    "for n in range(1, 9):\n",
    "    r2_group_new = {}  # temporary storage of R(2) group elements\n",
    "    for key_str, gate in r2_group_previous.items():\n",
    "        for i in range(1, 9):\n",
    "            if str(i) == key_str[-1]:  # don't consider sqaure of a gate\n",
    "                continue\n",
    "            new_key = key_str + str(i)\n",
    "            # make new gate based on new_key\n",
    "            new_gate = np.identity(4)\n",
    "            for j in new_key:\n",
    "                new_gate = np.matmul(new_gate, r2_group[j])\n",
    "            new_gate = np.around(new_gate, decimals = 2)\n",
    "            # Check if matrix has already been added to group\n",
    "            unique = True\n",
    "            for gate in r2_group_new.values():\n",
    "                rounded_new_gate = np.around(new_gate, decimals = 2)\n",
    "                rounded_gate = np.around(gate, decimals = 2)\n",
    "                if np.array_equal(rounded_gate, rounded_new_gate) or np.array_equal(rounded_gate, -1*rounded_new_gate):\n",
    "                    unique = False\n",
    "                    break\n",
    "            for gate in r2_group.values():\n",
    "                rounded_new_gate = np.around(new_gate, decimals = 2)\n",
    "                rounded_gate = np.around(gate, decimals = 2)\n",
    "                if np.array_equal(rounded_gate, rounded_new_gate) or np.array_equal(rounded_gate, -1*rounded_new_gate):\n",
    "                    unique = False\n",
    "                    break\n",
    "            # If new_gate has not been added to R(2) group, add it to R(2) group\n",
    "            if unique:\n",
    "                r2_group_new[new_key] = new_gate\n",
    "    r2_group.update(r2_group_new)  # update r2_group with new gates\n",
    "    r2_group_previous = r2_group_new  # new gates will be considered \"previous\" on next iteration\n",
    "    print('loop:', n)\n",
    "    print('new R(2) group elements:', len(list(r2_group_new.keys())))\n"
   ]
  },
  {
   "cell_type": "code",
   "execution_count": 5,
   "metadata": {},
   "outputs": [
    {
     "data": {
      "text/plain": [
       "576"
      ]
     },
     "execution_count": 5,
     "metadata": {},
     "output_type": "execute_result"
    }
   ],
   "source": [
    "len(r2_group)"
   ]
  },
  {
   "cell_type": "markdown",
   "metadata": {},
   "source": [
    "### Save R(2) group for later"
   ]
  },
  {
   "cell_type": "code",
   "execution_count": 6,
   "metadata": {},
   "outputs": [],
   "source": [
    "# Save R(2) group dictionary r2_group\n",
    "# filename = 'r2_group.pkl'\n",
    "# outfile = open(filename, 'wb')\n",
    "# pickle.dump(r2_group, outfile)\n",
    "# outfile.close()"
   ]
  },
  {
   "cell_type": "code",
   "execution_count": 7,
   "metadata": {},
   "outputs": [],
   "source": [
    "# Get R(2) group elements from r2_group.pkl file\n",
    "filename = 'r2_group.pkl'\n",
    "infile = open(filename,'rb')\n",
    "r2_group = pickle.load(infile)\n",
    "infile.close()"
   ]
  },
  {
   "cell_type": "code",
   "execution_count": 8,
   "metadata": {},
   "outputs": [
    {
     "data": {
      "text/plain": [
       "576"
      ]
     },
     "execution_count": 8,
     "metadata": {},
     "output_type": "execute_result"
    }
   ],
   "source": [
    "len(r2_group)"
   ]
  },
  {
   "cell_type": "markdown",
   "metadata": {},
   "source": [
    "### Make random selection of R(2) gates"
   ]
  },
  {
   "cell_type": "code",
   "execution_count": 11,
   "metadata": {},
   "outputs": [],
   "source": [
    "# Generate random selection of gates from R(2). Return concatenated string indicies for selection.\n",
    "def randR2Gates(n):\n",
    "    random.seed(a=2)\n",
    "    rand_gate_ind = ''\n",
    "    for _ in range(n):\n",
    "        rand_gate_ind = ''.join([rand_gate_ind, random.choice(list(r2_group.keys()))])\n",
    "    return rand_gate_ind"
   ]
  },
  {
   "cell_type": "markdown",
   "metadata": {},
   "source": [
    "# Unencoded Randomized Benchmarking with R(2)"
   ]
  },
  {
   "cell_type": "code",
   "execution_count": 16,
   "metadata": {},
   "outputs": [],
   "source": [
    "def init_state(state, qubit_map, qc, qr):\n",
    "    qc.barrier()\n",
    "    if state == '01':\n",
    "        qc.x(qr[qubit_map[0]])\n",
    "    elif state == '10':\n",
    "        qc.x(qr[qubit_map[1]])\n",
    "    elif state == '11':\n",
    "        qc.x(qr[qubit_map[0]])\n",
    "        qc.x(qr[qubit_map[1]])\n",
    "    qc.barrier()\n",
    "\n",
    "# Assume only 2 qubits\n",
    "def swap(qubit_map):\n",
    "    new_qubit_map = {}\n",
    "    new_qubit_map[0] = qubit_map[1]\n",
    "    new_qubit_map[1] = qubit_map[0]\n",
    "    return new_qubit_map\n",
    "\n",
    "def addGate(i, qubit_map, qr, qc, inverse=False):\n",
    "    if i == '1':\n",
    "        qc.x(qr[qubit_map[0]])        \n",
    "    elif i == '2':\n",
    "        qc.x(qr[qubit_map[1]])\n",
    "    elif i == '3':\n",
    "        qc.z(qr[qubit_map[0]])\n",
    "    elif i == '4':\n",
    "        qc.z(qr[qubit_map[1]])\n",
    "    elif i == '5':\n",
    "        if inverse:\n",
    "            qubit_map = swap(qubit_map)\n",
    "            qc.h(qr[qubit_map[0]])\n",
    "            qc.h(qr[qubit_map[1]])\n",
    "        else:\n",
    "            qc.h(qr[qubit_map[0]])\n",
    "            qc.h(qr[qubit_map[1]])\n",
    "            qubit_map = swap(qubit_map)\n",
    "    elif i == '6':\n",
    "        if inverse:\n",
    "            qc.z(qr[qubit_map[0]])\n",
    "            qc.z(qr[qubit_map[1]])\n",
    "            qc.cz(qr[qubit_map[0]], qr[qubit_map[1]])\n",
    "        else:\n",
    "            qc.cz(qr[qubit_map[0]], qr[qubit_map[1]])\n",
    "            qc.z(qr[qubit_map[0]])\n",
    "            qc.z(qr[qubit_map[1]])\n",
    "    elif i == '7':\n",
    "        qc.cx(qr[qubit_map[0]], qr[qubit_map[1]])\n",
    "    elif i == '8':\n",
    "        qc.cx(qr[qubit_map[1]], qr[qubit_map[0]])\n",
    "    else:\n",
    "        print(' --- Error ---\\nExceeded gate range')\n",
    "    qc.barrier()\n",
    "\n",
    "# Add random set of gates selected by randR2Gates. Includes gate inverses as well\n",
    "def addRandGates(rand_gate_indices, qubit_map, qr, qc):\n",
    "    # Add gates based on random index\n",
    "    for gate_indices in rand_gate_indices:\n",
    "        for gate in gate_indices:\n",
    "            addGate(gate, qubit_map, qr, qc)\n",
    "    # Add inverse of gates\n",
    "    for gate_indices in rand_gate_indices[::-1]:\n",
    "        for gate in gate_indices:\n",
    "            addGate(gate, qubit_map, qr, qc, inverse=True)"
   ]
  },
  {
   "cell_type": "code",
   "execution_count": 159,
   "metadata": {},
   "outputs": [],
   "source": [
    "def unencoded_rb(half_circuit_length, initial_state, shots, backend):\n",
    "    n_qubits = 2\n",
    "    qubit_map = {}  # used to track virtual swaps\n",
    "    for i in range(n_qubits):\n",
    "        qubit_map[i] = i\n",
    "\n",
    "    # Initialize quantum circuit and registers\n",
    "    qr = QuantumRegister(n_qubits)\n",
    "    cr = ClassicalRegister(n_qubits)\n",
    "    qc = QuantumCircuit(qr, cr)\n",
    "    \n",
    "    # Initialize quantum state\n",
    "    init_state(initial_state, qubit_map, qc, qr)\n",
    "    # Add randomized gates (along with inverses)\n",
    "    rand_gate_indices = randR2Gates(half_circuit_length)\n",
    "    addRandGates(rand_gate_indices, qubit_map, qr, qc)\n",
    "    # Measure qubits\n",
    "    for i in range(n_qubits):\n",
    "        qc.measure(i, i)\n",
    "\n",
    "    # Execute quantum circuit\n",
    "    result = execute(qc, backend, shots=shots).result()\n",
    "    return result, qc"
   ]
  },
  {
   "cell_type": "markdown",
   "metadata": {},
   "source": [
    "### Find least busy 5 qubit quantum computer"
   ]
  },
  {
   "cell_type": "code",
   "execution_count": 155,
   "metadata": {},
   "outputs": [
    {
     "data": {
      "text/plain": [
       "BackendStatus(backend_name='ibmq_burlington', backend_version='1.1.4', operational=True, pending_jobs=2, status_msg='active')"
      ]
     },
     "execution_count": 155,
     "metadata": {},
     "output_type": "execute_result"
    }
   ],
   "source": [
    "# Filter backends to find the least busy 5 qubit quantum computer and check current \"pending_jobs\"\n",
    "from qiskit.providers.ibmq import least_busy\n",
    "\n",
    "provider = IBMQ.get_provider(hub='ibm-q')\n",
    "smaller_qcs = provider.backends(filters=lambda x: x.configuration().n_qubits == 5 and not x.configuration().simulator)\n",
    "backend_real = least_busy(smaller_qcs)\n",
    "\n",
    "# Check status and \"pending_jobs\" to see how long it might take to run\n",
    "backend_real.status()"
   ]
  },
  {
   "cell_type": "markdown",
   "metadata": {},
   "source": [
    "### Start up simulator backend"
   ]
  },
  {
   "cell_type": "code",
   "execution_count": null,
   "metadata": {},
   "outputs": [],
   "source": [
    "backend_sim = BasicAer.get_backend('qasm_simulator')"
   ]
  },
  {
   "cell_type": "markdown",
   "metadata": {},
   "source": [
    "### Test experiment"
   ]
  },
  {
   "cell_type": "code",
   "execution_count": 160,
   "metadata": {
    "scrolled": true
   },
   "outputs": [
    {
     "data": {
      "image/png": "[encoded data removed]",
      "text/plain": [
       "<Figure size 504x360 with 1 Axes>"
      ]
     },
     "execution_count": 160,
     "metadata": {},
     "output_type": "execute_result"
    }
   ],
   "source": [
    "half_circuit_length = 0\n",
    "state = '00'\n",
    "shots = 8192\n",
    "\n",
    "result, qc = unencoded_rb(half_circuit_length, state, shots, backend_real)\n",
    "counts = result.get_counts(qc)\n",
    "visualization.plot_histogram(counts)"
   ]
  },
  {
   "cell_type": "code",
   "execution_count": 27,
   "metadata": {
    "scrolled": true
   },
   "outputs": [
    {
     "data": {
      "image/png": "[encoded data removed]",
      "text/plain": [
       "<Figure size 504x360 with 1 Axes>"
      ]
     },
     "execution_count": 27,
     "metadata": {},
     "output_type": "execute_result"
    }
   ],
   "source": [
    "half_circuit_length = 6\n",
    "state = '00'\n",
    "shots = 8192\n",
    "\n",
    "result, qc = unencoded_rb(half_circuit_length, state, shots, backend_sim)\n",
    "counts = result.get_counts(qc)\n",
    "visualization.plot_histogram(counts)"
   ]
  },
  {
   "cell_type": "markdown",
   "metadata": {},
   "source": [
    "### Execute experiment over all states and variable circuit length"
   ]
  },
  {
   "cell_type": "code",
   "execution_count": 280,
   "metadata": {
    "scrolled": true
   },
   "outputs": [
    {
     "ename": "KeyboardInterrupt",
     "evalue": "",
     "output_type": "error",
     "traceback": [
      "\u001b[0;31m---------------------------------------------------------------------------\u001b[0m",
      "\u001b[0;31mKeyboardInterrupt\u001b[0m                         Traceback (most recent call last)",
      "\u001b[0;32m<ipython-input-280-e5c67e5f7e30>\u001b[0m in \u001b[0;36m<module>\u001b[0;34m\u001b[0m\n\u001b[1;32m     18\u001b[0m         \u001b[0mq\u001b[0m\u001b[0;34m[\u001b[0m\u001b[0mi\u001b[0m\u001b[0;34m]\u001b[0m\u001b[0;34m[\u001b[0m\u001b[0mhalf_circuit_length\u001b[0m\u001b[0;34m]\u001b[0m \u001b[0;34m=\u001b[0m \u001b[0;34m{\u001b[0m\u001b[0;34m}\u001b[0m\u001b[0;34m\u001b[0m\u001b[0m\n\u001b[1;32m     19\u001b[0m         \u001b[0;32mfor\u001b[0m \u001b[0mstate\u001b[0m \u001b[0;32min\u001b[0m \u001b[0mstates\u001b[0m\u001b[0;34m:\u001b[0m\u001b[0;34m\u001b[0m\u001b[0m\n\u001b[0;32m---> 20\u001b[0;31m             \u001b[0mresult\u001b[0m\u001b[0;34m,\u001b[0m \u001b[0mqc\u001b[0m \u001b[0;34m=\u001b[0m \u001b[0munencoded_rb\u001b[0m\u001b[0;34m(\u001b[0m\u001b[0mhalf_circuit_length\u001b[0m\u001b[0;34m,\u001b[0m \u001b[0mstate\u001b[0m\u001b[0;34m,\u001b[0m \u001b[0mshots\u001b[0m\u001b[0;34m,\u001b[0m \u001b[0mbackend_real\u001b[0m\u001b[0;34m)\u001b[0m\u001b[0;34m\u001b[0m\u001b[0m\n\u001b[0m\u001b[1;32m     21\u001b[0m             \u001b[0mresults\u001b[0m\u001b[0;34m[\u001b[0m\u001b[0mi\u001b[0m\u001b[0;34m]\u001b[0m\u001b[0;34m[\u001b[0m\u001b[0mhalf_circuit_length\u001b[0m\u001b[0;34m]\u001b[0m\u001b[0;34m[\u001b[0m\u001b[0mstate\u001b[0m\u001b[0;34m]\u001b[0m \u001b[0;34m=\u001b[0m \u001b[0mresult\u001b[0m\u001b[0;34m\u001b[0m\u001b[0m\n\u001b[1;32m     22\u001b[0m             \u001b[0mqcs\u001b[0m\u001b[0;34m[\u001b[0m\u001b[0mi\u001b[0m\u001b[0;34m]\u001b[0m\u001b[0;34m[\u001b[0m\u001b[0mhalf_circuit_length\u001b[0m\u001b[0;34m]\u001b[0m\u001b[0;34m[\u001b[0m\u001b[0mstate\u001b[0m\u001b[0;34m]\u001b[0m \u001b[0;34m=\u001b[0m \u001b[0mqc\u001b[0m\u001b[0;34m\u001b[0m\u001b[0m\n",
      "\u001b[0;32m<ipython-input-159-79f8dd9525c9>\u001b[0m in \u001b[0;36munencoded_rb\u001b[0;34m(circuit_length, initial_state, shots, backend)\u001b[0m\n\u001b[1;32m     20\u001b[0m \u001b[0;34m\u001b[0m\u001b[0m\n\u001b[1;32m     21\u001b[0m     \u001b[0;31m# Execute quantum circuit\u001b[0m\u001b[0;34m\u001b[0m\u001b[0;34m\u001b[0m\u001b[0m\n\u001b[0;32m---> 22\u001b[0;31m     \u001b[0mresult\u001b[0m \u001b[0;34m=\u001b[0m \u001b[0mexecute\u001b[0m\u001b[0;34m(\u001b[0m\u001b[0mqc\u001b[0m\u001b[0;34m,\u001b[0m \u001b[0mbackend\u001b[0m\u001b[0;34m,\u001b[0m \u001b[0mshots\u001b[0m\u001b[0;34m=\u001b[0m\u001b[0mshots\u001b[0m\u001b[0;34m)\u001b[0m\u001b[0;34m.\u001b[0m\u001b[0mresult\u001b[0m\u001b[0;34m(\u001b[0m\u001b[0;34m)\u001b[0m\u001b[0;34m\u001b[0m\u001b[0m\n\u001b[0m\u001b[1;32m     23\u001b[0m     \u001b[0;32mreturn\u001b[0m \u001b[0mresult\u001b[0m\u001b[0;34m,\u001b[0m \u001b[0mqc\u001b[0m\u001b[0;34m\u001b[0m\u001b[0m\n",
      "\u001b[0;32m~/anaconda3/lib/python3.6/site-packages/qiskit/providers/ibmq/job/ibmqjob.py\u001b[0m in \u001b[0;36mresult\u001b[0;34m(self, timeout, wait)\u001b[0m\n\u001b[1;32m    247\u001b[0m             \u001b[0mJobError\u001b[0m\u001b[0;34m:\u001b[0m \u001b[0;32mif\u001b[0m \u001b[0mattempted\u001b[0m \u001b[0mto\u001b[0m \u001b[0mrecover\u001b[0m \u001b[0ma\u001b[0m \u001b[0mresult\u001b[0m \u001b[0mon\u001b[0m \u001b[0ma\u001b[0m \u001b[0mfailed\u001b[0m \u001b[0mjob\u001b[0m\u001b[0;34m.\u001b[0m\u001b[0;34m\u001b[0m\u001b[0m\n\u001b[1;32m    248\u001b[0m         \"\"\"\n\u001b[0;32m--> 249\u001b[0;31m         \u001b[0mself\u001b[0m\u001b[0;34m.\u001b[0m\u001b[0m_wait_for_completion\u001b[0m\u001b[0;34m(\u001b[0m\u001b[0mtimeout\u001b[0m\u001b[0;34m=\u001b[0m\u001b[0mtimeout\u001b[0m\u001b[0;34m,\u001b[0m \u001b[0mwait\u001b[0m\u001b[0;34m=\u001b[0m\u001b[0mwait\u001b[0m\u001b[0;34m)\u001b[0m\u001b[0;34m\u001b[0m\u001b[0m\n\u001b[0m\u001b[1;32m    250\u001b[0m \u001b[0;34m\u001b[0m\u001b[0m\n\u001b[1;32m    251\u001b[0m         \u001b[0mstatus\u001b[0m \u001b[0;34m=\u001b[0m \u001b[0mself\u001b[0m\u001b[0;34m.\u001b[0m\u001b[0mstatus\u001b[0m\u001b[0;34m(\u001b[0m\u001b[0;34m)\u001b[0m\u001b[0;34m\u001b[0m\u001b[0m\n",
      "\u001b[0;32m~/anaconda3/lib/python3.6/site-packages/qiskit/providers/ibmq/job/ibmqjob.py\u001b[0m in \u001b[0;36m_wait_for_completion\u001b[0;34m(self, timeout, wait)\u001b[0m\n\u001b[1;32m    550\u001b[0m             \u001b[0mstart_time\u001b[0m \u001b[0;34m=\u001b[0m \u001b[0mtime\u001b[0m\u001b[0;34m.\u001b[0m\u001b[0mtime\u001b[0m\u001b[0;34m(\u001b[0m\u001b[0;34m)\u001b[0m\u001b[0;34m\u001b[0m\u001b[0m\n\u001b[1;32m    551\u001b[0m             \u001b[0;32mtry\u001b[0m\u001b[0;34m:\u001b[0m\u001b[0;34m\u001b[0m\u001b[0m\n\u001b[0;32m--> 552\u001b[0;31m                 \u001b[0mself\u001b[0m\u001b[0;34m.\u001b[0m\u001b[0m_wait_for_final_status_websocket\u001b[0m\u001b[0;34m(\u001b[0m\u001b[0mtimeout\u001b[0m\u001b[0;34m)\u001b[0m\u001b[0;34m\u001b[0m\u001b[0m\n\u001b[0m\u001b[1;32m    553\u001b[0m                 \u001b[0;32mreturn\u001b[0m\u001b[0;34m\u001b[0m\u001b[0m\n\u001b[1;32m    554\u001b[0m             \u001b[0;32mexcept\u001b[0m \u001b[0mWebsocketError\u001b[0m \u001b[0;32mas\u001b[0m \u001b[0mex\u001b[0m\u001b[0;34m:\u001b[0m\u001b[0;34m\u001b[0m\u001b[0m\n",
      "\u001b[0;32m~/anaconda3/lib/python3.6/site-packages/qiskit/providers/ibmq/job/ibmqjob.py\u001b[0m in \u001b[0;36m_wait_for_final_status_websocket\u001b[0;34m(self, timeout)\u001b[0m\n\u001b[1;32m    625\u001b[0m         \u001b[0;32mtry\u001b[0m\u001b[0;34m:\u001b[0m\u001b[0;34m\u001b[0m\u001b[0m\n\u001b[1;32m    626\u001b[0m             status_response = self._api.job_final_status_websocket(\n\u001b[0;32m--> 627\u001b[0;31m                 self._job_id, timeout=timeout)\n\u001b[0m\u001b[1;32m    628\u001b[0m             \u001b[0mself\u001b[0m\u001b[0;34m.\u001b[0m\u001b[0m_update_status\u001b[0m\u001b[0;34m(\u001b[0m\u001b[0mstatus_response\u001b[0m\u001b[0;34m)\u001b[0m\u001b[0;34m\u001b[0m\u001b[0m\n\u001b[1;32m    629\u001b[0m         \u001b[0;32mexcept\u001b[0m \u001b[0mWebsocketTimeoutError\u001b[0m\u001b[0;34m:\u001b[0m\u001b[0;34m\u001b[0m\u001b[0m\n",
      "\u001b[0;32m~/anaconda3/lib/python3.6/site-packages/qiskit/providers/ibmq/api_v2/clients/account.py\u001b[0m in \u001b[0;36mjob_final_status_websocket\u001b[0;34m(self, job_id, timeout)\u001b[0m\n\u001b[1;32m    227\u001b[0m                 \u001b[0;32mraise\u001b[0m\u001b[0;34m\u001b[0m\u001b[0m\n\u001b[1;32m    228\u001b[0m         return loop.run_until_complete(\n\u001b[0;32m--> 229\u001b[0;31m             self.client_ws.get_job_status(job_id, timeout=timeout))\n\u001b[0m\u001b[1;32m    230\u001b[0m \u001b[0;34m\u001b[0m\u001b[0m\n\u001b[1;32m    231\u001b[0m     \u001b[0;32mdef\u001b[0m \u001b[0mjob_properties\u001b[0m\u001b[0;34m(\u001b[0m\u001b[0mself\u001b[0m\u001b[0;34m,\u001b[0m \u001b[0mjob_id\u001b[0m\u001b[0;34m)\u001b[0m\u001b[0;34m:\u001b[0m\u001b[0;34m\u001b[0m\u001b[0m\n",
      "\u001b[0;32m~/anaconda3/lib/python3.6/site-packages/nest_asyncio.py\u001b[0m in \u001b[0;36mrun_until_complete\u001b[0;34m(self, future)\u001b[0m\n\u001b[1;32m     58\u001b[0m                 \u001b[0mf\u001b[0m\u001b[0;34m.\u001b[0m\u001b[0m_log_destroy_pending\u001b[0m \u001b[0;34m=\u001b[0m \u001b[0;32mFalse\u001b[0m\u001b[0;34m\u001b[0m\u001b[0m\n\u001b[1;32m     59\u001b[0m             \u001b[0;32mwhile\u001b[0m \u001b[0;32mnot\u001b[0m \u001b[0mf\u001b[0m\u001b[0;34m.\u001b[0m\u001b[0mdone\u001b[0m\u001b[0;34m(\u001b[0m\u001b[0;34m)\u001b[0m\u001b[0;34m:\u001b[0m\u001b[0;34m\u001b[0m\u001b[0m\n\u001b[0;32m---> 60\u001b[0;31m                 \u001b[0mrun_once\u001b[0m\u001b[0;34m(\u001b[0m\u001b[0mself\u001b[0m\u001b[0;34m)\u001b[0m\u001b[0;34m\u001b[0m\u001b[0m\n\u001b[0m\u001b[1;32m     61\u001b[0m             \u001b[0;32mreturn\u001b[0m \u001b[0mf\u001b[0m\u001b[0;34m.\u001b[0m\u001b[0mresult\u001b[0m\u001b[0;34m(\u001b[0m\u001b[0;34m)\u001b[0m\u001b[0;34m\u001b[0m\u001b[0m\n\u001b[1;32m     62\u001b[0m         \u001b[0;32melse\u001b[0m\u001b[0;34m:\u001b[0m\u001b[0;34m\u001b[0m\u001b[0m\n",
      "\u001b[0;32m~/anaconda3/lib/python3.6/site-packages/nest_asyncio.py\u001b[0m in \u001b[0;36mrun_once\u001b[0;34m(self)\u001b[0m\n\u001b[1;32m     87\u001b[0m             \u001b[0mtimeout\u001b[0m \u001b[0;34m=\u001b[0m \u001b[0mmax\u001b[0m\u001b[0;34m(\u001b[0m\u001b[0;36m0\u001b[0m\u001b[0;34m,\u001b[0m \u001b[0mwhen\u001b[0m \u001b[0;34m-\u001b[0m \u001b[0mself\u001b[0m\u001b[0;34m.\u001b[0m\u001b[0mtime\u001b[0m\u001b[0;34m(\u001b[0m\u001b[0;34m)\u001b[0m\u001b[0;34m)\u001b[0m\u001b[0;34m\u001b[0m\u001b[0m\n\u001b[1;32m     88\u001b[0m \u001b[0;34m\u001b[0m\u001b[0m\n\u001b[0;32m---> 89\u001b[0;31m         \u001b[0mevent_list\u001b[0m \u001b[0;34m=\u001b[0m \u001b[0mself\u001b[0m\u001b[0;34m.\u001b[0m\u001b[0m_selector\u001b[0m\u001b[0;34m.\u001b[0m\u001b[0mselect\u001b[0m\u001b[0;34m(\u001b[0m\u001b[0mtimeout\u001b[0m\u001b[0;34m)\u001b[0m\u001b[0;34m\u001b[0m\u001b[0m\n\u001b[0m\u001b[1;32m     90\u001b[0m         \u001b[0mself\u001b[0m\u001b[0;34m.\u001b[0m\u001b[0m_process_events\u001b[0m\u001b[0;34m(\u001b[0m\u001b[0mevent_list\u001b[0m\u001b[0;34m)\u001b[0m\u001b[0;34m\u001b[0m\u001b[0m\n\u001b[1;32m     91\u001b[0m \u001b[0;34m\u001b[0m\u001b[0m\n",
      "\u001b[0;32m~/anaconda3/lib/python3.6/selectors.py\u001b[0m in \u001b[0;36mselect\u001b[0;34m(self, timeout)\u001b[0m\n\u001b[1;32m    575\u001b[0m             \u001b[0mready\u001b[0m \u001b[0;34m=\u001b[0m \u001b[0;34m[\u001b[0m\u001b[0;34m]\u001b[0m\u001b[0;34m\u001b[0m\u001b[0m\n\u001b[1;32m    576\u001b[0m             \u001b[0;32mtry\u001b[0m\u001b[0;34m:\u001b[0m\u001b[0;34m\u001b[0m\u001b[0m\n\u001b[0;32m--> 577\u001b[0;31m                 \u001b[0mkev_list\u001b[0m \u001b[0;34m=\u001b[0m \u001b[0mself\u001b[0m\u001b[0;34m.\u001b[0m\u001b[0m_kqueue\u001b[0m\u001b[0;34m.\u001b[0m\u001b[0mcontrol\u001b[0m\u001b[0;34m(\u001b[0m\u001b[0;32mNone\u001b[0m\u001b[0;34m,\u001b[0m \u001b[0mmax_ev\u001b[0m\u001b[0;34m,\u001b[0m \u001b[0mtimeout\u001b[0m\u001b[0;34m)\u001b[0m\u001b[0;34m\u001b[0m\u001b[0m\n\u001b[0m\u001b[1;32m    578\u001b[0m             \u001b[0;32mexcept\u001b[0m \u001b[0mInterruptedError\u001b[0m\u001b[0;34m:\u001b[0m\u001b[0;34m\u001b[0m\u001b[0m\n\u001b[1;32m    579\u001b[0m                 \u001b[0;32mreturn\u001b[0m \u001b[0mready\u001b[0m\u001b[0;34m\u001b[0m\u001b[0m\n",
      "\u001b[0;31mKeyboardInterrupt\u001b[0m: "
     ]
    }
   ],
   "source": [
    "half_circuit_lengths = np.arange(0, 50, 5)\n",
    "states = ['00', '01', '10', '11']\n",
    "shots = 8192\n",
    "n_reps = 5\n",
    "\n",
    "# Initialize dictionaries that will save results\n",
    "results = {}\n",
    "qcs = {}\n",
    "\n",
    "for i in tnrange(n_reps, desc='rep'):\n",
    "    results[i] = {}\n",
    "    qcs[i] = {}\n",
    "    for half_circuit_length in half_circuit_lengths:\n",
    "        results[i][half_circuit_length] = {}\n",
    "        qcs[i][half_circuit_length] = {}\n",
    "        for state in states:\n",
    "            result, qc = unencoded_rb(half_circuit_length, state, shots, backend_real)\n",
    "            results[i][half_circuit_length][state] = result\n",
    "            qcs[i][half_circuit_length][state] = qc"
   ]
  },
  {
   "cell_type": "markdown",
   "metadata": {},
   "source": [
    "### Organize output dictionaries into dataframe"
   ]
  },
  {
   "cell_type": "code",
   "execution_count": null,
   "metadata": {},
   "outputs": [],
   "source": [
    "# Store results in pandas dataframe\n",
    "\n",
    "columns = ['cir_len', 'init_state', '00', '01', '10', '11']\n",
    "df = pd.DataFrame(columns=columns)\n",
    "for i in results.keys():\n",
    "    for half_circuit_length in results[i].keys():\n",
    "        for state, res in results[i][half_circuit_length].items():\n",
    "            counts = res.get_counts()\n",
    "            # build dataframe row from counts dictionary\n",
    "            length = half_circuit_length * 2 - 1\n",
    "            if length < 0:\n",
    "                length = 0\n",
    "            df_row = counts.copy()\n",
    "            df_row['cir_len'] = length\n",
    "            df_row['init_state'] = state\n",
    "            if df.empty:\n",
    "                df = pd.DataFrame(data=df_row, index=[0])\n",
    "            else:\n",
    "                df = df.append(df_row, ignore_index=True)"
   ]
  },
  {
   "cell_type": "code",
   "execution_count": 284,
   "metadata": {
    "scrolled": false
   },
   "outputs": [
    {
     "data": {
      "text/html": [
       "<div>\n",
       "<style scoped>\n",
       "    .dataframe tbody tr th:only-of-type {\n",
       "        vertical-align: middle;\n",
       "    }\n",
       "\n",
       "    .dataframe tbody tr th {\n",
       "        vertical-align: top;\n",
       "    }\n",
       "\n",
       "    .dataframe thead th {\n",
       "        text-align: right;\n",
       "    }\n",
       "</style>\n",
       "<table border=\"1\" class=\"dataframe\">\n",
       "  <thead>\n",
       "    <tr style=\"text-align: right;\">\n",
       "      <th></th>\n",
       "      <th>10</th>\n",
       "      <th>00</th>\n",
       "      <th>11</th>\n",
       "      <th>01</th>\n",
       "      <th>cir_len</th>\n",
       "      <th>init_state</th>\n",
       "      <th>q_ave</th>\n",
       "    </tr>\n",
       "  </thead>\n",
       "  <tbody>\n",
       "    <tr>\n",
       "      <th>0</th>\n",
       "      <td>1145</td>\n",
       "      <td>4095</td>\n",
       "      <td>1500</td>\n",
       "      <td>1452</td>\n",
       "      <td>10</td>\n",
       "      <td>00</td>\n",
       "      <td>0.499878</td>\n",
       "    </tr>\n",
       "    <tr>\n",
       "      <th>1</th>\n",
       "      <td>1059</td>\n",
       "      <td>1845</td>\n",
       "      <td>1054</td>\n",
       "      <td>4234</td>\n",
       "      <td>10</td>\n",
       "      <td>01</td>\n",
       "      <td>0.516846</td>\n",
       "    </tr>\n",
       "    <tr>\n",
       "      <th>2</th>\n",
       "      <td>4331</td>\n",
       "      <td>1397</td>\n",
       "      <td>1099</td>\n",
       "      <td>1365</td>\n",
       "      <td>10</td>\n",
       "      <td>10</td>\n",
       "      <td>0.528687</td>\n",
       "    </tr>\n",
       "    <tr>\n",
       "      <th>3</th>\n",
       "      <td>1430</td>\n",
       "      <td>1260</td>\n",
       "      <td>4191</td>\n",
       "      <td>1311</td>\n",
       "      <td>10</td>\n",
       "      <td>11</td>\n",
       "      <td>0.511597</td>\n",
       "    </tr>\n",
       "    <tr>\n",
       "      <th>4</th>\n",
       "      <td>1093</td>\n",
       "      <td>4013</td>\n",
       "      <td>1308</td>\n",
       "      <td>1778</td>\n",
       "      <td>20</td>\n",
       "      <td>00</td>\n",
       "      <td>0.489868</td>\n",
       "    </tr>\n",
       "    <tr>\n",
       "      <th>5</th>\n",
       "      <td>1226</td>\n",
       "      <td>1541</td>\n",
       "      <td>1311</td>\n",
       "      <td>4114</td>\n",
       "      <td>20</td>\n",
       "      <td>01</td>\n",
       "      <td>0.502197</td>\n",
       "    </tr>\n",
       "  </tbody>\n",
       "</table>\n",
       "</div>"
      ],
      "text/plain": [
       "     10    00    11    01  cir_len init_state     q_ave\n",
       "0  1145  4095  1500  1452       10         00  0.499878\n",
       "1  1059  1845  1054  4234       10         01  0.516846\n",
       "2  4331  1397  1099  1365       10         10  0.528687\n",
       "3  1430  1260  4191  1311       10         11  0.511597\n",
       "4  1093  4013  1308  1778       20         00  0.489868\n",
       "5  1226  1541  1311  4114       20         01  0.502197"
      ]
     },
     "execution_count": 284,
     "metadata": {},
     "output_type": "execute_result"
    }
   ],
   "source": [
    "# filename = './unencoded_data.pkl'\n",
    "# df.to_pickle(filename)\n",
    "df.head(6)"
   ]
  },
  {
   "cell_type": "markdown",
   "metadata": {},
   "source": [
    "### Compute average survival $\\bar{q}$"
   ]
  },
  {
   "cell_type": "code",
   "execution_count": 283,
   "metadata": {},
   "outputs": [],
   "source": [
    "# Got to be a better way to do this\n",
    "df['q_ave'] = np.diag(df[df.loc[:,'init_state']].values) / shots"
   ]
  },
  {
   "cell_type": "code",
   "execution_count": 481,
   "metadata": {},
   "outputs": [
    {
     "data": {
      "text/html": [
       "<div>\n",
       "<style scoped>\n",
       "    .dataframe tbody tr th:only-of-type {\n",
       "        vertical-align: middle;\n",
       "    }\n",
       "\n",
       "    .dataframe tbody tr th {\n",
       "        vertical-align: top;\n",
       "    }\n",
       "\n",
       "    .dataframe thead th {\n",
       "        text-align: right;\n",
       "    }\n",
       "</style>\n",
       "<table border=\"1\" class=\"dataframe\">\n",
       "  <thead>\n",
       "    <tr style=\"text-align: right;\">\n",
       "      <th></th>\n",
       "      <th>10</th>\n",
       "      <th>00</th>\n",
       "      <th>11</th>\n",
       "      <th>01</th>\n",
       "      <th>cir_len</th>\n",
       "      <th>init_state</th>\n",
       "      <th>q_ave</th>\n",
       "    </tr>\n",
       "  </thead>\n",
       "  <tbody>\n",
       "    <tr>\n",
       "      <th>0</th>\n",
       "      <td>1145</td>\n",
       "      <td>4095</td>\n",
       "      <td>1500</td>\n",
       "      <td>1452</td>\n",
       "      <td>10</td>\n",
       "      <td>00</td>\n",
       "      <td>0.499878</td>\n",
       "    </tr>\n",
       "    <tr>\n",
       "      <th>1</th>\n",
       "      <td>1059</td>\n",
       "      <td>1845</td>\n",
       "      <td>1054</td>\n",
       "      <td>4234</td>\n",
       "      <td>10</td>\n",
       "      <td>01</td>\n",
       "      <td>0.516846</td>\n",
       "    </tr>\n",
       "    <tr>\n",
       "      <th>2</th>\n",
       "      <td>4331</td>\n",
       "      <td>1397</td>\n",
       "      <td>1099</td>\n",
       "      <td>1365</td>\n",
       "      <td>10</td>\n",
       "      <td>10</td>\n",
       "      <td>0.528687</td>\n",
       "    </tr>\n",
       "    <tr>\n",
       "      <th>3</th>\n",
       "      <td>1430</td>\n",
       "      <td>1260</td>\n",
       "      <td>4191</td>\n",
       "      <td>1311</td>\n",
       "      <td>10</td>\n",
       "      <td>11</td>\n",
       "      <td>0.511597</td>\n",
       "    </tr>\n",
       "    <tr>\n",
       "      <th>4</th>\n",
       "      <td>1093</td>\n",
       "      <td>4013</td>\n",
       "      <td>1308</td>\n",
       "      <td>1778</td>\n",
       "      <td>20</td>\n",
       "      <td>00</td>\n",
       "      <td>0.489868</td>\n",
       "    </tr>\n",
       "  </tbody>\n",
       "</table>\n",
       "</div>"
      ],
      "text/plain": [
       "     10    00    11    01  cir_len init_state     q_ave\n",
       "0  1145  4095  1500  1452       10         00  0.499878\n",
       "1  1059  1845  1054  4234       10         01  0.516846\n",
       "2  4331  1397  1099  1365       10         10  0.528687\n",
       "3  1430  1260  4191  1311       10         11  0.511597\n",
       "4  1093  4013  1308  1778       20         00  0.489868"
      ]
     },
     "execution_count": 481,
     "metadata": {},
     "output_type": "execute_result"
    }
   ],
   "source": [
    "df.head()"
   ]
  },
  {
   "cell_type": "markdown",
   "metadata": {},
   "source": [
    "### Fit Fidelity parameters"
   ]
  },
  {
   "cell_type": "code",
   "execution_count": 554,
   "metadata": {},
   "outputs": [],
   "source": [
    "rho00_cir_lens = df[df['init_state'] == '00'].sort_values(by='cir_len')['cir_len'].values\n",
    "rho00_q_aves = df[df['init_state'] == '00'].sort_values(by='cir_len')['q_ave'].values"
   ]
  },
  {
   "cell_type": "code",
   "execution_count": 555,
   "metadata": {},
   "outputs": [
    {
     "name": "stdout",
     "output_type": "stream",
     "text": [
      "fit parameters: [0.35600665 0.97624069]\n",
      "variances: [7.31860184e-05 6.19607515e-07]\n"
     ]
    },
    {
     "data": {
      "image/png": "[encoded data removed]",
      "text/plain": [
       "<Figure size 432x288 with 1 Axes>"
      ]
     },
     "metadata": {
      "needs_background": "light"
     },
     "output_type": "display_data"
    }
   ],
   "source": [
    "def exp(x, B, b):\n",
    "    return 0.25 + B * b**x\n",
    "\n",
    "guess = [0.953, .356]\n",
    "popt, pcov = curve_fit(exp, rho00_cir_lens, rho00_q_aves, p0=guess)\n",
    "print('fit parameters:', popt)\n",
    "print('variances:', np.diag(pcov))\n",
    "B = popt[0]\n",
    "b = popt[1]\n",
    "\n",
    "x = np.arange(0, 100)\n",
    "plt.plot(x, exp(x, *popt), '-r')\n",
    "plt.scatter(rho00_cir_lens, rho00_q_aves)\n",
    "plt.title('rho 00 for 2 physical qubits')\n",
    "plt.xlabel('Circuit length')\n",
    "plt.ylabel('Survival probability')\n",
    "plt.legend(['fit','data'])\n",
    "plt.show()"
   ]
  },
  {
   "cell_type": "code",
   "execution_count": 556,
   "metadata": {},
   "outputs": [],
   "source": [
    "b_std = np.sqrt(pcov[1,1])"
   ]
  },
  {
   "cell_type": "code",
   "execution_count": 557,
   "metadata": {},
   "outputs": [],
   "source": [
    "q_aves_all = df.sort_values(by=['cir_len'])['q_ave'].values\n",
    "cir_lens_all = df.sort_values(by=['cir_len'])['cir_len'].values"
   ]
  },
  {
   "cell_type": "code",
   "execution_count": 713,
   "metadata": {},
   "outputs": [
    {
     "name": "stdout",
     "output_type": "stream",
     "text": [
      "fit parameters: [0.04391206 0.83915374]\n",
      "variances: [0.03763829 0.12557221]\n",
      "little c: 0.8391537430536916\n"
     ]
    },
    {
     "data": {
      "image/png": "[encoded data removed]",
      "text/plain": [
       "<Figure size 432x288 with 1 Axes>"
      ]
     },
     "metadata": {
      "needs_background": "light"
     },
     "output_type": "display_data"
    }
   ],
   "source": [
    "def double_exp(x, B, b, C, c):\n",
    "    return 0.25 + B * b**x + C * c**x\n",
    "\n",
    "guess = [0.05, 0.356]\n",
    "popt, pcov = curve_fit(lambda x, C, c: double_exp(x, B, b, C, c), cir_lens_all, q_aves_all, p0=guess, bounds=([0,0],[1,1]))\n",
    "print('fit parameters:', popt)\n",
    "print('variances:', np.diag(pcov))\n",
    "c = popt[1]\n",
    "print('little c:', c)\n",
    "\n",
    "x = np.arange(0, 100)\n",
    "plt.plot(x, double_exp(x, *[B,b,*popt]), '-m')\n",
    "plt.scatter(cir_lens_all, q_aves_all, color='r', s=10)\n",
    "plt.title('Real RB with two physical qubits')\n",
    "plt.xlabel('circuit length')\n",
    "plt.ylabel('survival probability')\n",
    "plt.legend(['fit','data'])\n",
    "plt.savefig('survival_unencoded.png')\n",
    "plt.show()"
   ]
  },
  {
   "cell_type": "code",
   "execution_count": 559,
   "metadata": {},
   "outputs": [
    {
     "data": {
      "text/plain": [
       "0.3543616889565039"
      ]
     },
     "execution_count": 559,
     "metadata": {},
     "output_type": "execute_result"
    }
   ],
   "source": [
    "c_std = np.sqrt(pcov[1,1])\n",
    "c_std"
   ]
  },
  {
   "cell_type": "code",
   "execution_count": 560,
   "metadata": {},
   "outputs": [
    {
     "data": {
      "text/plain": [
       "0.0007871515198468396"
      ]
     },
     "execution_count": 560,
     "metadata": {},
     "output_type": "execute_result"
    }
   ],
   "source": [
    "b_std"
   ]
  },
  {
   "cell_type": "code",
   "execution_count": 561,
   "metadata": {},
   "outputs": [
    {
     "name": "stdout",
     "output_type": "stream",
     "text": [
      "Infidelity: 5.89456 %\n"
     ]
    }
   ],
   "source": [
    "fidelity = (9*b + 6*c + 5) / 20\n",
    "print('Infidelity:', round((1 - fidelity)*100, 5), '%')"
   ]
  },
  {
   "cell_type": "code",
   "execution_count": 564,
   "metadata": {},
   "outputs": [
    {
     "name": "stdout",
     "output_type": "stream",
     "text": [
      "1.0477171587565448 0.1656082909852199\n"
     ]
    }
   ],
   "source": [
    "print((9*(b+b_std) + 6*(c+c_std)+ 5) / 20, 1 - (9*(b-b_std) + 6*(c-c_std) + 5) / 20)"
   ]
  },
  {
   "cell_type": "markdown",
   "metadata": {},
   "source": [
    "# Encoded Randomized Benchmark with R(2)"
   ]
  },
  {
   "cell_type": "code",
   "execution_count": 314,
   "metadata": {},
   "outputs": [],
   "source": [
    "def init_state_enc(state, qubit_map, qc, qr):\n",
    "    qc.barrier()\n",
    "    # initialize '00' state\n",
    "    qc.h(qr[qubit_map[1]])\n",
    "    qc.cx(qr[qubit_map[1]],qr[qubit_map[0]])\n",
    "    qc.cx(qr[qubit_map[1]],qr[qubit_map[2]])\n",
    "    qc.cx(qr[qubit_map[2]],qr[qubit_map[3]])\n",
    "    qc.barrier()\n",
    "    if state == '01':\n",
    "        qc.x(qr[qubit_map[0]])\n",
    "        qc.x(qr[qubit_map[1]])\n",
    "    elif state == '10':\n",
    "        qc.x(qr[qubit_map[0]])\n",
    "        qc.x(qr[qubit_map[2]])\n",
    "    elif state == '11':\n",
    "        qc.x(qr[qubit_map[1]])\n",
    "        qc.x(qr[qubit_map[2]])\n",
    "    qc.barrier()\n",
    "\n",
    "def swap_enc(qubit_map, q_i, q_j):\n",
    "    new_qubit_map = {}\n",
    "    new_qubit_map[q_i] = qubit_map[q_j]\n",
    "    new_qubit_map[q_j] = qubit_map[q_i]\n",
    "    return new_qubit_map\n",
    "\n",
    "def addGate_enc(i, qubit_map, qr, qc, inverse=False):\n",
    "    if i == '1':\n",
    "        qc.x(qr[qubit_map[2]])\n",
    "        qc.x(qr[qubit_map[3]])\n",
    "    elif i == '2':\n",
    "        qc.x(qr[qubit_map[0]])\n",
    "        qc.x(qr[qubit_map[2]])\n",
    "    elif i == '3':\n",
    "        qc.z(qr[qubit_map[2]])\n",
    "        qc.z(qr[qubit_map[3]])\n",
    "    elif i == '4':\n",
    "        qc.z(qr[qubit_map[0]])\n",
    "        qc.z(qr[qubit_map[2]])\n",
    "    elif i == '5':\n",
    "        qc.h(0)\n",
    "        qc.h(1)\n",
    "        qc.h(2)\n",
    "        qc.h(3)\n",
    "    elif i == '6':\n",
    "        if inverse:\n",
    "            qc.sdg(0)\n",
    "            qc.sdg(1)\n",
    "            qc.sdg(2)\n",
    "            qc.sdg(3)\n",
    "        else:\n",
    "            qc.s(0)\n",
    "            qc.s(1)\n",
    "            qc.s(2)\n",
    "            qc.s(3)\n",
    "    elif i == '7':\n",
    "        qubit_map = swap_enc(qubit_map, 2, 3)\n",
    "    elif i == '8':\n",
    "        qubit_map = swap_enc(qubit_map, 1, 3)\n",
    "    else:\n",
    "        print(' --- Error ---\\nExceeded gate range')\n",
    "    qc.barrier()\n",
    "\n",
    "# Add random set of gates selected by randR2Gates. Includes gate inverses as well\n",
    "def addRandGates_enc(rand_gate_indices, qubit_map, qr, qc):\n",
    "    # Add gates based on random index\n",
    "    for gate_indices in rand_gate_indices:\n",
    "        for gate in gate_indices:\n",
    "            addGate_enc(gate, qubit_map, qr, qc)\n",
    "    # Add inverse of gates\n",
    "    for gate_indices in rand_gate_indices[::-1]:\n",
    "        for gate in gate_indices:\n",
    "            addGate_enc(gate, qubit_map, qr, qc, inverse=True)"
   ]
  },
  {
   "cell_type": "code",
   "execution_count": 345,
   "metadata": {},
   "outputs": [],
   "source": [
    "def encoded_rb(half_circuit_length, initial_state, shots, backend):\n",
    "    n_qubits = 4\n",
    "    qubit_map = {}  # used to track virtual swaps\n",
    "    for i in range(n_qubits):\n",
    "        qubit_map[i] = i\n",
    "\n",
    "    # Initialize quantum circuit and registers\n",
    "    qr = QuantumRegister(n_qubits)\n",
    "    cr = ClassicalRegister(n_qubits)\n",
    "    qc = QuantumCircuit(qr, cr)\n",
    "    \n",
    "    # Initialize quantum state\n",
    "    init_state_enc(initial_state, qubit_map, qc, qr)\n",
    "    # Add randomized gates (along with inverses)\n",
    "    rand_gate_indices = randR2Gates(half_circuit_length)\n",
    "    addRandGates_enc(rand_gate_indices, qubit_map, qr, qc)\n",
    "    # Measure qubits\n",
    "    for i in range(n_qubits):\n",
    "        qc.measure(i, i)\n",
    "\n",
    "    # Execute quantum circuit\n",
    "    result = execute(qc, backend, shots=shots).result()\n",
    "    return result, qc"
   ]
  },
  {
   "cell_type": "markdown",
   "metadata": {},
   "source": [
    "### Test runs "
   ]
  },
  {
   "cell_type": "code",
   "execution_count": 347,
   "metadata": {},
   "outputs": [
    {
     "data": {
      "image/png": "[encoded data removed]",
      "text/plain": [
       "<Figure size 504x360 with 1 Axes>"
      ]
     },
     "execution_count": 347,
     "metadata": {},
     "output_type": "execute_result"
    }
   ],
   "source": [
    "half_circuit_length = 4\n",
    "state = '11'\n",
    "shots = 8192\n",
    "\n",
    "result, qc = encoded_rb(half_circuit_length, state, shots, backend_sim)\n",
    "counts = result.get_counts(qc)\n",
    "visualization.plot_histogram(counts)"
   ]
  },
  {
   "cell_type": "code",
   "execution_count": 350,
   "metadata": {},
   "outputs": [
    {
     "data": {
      "text/plain": [
       "BackendStatus(backend_name='ibmq_burlington', backend_version='1.1.4', operational=True, pending_jobs=3, status_msg='active')"
      ]
     },
     "execution_count": 350,
     "metadata": {},
     "output_type": "execute_result"
    }
   ],
   "source": [
    "# Filter backends to find the least busy 5 qubit quantum computer and check current \"pending_jobs\"\n",
    "from qiskit.providers.ibmq import least_busy\n",
    "\n",
    "provider = IBMQ.get_provider(hub='ibm-q')\n",
    "smaller_qcs = provider.backends(filters=lambda x: x.configuration().n_qubits == 5 and not x.configuration().simulator)\n",
    "backend_real = least_busy(smaller_qcs)\n",
    "\n",
    "# Check status and \"pending_jobs\" to see how long it might take to run\n",
    "backend_real.status()"
   ]
  },
  {
   "cell_type": "code",
   "execution_count": 349,
   "metadata": {
    "scrolled": true
   },
   "outputs": [
    {
     "data": {
      "image/png": "[encoded data removed]",
      "text/plain": [
       "<Figure size 504x360 with 1 Axes>"
      ]
     },
     "execution_count": 349,
     "metadata": {},
     "output_type": "execute_result"
    }
   ],
   "source": [
    "half_circuit_length = 2\n",
    "state = '00'\n",
    "shots = 8192\n",
    "\n",
    "result, qc = encoded_rb(half_circuit_length, state, shots, backend_real)\n",
    "counts = result.get_counts(qc)\n",
    "visualization.plot_histogram(counts)"
   ]
  },
  {
   "cell_type": "markdown",
   "metadata": {},
   "source": [
    "### Execute experiment over all states and variable circuit length"
   ]
  },
  {
   "cell_type": "code",
   "execution_count": 352,
   "metadata": {},
   "outputs": [
    {
     "name": "stderr",
     "output_type": "stream",
     "text": [
      "Error checking job status using websocket, retrying using HTTP.\n",
      "Error checking job status using websocket, retrying using HTTP.\n",
      "Error checking job status using websocket, retrying using HTTP.\n",
      "Error checking job status using websocket, retrying using HTTP.\n",
      "Error checking job status using websocket, retrying using HTTP.\n",
      "Error checking job status using websocket, retrying using HTTP.\n",
      "Error checking job status using websocket, retrying using HTTP.\n",
      "Error checking job status using websocket, retrying using HTTP.\n",
      "Error checking job status using websocket, retrying using HTTP.\n",
      "Error checking job status using websocket, retrying using HTTP.\n",
      "Error checking job status using websocket, retrying using HTTP.\n",
      "Error checking job status using websocket, retrying using HTTP.\n",
      "Error checking job status using websocket, retrying using HTTP.\n",
      "Error checking job status using websocket, retrying using HTTP.\n",
      "Error checking job status using websocket, retrying using HTTP.\n",
      "Error checking job status using websocket, retrying using HTTP.\n",
      "Error checking job status using websocket, retrying using HTTP.\n",
      "Error checking job status using websocket, retrying using HTTP.\n",
      "Error checking job status using websocket, retrying using HTTP.\n",
      "Error checking job status using websocket, retrying using HTTP.\n",
      "Error checking job status using websocket, retrying using HTTP.\n",
      "Error checking job status using websocket, retrying using HTTP.\n",
      "Error checking job status using websocket, retrying using HTTP.\n",
      "Error checking job status using websocket, retrying using HTTP.\n"
     ]
    },
    {
     "ename": "KeyboardInterrupt",
     "evalue": "",
     "output_type": "error",
     "traceback": [
      "\u001b[0;31m---------------------------------------------------------------------------\u001b[0m",
      "\u001b[0;31mKeyboardInterrupt\u001b[0m                         Traceback (most recent call last)",
      "\u001b[0;32m<ipython-input-352-65eb7cb6ccd0>\u001b[0m in \u001b[0;36m<module>\u001b[0;34m\u001b[0m\n\u001b[1;32m     15\u001b[0m         \u001b[0mqcs_en\u001b[0m\u001b[0;34m[\u001b[0m\u001b[0mi\u001b[0m\u001b[0;34m]\u001b[0m\u001b[0;34m[\u001b[0m\u001b[0mhalf_circuit_length\u001b[0m\u001b[0;34m]\u001b[0m \u001b[0;34m=\u001b[0m \u001b[0;34m{\u001b[0m\u001b[0;34m}\u001b[0m\u001b[0;34m\u001b[0m\u001b[0m\n\u001b[1;32m     16\u001b[0m         \u001b[0;32mfor\u001b[0m \u001b[0mstate\u001b[0m \u001b[0;32min\u001b[0m \u001b[0mstates\u001b[0m\u001b[0;34m:\u001b[0m\u001b[0;34m\u001b[0m\u001b[0m\n\u001b[0;32m---> 17\u001b[0;31m             \u001b[0mresult\u001b[0m\u001b[0;34m,\u001b[0m \u001b[0mqc\u001b[0m \u001b[0;34m=\u001b[0m \u001b[0mencoded_rb\u001b[0m\u001b[0;34m(\u001b[0m\u001b[0mhalf_circuit_length\u001b[0m\u001b[0;34m,\u001b[0m \u001b[0mstate\u001b[0m\u001b[0;34m,\u001b[0m \u001b[0mshots\u001b[0m\u001b[0;34m,\u001b[0m \u001b[0mbackend_real\u001b[0m\u001b[0;34m)\u001b[0m\u001b[0;34m\u001b[0m\u001b[0m\n\u001b[0m\u001b[1;32m     18\u001b[0m             \u001b[0mresults_en\u001b[0m\u001b[0;34m[\u001b[0m\u001b[0mi\u001b[0m\u001b[0;34m]\u001b[0m\u001b[0;34m[\u001b[0m\u001b[0mhalf_circuit_length\u001b[0m\u001b[0;34m]\u001b[0m\u001b[0;34m[\u001b[0m\u001b[0mstate\u001b[0m\u001b[0;34m]\u001b[0m \u001b[0;34m=\u001b[0m \u001b[0mresult\u001b[0m\u001b[0;34m\u001b[0m\u001b[0m\n\u001b[1;32m     19\u001b[0m             \u001b[0mqcs_en\u001b[0m\u001b[0;34m[\u001b[0m\u001b[0mi\u001b[0m\u001b[0;34m]\u001b[0m\u001b[0;34m[\u001b[0m\u001b[0mhalf_circuit_length\u001b[0m\u001b[0;34m]\u001b[0m\u001b[0;34m[\u001b[0m\u001b[0mstate\u001b[0m\u001b[0;34m]\u001b[0m \u001b[0;34m=\u001b[0m \u001b[0mqc\u001b[0m\u001b[0;34m\u001b[0m\u001b[0m\n",
      "\u001b[0;32m<ipython-input-345-231849aa9848>\u001b[0m in \u001b[0;36mencoded_rb\u001b[0;34m(half_circuit_length, initial_state, shots, backend)\u001b[0m\n\u001b[1;32m     20\u001b[0m \u001b[0;34m\u001b[0m\u001b[0m\n\u001b[1;32m     21\u001b[0m     \u001b[0;31m# Execute quantum circuit\u001b[0m\u001b[0;34m\u001b[0m\u001b[0;34m\u001b[0m\u001b[0m\n\u001b[0;32m---> 22\u001b[0;31m     \u001b[0mresult\u001b[0m \u001b[0;34m=\u001b[0m \u001b[0mexecute\u001b[0m\u001b[0;34m(\u001b[0m\u001b[0mqc\u001b[0m\u001b[0;34m,\u001b[0m \u001b[0mbackend\u001b[0m\u001b[0;34m,\u001b[0m \u001b[0mshots\u001b[0m\u001b[0;34m=\u001b[0m\u001b[0mshots\u001b[0m\u001b[0;34m)\u001b[0m\u001b[0;34m.\u001b[0m\u001b[0mresult\u001b[0m\u001b[0;34m(\u001b[0m\u001b[0;34m)\u001b[0m\u001b[0;34m\u001b[0m\u001b[0m\n\u001b[0m\u001b[1;32m     23\u001b[0m     \u001b[0;32mreturn\u001b[0m \u001b[0mresult\u001b[0m\u001b[0;34m,\u001b[0m \u001b[0mqc\u001b[0m\u001b[0;34m\u001b[0m\u001b[0m\n",
      "\u001b[0;32m~/anaconda3/lib/python3.6/site-packages/qiskit/providers/ibmq/job/ibmqjob.py\u001b[0m in \u001b[0;36mresult\u001b[0;34m(self, timeout, wait)\u001b[0m\n\u001b[1;32m    247\u001b[0m             \u001b[0mJobError\u001b[0m\u001b[0;34m:\u001b[0m \u001b[0;32mif\u001b[0m \u001b[0mattempted\u001b[0m \u001b[0mto\u001b[0m \u001b[0mrecover\u001b[0m \u001b[0ma\u001b[0m \u001b[0mresult\u001b[0m \u001b[0mon\u001b[0m \u001b[0ma\u001b[0m \u001b[0mfailed\u001b[0m \u001b[0mjob\u001b[0m\u001b[0;34m.\u001b[0m\u001b[0;34m\u001b[0m\u001b[0m\n\u001b[1;32m    248\u001b[0m         \"\"\"\n\u001b[0;32m--> 249\u001b[0;31m         \u001b[0mself\u001b[0m\u001b[0;34m.\u001b[0m\u001b[0m_wait_for_completion\u001b[0m\u001b[0;34m(\u001b[0m\u001b[0mtimeout\u001b[0m\u001b[0;34m=\u001b[0m\u001b[0mtimeout\u001b[0m\u001b[0;34m,\u001b[0m \u001b[0mwait\u001b[0m\u001b[0;34m=\u001b[0m\u001b[0mwait\u001b[0m\u001b[0;34m)\u001b[0m\u001b[0;34m\u001b[0m\u001b[0m\n\u001b[0m\u001b[1;32m    250\u001b[0m \u001b[0;34m\u001b[0m\u001b[0m\n\u001b[1;32m    251\u001b[0m         \u001b[0mstatus\u001b[0m \u001b[0;34m=\u001b[0m \u001b[0mself\u001b[0m\u001b[0;34m.\u001b[0m\u001b[0mstatus\u001b[0m\u001b[0;34m(\u001b[0m\u001b[0;34m)\u001b[0m\u001b[0;34m\u001b[0m\u001b[0m\n",
      "\u001b[0;32m~/anaconda3/lib/python3.6/site-packages/qiskit/providers/ibmq/job/ibmqjob.py\u001b[0m in \u001b[0;36m_wait_for_completion\u001b[0;34m(self, timeout, wait)\u001b[0m\n\u001b[1;32m    566\u001b[0m \u001b[0;34m\u001b[0m\u001b[0m\n\u001b[1;32m    567\u001b[0m         \u001b[0;31m# Use traditional http requests if websocket not available or failed.\u001b[0m\u001b[0;34m\u001b[0m\u001b[0;34m\u001b[0m\u001b[0m\n\u001b[0;32m--> 568\u001b[0;31m         \u001b[0mself\u001b[0m\u001b[0;34m.\u001b[0m\u001b[0m_wait_for_final_status\u001b[0m\u001b[0;34m(\u001b[0m\u001b[0mtimeout\u001b[0m\u001b[0;34m,\u001b[0m \u001b[0mwait\u001b[0m\u001b[0;34m)\u001b[0m\u001b[0;34m\u001b[0m\u001b[0m\n\u001b[0m\u001b[1;32m    569\u001b[0m \u001b[0;34m\u001b[0m\u001b[0m\n\u001b[1;32m    570\u001b[0m     \u001b[0;32mdef\u001b[0m \u001b[0m_wait_for_submission\u001b[0m\u001b[0;34m(\u001b[0m\u001b[0mself\u001b[0m\u001b[0;34m,\u001b[0m \u001b[0mtimeout\u001b[0m\u001b[0;34m=\u001b[0m\u001b[0;36m60\u001b[0m\u001b[0;34m)\u001b[0m\u001b[0;34m:\u001b[0m\u001b[0;34m\u001b[0m\u001b[0m\n",
      "\u001b[0;32m~/anaconda3/lib/python3.6/site-packages/qiskit/providers/ibmq/job/ibmqjob.py\u001b[0m in \u001b[0;36m_wait_for_final_status\u001b[0;34m(self, timeout, wait)\u001b[0m\n\u001b[1;32m    599\u001b[0m         \"\"\"\n\u001b[1;32m    600\u001b[0m         \u001b[0mstart_time\u001b[0m \u001b[0;34m=\u001b[0m \u001b[0mtime\u001b[0m\u001b[0;34m.\u001b[0m\u001b[0mtime\u001b[0m\u001b[0;34m(\u001b[0m\u001b[0;34m)\u001b[0m\u001b[0;34m\u001b[0m\u001b[0m\n\u001b[0;32m--> 601\u001b[0;31m         \u001b[0;32mwhile\u001b[0m \u001b[0mself\u001b[0m\u001b[0;34m.\u001b[0m\u001b[0mstatus\u001b[0m\u001b[0;34m(\u001b[0m\u001b[0;34m)\u001b[0m \u001b[0;32mnot\u001b[0m \u001b[0;32min\u001b[0m \u001b[0mJOB_FINAL_STATES\u001b[0m\u001b[0;34m:\u001b[0m\u001b[0;34m\u001b[0m\u001b[0m\n\u001b[0m\u001b[1;32m    602\u001b[0m             \u001b[0melapsed_time\u001b[0m \u001b[0;34m=\u001b[0m \u001b[0mtime\u001b[0m\u001b[0;34m.\u001b[0m\u001b[0mtime\u001b[0m\u001b[0;34m(\u001b[0m\u001b[0;34m)\u001b[0m \u001b[0;34m-\u001b[0m \u001b[0mstart_time\u001b[0m\u001b[0;34m\u001b[0m\u001b[0m\n\u001b[1;32m    603\u001b[0m             \u001b[0;32mif\u001b[0m \u001b[0mtimeout\u001b[0m \u001b[0;32mis\u001b[0m \u001b[0;32mnot\u001b[0m \u001b[0;32mNone\u001b[0m \u001b[0;32mand\u001b[0m \u001b[0melapsed_time\u001b[0m \u001b[0;34m>=\u001b[0m \u001b[0mtimeout\u001b[0m\u001b[0;34m:\u001b[0m\u001b[0;34m\u001b[0m\u001b[0m\n",
      "\u001b[0;32m~/anaconda3/lib/python3.6/site-packages/qiskit/providers/ibmq/job/ibmqjob.py\u001b[0m in \u001b[0;36mstatus\u001b[0;34m(self)\u001b[0m\n\u001b[1;32m    310\u001b[0m         \u001b[0;32mtry\u001b[0m\u001b[0;34m:\u001b[0m\u001b[0;34m\u001b[0m\u001b[0m\n\u001b[1;32m    311\u001b[0m             \u001b[0;31m# TODO: See result values\u001b[0m\u001b[0;34m\u001b[0m\u001b[0;34m\u001b[0m\u001b[0m\n\u001b[0;32m--> 312\u001b[0;31m             \u001b[0mapi_response\u001b[0m \u001b[0;34m=\u001b[0m \u001b[0mself\u001b[0m\u001b[0;34m.\u001b[0m\u001b[0m_api\u001b[0m\u001b[0;34m.\u001b[0m\u001b[0mget_status_job\u001b[0m\u001b[0;34m(\u001b[0m\u001b[0mself\u001b[0m\u001b[0;34m.\u001b[0m\u001b[0m_job_id\u001b[0m\u001b[0;34m)\u001b[0m\u001b[0;34m\u001b[0m\u001b[0m\n\u001b[0m\u001b[1;32m    313\u001b[0m             \u001b[0mself\u001b[0m\u001b[0;34m.\u001b[0m\u001b[0m_update_status\u001b[0m\u001b[0;34m(\u001b[0m\u001b[0mapi_response\u001b[0m\u001b[0;34m)\u001b[0m\u001b[0;34m\u001b[0m\u001b[0m\n\u001b[1;32m    314\u001b[0m         \u001b[0;31m# pylint: disable=broad-except\u001b[0m\u001b[0;34m\u001b[0m\u001b[0;34m\u001b[0m\u001b[0m\n",
      "\u001b[0;32m~/anaconda3/lib/python3.6/site-packages/qiskit/providers/ibmq/api_v2/clients/account.py\u001b[0m in \u001b[0;36mget_status_job\u001b[0;34m(self, id_job)\u001b[0m\n\u001b[1;32m    293\u001b[0m     \u001b[0;32mdef\u001b[0m \u001b[0mget_status_job\u001b[0m\u001b[0;34m(\u001b[0m\u001b[0mself\u001b[0m\u001b[0;34m,\u001b[0m \u001b[0mid_job\u001b[0m\u001b[0;34m)\u001b[0m\u001b[0;34m:\u001b[0m\u001b[0;34m\u001b[0m\u001b[0m\n\u001b[1;32m    294\u001b[0m         \u001b[0;31m# pylint: disable=missing-docstring\u001b[0m\u001b[0;34m\u001b[0m\u001b[0;34m\u001b[0m\u001b[0m\n\u001b[0;32m--> 295\u001b[0;31m         \u001b[0;32mreturn\u001b[0m \u001b[0mself\u001b[0m\u001b[0;34m.\u001b[0m\u001b[0mjob_status\u001b[0m\u001b[0;34m(\u001b[0m\u001b[0mid_job\u001b[0m\u001b[0;34m)\u001b[0m\u001b[0;34m\u001b[0m\u001b[0m\n\u001b[0m\u001b[1;32m    296\u001b[0m \u001b[0;34m\u001b[0m\u001b[0m\n\u001b[1;32m    297\u001b[0m     \u001b[0;32mdef\u001b[0m \u001b[0msubmit_job\u001b[0m\u001b[0;34m(\u001b[0m\u001b[0mself\u001b[0m\u001b[0;34m,\u001b[0m \u001b[0mqobj_dict\u001b[0m\u001b[0;34m,\u001b[0m \u001b[0mbackend_name\u001b[0m\u001b[0;34m)\u001b[0m\u001b[0;34m:\u001b[0m\u001b[0;34m\u001b[0m\u001b[0m\n",
      "\u001b[0;32m~/anaconda3/lib/python3.6/site-packages/qiskit/providers/ibmq/api_v2/clients/account.py\u001b[0m in \u001b[0;36mjob_status\u001b[0;34m(self, job_id)\u001b[0m\n\u001b[1;32m    199\u001b[0m             \u001b[0mdict\u001b[0m\u001b[0;34m:\u001b[0m \u001b[0mjob\u001b[0m \u001b[0mstatus\u001b[0m\u001b[0;34m.\u001b[0m\u001b[0;34m\u001b[0m\u001b[0m\n\u001b[1;32m    200\u001b[0m         \"\"\"\n\u001b[0;32m--> 201\u001b[0;31m         \u001b[0;32mreturn\u001b[0m \u001b[0mself\u001b[0m\u001b[0;34m.\u001b[0m\u001b[0mclient_api\u001b[0m\u001b[0;34m.\u001b[0m\u001b[0mjob\u001b[0m\u001b[0;34m(\u001b[0m\u001b[0mjob_id\u001b[0m\u001b[0;34m)\u001b[0m\u001b[0;34m.\u001b[0m\u001b[0mstatus\u001b[0m\u001b[0;34m(\u001b[0m\u001b[0;34m)\u001b[0m\u001b[0;34m\u001b[0m\u001b[0m\n\u001b[0m\u001b[1;32m    202\u001b[0m \u001b[0;34m\u001b[0m\u001b[0m\n\u001b[1;32m    203\u001b[0m     \u001b[0;32mdef\u001b[0m \u001b[0mjob_final_status_websocket\u001b[0m\u001b[0;34m(\u001b[0m\u001b[0mself\u001b[0m\u001b[0;34m,\u001b[0m \u001b[0mjob_id\u001b[0m\u001b[0;34m,\u001b[0m \u001b[0mtimeout\u001b[0m\u001b[0;34m=\u001b[0m\u001b[0;32mNone\u001b[0m\u001b[0;34m)\u001b[0m\u001b[0;34m:\u001b[0m\u001b[0;34m\u001b[0m\u001b[0m\n",
      "\u001b[0;32m~/anaconda3/lib/python3.6/site-packages/qiskit/providers/ibmq/api_v2/rest/job.py\u001b[0m in \u001b[0;36mstatus\u001b[0;34m(self)\u001b[0m\n\u001b[1;32m     95\u001b[0m         \u001b[0;34m\"\"\"Return the status of a job.\"\"\"\u001b[0m\u001b[0;34m\u001b[0m\u001b[0m\n\u001b[1;32m     96\u001b[0m         \u001b[0murl\u001b[0m \u001b[0;34m=\u001b[0m \u001b[0mself\u001b[0m\u001b[0;34m.\u001b[0m\u001b[0mget_url\u001b[0m\u001b[0;34m(\u001b[0m\u001b[0;34m'status'\u001b[0m\u001b[0;34m)\u001b[0m\u001b[0;34m\u001b[0m\u001b[0m\n\u001b[0;32m---> 97\u001b[0;31m         \u001b[0;32mreturn\u001b[0m \u001b[0mself\u001b[0m\u001b[0;34m.\u001b[0m\u001b[0msession\u001b[0m\u001b[0;34m.\u001b[0m\u001b[0mget\u001b[0m\u001b[0;34m(\u001b[0m\u001b[0murl\u001b[0m\u001b[0;34m)\u001b[0m\u001b[0;34m.\u001b[0m\u001b[0mjson\u001b[0m\u001b[0;34m(\u001b[0m\u001b[0;34m)\u001b[0m\u001b[0;34m\u001b[0m\u001b[0m\n\u001b[0m\u001b[1;32m     98\u001b[0m \u001b[0;34m\u001b[0m\u001b[0m\n\u001b[1;32m     99\u001b[0m     \u001b[0;32mdef\u001b[0m \u001b[0mupload_url\u001b[0m\u001b[0;34m(\u001b[0m\u001b[0mself\u001b[0m\u001b[0;34m)\u001b[0m\u001b[0;34m:\u001b[0m\u001b[0;34m\u001b[0m\u001b[0m\n",
      "\u001b[0;32m~/anaconda3/lib/python3.6/site-packages/requests/sessions.py\u001b[0m in \u001b[0;36mget\u001b[0;34m(self, url, **kwargs)\u001b[0m\n\u001b[1;32m    544\u001b[0m \u001b[0;34m\u001b[0m\u001b[0m\n\u001b[1;32m    545\u001b[0m         \u001b[0mkwargs\u001b[0m\u001b[0;34m.\u001b[0m\u001b[0msetdefault\u001b[0m\u001b[0;34m(\u001b[0m\u001b[0;34m'allow_redirects'\u001b[0m\u001b[0;34m,\u001b[0m \u001b[0;32mTrue\u001b[0m\u001b[0;34m)\u001b[0m\u001b[0;34m\u001b[0m\u001b[0m\n\u001b[0;32m--> 546\u001b[0;31m         \u001b[0;32mreturn\u001b[0m \u001b[0mself\u001b[0m\u001b[0;34m.\u001b[0m\u001b[0mrequest\u001b[0m\u001b[0;34m(\u001b[0m\u001b[0;34m'GET'\u001b[0m\u001b[0;34m,\u001b[0m \u001b[0murl\u001b[0m\u001b[0;34m,\u001b[0m \u001b[0;34m**\u001b[0m\u001b[0mkwargs\u001b[0m\u001b[0;34m)\u001b[0m\u001b[0;34m\u001b[0m\u001b[0m\n\u001b[0m\u001b[1;32m    547\u001b[0m \u001b[0;34m\u001b[0m\u001b[0m\n\u001b[1;32m    548\u001b[0m     \u001b[0;32mdef\u001b[0m \u001b[0moptions\u001b[0m\u001b[0;34m(\u001b[0m\u001b[0mself\u001b[0m\u001b[0;34m,\u001b[0m \u001b[0murl\u001b[0m\u001b[0;34m,\u001b[0m \u001b[0;34m**\u001b[0m\u001b[0mkwargs\u001b[0m\u001b[0;34m)\u001b[0m\u001b[0;34m:\u001b[0m\u001b[0;34m\u001b[0m\u001b[0m\n",
      "\u001b[0;32m~/anaconda3/lib/python3.6/site-packages/qiskit/providers/ibmq/api_v2/session.py\u001b[0m in \u001b[0;36mrequest\u001b[0;34m(self, method, url, bare, **kwargs)\u001b[0m\n\u001b[1;32m    146\u001b[0m \u001b[0;34m\u001b[0m\u001b[0m\n\u001b[1;32m    147\u001b[0m         \u001b[0;32mtry\u001b[0m\u001b[0;34m:\u001b[0m\u001b[0;34m\u001b[0m\u001b[0m\n\u001b[0;32m--> 148\u001b[0;31m             \u001b[0mresponse\u001b[0m \u001b[0;34m=\u001b[0m \u001b[0msuper\u001b[0m\u001b[0;34m(\u001b[0m\u001b[0;34m)\u001b[0m\u001b[0;34m.\u001b[0m\u001b[0mrequest\u001b[0m\u001b[0;34m(\u001b[0m\u001b[0mmethod\u001b[0m\u001b[0;34m,\u001b[0m \u001b[0mfinal_url\u001b[0m\u001b[0;34m,\u001b[0m \u001b[0;34m**\u001b[0m\u001b[0mkwargs\u001b[0m\u001b[0;34m)\u001b[0m\u001b[0;34m\u001b[0m\u001b[0m\n\u001b[0m\u001b[1;32m    149\u001b[0m             \u001b[0mresponse\u001b[0m\u001b[0;34m.\u001b[0m\u001b[0mraise_for_status\u001b[0m\u001b[0;34m(\u001b[0m\u001b[0;34m)\u001b[0m\u001b[0;34m\u001b[0m\u001b[0m\n\u001b[1;32m    150\u001b[0m         \u001b[0;32mexcept\u001b[0m \u001b[0mRequestException\u001b[0m \u001b[0;32mas\u001b[0m \u001b[0mex\u001b[0m\u001b[0;34m:\u001b[0m\u001b[0;34m\u001b[0m\u001b[0m\n",
      "\u001b[0;32m~/anaconda3/lib/python3.6/site-packages/requests/sessions.py\u001b[0m in \u001b[0;36mrequest\u001b[0;34m(self, method, url, params, data, headers, cookies, files, auth, timeout, allow_redirects, proxies, hooks, stream, verify, cert, json)\u001b[0m\n\u001b[1;32m    531\u001b[0m         }\n\u001b[1;32m    532\u001b[0m         \u001b[0msend_kwargs\u001b[0m\u001b[0;34m.\u001b[0m\u001b[0mupdate\u001b[0m\u001b[0;34m(\u001b[0m\u001b[0msettings\u001b[0m\u001b[0;34m)\u001b[0m\u001b[0;34m\u001b[0m\u001b[0m\n\u001b[0;32m--> 533\u001b[0;31m         \u001b[0mresp\u001b[0m \u001b[0;34m=\u001b[0m \u001b[0mself\u001b[0m\u001b[0;34m.\u001b[0m\u001b[0msend\u001b[0m\u001b[0;34m(\u001b[0m\u001b[0mprep\u001b[0m\u001b[0;34m,\u001b[0m \u001b[0;34m**\u001b[0m\u001b[0msend_kwargs\u001b[0m\u001b[0;34m)\u001b[0m\u001b[0;34m\u001b[0m\u001b[0m\n\u001b[0m\u001b[1;32m    534\u001b[0m \u001b[0;34m\u001b[0m\u001b[0m\n\u001b[1;32m    535\u001b[0m         \u001b[0;32mreturn\u001b[0m \u001b[0mresp\u001b[0m\u001b[0;34m\u001b[0m\u001b[0m\n",
      "\u001b[0;32m~/anaconda3/lib/python3.6/site-packages/requests/sessions.py\u001b[0m in \u001b[0;36msend\u001b[0;34m(self, request, **kwargs)\u001b[0m\n\u001b[1;32m    644\u001b[0m \u001b[0;34m\u001b[0m\u001b[0m\n\u001b[1;32m    645\u001b[0m         \u001b[0;31m# Send the request\u001b[0m\u001b[0;34m\u001b[0m\u001b[0;34m\u001b[0m\u001b[0m\n\u001b[0;32m--> 646\u001b[0;31m         \u001b[0mr\u001b[0m \u001b[0;34m=\u001b[0m \u001b[0madapter\u001b[0m\u001b[0;34m.\u001b[0m\u001b[0msend\u001b[0m\u001b[0;34m(\u001b[0m\u001b[0mrequest\u001b[0m\u001b[0;34m,\u001b[0m \u001b[0;34m**\u001b[0m\u001b[0mkwargs\u001b[0m\u001b[0;34m)\u001b[0m\u001b[0;34m\u001b[0m\u001b[0m\n\u001b[0m\u001b[1;32m    647\u001b[0m \u001b[0;34m\u001b[0m\u001b[0m\n\u001b[1;32m    648\u001b[0m         \u001b[0;31m# Total elapsed time of the request (approximately)\u001b[0m\u001b[0;34m\u001b[0m\u001b[0;34m\u001b[0m\u001b[0m\n",
      "\u001b[0;32m~/anaconda3/lib/python3.6/site-packages/requests/adapters.py\u001b[0m in \u001b[0;36msend\u001b[0;34m(self, request, stream, timeout, verify, cert, proxies)\u001b[0m\n\u001b[1;32m    447\u001b[0m                     \u001b[0mdecode_content\u001b[0m\u001b[0;34m=\u001b[0m\u001b[0;32mFalse\u001b[0m\u001b[0;34m,\u001b[0m\u001b[0;34m\u001b[0m\u001b[0m\n\u001b[1;32m    448\u001b[0m                     \u001b[0mretries\u001b[0m\u001b[0;34m=\u001b[0m\u001b[0mself\u001b[0m\u001b[0;34m.\u001b[0m\u001b[0mmax_retries\u001b[0m\u001b[0;34m,\u001b[0m\u001b[0;34m\u001b[0m\u001b[0m\n\u001b[0;32m--> 449\u001b[0;31m                     \u001b[0mtimeout\u001b[0m\u001b[0;34m=\u001b[0m\u001b[0mtimeout\u001b[0m\u001b[0;34m\u001b[0m\u001b[0m\n\u001b[0m\u001b[1;32m    450\u001b[0m                 )\n\u001b[1;32m    451\u001b[0m \u001b[0;34m\u001b[0m\u001b[0m\n",
      "\u001b[0;32m~/anaconda3/lib/python3.6/site-packages/urllib3/connectionpool.py\u001b[0m in \u001b[0;36murlopen\u001b[0;34m(self, method, url, body, headers, retries, redirect, assert_same_host, timeout, pool_timeout, release_conn, chunked, body_pos, **response_kw)\u001b[0m\n\u001b[1;32m    670\u001b[0m                 \u001b[0mbody\u001b[0m\u001b[0;34m=\u001b[0m\u001b[0mbody\u001b[0m\u001b[0;34m,\u001b[0m\u001b[0;34m\u001b[0m\u001b[0m\n\u001b[1;32m    671\u001b[0m                 \u001b[0mheaders\u001b[0m\u001b[0;34m=\u001b[0m\u001b[0mheaders\u001b[0m\u001b[0;34m,\u001b[0m\u001b[0;34m\u001b[0m\u001b[0m\n\u001b[0;32m--> 672\u001b[0;31m                 \u001b[0mchunked\u001b[0m\u001b[0;34m=\u001b[0m\u001b[0mchunked\u001b[0m\u001b[0;34m,\u001b[0m\u001b[0;34m\u001b[0m\u001b[0m\n\u001b[0m\u001b[1;32m    673\u001b[0m             )\n\u001b[1;32m    674\u001b[0m \u001b[0;34m\u001b[0m\u001b[0m\n",
      "\u001b[0;32m~/anaconda3/lib/python3.6/site-packages/urllib3/connectionpool.py\u001b[0m in \u001b[0;36m_make_request\u001b[0;34m(self, conn, method, url, timeout, chunked, **httplib_request_kw)\u001b[0m\n\u001b[1;32m    419\u001b[0m                     \u001b[0;31m# Python 3 (including for exceptions like SystemExit).\u001b[0m\u001b[0;34m\u001b[0m\u001b[0;34m\u001b[0m\u001b[0m\n\u001b[1;32m    420\u001b[0m                     \u001b[0;31m# Otherwise it looks like a bug in the code.\u001b[0m\u001b[0;34m\u001b[0m\u001b[0;34m\u001b[0m\u001b[0m\n\u001b[0;32m--> 421\u001b[0;31m                     \u001b[0msix\u001b[0m\u001b[0;34m.\u001b[0m\u001b[0mraise_from\u001b[0m\u001b[0;34m(\u001b[0m\u001b[0me\u001b[0m\u001b[0;34m,\u001b[0m \u001b[0;32mNone\u001b[0m\u001b[0;34m)\u001b[0m\u001b[0;34m\u001b[0m\u001b[0m\n\u001b[0m\u001b[1;32m    422\u001b[0m         \u001b[0;32mexcept\u001b[0m \u001b[0;34m(\u001b[0m\u001b[0mSocketTimeout\u001b[0m\u001b[0;34m,\u001b[0m \u001b[0mBaseSSLError\u001b[0m\u001b[0;34m,\u001b[0m \u001b[0mSocketError\u001b[0m\u001b[0;34m)\u001b[0m \u001b[0;32mas\u001b[0m \u001b[0me\u001b[0m\u001b[0;34m:\u001b[0m\u001b[0;34m\u001b[0m\u001b[0m\n\u001b[1;32m    423\u001b[0m             \u001b[0mself\u001b[0m\u001b[0;34m.\u001b[0m\u001b[0m_raise_timeout\u001b[0m\u001b[0;34m(\u001b[0m\u001b[0merr\u001b[0m\u001b[0;34m=\u001b[0m\u001b[0me\u001b[0m\u001b[0;34m,\u001b[0m \u001b[0murl\u001b[0m\u001b[0;34m=\u001b[0m\u001b[0murl\u001b[0m\u001b[0;34m,\u001b[0m \u001b[0mtimeout_value\u001b[0m\u001b[0;34m=\u001b[0m\u001b[0mread_timeout\u001b[0m\u001b[0;34m)\u001b[0m\u001b[0;34m\u001b[0m\u001b[0m\n",
      "\u001b[0;32m~/anaconda3/lib/python3.6/site-packages/urllib3/packages/six.py\u001b[0m in \u001b[0;36mraise_from\u001b[0;34m(value, from_value)\u001b[0m\n",
      "\u001b[0;32m~/anaconda3/lib/python3.6/site-packages/urllib3/connectionpool.py\u001b[0m in \u001b[0;36m_make_request\u001b[0;34m(self, conn, method, url, timeout, chunked, **httplib_request_kw)\u001b[0m\n\u001b[1;32m    414\u001b[0m                 \u001b[0;31m# Python 3\u001b[0m\u001b[0;34m\u001b[0m\u001b[0;34m\u001b[0m\u001b[0m\n\u001b[1;32m    415\u001b[0m                 \u001b[0;32mtry\u001b[0m\u001b[0;34m:\u001b[0m\u001b[0;34m\u001b[0m\u001b[0m\n\u001b[0;32m--> 416\u001b[0;31m                     \u001b[0mhttplib_response\u001b[0m \u001b[0;34m=\u001b[0m \u001b[0mconn\u001b[0m\u001b[0;34m.\u001b[0m\u001b[0mgetresponse\u001b[0m\u001b[0;34m(\u001b[0m\u001b[0;34m)\u001b[0m\u001b[0;34m\u001b[0m\u001b[0m\n\u001b[0m\u001b[1;32m    417\u001b[0m                 \u001b[0;32mexcept\u001b[0m \u001b[0mBaseException\u001b[0m \u001b[0;32mas\u001b[0m \u001b[0me\u001b[0m\u001b[0;34m:\u001b[0m\u001b[0;34m\u001b[0m\u001b[0m\n\u001b[1;32m    418\u001b[0m                     \u001b[0;31m# Remove the TypeError from the exception chain in\u001b[0m\u001b[0;34m\u001b[0m\u001b[0;34m\u001b[0m\u001b[0m\n",
      "\u001b[0;32m~/anaconda3/lib/python3.6/http/client.py\u001b[0m in \u001b[0;36mgetresponse\u001b[0;34m(self)\u001b[0m\n\u001b[1;32m   1329\u001b[0m         \u001b[0;32mtry\u001b[0m\u001b[0;34m:\u001b[0m\u001b[0;34m\u001b[0m\u001b[0m\n\u001b[1;32m   1330\u001b[0m             \u001b[0;32mtry\u001b[0m\u001b[0;34m:\u001b[0m\u001b[0;34m\u001b[0m\u001b[0m\n\u001b[0;32m-> 1331\u001b[0;31m                 \u001b[0mresponse\u001b[0m\u001b[0;34m.\u001b[0m\u001b[0mbegin\u001b[0m\u001b[0;34m(\u001b[0m\u001b[0;34m)\u001b[0m\u001b[0;34m\u001b[0m\u001b[0m\n\u001b[0m\u001b[1;32m   1332\u001b[0m             \u001b[0;32mexcept\u001b[0m \u001b[0mConnectionError\u001b[0m\u001b[0;34m:\u001b[0m\u001b[0;34m\u001b[0m\u001b[0m\n\u001b[1;32m   1333\u001b[0m                 \u001b[0mself\u001b[0m\u001b[0;34m.\u001b[0m\u001b[0mclose\u001b[0m\u001b[0;34m(\u001b[0m\u001b[0;34m)\u001b[0m\u001b[0;34m\u001b[0m\u001b[0m\n",
      "\u001b[0;32m~/anaconda3/lib/python3.6/http/client.py\u001b[0m in \u001b[0;36mbegin\u001b[0;34m(self)\u001b[0m\n\u001b[1;32m    295\u001b[0m         \u001b[0;31m# read until we get a non-100 response\u001b[0m\u001b[0;34m\u001b[0m\u001b[0;34m\u001b[0m\u001b[0m\n\u001b[1;32m    296\u001b[0m         \u001b[0;32mwhile\u001b[0m \u001b[0;32mTrue\u001b[0m\u001b[0;34m:\u001b[0m\u001b[0;34m\u001b[0m\u001b[0m\n\u001b[0;32m--> 297\u001b[0;31m             \u001b[0mversion\u001b[0m\u001b[0;34m,\u001b[0m \u001b[0mstatus\u001b[0m\u001b[0;34m,\u001b[0m \u001b[0mreason\u001b[0m \u001b[0;34m=\u001b[0m \u001b[0mself\u001b[0m\u001b[0;34m.\u001b[0m\u001b[0m_read_status\u001b[0m\u001b[0;34m(\u001b[0m\u001b[0;34m)\u001b[0m\u001b[0;34m\u001b[0m\u001b[0m\n\u001b[0m\u001b[1;32m    298\u001b[0m             \u001b[0;32mif\u001b[0m \u001b[0mstatus\u001b[0m \u001b[0;34m!=\u001b[0m \u001b[0mCONTINUE\u001b[0m\u001b[0;34m:\u001b[0m\u001b[0;34m\u001b[0m\u001b[0m\n\u001b[1;32m    299\u001b[0m                 \u001b[0;32mbreak\u001b[0m\u001b[0;34m\u001b[0m\u001b[0m\n",
      "\u001b[0;32m~/anaconda3/lib/python3.6/http/client.py\u001b[0m in \u001b[0;36m_read_status\u001b[0;34m(self)\u001b[0m\n\u001b[1;32m    256\u001b[0m \u001b[0;34m\u001b[0m\u001b[0m\n\u001b[1;32m    257\u001b[0m     \u001b[0;32mdef\u001b[0m \u001b[0m_read_status\u001b[0m\u001b[0;34m(\u001b[0m\u001b[0mself\u001b[0m\u001b[0;34m)\u001b[0m\u001b[0;34m:\u001b[0m\u001b[0;34m\u001b[0m\u001b[0m\n\u001b[0;32m--> 258\u001b[0;31m         \u001b[0mline\u001b[0m \u001b[0;34m=\u001b[0m \u001b[0mstr\u001b[0m\u001b[0;34m(\u001b[0m\u001b[0mself\u001b[0m\u001b[0;34m.\u001b[0m\u001b[0mfp\u001b[0m\u001b[0;34m.\u001b[0m\u001b[0mreadline\u001b[0m\u001b[0;34m(\u001b[0m\u001b[0m_MAXLINE\u001b[0m \u001b[0;34m+\u001b[0m \u001b[0;36m1\u001b[0m\u001b[0;34m)\u001b[0m\u001b[0;34m,\u001b[0m \u001b[0;34m\"iso-8859-1\"\u001b[0m\u001b[0;34m)\u001b[0m\u001b[0;34m\u001b[0m\u001b[0m\n\u001b[0m\u001b[1;32m    259\u001b[0m         \u001b[0;32mif\u001b[0m \u001b[0mlen\u001b[0m\u001b[0;34m(\u001b[0m\u001b[0mline\u001b[0m\u001b[0;34m)\u001b[0m \u001b[0;34m>\u001b[0m \u001b[0m_MAXLINE\u001b[0m\u001b[0;34m:\u001b[0m\u001b[0;34m\u001b[0m\u001b[0m\n\u001b[1;32m    260\u001b[0m             \u001b[0;32mraise\u001b[0m \u001b[0mLineTooLong\u001b[0m\u001b[0;34m(\u001b[0m\u001b[0;34m\"status line\"\u001b[0m\u001b[0;34m)\u001b[0m\u001b[0;34m\u001b[0m\u001b[0m\n",
      "\u001b[0;32m~/anaconda3/lib/python3.6/socket.py\u001b[0m in \u001b[0;36mreadinto\u001b[0;34m(self, b)\u001b[0m\n\u001b[1;32m    584\u001b[0m         \u001b[0;32mwhile\u001b[0m \u001b[0;32mTrue\u001b[0m\u001b[0;34m:\u001b[0m\u001b[0;34m\u001b[0m\u001b[0m\n\u001b[1;32m    585\u001b[0m             \u001b[0;32mtry\u001b[0m\u001b[0;34m:\u001b[0m\u001b[0;34m\u001b[0m\u001b[0m\n\u001b[0;32m--> 586\u001b[0;31m                 \u001b[0;32mreturn\u001b[0m \u001b[0mself\u001b[0m\u001b[0;34m.\u001b[0m\u001b[0m_sock\u001b[0m\u001b[0;34m.\u001b[0m\u001b[0mrecv_into\u001b[0m\u001b[0;34m(\u001b[0m\u001b[0mb\u001b[0m\u001b[0;34m)\u001b[0m\u001b[0;34m\u001b[0m\u001b[0m\n\u001b[0m\u001b[1;32m    587\u001b[0m             \u001b[0;32mexcept\u001b[0m \u001b[0mtimeout\u001b[0m\u001b[0;34m:\u001b[0m\u001b[0;34m\u001b[0m\u001b[0m\n\u001b[1;32m    588\u001b[0m                 \u001b[0mself\u001b[0m\u001b[0;34m.\u001b[0m\u001b[0m_timeout_occurred\u001b[0m \u001b[0;34m=\u001b[0m \u001b[0;32mTrue\u001b[0m\u001b[0;34m\u001b[0m\u001b[0m\n",
      "\u001b[0;32m~/anaconda3/lib/python3.6/site-packages/urllib3/contrib/pyopenssl.py\u001b[0m in \u001b[0;36mrecv_into\u001b[0;34m(self, *args, **kwargs)\u001b[0m\n\u001b[1;32m    311\u001b[0m     \u001b[0;32mdef\u001b[0m \u001b[0mrecv_into\u001b[0m\u001b[0;34m(\u001b[0m\u001b[0mself\u001b[0m\u001b[0;34m,\u001b[0m \u001b[0;34m*\u001b[0m\u001b[0margs\u001b[0m\u001b[0;34m,\u001b[0m \u001b[0;34m**\u001b[0m\u001b[0mkwargs\u001b[0m\u001b[0;34m)\u001b[0m\u001b[0;34m:\u001b[0m\u001b[0;34m\u001b[0m\u001b[0m\n\u001b[1;32m    312\u001b[0m         \u001b[0;32mtry\u001b[0m\u001b[0;34m:\u001b[0m\u001b[0;34m\u001b[0m\u001b[0m\n\u001b[0;32m--> 313\u001b[0;31m             \u001b[0;32mreturn\u001b[0m \u001b[0mself\u001b[0m\u001b[0;34m.\u001b[0m\u001b[0mconnection\u001b[0m\u001b[0;34m.\u001b[0m\u001b[0mrecv_into\u001b[0m\u001b[0;34m(\u001b[0m\u001b[0;34m*\u001b[0m\u001b[0margs\u001b[0m\u001b[0;34m,\u001b[0m \u001b[0;34m**\u001b[0m\u001b[0mkwargs\u001b[0m\u001b[0;34m)\u001b[0m\u001b[0;34m\u001b[0m\u001b[0m\n\u001b[0m\u001b[1;32m    314\u001b[0m         \u001b[0;32mexcept\u001b[0m \u001b[0mOpenSSL\u001b[0m\u001b[0;34m.\u001b[0m\u001b[0mSSL\u001b[0m\u001b[0;34m.\u001b[0m\u001b[0mSysCallError\u001b[0m \u001b[0;32mas\u001b[0m \u001b[0me\u001b[0m\u001b[0;34m:\u001b[0m\u001b[0;34m\u001b[0m\u001b[0m\n\u001b[1;32m    315\u001b[0m             \u001b[0;32mif\u001b[0m \u001b[0mself\u001b[0m\u001b[0;34m.\u001b[0m\u001b[0msuppress_ragged_eofs\u001b[0m \u001b[0;32mand\u001b[0m \u001b[0me\u001b[0m\u001b[0;34m.\u001b[0m\u001b[0margs\u001b[0m \u001b[0;34m==\u001b[0m \u001b[0;34m(\u001b[0m\u001b[0;34m-\u001b[0m\u001b[0;36m1\u001b[0m\u001b[0;34m,\u001b[0m \u001b[0;34m\"Unexpected EOF\"\u001b[0m\u001b[0;34m)\u001b[0m\u001b[0;34m:\u001b[0m\u001b[0;34m\u001b[0m\u001b[0m\n",
      "\u001b[0;32m~/anaconda3/lib/python3.6/site-packages/OpenSSL/SSL.py\u001b[0m in \u001b[0;36mrecv_into\u001b[0;34m(self, buffer, nbytes, flags)\u001b[0m\n\u001b[1;32m   1819\u001b[0m             \u001b[0mresult\u001b[0m \u001b[0;34m=\u001b[0m \u001b[0m_lib\u001b[0m\u001b[0;34m.\u001b[0m\u001b[0mSSL_peek\u001b[0m\u001b[0;34m(\u001b[0m\u001b[0mself\u001b[0m\u001b[0;34m.\u001b[0m\u001b[0m_ssl\u001b[0m\u001b[0;34m,\u001b[0m \u001b[0mbuf\u001b[0m\u001b[0;34m,\u001b[0m \u001b[0mnbytes\u001b[0m\u001b[0;34m)\u001b[0m\u001b[0;34m\u001b[0m\u001b[0m\n\u001b[1;32m   1820\u001b[0m         \u001b[0;32melse\u001b[0m\u001b[0;34m:\u001b[0m\u001b[0;34m\u001b[0m\u001b[0m\n\u001b[0;32m-> 1821\u001b[0;31m             \u001b[0mresult\u001b[0m \u001b[0;34m=\u001b[0m \u001b[0m_lib\u001b[0m\u001b[0;34m.\u001b[0m\u001b[0mSSL_read\u001b[0m\u001b[0;34m(\u001b[0m\u001b[0mself\u001b[0m\u001b[0;34m.\u001b[0m\u001b[0m_ssl\u001b[0m\u001b[0;34m,\u001b[0m \u001b[0mbuf\u001b[0m\u001b[0;34m,\u001b[0m \u001b[0mnbytes\u001b[0m\u001b[0;34m)\u001b[0m\u001b[0;34m\u001b[0m\u001b[0m\n\u001b[0m\u001b[1;32m   1822\u001b[0m         \u001b[0mself\u001b[0m\u001b[0;34m.\u001b[0m\u001b[0m_raise_ssl_error\u001b[0m\u001b[0;34m(\u001b[0m\u001b[0mself\u001b[0m\u001b[0;34m.\u001b[0m\u001b[0m_ssl\u001b[0m\u001b[0;34m,\u001b[0m \u001b[0mresult\u001b[0m\u001b[0;34m)\u001b[0m\u001b[0;34m\u001b[0m\u001b[0m\n\u001b[1;32m   1823\u001b[0m \u001b[0;34m\u001b[0m\u001b[0m\n",
      "\u001b[0;31mKeyboardInterrupt\u001b[0m: "
     ]
    }
   ],
   "source": [
    "half_circuit_lengths_en = np.arange(0, 50, 5)\n",
    "states = ['00', '01', '10', '11']\n",
    "shots = 8192\n",
    "n_reps = 5\n",
    "\n",
    "# Initialize dictionaries that will save results\n",
    "results_en = {}\n",
    "qcs_en = {}\n",
    "\n",
    "for i in tnrange(n_reps, dsec='reps'):\n",
    "    results_en[i] = {}\n",
    "    qcs_en[i] = {}\n",
    "    for half_circuit_length in half_circuit_lengths_en:\n",
    "        results_en[i][half_circuit_length] = {}\n",
    "        qcs_en[i][half_circuit_length] = {}\n",
    "        for state in states:\n",
    "            result, qc = encoded_rb(half_circuit_length, state, shots, backend_real)\n",
    "            results_en[i][half_circuit_length][state] = result\n",
    "            qcs_en[i][half_circuit_length][state] = qc"
   ]
  },
  {
   "cell_type": "markdown",
   "metadata": {},
   "source": [
    "### Organize output dictionaries into dataframe"
   ]
  },
  {
   "cell_type": "code",
   "execution_count": 384,
   "metadata": {},
   "outputs": [],
   "source": [
    "# Store results in pandas dataframe\n",
    "columns = ['cir_len', 'init_state', '0000', '0001', '0010', '0100', '1000', '0011', '0101', '1001', '0110', '1010', '1100', '0111', '1011', '1101', '1110', '1111']\n",
    "df_en = pd.DataFrame(columns=columns)\n",
    "for i in results_en.keys():\n",
    "    for half_circuit_length in results_en[i].keys():\n",
    "        for state, res in results_en[i][half_circuit_length].items():\n",
    "            counts = res.get_counts()\n",
    "            # build dataframe row from counts dictionary\n",
    "            df_row = counts.copy()\n",
    "            length = half_circuit_length * 2 - 1\n",
    "            if length < 0:\n",
    "                length = 0\n",
    "            df_row['cir_len'] = length\n",
    "            df_row['init_state'] = state\n",
    "            if df_en.empty:\n",
    "                df_en = pd.DataFrame(data=df_row, index=[0])\n",
    "            else:\n",
    "                df_en = df_en.append(df_row, ignore_index=True)"
   ]
  },
  {
   "cell_type": "code",
   "execution_count": 385,
   "metadata": {},
   "outputs": [
    {
     "data": {
      "text/plain": [
       "dict_keys([0, 1, 2])"
      ]
     },
     "execution_count": 385,
     "metadata": {},
     "output_type": "execute_result"
    }
   ],
   "source": [
    "results_en.keys()"
   ]
  },
  {
   "cell_type": "code",
   "execution_count": 515,
   "metadata": {
    "scrolled": true
   },
   "outputs": [
    {
     "data": {
      "text/html": [
       "<div>\n",
       "<style scoped>\n",
       "    .dataframe tbody tr th:only-of-type {\n",
       "        vertical-align: middle;\n",
       "    }\n",
       "\n",
       "    .dataframe tbody tr th {\n",
       "        vertical-align: top;\n",
       "    }\n",
       "\n",
       "    .dataframe thead th {\n",
       "        text-align: right;\n",
       "    }\n",
       "</style>\n",
       "<table border=\"1\" class=\"dataframe\">\n",
       "  <thead>\n",
       "    <tr style=\"text-align: right;\">\n",
       "      <th></th>\n",
       "      <th>0011</th>\n",
       "      <th>1001</th>\n",
       "      <th>0111</th>\n",
       "      <th>0000</th>\n",
       "      <th>0100</th>\n",
       "      <th>1000</th>\n",
       "      <th>0010</th>\n",
       "      <th>1010</th>\n",
       "      <th>0101</th>\n",
       "      <th>0001</th>\n",
       "      <th>0110</th>\n",
       "      <th>1100</th>\n",
       "      <th>1101</th>\n",
       "      <th>1110</th>\n",
       "      <th>1111</th>\n",
       "      <th>1011</th>\n",
       "      <th>cir_len</th>\n",
       "      <th>init_state</th>\n",
       "    </tr>\n",
       "  </thead>\n",
       "  <tbody>\n",
       "    <tr>\n",
       "      <th>0</th>\n",
       "      <td>98</td>\n",
       "      <td>33</td>\n",
       "      <td>172</td>\n",
       "      <td>3821</td>\n",
       "      <td>141</td>\n",
       "      <td>140</td>\n",
       "      <td>131</td>\n",
       "      <td>59</td>\n",
       "      <td>44</td>\n",
       "      <td>276</td>\n",
       "      <td>51</td>\n",
       "      <td>294</td>\n",
       "      <td>226</td>\n",
       "      <td>491</td>\n",
       "      <td>2090</td>\n",
       "      <td>125</td>\n",
       "      <td>0</td>\n",
       "      <td>00</td>\n",
       "    </tr>\n",
       "    <tr>\n",
       "      <th>1</th>\n",
       "      <td>3078</td>\n",
       "      <td>312</td>\n",
       "      <td>105</td>\n",
       "      <td>282</td>\n",
       "      <td>241</td>\n",
       "      <td>175</td>\n",
       "      <td>490</td>\n",
       "      <td>59</td>\n",
       "      <td>126</td>\n",
       "      <td>582</td>\n",
       "      <td>116</td>\n",
       "      <td>1864</td>\n",
       "      <td>310</td>\n",
       "      <td>100</td>\n",
       "      <td>135</td>\n",
       "      <td>217</td>\n",
       "      <td>0</td>\n",
       "      <td>01</td>\n",
       "    </tr>\n",
       "    <tr>\n",
       "      <th>2</th>\n",
       "      <td>100</td>\n",
       "      <td>281</td>\n",
       "      <td>115</td>\n",
       "      <td>115</td>\n",
       "      <td>376</td>\n",
       "      <td>314</td>\n",
       "      <td>227</td>\n",
       "      <td>2088</td>\n",
       "      <td>3332</td>\n",
       "      <td>371</td>\n",
       "      <td>105</td>\n",
       "      <td>125</td>\n",
       "      <td>145</td>\n",
       "      <td>189</td>\n",
       "      <td>71</td>\n",
       "      <td>238</td>\n",
       "      <td>0</td>\n",
       "      <td>10</td>\n",
       "    </tr>\n",
       "    <tr>\n",
       "      <th>3</th>\n",
       "      <td>138</td>\n",
       "      <td>1915</td>\n",
       "      <td>203</td>\n",
       "      <td>150</td>\n",
       "      <td>550</td>\n",
       "      <td>381</td>\n",
       "      <td>269</td>\n",
       "      <td>173</td>\n",
       "      <td>201</td>\n",
       "      <td>266</td>\n",
       "      <td>3121</td>\n",
       "      <td>359</td>\n",
       "      <td>90</td>\n",
       "      <td>243</td>\n",
       "      <td>51</td>\n",
       "      <td>82</td>\n",
       "      <td>0</td>\n",
       "      <td>11</td>\n",
       "    </tr>\n",
       "    <tr>\n",
       "      <th>4</th>\n",
       "      <td>156</td>\n",
       "      <td>208</td>\n",
       "      <td>311</td>\n",
       "      <td>2347</td>\n",
       "      <td>509</td>\n",
       "      <td>312</td>\n",
       "      <td>157</td>\n",
       "      <td>252</td>\n",
       "      <td>504</td>\n",
       "      <td>454</td>\n",
       "      <td>135</td>\n",
       "      <td>253</td>\n",
       "      <td>381</td>\n",
       "      <td>399</td>\n",
       "      <td>1440</td>\n",
       "      <td>374</td>\n",
       "      <td>9</td>\n",
       "      <td>00</td>\n",
       "    </tr>\n",
       "    <tr>\n",
       "      <th>5</th>\n",
       "      <td>2519</td>\n",
       "      <td>267</td>\n",
       "      <td>536</td>\n",
       "      <td>121</td>\n",
       "      <td>223</td>\n",
       "      <td>381</td>\n",
       "      <td>520</td>\n",
       "      <td>173</td>\n",
       "      <td>164</td>\n",
       "      <td>289</td>\n",
       "      <td>259</td>\n",
       "      <td>1738</td>\n",
       "      <td>315</td>\n",
       "      <td>197</td>\n",
       "      <td>270</td>\n",
       "      <td>220</td>\n",
       "      <td>9</td>\n",
       "      <td>01</td>\n",
       "    </tr>\n",
       "  </tbody>\n",
       "</table>\n",
       "</div>"
      ],
      "text/plain": [
       "   0011  1001  0111  0000  0100  1000  0010  1010  0101  0001  0110  1100  \\\n",
       "0    98    33   172  3821   141   140   131    59    44   276    51   294   \n",
       "1  3078   312   105   282   241   175   490    59   126   582   116  1864   \n",
       "2   100   281   115   115   376   314   227  2088  3332   371   105   125   \n",
       "3   138  1915   203   150   550   381   269   173   201   266  3121   359   \n",
       "4   156   208   311  2347   509   312   157   252   504   454   135   253   \n",
       "5  2519   267   536   121   223   381   520   173   164   289   259  1738   \n",
       "\n",
       "   1101  1110  1111  1011  cir_len init_state  \n",
       "0   226   491  2090   125        0         00  \n",
       "1   310   100   135   217        0         01  \n",
       "2   145   189    71   238        0         10  \n",
       "3    90   243    51    82        0         11  \n",
       "4   381   399  1440   374        9         00  \n",
       "5   315   197   270   220        9         01  "
      ]
     },
     "execution_count": 515,
     "metadata": {},
     "output_type": "execute_result"
    }
   ],
   "source": [
    "# filename = './encoded_data.pkl'\n",
    "# df_en.to_pickle(filename)\n",
    "df_en.head(6)"
   ]
  },
  {
   "cell_type": "markdown",
   "metadata": {},
   "source": [
    "### Remove states not part of the codespace"
   ]
  },
  {
   "cell_type": "code",
   "execution_count": 571,
   "metadata": {},
   "outputs": [
    {
     "data": {
      "text/html": [
       "<div>\n",
       "<style scoped>\n",
       "    .dataframe tbody tr th:only-of-type {\n",
       "        vertical-align: middle;\n",
       "    }\n",
       "\n",
       "    .dataframe tbody tr th {\n",
       "        vertical-align: top;\n",
       "    }\n",
       "\n",
       "    .dataframe thead th {\n",
       "        text-align: right;\n",
       "    }\n",
       "</style>\n",
       "<table border=\"1\" class=\"dataframe\">\n",
       "  <thead>\n",
       "    <tr style=\"text-align: right;\">\n",
       "      <th></th>\n",
       "      <th>0011</th>\n",
       "      <th>1001</th>\n",
       "      <th>0000</th>\n",
       "      <th>1010</th>\n",
       "      <th>0101</th>\n",
       "      <th>0110</th>\n",
       "      <th>1100</th>\n",
       "      <th>1111</th>\n",
       "      <th>cir_len</th>\n",
       "      <th>init_state</th>\n",
       "    </tr>\n",
       "  </thead>\n",
       "  <tbody>\n",
       "    <tr>\n",
       "      <th>0</th>\n",
       "      <td>98</td>\n",
       "      <td>33</td>\n",
       "      <td>3821</td>\n",
       "      <td>59</td>\n",
       "      <td>44</td>\n",
       "      <td>51</td>\n",
       "      <td>294</td>\n",
       "      <td>2090</td>\n",
       "      <td>0</td>\n",
       "      <td>00</td>\n",
       "    </tr>\n",
       "    <tr>\n",
       "      <th>1</th>\n",
       "      <td>3078</td>\n",
       "      <td>312</td>\n",
       "      <td>282</td>\n",
       "      <td>59</td>\n",
       "      <td>126</td>\n",
       "      <td>116</td>\n",
       "      <td>1864</td>\n",
       "      <td>135</td>\n",
       "      <td>0</td>\n",
       "      <td>01</td>\n",
       "    </tr>\n",
       "    <tr>\n",
       "      <th>2</th>\n",
       "      <td>100</td>\n",
       "      <td>281</td>\n",
       "      <td>115</td>\n",
       "      <td>2088</td>\n",
       "      <td>3332</td>\n",
       "      <td>105</td>\n",
       "      <td>125</td>\n",
       "      <td>71</td>\n",
       "      <td>0</td>\n",
       "      <td>10</td>\n",
       "    </tr>\n",
       "    <tr>\n",
       "      <th>3</th>\n",
       "      <td>138</td>\n",
       "      <td>1915</td>\n",
       "      <td>150</td>\n",
       "      <td>173</td>\n",
       "      <td>201</td>\n",
       "      <td>3121</td>\n",
       "      <td>359</td>\n",
       "      <td>51</td>\n",
       "      <td>0</td>\n",
       "      <td>11</td>\n",
       "    </tr>\n",
       "    <tr>\n",
       "      <th>4</th>\n",
       "      <td>156</td>\n",
       "      <td>208</td>\n",
       "      <td>2347</td>\n",
       "      <td>252</td>\n",
       "      <td>504</td>\n",
       "      <td>135</td>\n",
       "      <td>253</td>\n",
       "      <td>1440</td>\n",
       "      <td>9</td>\n",
       "      <td>00</td>\n",
       "    </tr>\n",
       "    <tr>\n",
       "      <th>5</th>\n",
       "      <td>2519</td>\n",
       "      <td>267</td>\n",
       "      <td>121</td>\n",
       "      <td>173</td>\n",
       "      <td>164</td>\n",
       "      <td>259</td>\n",
       "      <td>1738</td>\n",
       "      <td>270</td>\n",
       "      <td>9</td>\n",
       "      <td>01</td>\n",
       "    </tr>\n",
       "  </tbody>\n",
       "</table>\n",
       "</div>"
      ],
      "text/plain": [
       "   0011  1001  0000  1010  0101  0110  1100  1111  cir_len init_state\n",
       "0    98    33  3821    59    44    51   294  2090        0         00\n",
       "1  3078   312   282    59   126   116  1864   135        0         01\n",
       "2   100   281   115  2088  3332   105   125    71        0         10\n",
       "3   138  1915   150   173   201  3121   359    51        0         11\n",
       "4   156   208  2347   252   504   135   253  1440        9         00\n",
       "5  2519   267   121   173   164   259  1738   270        9         01"
      ]
     },
     "execution_count": 571,
     "metadata": {},
     "output_type": "execute_result"
    }
   ],
   "source": [
    "codespace = ['0000', '1111', '1100', '0011', '0101', '1010', '1001', '0110']\n",
    "new_columns = df_en.columns\n",
    "df_en_codespace = df_en[new_columns[np.isin(new_columns, codespace + ['cir_len','init_state'])]]\n",
    "df_en_codespace.head(6)"
   ]
  },
  {
   "cell_type": "markdown",
   "metadata": {},
   "source": [
    "### Compute average survival $\\bar{q}$"
   ]
  },
  {
   "cell_type": "code",
   "execution_count": 699,
   "metadata": {},
   "outputs": [
    {
     "name": "stderr",
     "output_type": "stream",
     "text": [
      "/Users/Razander/anaconda3/lib/python3.6/site-packages/ipykernel_launcher.py:8: SettingWithCopyWarning: \n",
      "A value is trying to be set on a copy of a slice from a DataFrame.\n",
      "Try using .loc[row_indexer,col_indexer] = value instead\n",
      "\n",
      "See the caveats in the documentation: http://pandas.pydata.org/pandas-docs/stable/user_guide/indexing.html#returning-a-view-versus-a-copy\n",
      "  \n",
      "/Users/Razander/anaconda3/lib/python3.6/site-packages/ipykernel_launcher.py:10: SettingWithCopyWarning: \n",
      "A value is trying to be set on a copy of a slice from a DataFrame.\n",
      "Try using .loc[row_indexer,col_indexer] = value instead\n",
      "\n",
      "See the caveats in the documentation: http://pandas.pydata.org/pandas-docs/stable/user_guide/indexing.html#returning-a-view-versus-a-copy\n",
      "  # Remove the CWD from sys.path while we load stuff.\n",
      "/Users/Razander/anaconda3/lib/python3.6/site-packages/ipykernel_launcher.py:11: SettingWithCopyWarning: \n",
      "A value is trying to be set on a copy of a slice from a DataFrame.\n",
      "Try using .loc[row_indexer,col_indexer] = value instead\n",
      "\n",
      "See the caveats in the documentation: http://pandas.pydata.org/pandas-docs/stable/user_guide/indexing.html#returning-a-view-versus-a-copy\n",
      "  # This is added back by InteractiveShellApp.init_path()\n",
      "/Users/Razander/anaconda3/lib/python3.6/site-packages/ipykernel_launcher.py:12: SettingWithCopyWarning: \n",
      "A value is trying to be set on a copy of a slice from a DataFrame.\n",
      "Try using .loc[row_indexer,col_indexer] = value instead\n",
      "\n",
      "See the caveats in the documentation: http://pandas.pydata.org/pandas-docs/stable/user_guide/indexing.html#returning-a-view-versus-a-copy\n",
      "  if sys.path[0] == '':\n"
     ]
    },
    {
     "data": {
      "text/html": [
       "<div>\n",
       "<style scoped>\n",
       "    .dataframe tbody tr th:only-of-type {\n",
       "        vertical-align: middle;\n",
       "    }\n",
       "\n",
       "    .dataframe tbody tr th {\n",
       "        vertical-align: top;\n",
       "    }\n",
       "\n",
       "    .dataframe thead th {\n",
       "        text-align: right;\n",
       "    }\n",
       "</style>\n",
       "<table border=\"1\" class=\"dataframe\">\n",
       "  <thead>\n",
       "    <tr style=\"text-align: right;\">\n",
       "      <th></th>\n",
       "      <th>0011</th>\n",
       "      <th>1001</th>\n",
       "      <th>0000</th>\n",
       "      <th>1010</th>\n",
       "      <th>0101</th>\n",
       "      <th>0110</th>\n",
       "      <th>1100</th>\n",
       "      <th>1111</th>\n",
       "      <th>cir_len</th>\n",
       "      <th>init_state</th>\n",
       "      <th>state1</th>\n",
       "      <th>state2</th>\n",
       "      <th>shots</th>\n",
       "      <th>q_ave</th>\n",
       "    </tr>\n",
       "  </thead>\n",
       "  <tbody>\n",
       "    <tr>\n",
       "      <th>0</th>\n",
       "      <td>98</td>\n",
       "      <td>33</td>\n",
       "      <td>3821</td>\n",
       "      <td>59</td>\n",
       "      <td>44</td>\n",
       "      <td>51</td>\n",
       "      <td>294</td>\n",
       "      <td>2090</td>\n",
       "      <td>0</td>\n",
       "      <td>00</td>\n",
       "      <td>3821</td>\n",
       "      <td>2090</td>\n",
       "      <td>6490</td>\n",
       "      <td>0.910786</td>\n",
       "    </tr>\n",
       "    <tr>\n",
       "      <th>1</th>\n",
       "      <td>3078</td>\n",
       "      <td>312</td>\n",
       "      <td>282</td>\n",
       "      <td>59</td>\n",
       "      <td>126</td>\n",
       "      <td>116</td>\n",
       "      <td>1864</td>\n",
       "      <td>135</td>\n",
       "      <td>0</td>\n",
       "      <td>01</td>\n",
       "      <td>1864</td>\n",
       "      <td>3078</td>\n",
       "      <td>5972</td>\n",
       "      <td>0.827528</td>\n",
       "    </tr>\n",
       "    <tr>\n",
       "      <th>2</th>\n",
       "      <td>100</td>\n",
       "      <td>281</td>\n",
       "      <td>115</td>\n",
       "      <td>2088</td>\n",
       "      <td>3332</td>\n",
       "      <td>105</td>\n",
       "      <td>125</td>\n",
       "      <td>71</td>\n",
       "      <td>0</td>\n",
       "      <td>10</td>\n",
       "      <td>3332</td>\n",
       "      <td>2088</td>\n",
       "      <td>6217</td>\n",
       "      <td>0.871803</td>\n",
       "    </tr>\n",
       "    <tr>\n",
       "      <th>3</th>\n",
       "      <td>138</td>\n",
       "      <td>1915</td>\n",
       "      <td>150</td>\n",
       "      <td>173</td>\n",
       "      <td>201</td>\n",
       "      <td>3121</td>\n",
       "      <td>359</td>\n",
       "      <td>51</td>\n",
       "      <td>0</td>\n",
       "      <td>11</td>\n",
       "      <td>3121</td>\n",
       "      <td>1915</td>\n",
       "      <td>6108</td>\n",
       "      <td>0.824492</td>\n",
       "    </tr>\n",
       "    <tr>\n",
       "      <th>4</th>\n",
       "      <td>156</td>\n",
       "      <td>208</td>\n",
       "      <td>2347</td>\n",
       "      <td>252</td>\n",
       "      <td>504</td>\n",
       "      <td>135</td>\n",
       "      <td>253</td>\n",
       "      <td>1440</td>\n",
       "      <td>9</td>\n",
       "      <td>00</td>\n",
       "      <td>2347</td>\n",
       "      <td>1440</td>\n",
       "      <td>5295</td>\n",
       "      <td>0.715203</td>\n",
       "    </tr>\n",
       "    <tr>\n",
       "      <th>5</th>\n",
       "      <td>2519</td>\n",
       "      <td>267</td>\n",
       "      <td>121</td>\n",
       "      <td>173</td>\n",
       "      <td>164</td>\n",
       "      <td>259</td>\n",
       "      <td>1738</td>\n",
       "      <td>270</td>\n",
       "      <td>9</td>\n",
       "      <td>01</td>\n",
       "      <td>1738</td>\n",
       "      <td>2519</td>\n",
       "      <td>5511</td>\n",
       "      <td>0.772455</td>\n",
       "    </tr>\n",
       "  </tbody>\n",
       "</table>\n",
       "</div>"
      ],
      "text/plain": [
       "   0011  1001  0000  1010  0101  0110  1100  1111  cir_len init_state  state1  \\\n",
       "0    98    33  3821    59    44    51   294  2090        0         00    3821   \n",
       "1  3078   312   282    59   126   116  1864   135        0         01    1864   \n",
       "2   100   281   115  2088  3332   105   125    71        0         10    3332   \n",
       "3   138  1915   150   173   201  3121   359    51        0         11    3121   \n",
       "4   156   208  2347   252   504   135   253  1440        9         00    2347   \n",
       "5  2519   267   121   173   164   259  1738   270        9         01    1738   \n",
       "\n",
       "   state2  shots     q_ave  \n",
       "0    2090   6490  0.910786  \n",
       "1    3078   5972  0.827528  \n",
       "2    2088   6217  0.871803  \n",
       "3    1915   6108  0.824492  \n",
       "4    1440   5295  0.715203  \n",
       "5    2519   5511  0.772455  "
      ]
     },
     "execution_count": 699,
     "metadata": {},
     "output_type": "execute_result"
    }
   ],
   "source": [
    "# Got to be a better way to do this\n",
    "state_map = {'00':['0000','1111'], '01':['1100','0011'], '10':['0101','1010'], '11':['0110','1001']}\n",
    "state_map1 = {'00':'0000', '01':'1100', '10':'0101', '11':'0110'}\n",
    "state_map2 = {'00':'1111', '01':'0011', '10':'1010', '11':'1001'}\n",
    "\n",
    "# Compare superposition of states. add two states associated with logical state and divide by number of shots in coding space\n",
    "temp = df_en_codespace.loc[:,'init_state'].map(state_map1)\n",
    "df_en_codespace['state1'] = np.diag(df_en_codespace[temp].values)\n",
    "temp = df_en_codespace.loc[:,'init_state'].map(state_map2)\n",
    "df_en_codespace['state2'] = np.diag(df_en_codespace[temp].values)\n",
    "df_en_codespace['shots'] = df_en_codespace[codespace].sum(axis=1)\n",
    "df_en_codespace['q_ave'] = df_en_codespace[['state1','state2']].sum(axis=1) / df_en_codespace['shots']\n",
    "\n",
    "df_en_codespace.head(6)"
   ]
  },
  {
   "cell_type": "markdown",
   "metadata": {},
   "source": [
    "### Fit Fidelity parameters"
   ]
  },
  {
   "cell_type": "code",
   "execution_count": 700,
   "metadata": {},
   "outputs": [],
   "source": [
    "q_aves_all_enc = df_en_codespace.sort_values(by=['cir_len'])['q_ave'].values\n",
    "cir_lens_all_enc = df_en_codespace.sort_values(by=['cir_len'])['cir_len'].values"
   ]
  },
  {
   "cell_type": "code",
   "execution_count": 712,
   "metadata": {},
   "outputs": [
    {
     "name": "stdout",
     "output_type": "stream",
     "text": [
      "fit parameters: [0.47956885 0.99520946 0.06321915 0.99520976]\n",
      "variances: [1.14133695e+13 6.11481701e+03 1.14133695e+13 3.52026765e+05]\n"
     ]
    },
    {
     "data": {
      "image/png": "[encoded data removed]",
      "text/plain": [
       "<Figure size 432x288 with 1 Axes>"
      ]
     },
     "metadata": {
      "needs_background": "light"
     },
     "output_type": "display_data"
    }
   ],
   "source": [
    "def double_exp(x, B, b, C, c):\n",
    "    return 0.25 + B * b**x + C * c**x\n",
    "\n",
    "guess = [0.5, 0.90, 0.1, 0.9]\n",
    "# popt_enc, pcov_enc = curve_fit(lambda x, C_enc, c_enc: double_exp(x, B_enc, b_enc, C_enc, c_enc), cir_lens_all_enc, q_aves_all_enc, p0=guess, bounds=([0, 0], [1,1]))\n",
    "popt_enc, pcov_enc = curve_fit(double_exp, cir_lens_all_enc, q_aves_all_enc, p0=guess, bounds=([0,0,0,0], [1,1,1,1]))\n",
    "print('fit parameters:', popt_enc)\n",
    "print('variances:', np.diag(pcov_enc))\n",
    "B_enc = popt_enc[0]\n",
    "b_enc = popt_enc[1]\n",
    "C_enc = popt_enc[2]\n",
    "c_enc = popt_enc[3]\n",
    "\n",
    "x = np.arange(0, 1000) / 10\n",
    "# plt.plot(x, double_exp(x, *[B_enc, b_enc, *popt_enc]), '-r')\n",
    "plt.plot(x, double_exp(x, *popt_enc), '-c')\n",
    "plt.scatter(cir_lens_all_enc, q_aves_all_enc, color='b', s=10)\n",
    "plt.title('Real RB with two logical qubits')\n",
    "plt.xlabel('circuit length')\n",
    "plt.ylabel('survival probability')\n",
    "plt.legend(['fit','data'])\n",
    "plt.savefig('survival_encoded.png')\n",
    "plt.show()"
   ]
  },
  {
   "cell_type": "code",
   "execution_count": 702,
   "metadata": {},
   "outputs": [
    {
     "data": {
      "text/plain": [
       "(0.9952094564962237, 0.9952097566148572)"
      ]
     },
     "execution_count": 702,
     "metadata": {},
     "output_type": "execute_result"
    }
   ],
   "source": [
    "b_enc, c_enc"
   ]
  },
  {
   "cell_type": "code",
   "execution_count": 703,
   "metadata": {},
   "outputs": [
    {
     "name": "stdout",
     "output_type": "stream",
     "text": [
      "Infidelity: 0.35928 %\n"
     ]
    }
   ],
   "source": [
    "fidelity = (9*b_enc + 6*c_enc + 5) / 20\n",
    "print('Infidelity:', round((1 - fidelity)*100, 5), '%')"
   ]
  },
  {
   "cell_type": "markdown",
   "metadata": {},
   "source": [
    "# Comparison between encoded and unencoded RB"
   ]
  },
  {
   "cell_type": "code",
   "execution_count": 711,
   "metadata": {},
   "outputs": [
    {
     "data": {
      "image/png": "[encoded data removed]",
      "text/plain": [
       "<Figure size 432x288 with 1 Axes>"
      ]
     },
     "metadata": {
      "needs_background": "light"
     },
     "output_type": "display_data"
    }
   ],
   "source": [
    "x = np.arange(0, 1000) / 10\n",
    "plt.plot(x, double_exp(x, *popt_enc), '-c')\n",
    "plt.plot(x, double_exp(x, *[B, b, *popt]), '-m')\n",
    "plt.scatter(cir_lens_all_enc, q_aves_all_enc, color='b', s=10)\n",
    "plt.scatter(cir_lens_all, q_aves_all, color='r', s=10)\n",
    "plt.title('Encoded vs Unencoded')\n",
    "plt.xlabel('circuit length')\n",
    "plt.ylabel('survival probability')\n",
    "plt.legend(['encoded fit','unencoded fit','encoded data','unencoded data'])\n",
    "plt.savefig('survival_comparison.png')\n",
    "plt.show()"
   ]
  },
  {
   "cell_type": "markdown",
   "metadata": {},
   "source": [
    "# Circuit Images"
   ]
  },
  {
   "cell_type": "code",
   "execution_count": 514,
   "metadata": {},
   "outputs": [
    {
     "data": {
      "image/png": "[encoded data removed]",
      "text/plain": [
       "<PIL.Image.Image image mode=RGB size=452x353 at 0x13AC257B8>"
      ]
     },
     "execution_count": 514,
     "metadata": {},
     "output_type": "execute_result"
    }
   ],
   "source": [
    "## Logical |00> state preparation\n",
    "n_qubits = 4\n",
    "\n",
    "# Initialize quantum circuit and registers\n",
    "qc = QuantumCircuit(4,4)\n",
    "\n",
    "# initialize '00' state\n",
    "qc.h(1)\n",
    "qc.cx(1, 0)\n",
    "qc.cx(1, 2)\n",
    "qc.cx(2, 3)\n",
    "\n",
    "qc.draw(filename='psi_00_prep.png',output='latex', plot_barriers=False)"
   ]
  },
  {
   "cell_type": "markdown",
   "metadata": {},
   "source": [
    "# References\n",
    "[1](https://arxiv.org/pdf/1806.02359v4.pdf) Fault-Tolerant Logical Gates in the IBM Quantum Experience. R. Harper1 and S. T. Flammia. (2019)"
   ]
  },
  {
   "cell_type": "code",
   "execution_count": null,
   "metadata": {},
   "outputs": [],
   "source": []
  }
 ],
 "metadata": {
  "kernelspec": {
   "display_name": "Python 3",
   "language": "python",
   "name": "python3"
  },
  "language_info": {
   "codemirror_mode": {
    "name": "ipython",
    "version": 3
   },
   "file_extension": ".py",
   "mimetype": "text/x-python",
   "name": "python",
   "nbconvert_exporter": "python",
   "pygments_lexer": "ipython3",
   "version": "3.6.4"
  }
 },
 "nbformat": 4,
 "nbformat_minor": 4
}
