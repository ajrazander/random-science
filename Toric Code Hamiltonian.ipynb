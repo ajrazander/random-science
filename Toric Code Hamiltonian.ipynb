{
 "cells": [
  {
   "cell_type": "markdown",
   "metadata": {},
   "source": [
    "# Kitaev Model: Toric Code\n",
    "\n",
    "Kitaev Hamiltonian:\n",
    "$\n",
    "\\begin{equation}\n",
    "H_K = - \\sum_p B_p - \\sum_s A_s\n",
    "\\end{equation}\n",
    "$\n",
    "\n",
    "With operators defined as:\n",
    "\n",
    "$\n",
    "\\begin{align}\n",
    "B_p &= \\Pi_{(ij) \\in p} \\sigma_{(ij)}^z \\\\\n",
    "A_s &= \\Pi_{(ij) \\in s} \\sigma_{(ij)}^x \\\\\n",
    "\\end{align}\n",
    "$\n",
    "\n",
    "where $p$ is a plaquette of the lattice and $s$ is a star vertex of the lattice."
   ]
  },
  {
   "cell_type": "code",
   "execution_count": 3,
   "metadata": {},
   "outputs": [],
   "source": [
    "import numpy as np"
   ]
  },
  {
   "cell_type": "markdown",
   "metadata": {},
   "source": [
    "Consider an $N=3$ torus, meaning there are $N^2 = 9$ lattice sites"
   ]
  },
  {
   "cell_type": "code",
   "execution_count": null,
   "metadata": {},
   "outputs": [],
   "source": []
  },
  {
   "cell_type": "code",
   "execution_count": null,
   "metadata": {},
   "outputs": [],
   "source": []
  },
  {
   "cell_type": "code",
   "execution_count": null,
   "metadata": {},
   "outputs": [],
   "source": []
  }
 ],
 "metadata": {
  "kernelspec": {
   "display_name": "Python 3",
   "language": "python",
   "name": "python3"
  },
  "language_info": {
   "codemirror_mode": {
    "name": "ipython",
    "version": 3
   },
   "file_extension": ".py",
   "mimetype": "text/x-python",
   "name": "python",
   "nbconvert_exporter": "python",
   "pygments_lexer": "ipython3",
   "version": "3.6.4"
  }
 },
 "nbformat": 4,
 "nbformat_minor": 4
}
