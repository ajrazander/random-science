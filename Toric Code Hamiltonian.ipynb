{
 "cells": [
  {
   "cell_type": "markdown",
   "metadata": {},
   "source": [
    "# Kitaev Model: Toric Code\n",
    "\n",
    "Kitaev Hamiltonian:\n",
    "$\n",
    "\\begin{equation}\n",
    "H_K = - \\sum_p B_p - \\sum_s A_s\n",
    "\\end{equation}\n",
    "$\n",
    "\n",
    "With operators defined as:\n",
    "\n",
    "$\n",
    "\\begin{align}\n",
    "B_p &= \\Pi_{(ij) \\in p} \\sigma_{(ij)}^z \\\\\n",
    "A_s &= \\Pi_{(ij) \\in s} \\sigma_{(ij)}^x \\\\\n",
    "\\end{align}\n",
    "$\n",
    "\n",
    "where $p$ is a plaquette of the lattice and $s$ is a star vertex of the lattice."
   ]
  },
  {
   "cell_type": "code",
   "execution_count": 3,
   "metadata": {},
   "outputs": [],
   "source": [
    "import numpy as np"
   ]
  },
  {
   "cell_type": "markdown",
   "metadata": {},
   "source": [
    "Consider an $N=2$ torus, meaning there are $2N^2 = 8$ spin sites and periodic boundary conditions"
   ]
  },
  {
   "cell_type": "code",
   "execution_count": 30,
   "metadata": {},
   "outputs": [],
   "source": [
    "Nspins = 8  # number of spins on lattice\n",
    "Np = 4  # number of plaquettes\n",
    "Ns = 4  # number of star vertices"
   ]
  },
  {
   "cell_type": "markdown",
   "metadata": {},
   "source": [
    "Generate $B_p$ and $A_s$ operators"
   ]
  },
  {
   "cell_type": "code",
   "execution_count": 21,
   "metadata": {},
   "outputs": [],
   "source": [
    "x = np.array([[0,1],[1,0]])\n",
    "z = np.array([[1,0],[0,-1]])\n",
    "iden = np.identity(2)"
   ]
  },
  {
   "cell_type": "code",
   "execution_count": 29,
   "metadata": {},
   "outputs": [
    {
     "data": {
      "text/plain": [
       "256"
      ]
     },
     "execution_count": 29,
     "metadata": {},
     "output_type": "execute_result"
    }
   ],
   "source": [
    "2**8"
   ]
  },
  {
   "cell_type": "code",
   "execution_count": 27,
   "metadata": {},
   "outputs": [
    {
     "data": {
      "text/plain": [
       "array([[0, 0, 0, 0, 0, 0, 0, 0, 0, 0, 0, 0, 0, 0, 0, 1],\n",
       "       [0, 0, 0, 0, 0, 0, 0, 0, 0, 0, 0, 0, 0, 0, 1, 0],\n",
       "       [0, 0, 0, 0, 0, 0, 0, 0, 0, 0, 0, 0, 0, 1, 0, 0],\n",
       "       [0, 0, 0, 0, 0, 0, 0, 0, 0, 0, 0, 0, 1, 0, 0, 0],\n",
       "       [0, 0, 0, 0, 0, 0, 0, 0, 0, 0, 0, 1, 0, 0, 0, 0],\n",
       "       [0, 0, 0, 0, 0, 0, 0, 0, 0, 0, 1, 0, 0, 0, 0, 0],\n",
       "       [0, 0, 0, 0, 0, 0, 0, 0, 0, 1, 0, 0, 0, 0, 0, 0],\n",
       "       [0, 0, 0, 0, 0, 0, 0, 0, 1, 0, 0, 0, 0, 0, 0, 0],\n",
       "       [0, 0, 0, 0, 0, 0, 0, 1, 0, 0, 0, 0, 0, 0, 0, 0],\n",
       "       [0, 0, 0, 0, 0, 0, 1, 0, 0, 0, 0, 0, 0, 0, 0, 0],\n",
       "       [0, 0, 0, 0, 0, 1, 0, 0, 0, 0, 0, 0, 0, 0, 0, 0],\n",
       "       [0, 0, 0, 0, 1, 0, 0, 0, 0, 0, 0, 0, 0, 0, 0, 0],\n",
       "       [0, 0, 0, 1, 0, 0, 0, 0, 0, 0, 0, 0, 0, 0, 0, 0],\n",
       "       [0, 0, 1, 0, 0, 0, 0, 0, 0, 0, 0, 0, 0, 0, 0, 0],\n",
       "       [0, 1, 0, 0, 0, 0, 0, 0, 0, 0, 0, 0, 0, 0, 0, 0],\n",
       "       [1, 0, 0, 0, 0, 0, 0, 0, 0, 0, 0, 0, 0, 0, 0, 0]])"
      ]
     },
     "execution_count": 27,
     "metadata": {},
     "output_type": "execute_result"
    }
   ],
   "source": [
    "np.kron(np.kron(np.kron(x,x),x),x)"
   ]
  },
  {
   "cell_type": "code",
   "execution_count": 34,
   "metadata": {},
   "outputs": [],
   "source": [
    "Bp_s = []  # list of Bp operators indexed from 0 to 3\n",
    "Bp_s.append(np.kron(np.kron(np.kron(np.kron(np.kron(np.kron(np.kron(iden, z), z), z), iden), z), iden), iden))\n",
    "Bp_s.append(np.kron(np.kron(np.kron(np.kron(np.kron(np.kron(np.kron(z, iden), z), z), z), iden), iden), iden))\n",
    "Bp_s.append(np.kron(np.kron(np.kron(np.kron(np.kron(np.kron(np.kron(iden, z), iden), iden), iden), z), z), z))\n",
    "Bp_s.append(np.kron(np.kron(np.kron(np.kron(np.kron(np.kron(np.kron(z, iden), iden), iden), z), iden), z), z))\n",
    "\n",
    "As_s = []  # list of Bp operators indexed from 0 to 3\n",
    "As_s.append(np.kron(np.kron(np.kron(np.kron(np.kron(np.kron(np.kron(iden, iden), x), iden), x), x), x), iden))\n",
    "As_s.append(np.kron(np.kron(np.kron(np.kron(np.kron(np.kron(np.kron(iden, iden), iden), x), x), x), iden), x))\n",
    "As_s.append(np.kron(np.kron(np.kron(np.kron(np.kron(np.kron(np.kron(x, x), x), iden), iden), iden), x), iden))\n",
    "As_s.append(np.kron(np.kron(np.kron(np.kron(np.kron(np.kron(np.kron(x, x), iden), x), iden), iden), iden), x))"
   ]
  },
  {
   "cell_type": "markdown",
   "metadata": {},
   "source": [
    "Check $B_p$ and $A_s$ operators commute according to:\n",
    "\n",
    "$\n",
    "\\begin{align}\n",
    "[B_p, B_p^{\\prime}] &= 0 \\\\\n",
    "[A_s, A_s^{\\prime}] &= 0 \\\\\n",
    "[B_p, A_s] &= 0 \\\\\n",
    "\\end{align}\n",
    "$\n",
    "\n",
    "Check that periodic boundary condition:\n",
    "\n",
    "$\n",
    "\\begin{align}\n",
    "\\Pi_s A_s &= 1 \\\\\n",
    "\\Pi_p B_p &= 1 \\\\\n",
    "\\end{align}\n",
    "$\n"
   ]
  },
  {
   "cell_type": "code",
   "execution_count": 58,
   "metadata": {},
   "outputs": [
    {
     "name": "stdout",
     "output_type": "stream",
     "text": [
      "Is the product of Bp operators equal to the identity matrix?: True\n",
      "Is the product of As operators equal to the identity matrix?: True\n"
     ]
    }
   ],
   "source": [
    "# Check commutation relations. Print if there something does NOT commute\n",
    "\n",
    "# Commutation between different Bp operators\n",
    "for i in range(len(Bp_s) - 1):\n",
    "    if not np.array_equal(np.matmul(Bp_s[i], Bp_s[i+1]), np.matmul(Bp_s[i+1], Bp_s[i])):\n",
    "        print('Bp', i, 'does not commute with Bp', i+1)\n",
    "\n",
    "# Commutation between different As operators\n",
    "for i in range(len(As_s) - 1):\n",
    "    if not np.array_equal(np.matmul(As_s[i], As_s[i+1]), np.matmul(As_s[i+1], As_s[i])):\n",
    "        print('As', i, 'does not commute with As', i+1)\n",
    "\n",
    "# Commutation between different Bp and As operators\n",
    "for i in range(len(As_s)):\n",
    "    for j in range(len(Bp_s)):\n",
    "        if not np.array_equal(np.matmul(As_s[i], Bp_s[j]), np.matmul(Bp_s[j], As_s[i])):\n",
    "            print('As', i, 'does not commute with As', i+1)\n",
    "\n",
    "# Check periodic boundary condition\n",
    "Bp_product = np.identity(Bp_s[0].shape[0])\n",
    "for i in range(len(Bp_s)):\n",
    "    Bp_product = np.matmul(Bp_product, Bp_s[i])\n",
    "print('Is the product of Bp operators equal to the identity matrix?:', np.array_equal(Bp_product, np.identity(Bp_s[0].shape[0])))\n",
    "\n",
    "As_product = np.identity(As_s[0].shape[0])\n",
    "for i in range(len(As_s)):\n",
    "    As_product = np.matmul(As_product, As_s[i])\n",
    "print('Is the product of As operators equal to the identity matrix?:', np.array_equal(As_product, np.identity(As_s[0].shape[0])))"
   ]
  },
  {
   "cell_type": "markdown",
   "metadata": {},
   "source": [
    "Looks like everything checks out. Now to compute the Hamiltonian $H_K$"
   ]
  },
  {
   "cell_type": "code",
   "execution_count": null,
   "metadata": {},
   "outputs": [],
   "source": []
  },
  {
   "cell_type": "code",
   "execution_count": null,
   "metadata": {},
   "outputs": [],
   "source": []
  },
  {
   "cell_type": "code",
   "execution_count": null,
   "metadata": {},
   "outputs": [],
   "source": []
  }
 ],
 "metadata": {
  "kernelspec": {
   "display_name": "Python 3",
   "language": "python",
   "name": "python3"
  },
  "language_info": {
   "codemirror_mode": {
    "name": "ipython",
    "version": 3
   },
   "file_extension": ".py",
   "mimetype": "text/x-python",
   "name": "python",
   "nbconvert_exporter": "python",
   "pygments_lexer": "ipython3",
   "version": "3.6.4"
  }
 },
 "nbformat": 4,
 "nbformat_minor": 4
}
