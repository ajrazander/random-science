{
 "cells": [
  {
   "cell_type": "markdown",
   "metadata": {},
   "source": [
    "# Normal Modes: Ion Chain\n",
    "Here we estimate normal modes of ion chains and ion pancakes using classical estimations"
   ]
  },
  {
   "cell_type": "code",
   "execution_count": 4,
   "metadata": {},
   "outputs": [],
   "source": [
    "import numpy as np\n",
    "import matplotlib.pyplot as plt\n",
    "\n",
    "from scipy.optimize import minimize\n",
    "from scipy.stats import linregress\n"
   ]
  },
  {
   "cell_type": "markdown",
   "metadata": {},
   "source": [
    "The energy potential for N identical ions in a linear Paul trap can be estimated as identical masses connected in a 3D harmonic potential. Each ion interacts through it's positive electric charge.\n",
    "\n",
    "$$\n",
    "V(x,y) = \\sum_{i=1}^{N}\\left(\\frac{1}{2}m \\omega_x^2 x_i^2 + \\frac{1}{2}m \\omega_y^2 y_i^2 + \\frac{1}{2}m \\omega_z^2 z_i^2\\right) + \\sum_{i<j}^{N}\\frac{e^2}{4\\pi \\epsilon_0 \\sqrt{(x_i-x_j)^2 + (y_i-y_j)^2+ (z_i-z_j)^2}}\n",
    "$$\n",
    "\n",
    "There are $3N + \\sim N^2$ terms in the potential making the problem $\\sim O(N^2)$ hard."
   ]
  },
  {
   "cell_type": "code",
   "execution_count": 180,
   "metadata": {},
   "outputs": [
    {
     "name": "stdout",
     "output_type": "stream",
     "text": [
      "alpha 3.0\n"
     ]
    }
   ],
   "source": [
    "# number of ions\n",
    "N = 5\n",
    "\n",
    "# constants\n",
    "m = 170.936323 * 1.66054e-27\n",
    "e = 1.60217662e-19\n",
    "epsilon_0 = 8.85418782e-12\n",
    "\n",
    "# harmonic frequencies\n",
    "wx = 2 * np.pi * 300000\n",
    "wy = wx\n",
    "wz = 3.0*wx\n",
    "\n",
    "def potential_energy(positions, wx=wx, wy=wy, wz=wz, N=N, m=m, e=e, epsilon_0=epsilon_0):\n",
    "    xs = positions[:N]\n",
    "    ys = positions[N:2*N]\n",
    "    zs = positions[2*N:3*N]\n",
    "    \n",
    "    # harmonic energy\n",
    "    harm_energy = np.sum(1/2 * m * (wx**2 * xs**2 + wy**2 * ys**2 + wz**2 * zs**2))\n",
    "\n",
    "    # electronic interaction\n",
    "    interaction = 0\n",
    "    for i in range(N):\n",
    "        for j in range(i+1,N):\n",
    "            interaction += 1/np.sqrt((xs[i]-xs[j])**2 + (ys[i]-ys[j])**2 + (zs[i]-zs[j])**2)\n",
    "    interaction = e**2/4/np.pi/epsilon_0 * interaction\n",
    "\n",
    "    return harm_energy + interaction\n",
    "\n",
    "print('alpha',wz/wx)"
   ]
  },
  {
   "cell_type": "code",
   "execution_count": 181,
   "metadata": {},
   "outputs": [
    {
     "data": {
      "text/plain": [
       "array([-3.99262429e-06, -6.47133572e-06, -2.15698673e-09,  6.46724530e-06,\n",
       "        4.00319151e-06,  5.50502179e-06, -2.09989418e-06, -6.80381381e-06,\n",
       "       -2.10726709e-06,  5.50316308e-06, -1.18564768e-09,  3.65375418e-08,\n",
       "        1.86288159e-09,  9.95722758e-09, -1.08761148e-09,  9.62515031e-03,\n",
       "       -1.69221495e-02])"
      ]
     },
     "execution_count": 181,
     "metadata": {},
     "output_type": "execute_result"
    }
   ],
   "source": [
    "# Initial guess and minimization\n",
    "x0 = np.array(list(np.linspace(-N,N,N+1)) * 2 + [0]*N)*1e-6\n",
    "res = minimize(potential_energy, x0, method='CG', tol=1e-18)\n",
    "\n",
    "# Educated guess. 2nd minimization\n",
    "x0 = res.x\n",
    "res = minimize(potential_energy, x0, method='Nelder-Mead', tol=1e-18)\n",
    "res.x"
   ]
  },
  {
   "cell_type": "code",
   "execution_count": 182,
   "metadata": {},
   "outputs": [
    {
     "data": {
      "image/png": "[encoded data removed]",
      "text/plain": [
       "<Figure size 432x432 with 1 Axes>"
      ]
     },
     "metadata": {
      "needs_background": "light"
     },
     "output_type": "display_data"
    },
    {
     "data": {
      "image/png": "[encoded data removed]",
      "text/plain": [
       "<Figure size 432x432 with 1 Axes>"
      ]
     },
     "metadata": {
      "needs_background": "light"
     },
     "output_type": "display_data"
    },
    {
     "data": {
      "image/png": "[encoded data removed]",
      "text/plain": [
       "<Figure size 432x432 with 1 Axes>"
      ]
     },
     "metadata": {
      "needs_background": "light"
     },
     "output_type": "display_data"
    }
   ],
   "source": [
    "# Plot radial plane\n",
    "xs = res.x[:N] * 1e6\n",
    "ys = res.x[N:2*N] * 1e6\n",
    "zs = res.x[2*N:3*N] * 1e6\n",
    "\n",
    "plt.figure(figsize=(6,6))\n",
    "plt.scatter(xs,ys, marker='o',s = 100)\n",
    "plt.title('Ion equilibrium position')\n",
    "plt.xlabel('x position in micron')\n",
    "plt.ylabel('y position in micron')\n",
    "plt.ylim(-30,30)\n",
    "plt.xlim(-30,30)\n",
    "plt.show()\n",
    "\n",
    "plt.figure(figsize=(6,6))\n",
    "plt.scatter(xs,zs, marker='o',s = 100)\n",
    "plt.title('Ion equilibrium position')\n",
    "plt.xlabel('x position in micron')\n",
    "plt.ylabel('z position in micron')\n",
    "plt.ylim(-30,30)\n",
    "plt.xlim(-30,30)\n",
    "plt.show()\n",
    "\n",
    "plt.figure(figsize=(6,6))\n",
    "plt.scatter(ys,zs, marker='o',s = 100)\n",
    "plt.title('Ion equilibrium position')\n",
    "plt.xlabel('y position in micron')\n",
    "plt.ylabel('z position in micron')\n",
    "plt.ylim(-30,30)\n",
    "plt.xlim(-30,30)\n",
    "plt.show()"
   ]
  },
  {
   "cell_type": "markdown",
   "metadata": {},
   "source": [
    "### Normal Modes\n",
    "Ions motion can be used to send quantum information through the crystal. To do this, it's essential to know the normal modes of the ions. Let's compute them based on the ion positions\n",
    "\n",
    "The energy potential for N identical ions in a linear Paul trap can be estimated as identical masses connected in a 3D harmonic potential. Each ion interacts through it's positive electric charge.\n",
    "\n",
    "$$\n",
    "L = \\frac{1}{2}m\\sum_{i=1}^{N}\\left(\\dot{x_i}^2 + \\dot{y_i}^2 + \\dot{z_i}^2\\right) + \\sum_{i=1}^{N}\\left(\\frac{1}{2}m \\omega_x^2 x_i^2 + \\frac{1}{2}m \\omega_y^2 y_i^2 + \\frac{1}{2}m \\omega_z^2 z_i^2\\right) + \\sum_{i<j}^{N}\\frac{e^2}{4\\pi \\epsilon_0 \\sqrt{(x_i-x_j)^2 + (y_i-y_j)^2+ (z_i-z_j)^2}}\n",
    "$$\n",
    "\n",
    "equations of motion\n",
    "\n",
    "$$\n",
    "\\sum_{i=1}^{N}\\ddot{x_i} = \\sum_{i=1}^{N}\\omega_x^2 x_i + \\frac{e^2}{4 \\pi \\epsilon_0 m}\\sum_{i<j}^{N}\\frac{x_i - x_j}{\\left((x_i-x_j)^2 + (y_i-y_j)^2+ (z_i-z_j)^2\\right)^{3/2}}\n",
    "$$\n",
    "\n",
    "$$\n",
    "\\sum_{i=1}^{N}\\ddot{y_i} = \\sum_{i=1}^{N}\\omega_y^2 y_i + \\frac{e^2}{4 \\pi \\epsilon_0 m}\\sum_{i<j}^{N}\\frac{y_i - y_j}{\\left((x_i-x_j)^2 + (y_i-y_j)^2+ (z_i-z_j)^2\\right)^{3/2}}\n",
    "$$\n",
    "\n",
    "$$\n",
    "\\sum_{i=1}^{N}\\ddot{z_i} = \\sum_{i=1}^{N}\\omega_z^2 z_i + \\frac{e^2}{4 \\pi \\epsilon_0 m}\\sum_{i<j}^{N}\\frac{z_i - z_j}{\\left((x_i-x_j)^2 + (y_i-y_j)^2+ (z_i-z_j)^2\\right)^{3/2}}\n",
    "$$"
   ]
  },
  {
   "cell_type": "code",
   "execution_count": 195,
   "metadata": {},
   "outputs": [],
   "source": [
    "x_matrix = np.zeros((N,N))\n",
    "\n",
    "# Add harmonic terms to matrix\n",
    "x_matrix += wx**2 * np.identity(N)\n",
    "\n",
    "# Add cross terms to matrix\n",
    "prefactor = e**2/4/np.pi/epsilon_0/m\n",
    "cross_terms = np.zeros((N,N))\n",
    "for i in range(N):\n",
    "    for j in range(i+1,N):\n",
    "        cross_terms[i,j] = prefactor * (xs[i] - xs[j])/((xs[i]-xs[j])**2+(ys[i]-ys[j])**2+(zs[i]-zs[j])**2)**(3/2)\n",
    "x_matrix += cross_terms\n",
    "\n"
   ]
  },
  {
   "cell_type": "code",
   "execution_count": 198,
   "metadata": {},
   "outputs": [
    {
     "data": {
      "text/plain": [
       "(array([3.55305758e+12, 3.55305758e+12, 3.55305758e+12, 3.55305758e+12,\n",
       "        3.55305758e+12]),\n",
       " array([[ 1.        , -0.00498986,  0.00183246,  0.00496999,  0.01606577],\n",
       "        [ 0.        ,  0.99998755,  0.01302261,  0.00632318,  0.00496953],\n",
       "        [ 0.        ,  0.        ,  0.99991352,  0.01304331,  0.00183845],\n",
       "        [ 0.        ,  0.        ,  0.        ,  0.99988259, -0.00495846],\n",
       "        [ 0.        ,  0.        ,  0.        ,  0.        ,  0.9998446 ]]))"
      ]
     },
     "execution_count": 198,
     "metadata": {},
     "output_type": "execute_result"
    }
   ],
   "source": [
    "eig_vals, eig_vecs = np.linalg.eig(x_matrix)"
   ]
  },
  {
   "cell_type": "code",
   "execution_count": null,
   "metadata": {},
   "outputs": [],
   "source": []
  }
 ],
 "metadata": {
  "kernelspec": {
   "display_name": "Python 3",
   "language": "python",
   "name": "python3"
  },
  "language_info": {
   "codemirror_mode": {
    "name": "ipython",
    "version": 3
   },
   "file_extension": ".py",
   "mimetype": "text/x-python",
   "name": "python",
   "nbconvert_exporter": "python",
   "pygments_lexer": "ipython3",
   "version": "3.6.4"
  }
 },
 "nbformat": 4,
 "nbformat_minor": 2
}
