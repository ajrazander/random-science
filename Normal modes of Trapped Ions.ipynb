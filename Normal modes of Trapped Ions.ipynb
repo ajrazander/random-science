{
 "cells": [
  {
   "cell_type": "markdown",
   "metadata": {},
   "source": [
    "# Normal Modes: Ion Chain\n",
    "Here we estimate normal modes of ion chains and ion pancakes using classical estimations"
   ]
  },
  {
   "cell_type": "code",
   "execution_count": 1,
   "metadata": {},
   "outputs": [],
   "source": [
    "import numpy as np\n",
    "import random\n",
    "import matplotlib.pyplot as plt\n",
    "\n",
    "from scipy.optimize import minimize\n",
    "from scipy.stats import linregress"
   ]
  },
  {
   "cell_type": "markdown",
   "metadata": {},
   "source": [
    "The energy potential for N identical ions in a linear Paul trap can be estimated as identical masses connected in a 3D harmonic potential. Each ion interacts through it's positive electric charge.\n",
    "\n",
    "$$\n",
    "V(x,y) = \\sum_{i=1}^{N}\\left(\\frac{1}{2}m \\omega_x^2 x_i^2 + \\frac{1}{2}m \\omega_y^2 y_i^2 + \\frac{1}{2}m \\omega_z^2 z_i^2\\right) + \\sum_{i<j}^{N}\\frac{e^2}{4\\pi \\epsilon_0 \\sqrt{(x_i-x_j)^2 + (y_i-y_j)^2+ (z_i-z_j)^2}}\n",
    "$$\n",
    "\n",
    "There are $3N + \\sim N^2$ terms in the potential making the problem $\\sim O(N^2)$ hard."
   ]
  },
  {
   "cell_type": "code",
   "execution_count": 179,
   "metadata": {},
   "outputs": [
    {
     "name": "stdout",
     "output_type": "stream",
     "text": [
      "alpha 5.0\n"
     ]
    }
   ],
   "source": [
    "# number of ions\n",
    "N = 5\n",
    "\n",
    "# constants\n",
    "m = 170.936323 * 1.66054e-27\n",
    "e = 1.60217662e-19\n",
    "epsilon_0 = 8.8541878128e-12\n",
    "\n",
    "# harmonic frequencies\n",
    "wx = 2 * np.pi * 0.2e6\n",
    "wy = wx\n",
    "wz = 2 * np.pi * 1e6\n",
    "\n",
    "def potential_energy(positions, wx=wx, wy=wy, wz=wz, N=N, m=m, e=e, epsilon_0=epsilon_0):\n",
    "    xs = positions[:N]\n",
    "    ys = positions[N:2*N]\n",
    "    zs = positions[2*N:3*N]\n",
    "    \n",
    "    # harmonic energy\n",
    "    harm_energy = np.sum(1/2 * m * (wx**2 * xs**2 + wy**2 * ys**2 + wz**2 * zs**2))\n",
    "\n",
    "    # electronic interaction\n",
    "    interaction = 0\n",
    "    for i in range(N):\n",
    "        for j in range(i+1,N):\n",
    "            interaction += 1/np.sqrt((xs[i]-xs[j])**2 + (ys[i]-ys[j])**2 + (zs[i]-zs[j])**2)\n",
    "    interaction = e**2/4/np.pi/epsilon_0 * interaction\n",
    "\n",
    "    return harm_energy + interaction\n",
    "\n",
    "print('alpha',wz/wx)"
   ]
  },
  {
   "cell_type": "code",
   "execution_count": 180,
   "metadata": {},
   "outputs": [
    {
     "data": {
      "text/plain": [
       "array([ 7.18354527e-06,  7.24267862e-06, -8.90295771e-06, -2.70370283e-06,\n",
       "       -2.80596892e-06, -5.28180351e-06,  5.18389428e-06,  5.56274198e-08,\n",
       "        8.49851743e-06, -8.46212195e-06, -1.99303369e-09,  2.19718225e-10,\n",
       "        3.31569189e-09,  3.88243284e-09,  1.67072166e-09])"
      ]
     },
     "execution_count": 180,
     "metadata": {},
     "output_type": "execute_result"
    }
   ],
   "source": [
    "# Initial guess and minimization\n",
    "xs_0 = random.sample(range(-N,N), N)\n",
    "ys_0 = random.sample(range(-N,N), N)\n",
    "zs_0 = [0] * N\n",
    "\n",
    "x0 = np.array(xs_0 + ys_0 + zs_0) * 1e-6\n",
    "res = minimize(potential_energy, x0, method='Nelder-Mead', tol=1e-18)\n",
    "\n",
    "# Educated guess. 2nd minimization\n",
    "x0 = res.x\n",
    "res = minimize(potential_energy, x0, method='Nelder-Mead', tol=1e-18)\n",
    "res.x"
   ]
  },
  {
   "cell_type": "code",
   "execution_count": 181,
   "metadata": {},
   "outputs": [
    {
     "data": {
      "image/png": "[encoded data removed]",
      "text/plain": [
       "<Figure size 432x432 with 1 Axes>"
      ]
     },
     "metadata": {
      "needs_background": "light"
     },
     "output_type": "display_data"
    },
    {
     "data": {
      "image/png": "[encoded data removed]",
      "text/plain": [
       "<Figure size 432x432 with 1 Axes>"
      ]
     },
     "metadata": {
      "needs_background": "light"
     },
     "output_type": "display_data"
    },
    {
     "data": {
      "image/png": "[encoded data removed]",
      "text/plain": [
       "<Figure size 432x432 with 1 Axes>"
      ]
     },
     "metadata": {
      "needs_background": "light"
     },
     "output_type": "display_data"
    }
   ],
   "source": [
    "# Plot radial plane\n",
    "xs = res.x[:N]\n",
    "ys = res.x[N:2*N]\n",
    "zs = res.x[2*N:3*N]\n",
    "\n",
    "plt.figure(figsize=(6,6))\n",
    "plt.scatter(xs*1e6, ys*1e6, marker='o',s = 100)\n",
    "plt.title('Ion equilibrium position')\n",
    "plt.xlabel('x position in micron')\n",
    "plt.ylabel('y position in micron')\n",
    "plt.ylim(-30,30)\n",
    "plt.xlim(-30,30)\n",
    "plt.show()\n",
    "\n",
    "plt.figure(figsize=(6,6))\n",
    "plt.scatter(xs*1e6, zs*1e6, marker='o',s = 100)\n",
    "plt.title('Ion equilibrium position')\n",
    "plt.xlabel('x position in micron')\n",
    "plt.ylabel('z position in micron')\n",
    "plt.ylim(-30,30)\n",
    "plt.xlim(-30,30)\n",
    "plt.show()\n",
    "\n",
    "plt.figure(figsize=(6,6))\n",
    "plt.scatter(ys*1e6, zs*1e6, marker='o',s = 100)\n",
    "plt.title('Ion equilibrium position')\n",
    "plt.xlabel('y position in micron')\n",
    "plt.ylabel('z position in micron')\n",
    "plt.ylim(-30,30)\n",
    "plt.xlim(-30,30)\n",
    "plt.show()"
   ]
  },
  {
   "cell_type": "markdown",
   "metadata": {},
   "source": [
    "### Axial Normal Modes\n",
    "Ions motion can be used to send quantum information through the crystal. To do this, it's essential to know the normal modes of the ions. Let's compute them based on the ion positions, starting with the axial modes.\n",
    "\n",
    "The energy potential for N identical ions in a linear Paul trap can be estimated as identical masses connected in a 3D harmonic potential. Each ion interacts through it's positive electric charge and thus the Lagrangian (allow the axial direction).\n",
    "\n",
    "$$\n",
    "L = \\frac{1}{2}m\\sum_{i=1}^{N}\\dot{z_i}^2 - \\sum_{i=1}^{N}\\frac{1}{2}m \\omega_z^2 z_i^2 - \\frac{e^2}{4\\pi \\epsilon_0}\\sum_i^N\\sum_{i\\neq j}^{N}\\frac{1}{r_{ij}}\n",
    "$$\n",
    "\n",
    "where $r_{ij} = \\sqrt{(x_i-x_j)^2+(y_i-y_j)^2}$. By diagonalizing the equations of motion, we can compute the normal modes and frequencies. The equations of motion are"
   ]
  },
  {
   "cell_type": "markdown",
   "metadata": {},
   "source": [
    "$$\n",
    "\\sum_{i=1}^{N}\\ddot{z_i} = - \\sum_{i=1}^{N} \\omega_z^2 z_i - \\frac{e^2}{4\\pi \\epsilon_0 m}\\left(\\sum_{i\\neq j}^{N}\\frac{z_j}{r_{ij}^3} - \\sum_{i\\neq j}^{N}\\frac{2 z_i}{r_{ij}^3}\\right)\n",
    "$$\n",
    "\n",
    "e.g. i = 1\n",
    "\n",
    "$$\n",
    "\\ddot{z_1} = -\\omega_z^2 z_1 - \\frac{e^2}{4\\pi \\epsilon_0 m}\\left(\\sum_{j=2}^{N}\\frac{z_j}{r_{1j}^3} - \\sum_{j=2}^{N}\\frac{2 z_1}{r_{1j}^3}\\right)\n",
    "$$"
   ]
  },
  {
   "cell_type": "code",
   "execution_count": 169,
   "metadata": {},
   "outputs": [
    {
     "data": {
      "text/plain": [
       "(array([977650., 940853., 940929., 956950., 957019.]),\n",
       " array([[-0.4468, -0.5153, -0.3705, -0.4525,  0.4391],\n",
       "        [-0.4476,  0.2018,  0.5981, -0.5617, -0.2928],\n",
       "        [-0.4471,  0.6309, -0.0061,  0.28  ,  0.5689],\n",
       "        [-0.4479,  0.1904, -0.6006,  0.1113, -0.6245],\n",
       "        [-0.4466, -0.5094,  0.3797,  0.6237, -0.089 ]]))"
      ]
     },
     "execution_count": 169,
     "metadata": {},
     "output_type": "execute_result"
    }
   ],
   "source": [
    "# Compute modes\n",
    "def normal_modes(w):\n",
    "    prefactor = e**2/4/np.pi/epsilon_0/m\n",
    "\n",
    "    # Add harmonic terms to matrix\n",
    "    matrix = -w**2 * np.diag(np.ones(N))\n",
    "\n",
    "    # Add interaction diagonal terms\n",
    "    for i in range(N):\n",
    "        interact_diag = 0\n",
    "        for j in range(N):\n",
    "            if i==j:\n",
    "                continue\n",
    "            interact_diag += 2/((xs[i]-xs[j])**2+(ys[i]-ys[j])**2)**(3/2)\n",
    "        interact_diag *= prefactor\n",
    "        matrix[i,i] += interact_diag\n",
    "\n",
    "    # Add interaction cross terms \n",
    "    for i in range(N):\n",
    "        for j in range(N):\n",
    "            if i==j:\n",
    "                continue\n",
    "            cross_term = -prefactor/((xs[i]-xs[j])**2+(ys[i]-ys[j])**2)**(3/2)\n",
    "            matrix[i,j] = cross_term\n",
    "    return matrix\n",
    "\n",
    "# Compute normal modes and frequencies\n",
    "z_vals, z_vecs = np.linalg.eig(normal_modes(wz))\n",
    "z_freqs = np.round(np.sqrt(np.abs(z_vals))/2/np.pi)\n",
    "z_freqs, np.round(z_vecs, 4)"
   ]
  },
  {
   "cell_type": "code",
   "execution_count": 167,
   "metadata": {},
   "outputs": [
    {
     "data": {
      "image/png": "[encoded data removed]",
      "text/plain": [
       "<Figure size 432x288 with 1 Axes>"
      ]
     },
     "metadata": {
      "needs_background": "light"
     },
     "output_type": "display_data"
    },
    {
     "data": {
      "text/plain": [
       "(array([ 0.43908279, -0.29278522,  0.56885711, -0.6244687 , -0.08901431]),\n",
       " 957019.3178905598,\n",
       " 0.4472135954999579)"
      ]
     },
     "execution_count": 167,
     "metadata": {},
     "output_type": "execute_result"
    }
   ],
   "source": [
    "adjusted_freqs = (z_freqs - z_freqs[-1])/1000\n",
    "plt.vlines(adjusted_freqs, [0]*N, [2]*N)\n",
    "plt.title('Mode frequency - COM frequency (kHz)')\n",
    "plt.show()\n",
    "\n",
    "# Check COM mode is 1/np.sqrt(N)\n",
    "z_vecs[:,N-1], np.sqrt(np.abs(z_vals[N-1]))/2/np.pi, 1/np.sqrt(N)"
   ]
  },
  {
   "cell_type": "code",
   "execution_count": 168,
   "metadata": {},
   "outputs": [
    {
     "data": {
      "text/plain": [
       "(array([ 64814., 273487., 273225., 210350., 210033.]),\n",
       " array([[-0.4468, -0.5153, -0.3705, -0.4525,  0.4391],\n",
       "        [-0.4476,  0.2018,  0.5981, -0.5617, -0.2928],\n",
       "        [-0.4471,  0.6309, -0.0061,  0.28  ,  0.5689],\n",
       "        [-0.4479,  0.1904, -0.6006,  0.1113, -0.6245],\n",
       "        [-0.4466, -0.5094,  0.3797,  0.6237, -0.089 ]]))"
      ]
     },
     "execution_count": 168,
     "metadata": {},
     "output_type": "execute_result"
    }
   ],
   "source": [
    "# Compute y modes\n",
    "y_vals, y_vecs = np.linalg.eig(normal_modes(wy))\n",
    "y_freqs = np.round(np.sqrt(np.abs(y_vals))/2/np.pi)\n",
    "y_freqs, np.round(y_vecs, 4)"
   ]
  },
  {
   "cell_type": "code",
   "execution_count": 145,
   "metadata": {},
   "outputs": [
    {
     "data": {
      "image/png": "[encoded data removed]",
      "text/plain": [
       "<Figure size 432x288 with 1 Axes>"
      ]
     },
     "metadata": {
      "needs_background": "light"
     },
     "output_type": "display_data"
    },
    {
     "data": {
      "text/plain": [
       "(array([0.31622777, 0.31622777, 0.31622777, 0.31622777, 0.31622777,\n",
       "        0.31622777, 0.31622777, 0.31622777, 0.31622777, 0.31622777]),\n",
       " 4800000.0,\n",
       " 0.31622776601683794)"
      ]
     },
     "execution_count": 145,
     "metadata": {},
     "output_type": "execute_result"
    }
   ],
   "source": [
    "adjusted_freqs = (y_freqs - y_freqs[-1])/1000\n",
    "plt.vlines(adjusted_freqs, [0]*N, [2]*N)\n",
    "plt.title('Mode frequency - COM frequency (kHz)')\n",
    "plt.show()\n",
    "\n",
    "# Check COM mode is 1/np.sqrt(N)\n",
    "y_vecs[:,9], np.sqrt(np.abs(y_vals[9]))/2/np.pi, 1/np.sqrt(N)"
   ]
  },
  {
   "cell_type": "code",
   "execution_count": 146,
   "metadata": {},
   "outputs": [
    {
     "data": {
      "text/plain": [
       "(array([2507544., 1109421., 3137589., 2212391.,  641677.,  962327.,\n",
       "        1362686., 1268873.,  980242., 1000000.]),\n",
       " array([[ 1.    ,  0.0642, -0.0216,  0.2875,  0.3101,  0.0503, -0.0093,\n",
       "         -0.056 ,  0.4627,  0.3162],\n",
       "        [ 0.    ,  0.9979, -0.0022, -0.013 ,  0.734 , -0.0173,  0.0079,\n",
       "          0.047 ,  0.461 ,  0.3162],\n",
       "        [ 0.    ,  0.    ,  0.9998,  0.1858,  0.0036,  0.454 , -0.0527,\n",
       "         -0.2793,  0.095 ,  0.3162],\n",
       "        [ 0.    ,  0.    ,  0.    ,  0.9395,  0.0146,  0.5613, -0.0864,\n",
       "         -0.5473,  0.2612,  0.3162],\n",
       "        [ 0.    ,  0.    ,  0.    ,  0.    ,  0.6041, -0.0291, -0.0015,\n",
       "          0.0111,  0.4675,  0.3162],\n",
       "        [ 0.    ,  0.    ,  0.    ,  0.    ,  0.    ,  0.6893, -0.0941,\n",
       "         -0.5864,  0.1157,  0.3162],\n",
       "        [ 0.    ,  0.    ,  0.    ,  0.    ,  0.    ,  0.    ,  0.9903,\n",
       "          0.4301,  0.0061,  0.3162],\n",
       "        [ 0.    ,  0.    ,  0.    ,  0.    ,  0.    ,  0.    ,  0.    ,\n",
       "          0.2969,  0.0177,  0.3162],\n",
       "        [ 0.    ,  0.    ,  0.    ,  0.    ,  0.    ,  0.    ,  0.    ,\n",
       "          0.    ,  0.5136,  0.3162],\n",
       "        [ 0.    ,  0.    ,  0.    ,  0.    ,  0.    ,  0.    ,  0.    ,\n",
       "          0.    ,  0.    ,  0.3162]]))"
      ]
     },
     "execution_count": 146,
     "metadata": {},
     "output_type": "execute_result"
    }
   ],
   "source": [
    "# Compute z modes\n",
    "\n",
    "# THERE SHOULD NOT BE MODES LOWER THAN THE COM MODE (in the axial direction)\n",
    "\n",
    "z_vals, z_vecs = np.linalg.eig(normal_modes(wz))\n",
    "z_freqs = np.round(np.sqrt(np.abs(z_vals))/2/np.pi)\n",
    "z_freqs, np.round(z_vecs, 4)"
   ]
  },
  {
   "cell_type": "code",
   "execution_count": 147,
   "metadata": {},
   "outputs": [
    {
     "data": {
      "image/png": "[encoded data removed]",
      "text/plain": [
       "<Figure size 432x288 with 1 Axes>"
      ]
     },
     "metadata": {
      "needs_background": "light"
     },
     "output_type": "display_data"
    },
    {
     "data": {
      "text/plain": [
       "(array([0.31622777, 0.31622777, 0.31622777, 0.31622777, 0.31622777,\n",
       "        0.31622777, 0.31622777, 0.31622777, 0.31622777, 0.31622777]),\n",
       " 1000000.0,\n",
       " 0.31622776601683794)"
      ]
     },
     "execution_count": 147,
     "metadata": {},
     "output_type": "execute_result"
    }
   ],
   "source": [
    "adjusted_freqs = (np.abs(z_freqs) - z_freqs[-1])/1000\n",
    "plt.vlines(adjusted_freqs, [0]*N, [2]*N)\n",
    "plt.title('Mode frequency - COM frequency (kHz)')\n",
    "plt.show()\n",
    "\n",
    "# Check COM mode is 1/np.sqrt(N)\n",
    "z_vecs[:,9], np.sqrt(np.abs(z_vals[9]))/2/np.pi, 1/np.sqrt(N)"
   ]
  },
  {
   "cell_type": "markdown",
   "metadata": {},
   "source": [
    "### Ion-ion interactions\n",
    "The effective interaction term is along kth axis is\n",
    "\n",
    "$$\n",
    "J_{ij} = \\Omega^2 \\frac{\\hbar \\Delta k^2}{2 m}\\sum_{m=1}^N\\frac{b_{im} b_{jm}}{\\mu^2-(\\omega_m^k)^2}\n",
    "$$\n",
    "\n",
    "where $b_{im}$ is the normal mode eigenvector component of the ith ion in mode m."
   ]
  },
  {
   "cell_type": "code",
   "execution_count": 8,
   "metadata": {},
   "outputs": [],
   "source": [
    "hbar = 1.054571817e-34\n",
    "Omega = 2*np.pi * 1.5e6\n",
    "dk = np.sqrt(2) / 355e-9\n",
    "mu = 2*np.pi * 350e3\n",
    "\n",
    "def J_ij(i, j, i_eig_vec, j_eig_vec, mu, ws, Omega=Omega, m=m, hbar=hbar, dk=dk):\n",
    "    prefactor = Omega**2 * hbar*dk**2/2/m\n",
    "    num_modes = i_eig_vec.shape[1]\n",
    "    J_ij = 0\n",
    "    for m in range(num_modes):\n",
    "        J_ij += (i_eig_vec[i,m] * j_eig_vec[j,m])/(mu**2 - ws[m]**2)\n",
    "    return prefactor * i_eig_vec[i]\n"
   ]
  },
  {
   "cell_type": "code",
   "execution_count": null,
   "metadata": {},
   "outputs": [],
   "source": []
  }
 ],
 "metadata": {
  "kernelspec": {
   "display_name": "Python 3",
   "language": "python",
   "name": "python3"
  },
  "language_info": {
   "codemirror_mode": {
    "name": "ipython",
    "version": 3
   },
   "file_extension": ".py",
   "mimetype": "text/x-python",
   "name": "python",
   "nbconvert_exporter": "python",
   "pygments_lexer": "ipython3",
   "version": "3.6.4"
  }
 },
 "nbformat": 4,
 "nbformat_minor": 2
}
