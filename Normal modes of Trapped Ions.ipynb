{
 "cells": [
  {
   "cell_type": "markdown",
   "metadata": {},
   "source": [
    "# Normal Modes: Ion Chain\n",
    "Here we estimate normal modes of ion chains and ion pancakes using classical estimations"
   ]
  },
  {
   "cell_type": "code",
   "execution_count": 1,
   "metadata": {},
   "outputs": [],
   "source": [
    "import numpy as np\n",
    "from numpy.\n",
    "import matplotlib.pyplot as plt\n",
    "\n",
    "from scipy.optimize import minimize\n",
    "from scipy.stats import linregress\n"
   ]
  },
  {
   "cell_type": "markdown",
   "metadata": {},
   "source": [
    "The energy potential for N identical ions in a linear Paul trap can be estimated as identical masses connected in a 3D harmonic potential. Each ion interacts through it's positive electric charge.\n",
    "\n",
    "$$\n",
    "V(x,y) = \\sum_{i=1}^{N}\\left(\\frac{1}{2}m \\omega_x^2 x_i^2 + \\frac{1}{2}m \\omega_y^2 y_i^2 + \\frac{1}{2}m \\omega_z^2 z_i^2\\right) + \\sum_{i<j}^{N}\\frac{e^2}{4\\pi \\epsilon_0 \\sqrt{(x_i-x_j)^2 + (y_i-y_j)^2+ (z_i-z_j)^2}}\n",
    "$$\n",
    "\n",
    "There are $3N + \\sim N^2$ terms in the potential making the problem $\\sim O(N^2)$ hard."
   ]
  },
  {
   "cell_type": "code",
   "execution_count": 39,
   "metadata": {},
   "outputs": [
    {
     "name": "stdout",
     "output_type": "stream",
     "text": [
      "alpha 3.0\n"
     ]
    }
   ],
   "source": [
    "# number of ions\n",
    "N = 6\n",
    "\n",
    "# constants\n",
    "m = 170.936323 * 1.66054e-27\n",
    "e = 1.60217662e-19\n",
    "epsilon_0 = 8.85418782e-12\n",
    "\n",
    "# harmonic frequencies\n",
    "wx = 2 * np.pi * 300000\n",
    "wy = wx\n",
    "wz = 3.0*wx\n",
    "\n",
    "def potential_energy(positions, wx=wx, wy=wy, wz=wz, N=N, m=m, e=e, epsilon_0=epsilon_0):\n",
    "    xs = positions[:N]\n",
    "    ys = positions[N:2*N]\n",
    "    zs = positions[2*N:3*N]\n",
    "    \n",
    "    # harmonic energy\n",
    "    harm_energy = np.sum(1/2 * m * (wx**2 * xs**2 + wy**2 * ys**2 + wz**2 * zs**2))\n",
    "\n",
    "    # electronic interaction\n",
    "    interaction = 0\n",
    "    for i in range(N):\n",
    "        for j in range(i+1,N):\n",
    "            interaction += 1/np.sqrt((xs[i]-xs[j])**2 + (ys[i]-ys[j])**2 + (zs[i]-zs[j])**2)\n",
    "    interaction = e**2/4/np.pi/epsilon_0 * interaction\n",
    "\n",
    "    return harm_energy + interaction\n",
    "\n",
    "print('alpha',wz/wx)"
   ]
  },
  {
   "cell_type": "code",
   "execution_count": 44,
   "metadata": {},
   "outputs": [
    {
     "data": {
      "text/plain": [
       "array([-7.98540934e-06,  5.48388044e-06,  7.44295840e-06, -4.06199704e-06,\n",
       "        8.22302227e-09, -8.81945556e-07,  1.67501516e-06, -6.04989732e-06,\n",
       "        3.35176276e-06, -7.07906074e-06, -7.76463590e-09,  8.11001512e-06,\n",
       "        2.99354118e-08,  5.80667423e-08,  2.55113998e-08,  1.79887692e-08,\n",
       "       -1.37775541e-08, -3.65678497e-08])"
      ]
     },
     "execution_count": 44,
     "metadata": {},
     "output_type": "execute_result"
    }
   ],
   "source": [
    "# Initial guess and minimization\n",
    "xs_0 = random.sample(range(-N,N), N)\n",
    "ys_0 = random.sample(range(-N,N), N)\n",
    "zs_0 = [0] * N\n",
    "\n",
    "x0 = np.array(xs_0 + ys_0 + zs_0) * 1e-6\n",
    "res = minimize(potential_energy, x0, method='Nelder-Mead', tol=1e-18)\n",
    "\n",
    "# Educated guess. 2nd minimization\n",
    "x0 = res.x\n",
    "res = minimize(potential_energy, x0, method='Nelder-Mead', tol=1e-18)\n",
    "res.x"
   ]
  },
  {
   "cell_type": "code",
   "execution_count": 45,
   "metadata": {},
   "outputs": [
    {
     "data": {
      "image/png": "[encoded data removed]",
      "text/plain": [
       "<Figure size 432x432 with 1 Axes>"
      ]
     },
     "metadata": {
      "needs_background": "light"
     },
     "output_type": "display_data"
    },
    {
     "data": {
      "image/png": "[encoded data removed]",
      "text/plain": [
       "<Figure size 432x432 with 1 Axes>"
      ]
     },
     "metadata": {
      "needs_background": "light"
     },
     "output_type": "display_data"
    },
    {
     "data": {
      "image/png": "[encoded data removed]",
      "text/plain": [
       "<Figure size 432x432 with 1 Axes>"
      ]
     },
     "metadata": {
      "needs_background": "light"
     },
     "output_type": "display_data"
    }
   ],
   "source": [
    "# Plot radial plane\n",
    "xs = res.x[:N]\n",
    "ys = res.x[N:2*N]\n",
    "zs = res.x[2*N:3*N]\n",
    "\n",
    "plt.figure(figsize=(6,6))\n",
    "plt.scatter(xs*1e6, ys*1e6, marker='o',s = 100)\n",
    "plt.title('Ion equilibrium position')\n",
    "plt.xlabel('x position in micron')\n",
    "plt.ylabel('y position in micron')\n",
    "plt.ylim(-30,30)\n",
    "plt.xlim(-30,30)\n",
    "plt.show()\n",
    "\n",
    "plt.figure(figsize=(6,6))\n",
    "plt.scatter(xs*1e6, zs*1e6, marker='o',s = 100)\n",
    "plt.title('Ion equilibrium position')\n",
    "plt.xlabel('x position in micron')\n",
    "plt.ylabel('z position in micron')\n",
    "plt.ylim(-30,30)\n",
    "plt.xlim(-30,30)\n",
    "plt.show()\n",
    "\n",
    "plt.figure(figsize=(6,6))\n",
    "plt.scatter(ys*1e6, zs*1e6, marker='o',s = 100)\n",
    "plt.title('Ion equilibrium position')\n",
    "plt.xlabel('y position in micron')\n",
    "plt.ylabel('z position in micron')\n",
    "plt.ylim(-30,30)\n",
    "plt.xlim(-30,30)\n",
    "plt.show()"
   ]
  },
  {
   "cell_type": "markdown",
   "metadata": {},
   "source": [
    "### Normal Modes\n",
    "Ions motion can be used to send quantum information through the crystal. To do this, it's essential to know the normal modes of the ions. Let's compute them based on the ion positions\n",
    "\n",
    "The energy potential for N identical ions in a linear Paul trap can be estimated as identical masses connected in a 3D harmonic potential. Each ion interacts through it's positive electric charge.\n",
    "\n",
    "$$\n",
    "L = \\frac{1}{2}m\\sum_{i=1}^{N}\\left(\\dot{x_i}^2 + \\dot{y_i}^2 + \\dot{z_i}^2\\right) + \\sum_{i=1}^{N}\\left(\\frac{1}{2}m \\omega_x^2 x_i^2 + \\frac{1}{2}m \\omega_y^2 y_i^2 + \\frac{1}{2}m \\omega_z^2 z_i^2\\right) + \\sum_{i<j}^{N}\\frac{e^2}{4\\pi \\epsilon_0 \\sqrt{(x_i-x_j)^2 + (y_i-y_j)^2+ (z_i-z_j)^2}}\n",
    "$$\n",
    "\n",
    "equations of motion\n",
    "\n",
    "$$\n",
    "\\sum_{i=1}^{N}\\ddot{x_i} = \\sum_{i=1}^{N}\\omega_x^2 x_i - \\frac{e^2}{4 \\pi \\epsilon_0 m}\\sum_{i<j}^{N}\\frac{x_i - x_j}{\\left((x_i-x_j)^2 + (y_i-y_j)^2+ (z_i-z_j)^2\\right)^{3/2}}\n",
    "$$\n",
    "\n",
    "$$\n",
    "\\sum_{i=1}^{N}\\ddot{y_i} = \\sum_{i=1}^{N}\\omega_y^2 y_i - \\frac{e^2}{4 \\pi \\epsilon_0 m}\\sum_{i<j}^{N}\\frac{y_i - y_j}{\\left((x_i-x_j)^2 + (y_i-y_j)^2+ (z_i-z_j)^2\\right)^{3/2}}\n",
    "$$\n",
    "\n",
    "$$\n",
    "\\sum_{i=1}^{N}\\ddot{z_i} = \\sum_{i=1}^{N}\\omega_z^2 z_i - \\frac{e^2}{4 \\pi \\epsilon_0 m}\\sum_{i<j}^{N}\\frac{z_i - z_j}{\\left((x_i-x_j)^2 + (y_i-y_j)^2+ (z_i-z_j)^2\\right)^{3/2}}\n",
    "$$"
   ]
  },
  {
   "cell_type": "code",
   "execution_count": 8,
   "metadata": {},
   "outputs": [],
   "source": [
    "x_matrix = np.zeros((N,N))\n",
    "\n",
    "# Add harmonic terms to matrix\n",
    "x_matrix += wx**2 * np.diag(xs)\n",
    "\n",
    "# Add cross terms to matrix\n",
    "cross_terms = np.zeros((N,N))\n",
    "for i in range(N):\n",
    "    for j in range(i+1,N):\n",
    "        cross_terms[i,j] += (xs[i] - xs[j])/((xs[i]-xs[j])**2+(ys[i]-ys[j])**2+(zs[i]-zs[j])**2)**(3/2)\n",
    "prefactor = -e**2/4/np.pi/epsilon_0/m\n",
    "\n",
    "x_matrix += prefactor * cross_terms\n"
   ]
  },
  {
   "cell_type": "code",
   "execution_count": 9,
   "metadata": {},
   "outputs": [
    {
     "data": {
      "text/plain": [
       "(array([-1.41860240e+07, -2.29930285e+07, -7.66389805e+03,  2.29784950e+07,\n",
       "         1.42235699e+07]),\n",
       " array([[ 1.        ,  0.4080862 , -0.0169134 ,  0.0910358 ,  0.37727109],\n",
       "        [ 0.        ,  0.9129434 ,  0.40804253,  0.18373619,  0.21603077],\n",
       "        [ 0.        ,  0.        ,  0.91280624,  0.39995691,  0.32822653],\n",
       "        [ 0.        ,  0.        ,  0.        ,  0.89330172,  0.34215677],\n",
       "        [ 0.        ,  0.        ,  0.        ,  0.        ,  0.76563263]]))"
      ]
     },
     "execution_count": 9,
     "metadata": {},
     "output_type": "execute_result"
    }
   ],
   "source": [
    "eig_vals, eig_vecs = np.linalg.eig(x_matrix)\n",
    "eig_vals, eig_vecs"
   ]
  },
  {
   "cell_type": "code",
   "execution_count": 7,
   "metadata": {},
   "outputs": [
    {
     "data": {
      "text/plain": [
       "array([599.44656688, 763.1646056 ,  13.93301135, 762.92337541,\n",
       "       600.23931535])"
      ]
     },
     "execution_count": 7,
     "metadata": {},
     "output_type": "execute_result"
    }
   ],
   "source": [
    "np.sqrt(np.abs(eig_vals))/2/np.pi"
   ]
  },
  {
   "cell_type": "code",
   "execution_count": 15,
   "metadata": {},
   "outputs": [
    {
     "data": {
      "text/plain": [
       "5"
      ]
     },
     "execution_count": 15,
     "metadata": {},
     "output_type": "execute_result"
    }
   ],
   "source": [
    "N"
   ]
  },
  {
   "cell_type": "code",
   "execution_count": 46,
   "metadata": {},
   "outputs": [
    {
     "data": {
      "text/plain": [
       "5654866.776461627"
      ]
     },
     "execution_count": 46,
     "metadata": {},
     "output_type": "execute_result"
    }
   ],
   "source": [
    "wz"
   ]
  },
  {
   "cell_type": "code",
   "execution_count": null,
   "metadata": {},
   "outputs": [],
   "source": []
  }
 ],
 "metadata": {
  "kernelspec": {
   "display_name": "Python 3",
   "language": "python",
   "name": "python3"
  },
  "language_info": {
   "codemirror_mode": {
    "name": "ipython",
    "version": 3
   },
   "file_extension": ".py",
   "mimetype": "text/x-python",
   "name": "python",
   "nbconvert_exporter": "python",
   "pygments_lexer": "ipython3",
   "version": "3.6.4"
  }
 },
 "nbformat": 4,
 "nbformat_minor": 2
}
