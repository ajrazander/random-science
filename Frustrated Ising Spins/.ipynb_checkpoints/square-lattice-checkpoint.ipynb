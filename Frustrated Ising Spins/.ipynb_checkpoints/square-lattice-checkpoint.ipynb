{
 "cells": [
  {
   "cell_type": "code",
   "execution_count": 2,
   "metadata": {},
   "outputs": [],
   "source": [
    "import numpy as np"
   ]
  },
  {
   "cell_type": "markdown",
   "metadata": {},
   "source": [
    "# Frustrated Square Lattice\n",
    "A square (antiferromagnetic) lattice is frustrated when at least nearest and next-nearest neighbor $\\sigma^z$ interactions are considered."
   ]
  },
  {
   "cell_type": "markdown",
   "metadata": {},
   "source": [
    "## Lattice Geometry\n",
    "Imagine a square lattice unit cell of 4 spins. Spin 1 is in the bottom left; spin 2 is in the bottom right; spin 3 is in the top left; and spin 4 is in the top right. Nearest neighbor interactions are allowed with strength $J_0 > 0$. Next-nearest interactions are also allowed with strength $J_1 > 0$. The Hamiltonian is then\n",
    "\n",
    "$$\n",
    "H = J_0\\sum_{\\langle ij \\rangle}\\sigma_{i}^{z}\\sigma_{j}^{z} + J_1\\sum_{\\langle \\langle ij \\rangle \\rangle}\\sigma_{i}^{z}\\sigma_{j}^{z} + h \\sum_i \\sigma_x\n",
    "$$\n",
    "\n",
    "where $\\langle ij \\rangle$ denotes nearest neighbor interactions, and $ \\langle \\langle ij \\rangle \\rangle$ denotes next-nearest neighbor interactions. For the 4 spin, square lattice, the Hamiltonian is\n",
    "\n",
    "$$\n",
    "H = J_0 \\left(\\sigma_1^{z} \\sigma_2^{z} + \\sigma_1^{z} \\sigma_3^{z} + \\sigma_2^{z} \\sigma_4^{z} + \\sigma_3^{z} \\sigma_4^{z} \\right) + J_1 \\left(\\sigma_1^{z} \\sigma_4^{z} + \\sigma_2^{z} \\sigma_4^{z} \\right)\n",
    "$$"
   ]
  },
  {
   "cell_type": "code",
   "execution_count": 3,
   "metadata": {},
   "outputs": [
    {
     "data": {
      "text/plain": [
       "(-1, 1, 1, -1)"
      ]
     },
     "execution_count": 3,
     "metadata": {},
     "output_type": "execute_result"
    }
   ],
   "source": [
    "-1,1,1,-1"
   ]
  },
  {
   "cell_type": "code",
   "execution_count": 4,
   "metadata": {},
   "outputs": [],
   "source": [
    "z = np.array([[1,0],[0,-1]])\n",
    "x = np.array([[0,1],[1,0]])\n",
    "iden = np.identity(2)\n",
    "\n",
    "state_map = {0:'0000',1:'0001',2:'0010',3:'0011',4:'0100',5:'0101',6:'0110',7:'0111',8:'1000',9:'1001',10:'1010',11:'1011',12:'1100',13:'1101',14:'1110',15:'1111'}\n",
    "\n",
    "# Generate nearest neighbor interactions\n",
    "nn = np.kron(np.kron(np.kron(iden,iden),z),z)\n",
    "nn += np.kron(np.kron(np.kron(iden,z),iden),z)\n",
    "nn += np.kron(np.kron(np.kron(z,iden),z),iden)\n",
    "nn += np.kron(np.kron(np.kron(z,z),iden),iden)\n",
    "\n",
    "# Generate next-nearest neighbor interactions\n",
    "nnn = np.kron(np.kron(np.kron(z,iden),iden),z)\n",
    "nnn += np.kron(np.kron(np.kron(iden,z),z),iden)\n",
    "\n",
    "# Generate external field\n",
    "ef = np.kron(np.kron(np.kron(iden,iden),iden),x)\n",
    "ef += np.kron(np.kron(np.kron(iden,iden),x),iden)\n",
    "ef += np.kron(np.kron(np.kron(iden,x),iden),iden)\n",
    "ef += np.kron(np.kron(np.kron(x,iden),iden),iden)"
   ]
  },
  {
   "cell_type": "code",
   "execution_count": 5,
   "metadata": {},
   "outputs": [
    {
     "data": {
      "text/plain": [
       "array([[ 4.,  0.,  0.,  0.,  0.,  0.,  0.,  0.,  0.,  0.,  0.,  0.,  0.,\n",
       "         0.,  0.,  0.],\n",
       "       [ 0.,  0.,  0.,  0.,  0.,  0.,  0.,  0.,  0.,  0.,  0.,  0.,  0.,\n",
       "         0.,  0.,  0.],\n",
       "       [ 0.,  0.,  0.,  0.,  0.,  0.,  0.,  0.,  0.,  0.,  0.,  0.,  0.,\n",
       "         0.,  0.,  0.],\n",
       "       [ 0.,  0.,  0.,  0.,  0.,  0.,  0.,  0.,  0.,  0.,  0.,  0.,  0.,\n",
       "         0.,  0.,  0.],\n",
       "       [ 0.,  0.,  0.,  0.,  0.,  0.,  0.,  0.,  0.,  0.,  0.,  0.,  0.,\n",
       "         0.,  0.,  0.],\n",
       "       [ 0.,  0.,  0.,  0.,  0.,  0.,  0.,  0.,  0.,  0.,  0.,  0.,  0.,\n",
       "         0.,  0.,  0.],\n",
       "       [ 0.,  0.,  0.,  0.,  0.,  0., -4.,  0.,  0.,  0.,  0.,  0.,  0.,\n",
       "         0.,  0.,  0.],\n",
       "       [ 0.,  0.,  0.,  0.,  0.,  0.,  0.,  0.,  0.,  0.,  0.,  0.,  0.,\n",
       "         0.,  0.,  0.],\n",
       "       [ 0.,  0.,  0.,  0.,  0.,  0.,  0.,  0.,  0.,  0.,  0.,  0.,  0.,\n",
       "         0.,  0.,  0.],\n",
       "       [ 0.,  0.,  0.,  0.,  0.,  0.,  0.,  0.,  0., -4.,  0.,  0.,  0.,\n",
       "         0.,  0.,  0.],\n",
       "       [ 0.,  0.,  0.,  0.,  0.,  0.,  0.,  0.,  0.,  0.,  0.,  0.,  0.,\n",
       "         0.,  0.,  0.],\n",
       "       [ 0.,  0.,  0.,  0.,  0.,  0.,  0.,  0.,  0.,  0.,  0.,  0.,  0.,\n",
       "         0.,  0.,  0.],\n",
       "       [ 0.,  0.,  0.,  0.,  0.,  0.,  0.,  0.,  0.,  0.,  0.,  0.,  0.,\n",
       "         0.,  0.,  0.],\n",
       "       [ 0.,  0.,  0.,  0.,  0.,  0.,  0.,  0.,  0.,  0.,  0.,  0.,  0.,\n",
       "         0.,  0.,  0.],\n",
       "       [ 0.,  0.,  0.,  0.,  0.,  0.,  0.,  0.,  0.,  0.,  0.,  0.,  0.,\n",
       "         0.,  0.,  0.],\n",
       "       [ 0.,  0.,  0.,  0.,  0.,  0.,  0.,  0.,  0.,  0.,  0.,  0.,  0.,\n",
       "         0.,  0.,  4.]])"
      ]
     },
     "execution_count": 5,
     "metadata": {},
     "output_type": "execute_result"
    }
   ],
   "source": [
    "# Remember J_0 and J_1 > 1 for antiferromangetic interactions\n",
    "def H(J_0, J_1, h):\n",
    "    return J_0 * nn + J_1 * nnn + h * ef\n",
    "\n",
    "H(1,0,0)"
   ]
  },
  {
   "cell_type": "markdown",
   "metadata": {},
   "source": [
    "## Check ferromagnetic case, no next-nearest neighbor"
   ]
  },
  {
   "cell_type": "code",
   "execution_count": 9,
   "metadata": {},
   "outputs": [
    {
     "data": {
      "text/plain": [
       "array([-4.,  0.,  0.,  0.,  0.,  0.,  4.,  0.,  0.,  4.,  0.,  0.,  0.,\n",
       "        0.,  0., -4.])"
      ]
     },
     "execution_count": 9,
     "metadata": {},
     "output_type": "execute_result"
    }
   ],
   "source": [
    "eig_vals, eig_vecs = np.linalg.eig(H(-1,0,0))\n",
    "eig_vecs = np.round(eig_vecs, 6)\n",
    "eig_vals = np.round(eig_vals, 6)\n",
    "eig_vals"
   ]
  },
  {
   "cell_type": "code",
   "execution_count": 11,
   "metadata": {},
   "outputs": [
    {
     "name": "stdout",
     "output_type": "stream",
     "text": [
      "0000\n",
      "1111\n"
     ]
    }
   ],
   "source": [
    "min_val = np.min(eig_vals)\n",
    "ground_states = []\n",
    "for i in range(len(eig_vals)):\n",
    "    if(eig_vals[i] == min_val):\n",
    "        ground_states.append(eig_vecs[i])\n",
    "\n",
    "for g_state in ground_states:\n",
    "    print(state_map[np.argmax(g_state)])"
   ]
  },
  {
   "cell_type": "markdown",
   "metadata": {},
   "source": [
    "Ground states (-4 eigenvalue) are all up or all down spins as expected for the ferromagnetic case with only nearest neighbor interactions"
   ]
  },
  {
   "cell_type": "markdown",
   "metadata": {},
   "source": [
    "## Check antiferromagnetic case, no next-nearest neighbor"
   ]
  },
  {
   "cell_type": "code",
   "execution_count": 14,
   "metadata": {},
   "outputs": [
    {
     "data": {
      "text/plain": [
       "array([ 4.,  0.,  0.,  0.,  0.,  0., -4.,  0.,  0., -4.,  0.,  0.,  0.,\n",
       "        0.,  0.,  4.])"
      ]
     },
     "execution_count": 14,
     "metadata": {},
     "output_type": "execute_result"
    }
   ],
   "source": [
    "eig_vals, eig_vecs = np.linalg.eig(H(1,0,0))\n",
    "eig_vecs = np.round(eig_vecs, 6)\n",
    "eig_vals = np.round(eig_vals, 6)\n",
    "eig_vals"
   ]
  },
  {
   "cell_type": "code",
   "execution_count": 15,
   "metadata": {},
   "outputs": [
    {
     "name": "stdout",
     "output_type": "stream",
     "text": [
      "0110\n",
      "1001\n"
     ]
    }
   ],
   "source": [
    "min_val = np.min(eig_vals)\n",
    "ground_states = []\n",
    "for i in range(len(eig_vals)):\n",
    "    if(eig_vals[i] == min_val):\n",
    "        ground_states.append(eig_vecs[i])\n",
    "\n",
    "for g_state in ground_states:\n",
    "    print(state_map[np.argmax(g_state)])"
   ]
  },
  {
   "cell_type": "markdown",
   "metadata": {},
   "source": [
    "Ground states (-4 eigenvalue) are alternating up and down as expected for the antiferromagnetic case with only nearest neighbor interactions"
   ]
  },
  {
   "cell_type": "markdown",
   "metadata": {},
   "source": [
    "## Equal weight nn and nnn interactions"
   ]
  },
  {
   "cell_type": "code",
   "execution_count": 16,
   "metadata": {},
   "outputs": [
    {
     "data": {
      "text/plain": [
       "array([ 6.,  0.,  0., -2.,  0., -2., -2.,  0.,  0., -2., -2.,  0., -2.,\n",
       "        0.,  0.,  6.])"
      ]
     },
     "execution_count": 16,
     "metadata": {},
     "output_type": "execute_result"
    }
   ],
   "source": [
    "eig_vals, eig_vecs = np.linalg.eig(H(1,1,0))\n",
    "eig_vals"
   ]
  },
  {
   "cell_type": "code",
   "execution_count": 17,
   "metadata": {},
   "outputs": [
    {
     "name": "stdout",
     "output_type": "stream",
     "text": [
      "Ground states:\n",
      "0011\n",
      "0101\n",
      "0110\n",
      "1001\n",
      "1010\n",
      "1100\n"
     ]
    }
   ],
   "source": [
    "min_val = np.min(eig_vals)\n",
    "ground_states = []\n",
    "for i in range(len(eig_vals)):\n",
    "    if(eig_vals[i] == min_val):\n",
    "        ground_states.append(eig_vecs[i])\n",
    "        \n",
    "print(\"Ground states:\")\n",
    "for g_state in ground_states:\n",
    "    print(state_map[np.argmax(g_state)])"
   ]
  },
  {
   "cell_type": "code",
   "execution_count": null,
   "metadata": {},
   "outputs": [],
   "source": []
  },
  {
   "cell_type": "code",
   "execution_count": null,
   "metadata": {},
   "outputs": [],
   "source": []
  }
 ],
 "metadata": {
  "kernelspec": {
   "display_name": "Python 3",
   "language": "python",
   "name": "python3"
  },
  "language_info": {
   "codemirror_mode": {
    "name": "ipython",
    "version": 3
   },
   "file_extension": ".py",
   "mimetype": "text/x-python",
   "name": "python",
   "nbconvert_exporter": "python",
   "pygments_lexer": "ipython3",
   "version": "3.7.7"
  }
 },
 "nbformat": 4,
 "nbformat_minor": 4
}
