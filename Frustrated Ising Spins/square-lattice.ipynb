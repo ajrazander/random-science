{
 "cells": [
  {
   "cell_type": "markdown",
   "metadata": {},
   "source": [
    "# Frustrated Square Lattice\n",
    "A square lattice is frustrated when at least nearest and next-nearest neighbor interactions are considered."
   ]
  },
  {
   "cell_type": "code",
   "execution_count": 1,
   "metadata": {},
   "outputs": [],
   "source": [
    "import numpy as np"
   ]
  },
  {
   "cell_type": "markdown",
   "metadata": {},
   "source": [
    "## Lattice Geometry\n",
    "Imagine a square lattice unit cell of 4 spins. Spin 1 is in the bottom left; spin 2 is in the bottom right; spin 3 is in the top left; and spin 4 is in the top right. Nearest neighbor interactions are allowed with strength $J_0 > 0$. Next-nearest interactions are also allowed with strength $J_1 > 0$."
   ]
  },
  {
   "cell_type": "code",
   "execution_count": null,
   "metadata": {},
   "outputs": [],
   "source": [
    "\n",
    "z = np.array([[1,0],[0,-1]])\n",
    "iden = np.identity(2)\n"
   ]
  }
 ],
 "metadata": {
  "kernelspec": {
   "display_name": "Python 3",
   "language": "python",
   "name": "python3"
  },
  "language_info": {
   "codemirror_mode": {
    "name": "ipython",
    "version": 3
   },
   "file_extension": ".py",
   "mimetype": "text/x-python",
   "name": "python",
   "nbconvert_exporter": "python",
   "pygments_lexer": "ipython3",
   "version": "3.6.4"
  }
 },
 "nbformat": 4,
 "nbformat_minor": 4
}
