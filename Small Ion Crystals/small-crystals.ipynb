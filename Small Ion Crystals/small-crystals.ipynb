{
 "cells": [
  {
   "cell_type": "markdown",
   "metadata": {},
   "source": [
    "# Small Ion Crystal Geometries\n",
    "Ions trapped in a linear Paul trap can be squeezed into 2D crystals. The geometry of the crystal is quick different for small ion numbers. This notebook calculates what those geometries will look like and relative distances between ions."
   ]
  },
  {
   "cell_type": "code",
   "execution_count": 1,
   "metadata": {},
   "outputs": [],
   "source": [
    "import numpy as np"
   ]
  },
  {
   "cell_type": "markdown",
   "metadata": {},
   "source": [
    "## Confining Potential\n",
    "The effective confining potential for 2D ion crystals is a harmonic oscillator with frequency $\\omega_r$ and radial distance $r$.\n",
    "\n",
    "$$\n",
    "V_h = \\frac{1}{2}m \\omega_r^2 r^2\n",
    "$$\n",
    "\n",
    "The ion's repel each other through the Coulomb interactions. Since I'm only interested in relative distances, we can simplify this as\n",
    "\n",
    "$$\n",
    "V_c =\\frac{q^2}{4\\pi \\epsilon_0} \\sum_i^N\\frac{1}{|r - r_i|}\n",
    "$$"
   ]
  },
  {
   "cell_type": "code",
   "execution_count": 90,
   "metadata": {},
   "outputs": [],
   "source": [
    "z = np.array([[1,0],[0,-1]])\n",
    "x = np.array([[0,1],[1,0]])\n",
    "iden = np.identity(2)\n",
    "\n",
    "state_map = {0:'0000',1:'0001',2:'0010',3:'0011',4:'0100',5:'0101',6:'0110',7:'0111',8:'1000',9:'1001',10:'1010',11:'1011',12:'1100',13:'1101',14:'1110',15:'1111'}\n",
    "\n",
    "# Generate nearest neighbor interactions\n",
    "nn = np.kron(np.kron(np.kron(iden,iden),z),z)\n",
    "nn += np.kron(np.kron(np.kron(iden,z),iden),z)\n",
    "nn += np.kron(np.kron(np.kron(z,iden),z),iden)\n",
    "nn += np.kron(np.kron(np.kron(z,z),iden),iden)\n",
    "\n",
    "# Generate next-nearest neighbor interactions\n",
    "nnn = np.kron(np.kron(np.kron(z,iden),iden),z)\n",
    "nnn += np.kron(np.kron(np.kron(iden,z),z),iden)\n",
    "\n",
    "# Generate external field\n",
    "ef = np.kron(np.kron(np.kron(iden,iden),iden),x)\n",
    "ef += np.kron(np.kron(np.kron(iden,iden),x),iden)\n",
    "ef += np.kron(np.kron(np.kron(iden,x),iden),iden)\n",
    "ef += np.kron(np.kron(np.kron(x,iden),iden),iden)"
   ]
  },
  {
   "cell_type": "code",
   "execution_count": 92,
   "metadata": {},
   "outputs": [
    {
     "data": {
      "text/plain": [
       "array([[ 4.,  0.,  0.,  0.,  0.,  0.,  0.,  0.,  0.,  0.,  0.,  0.,  0.,\n",
       "         0.,  0.,  0.],\n",
       "       [ 0.,  0.,  0.,  0.,  0.,  0.,  0.,  0.,  0.,  0.,  0.,  0.,  0.,\n",
       "         0.,  0.,  0.],\n",
       "       [ 0.,  0.,  0.,  0.,  0.,  0.,  0.,  0.,  0.,  0.,  0.,  0.,  0.,\n",
       "         0.,  0.,  0.],\n",
       "       [ 0.,  0.,  0.,  0.,  0.,  0.,  0.,  0.,  0.,  0.,  0.,  0.,  0.,\n",
       "         0.,  0.,  0.],\n",
       "       [ 0.,  0.,  0.,  0.,  0.,  0.,  0.,  0.,  0.,  0.,  0.,  0.,  0.,\n",
       "         0.,  0.,  0.],\n",
       "       [ 0.,  0.,  0.,  0.,  0.,  0.,  0.,  0.,  0.,  0.,  0.,  0.,  0.,\n",
       "         0.,  0.,  0.],\n",
       "       [ 0.,  0.,  0.,  0.,  0.,  0., -4.,  0.,  0.,  0.,  0.,  0.,  0.,\n",
       "         0.,  0.,  0.],\n",
       "       [ 0.,  0.,  0.,  0.,  0.,  0.,  0.,  0.,  0.,  0.,  0.,  0.,  0.,\n",
       "         0.,  0.,  0.],\n",
       "       [ 0.,  0.,  0.,  0.,  0.,  0.,  0.,  0.,  0.,  0.,  0.,  0.,  0.,\n",
       "         0.,  0.,  0.],\n",
       "       [ 0.,  0.,  0.,  0.,  0.,  0.,  0.,  0.,  0., -4.,  0.,  0.,  0.,\n",
       "         0.,  0.,  0.],\n",
       "       [ 0.,  0.,  0.,  0.,  0.,  0.,  0.,  0.,  0.,  0.,  0.,  0.,  0.,\n",
       "         0.,  0.,  0.],\n",
       "       [ 0.,  0.,  0.,  0.,  0.,  0.,  0.,  0.,  0.,  0.,  0.,  0.,  0.,\n",
       "         0.,  0.,  0.],\n",
       "       [ 0.,  0.,  0.,  0.,  0.,  0.,  0.,  0.,  0.,  0.,  0.,  0.,  0.,\n",
       "         0.,  0.,  0.],\n",
       "       [ 0.,  0.,  0.,  0.,  0.,  0.,  0.,  0.,  0.,  0.,  0.,  0.,  0.,\n",
       "         0.,  0.,  0.],\n",
       "       [ 0.,  0.,  0.,  0.,  0.,  0.,  0.,  0.,  0.,  0.,  0.,  0.,  0.,\n",
       "         0.,  0.,  0.],\n",
       "       [ 0.,  0.,  0.,  0.,  0.,  0.,  0.,  0.,  0.,  0.,  0.,  0.,  0.,\n",
       "         0.,  0.,  4.]])"
      ]
     },
     "execution_count": 92,
     "metadata": {},
     "output_type": "execute_result"
    }
   ],
   "source": [
    "# Remember J_0 and J_1 > 1 for antiferromangetic interactions\n",
    "def H(J_0, J_1, h):\n",
    "    return J_0 * nn + J_1 * nnn + h * ef\n",
    "\n",
    "H(1,0,0)"
   ]
  },
  {
   "cell_type": "markdown",
   "metadata": {},
   "source": [
    "## Check ferromagnetic case, no next-nearest neighbor"
   ]
  },
  {
   "cell_type": "code",
   "execution_count": 114,
   "metadata": {},
   "outputs": [
    {
     "data": {
      "text/plain": [
       "array([-5.226252, -4.828427,  5.226252, -2.164784,  2.164784,  0.828427,\n",
       "        4.828427, -0.828427,  2.      ,  2.      , -2.      , -2.      ,\n",
       "        0.      , -0.      ,  0.      ,  0.      ])"
      ]
     },
     "execution_count": 114,
     "metadata": {},
     "output_type": "execute_result"
    }
   ],
   "source": [
    "eig_vals, eig_vecs = np.linalg.eig(H(-1,0,1))\n",
    "eig_vecs = np.round(eig_vecs, 6)\n",
    "eig_vals = np.round(eig_vals, 6)\n",
    "eig_vals"
   ]
  },
  {
   "cell_type": "code",
   "execution_count": 116,
   "metadata": {},
   "outputs": [
    {
     "name": "stdout",
     "output_type": "stream",
     "text": [
      "0001\n"
     ]
    }
   ],
   "source": [
    "min_val = np.min(eig_vals)\n",
    "ground_states = []\n",
    "for i in range(len(eig_vals)):\n",
    "    if(eig_vals[i] == min_val):\n",
    "        ground_states.append(eig_vecs[i])\n",
    "\n",
    "for g_state in ground_states:\n",
    "    print(state_map[np.argmax(g_state)])"
   ]
  },
  {
   "cell_type": "markdown",
   "metadata": {},
   "source": [
    "Ground states (-4 eigenvalue) are all up or all down spins as expected for the ferromagnetic case with only nearest neighbor interactions"
   ]
  },
  {
   "cell_type": "markdown",
   "metadata": {},
   "source": [
    "## Check antiferromagnetic case, no next-nearest neighbor"
   ]
  },
  {
   "cell_type": "code",
   "execution_count": 107,
   "metadata": {},
   "outputs": [
    {
     "data": {
      "text/plain": [
       "array([ 5.226252+0.j,  4.828427+0.j,  2.164784+0.j, -5.226252+0.j,\n",
       "       -0.828427+0.j, -2.164784+0.j, -4.828427+0.j, -2.      +0.j,\n",
       "        0.828427+0.j,  2.      +0.j,  2.      +0.j, -2.      +0.j,\n",
       "       -0.      +0.j, -0.      -0.j, -0.      +0.j, -0.      +0.j])"
      ]
     },
     "execution_count": 107,
     "metadata": {},
     "output_type": "execute_result"
    }
   ],
   "source": [
    "eig_vals, eig_vecs = np.linalg.eig(H(1,0,1))\n",
    "eig_vecs = np.round(eig_vecs, 6)\n",
    "eig_vals = np.round(eig_vals, 6)\n",
    "eig_vals"
   ]
  },
  {
   "cell_type": "code",
   "execution_count": 102,
   "metadata": {},
   "outputs": [
    {
     "name": "stdout",
     "output_type": "stream",
     "text": [
      "0111\n"
     ]
    }
   ],
   "source": [
    "min_val = np.min(eig_vals)\n",
    "ground_states = []\n",
    "for i in range(len(eig_vals)):\n",
    "    if(eig_vals[i] == min_val):\n",
    "        ground_states.append(eig_vecs[i])\n",
    "\n",
    "for g_state in ground_states:\n",
    "    print(state_map[np.argmax(g_state)])"
   ]
  },
  {
   "cell_type": "markdown",
   "metadata": {},
   "source": [
    "Ground states (-4 eigenvalue) are alternating up and down as expected for the antiferromagnetic case with only nearest neighbor interactions"
   ]
  },
  {
   "cell_type": "markdown",
   "metadata": {},
   "source": [
    "## Equal weight nn and nnn interactions"
   ]
  },
  {
   "cell_type": "code",
   "execution_count": 98,
   "metadata": {},
   "outputs": [
    {
     "data": {
      "text/plain": [
       "array([ 6.,  0.,  0., -2.,  0., -2., -2.,  0.,  0., -2., -2.,  0., -2.,\n",
       "        0.,  0.,  6.])"
      ]
     },
     "execution_count": 98,
     "metadata": {},
     "output_type": "execute_result"
    }
   ],
   "source": [
    "eig_vals, eig_vecs = np.linalg.eig(H(1,1,0))\n",
    "eig_vals"
   ]
  },
  {
   "cell_type": "code",
   "execution_count": 99,
   "metadata": {},
   "outputs": [
    {
     "name": "stdout",
     "output_type": "stream",
     "text": [
      "Ground states:\n",
      "0011\n",
      "0101\n",
      "0110\n",
      "1001\n",
      "1010\n",
      "1100\n"
     ]
    }
   ],
   "source": [
    "min_val = np.min(eig_vals)\n",
    "ground_states = []\n",
    "for i in range(len(eig_vals)):\n",
    "    if(eig_vals[i] == min_val):\n",
    "        ground_states.append(eig_vecs[i])\n",
    "        \n",
    "print(\"Ground states:\")\n",
    "for g_state in ground_states:\n",
    "    print(state_map[np.argmax(g_state)])"
   ]
  },
  {
   "cell_type": "code",
   "execution_count": null,
   "metadata": {},
   "outputs": [],
   "source": []
  },
  {
   "cell_type": "code",
   "execution_count": null,
   "metadata": {},
   "outputs": [],
   "source": []
  }
 ],
 "metadata": {
  "kernelspec": {
   "display_name": "Python 3",
   "language": "python",
   "name": "python3"
  },
  "language_info": {
   "codemirror_mode": {
    "name": "ipython",
    "version": 3
   },
   "file_extension": ".py",
   "mimetype": "text/x-python",
   "name": "python",
   "nbconvert_exporter": "python",
   "pygments_lexer": "ipython3",
   "version": "3.6.10"
  }
 },
 "nbformat": 4,
 "nbformat_minor": 4
}
