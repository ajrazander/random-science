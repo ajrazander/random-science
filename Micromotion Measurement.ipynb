{
 "cells": [
  {
   "cell_type": "markdown",
   "metadata": {},
   "source": [
    "# Micromotion\n",
    "Trapped ions, to first order, under go harmonic motion $E = \\frac{1}{2}\\hbar \\left(\\omega_x^2 x^2 + \\omega_y^2 y^2 +\\omega_z^2 z^2 \\right)$. To second order, there are additional small harmonic oscillations on top of this motion oscillating with a characteristic distance $r_{\\mu} = \\frac{q}{2}\\cos (\\Omega t)$ where $q = (2 Q V_0) / (m d_0^2 \\Omega^2)$ is the Mathieu parameter. Let's consider only the micromotion $r_{\\mu}$"
   ]
  },
  {
   "cell_type": "code",
   "execution_count": null,
   "metadata": {},
   "outputs": [],
   "source": []
  }
 ],
 "metadata": {
  "kernelspec": {
   "display_name": "Python 3",
   "language": "python",
   "name": "python3"
  },
  "language_info": {
   "codemirror_mode": {
    "name": "ipython",
    "version": 3
   },
   "file_extension": ".py",
   "mimetype": "text/x-python",
   "name": "python",
   "nbconvert_exporter": "python",
   "pygments_lexer": "ipython3",
   "version": "3.6.4"
  }
 },
 "nbformat": 4,
 "nbformat_minor": 4
}
