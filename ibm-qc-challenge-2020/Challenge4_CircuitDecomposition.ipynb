{
 "cells": [
  {
   "cell_type": "markdown",
   "metadata": {},
   "source": [
    "# Exercise 4: Circuit Decomposition\n",
    "Wow! If you managed to solve the first three exercises, congratulations! The fourth problem is supposed to puzzle even the quantum experts among you, so don’t worry if you cannot solve it. If you can, hats off to you!\n",
    "\n",
    "You may recall from your quantum mechanics course that quantum theory is unitary. Therefore, the evolution of any (closed) system can be described by a unitary. But given an arbitrary unitary, can you actually implement it on your quantum computer?\n",
    "\n",
    "**\"A set of quantum gates is said to be universal if any unitary transformation of the quantum data can be efficiently approximated arbitrarily well as a sequence of gates in the set.\"** (https://qiskit.org/textbook/ch-algorithms/defining-quantum-circuits.html)\n",
    "\n",
    "Every gate you run on the IBM Quantum Experience is transpiled into single qubit rotations and CNOT (CX) gates. We know that these constitute a universal gate set, which implies that any unitary can be implemented using only these gates. However, in general it is not easy to find a good decomposition for an arbitrary unitary. Your task is to find such a decomposition.\n",
    "\n",
    "You are given the following unitary:"
   ]
  },
  {
   "cell_type": "code",
   "execution_count": 196,
   "metadata": {
    "scrolled": false
   },
   "outputs": [
    {
     "name": "stdout",
     "output_type": "stream",
     "text": [
      "U has shape (16, 16)\n"
     ]
    }
   ],
   "source": [
    "import numpy as np\n",
    "from tqdm import tqdm\n",
    "from qiskit.visualization import plot_state_hinton\n",
    "\n",
    "from may4_challenge.ex4 import get_unitary\n",
    "U = get_unitary()\n",
    "print(\"U has shape\", U.shape)"
   ]
  },
  {
   "cell_type": "code",
   "execution_count": 200,
   "metadata": {},
   "outputs": [
    {
     "data": {
      "image/png": "[encoded data removed]",
      "text/plain": [
       "<Figure size 576x360 with 2 Axes>"
      ]
     },
     "execution_count": 200,
     "metadata": {},
     "output_type": "execute_result"
    }
   ],
   "source": [
    "plot_state_hinton(U)"
   ]
  },
  {
   "cell_type": "markdown",
   "metadata": {},
   "source": [
    "#### What circuit would make such a complicated unitary?\n",
    "\n",
    "Is there some symmetry, or is it random? We just updated Qiskit with the introduction of a quantum circuit library (https://github.com/Qiskit/qiskit-terra/tree/master/qiskit/circuit/library). This library gives users access to a rich set of well-studied circuit families, instances of which can be used as benchmarks (quantum volume), as building blocks in building more complex circuits (adders), or as tools to explore quantum computational advantage over classical computation (instantaneous quantum polynomial complexity circuits)."
   ]
  },
  {
   "cell_type": "code",
   "execution_count": 8,
   "metadata": {},
   "outputs": [],
   "source": [
    "from qiskit import QuantumCircuit\n",
    "from qiskit import Aer\n",
    "from qiskit import execute\n",
    "from may4_challenge.ex4 import check_circuit, submit_circuit\n",
    "from qiskit.compiler import transpile"
   ]
  },
  {
   "cell_type": "markdown",
   "metadata": {},
   "source": [
    "**Using only single qubit rotations and CNOT gates, find a quantum circuit that approximates that unitary $U$ by a unitary $V$ up to an error $\\varepsilon = 0.01$, such that $\\lVert U - V\\rVert_2 \\leq \\varepsilon$ !** \n",
    "\n",
    "Note that the norm we are using here is the spectral norm, $\\qquad \\lVert A \\rVert_2 = \\max_{\\lVert \\psi \\rVert_2= 1} \\lVert A \\psi \\rVert$.\n",
    "\n",
    "This can be seen as the largest scaling factor that the matrix $A$ has on any initial (normalized) state $\\psi$. One can show that this norm corresponds to the largest singular value of $A$, i.e., the square root of the largest eigenvalue of the matrix $A^\\dagger A$, where $A^{\\dagger}$ denotes the conjugate transpose of $A$.\n",
    "\n",
    "**When you submit a circuit, we remove the global phase of the corresponding unitary $V$ before comparing it with $U$ using the spectral norm. For example, if you submit a circuit that generates $V = \\text{e}^{i\\theta}U$, we remove the global phase $\\text{e}^{i\\theta}$ from $V$ before computing the norm, and you will have a successful submission. As a result, you do not have to worry about matching the desired unitary, $U$, up to a global phase.**\n",
    "\n",
    "As the single-qubit gates have a much higher fidelity than the two-qubit gates, we will look at the number of CNOT-gates, $n_{cx}$, and the number of u3-gates, $n_{u3}$, to determine the cost of your decomposition as \n",
    "\n",
    "$$\n",
    "\\qquad \\text{cost} = 10 \\cdot n_{cx} + n_{u3}\n",
    "$$\n",
    "\n",
    "Try to optimize the cost of your decomposition. \n",
    "\n",
    "**Note that you will need to ensure that your circuit is composed only of $u3$ and $cx$ gates. The exercise is considered correctly solved if your cost is smaller than 1600.**\n",
    "\n",
    "---\n",
    "For useful tips to complete this exercise as well as pointers for communicating with other participants and asking questions, please take a look at the following [repository](https://github.com/qiskit-community/may4_challenge_exercises). You will also find a copy of these exercises, so feel free to edit and experiment with these notebooks.\n",
    "\n",
    "---"
   ]
  },
  {
   "cell_type": "code",
   "execution_count": 10,
   "metadata": {},
   "outputs": [],
   "source": [
    "iden = np.identity(2)\n",
    "x = np.array([[0,1], [1,0]])\n",
    "def U3(th, ph, la):\n",
    "    return np.array([[np.cos(th/2), -np.exp(1j*la)*np.sin(th/2)],[np.exp(1j*ph)*np.sin(th/2), np.exp(1j*(la + ph)) * np.cos(th/2)]])\n",
    "cnot10 = np.array([[1,0,0,0], [0,1,0,0], [0,0,0,1], [0,0,1,0]])\n",
    "cnot01 = np.array([[1,0,0,0], [0,0,0,1], [0,0,1,0], [0,1,0,0]])\n",
    "\n",
    "cnot__10 = np.kron(np.kron(iden, iden), cnot10)\n",
    "cnot_12_ = np.kron(np.kron(iden, cnot01), iden)\n",
    "cnot23__ = np.kron(np.kron(cnot01, iden), iden)"
   ]
  },
  {
   "cell_type": "code",
   "execution_count": null,
   "metadata": {},
   "outputs": [],
   "source": []
  },
  {
   "cell_type": "code",
   "execution_count": null,
   "metadata": {},
   "outputs": [],
   "source": []
  },
  {
   "cell_type": "code",
   "execution_count": 19,
   "metadata": {},
   "outputs": [
    {
     "data": {
      "text/plain": [
       "False"
      ]
     },
     "execution_count": 19,
     "metadata": {},
     "output_type": "execute_result"
    }
   ],
   "source": [
    "# eigendecompoistion of U\n",
    "eig_vals, eig_vecs = np.linalg.eig(U)\n",
    "# round\n",
    "Lam = np.diag(eig_vals)\n",
    "# Lam = np.round(Lam, 12)\n",
    "# eig_vecs = np.round(eig_vecs, 12)\n",
    " # same as U\n",
    "np.array_equal(U, eig_vecs @ Lam @ np.linalg.inv(eig_vecs))"
   ]
  },
  {
   "cell_type": "code",
   "execution_count": 28,
   "metadata": {},
   "outputs": [
    {
     "data": {
      "text/plain": [
       "array([[ 1.+0.j,  0.+0.j,  0.-0.j,  0.-0.j, -0.-0.j,  0.-0.j, -0.-0.j,\n",
       "         0.+0.j,  0.-0.j,  0.-0.j,  0.-0.j,  0.-0.j,  0.-0.j, -0.+0.j,\n",
       "        -0.-0.j, -0.-0.j],\n",
       "       [ 0.-0.j,  1.+0.j,  0.-0.j,  0.+0.j,  0.-0.j, -0.-0.j,  0.+0.j,\n",
       "        -0.+0.j, -0.-0.j, -0.-0.j,  0.-0.j, -0.+0.j,  0.-0.j,  0.+0.j,\n",
       "         0.-0.j, -0.-0.j],\n",
       "       [ 0.+0.j,  0.+0.j,  1.+0.j, -0.-0.j,  0.+0.j, -0.-0.j, -0.-0.j,\n",
       "        -0.-0.j, -0.+0.j,  0.+0.j,  0.-0.j,  0.-0.j, -0.-0.j, -0.-0.j,\n",
       "         0.-0.j,  0.+0.j],\n",
       "       [ 0.+0.j,  0.-0.j, -0.+0.j,  1.+0.j, -0.-0.j,  0.-0.j,  0.-0.j,\n",
       "         0.+0.j,  0.-0.j, -0.+0.j, -0.-0.j,  0.+0.j,  0.+0.j, -0.+0.j,\n",
       "         0.+0.j,  0.+0.j],\n",
       "       [-0.+0.j,  0.+0.j,  0.-0.j, -0.+0.j,  1.+0.j,  0.-0.j,  0.+0.j,\n",
       "        -0.+0.j,  0.-0.j,  0.-0.j, -0.+0.j,  0.+0.j,  0.+0.j,  0.-0.j,\n",
       "        -0.+0.j,  0.-0.j],\n",
       "       [ 0.+0.j, -0.+0.j, -0.+0.j,  0.+0.j,  0.+0.j,  1.+0.j,  0.-0.j,\n",
       "         0.-0.j,  0.-0.j,  0.+0.j,  0.-0.j, -0.-0.j,  0.+0.j, -0.+0.j,\n",
       "         0.+0.j,  0.+0.j],\n",
       "       [-0.+0.j,  0.-0.j, -0.+0.j,  0.+0.j,  0.-0.j,  0.+0.j,  1.+0.j,\n",
       "         0.+0.j, -0.+0.j,  0.+0.j, -0.-0.j,  0.-0.j,  0.-0.j,  0.-0.j,\n",
       "         0.-0.j,  0.-0.j],\n",
       "       [ 0.-0.j, -0.-0.j, -0.+0.j,  0.-0.j, -0.-0.j,  0.+0.j,  0.-0.j,\n",
       "         1.+0.j, -0.+0.j, -0.-0.j,  0.-0.j,  0.-0.j,  0.+0.j, -0.+0.j,\n",
       "        -0.+0.j,  0.+0.j],\n",
       "       [ 0.+0.j, -0.+0.j, -0.-0.j,  0.+0.j,  0.+0.j,  0.+0.j, -0.-0.j,\n",
       "        -0.-0.j,  1.+0.j,  0.+0.j,  0.-0.j,  0.-0.j, -0.+0.j, -0.-0.j,\n",
       "        -0.+0.j, -0.+0.j],\n",
       "       [ 0.+0.j, -0.+0.j,  0.-0.j, -0.-0.j,  0.+0.j,  0.-0.j,  0.-0.j,\n",
       "        -0.+0.j,  0.-0.j,  1.+0.j, -0.+0.j,  0.-0.j, -0.-0.j, -0.+0.j,\n",
       "        -0.+0.j, -0.-0.j],\n",
       "       [ 0.+0.j,  0.+0.j,  0.+0.j, -0.+0.j, -0.-0.j,  0.+0.j, -0.+0.j,\n",
       "         0.+0.j,  0.+0.j, -0.-0.j,  1.+0.j,  0.-0.j, -0.+0.j, -0.+0.j,\n",
       "         0.+0.j, -0.-0.j],\n",
       "       [ 0.+0.j, -0.-0.j,  0.+0.j,  0.-0.j,  0.-0.j, -0.+0.j,  0.+0.j,\n",
       "         0.+0.j,  0.+0.j,  0.+0.j,  0.+0.j,  1.+0.j,  0.-0.j, -0.-0.j,\n",
       "         0.-0.j, -0.-0.j],\n",
       "       [ 0.+0.j,  0.+0.j, -0.+0.j,  0.-0.j,  0.-0.j,  0.-0.j,  0.+0.j,\n",
       "         0.-0.j, -0.-0.j, -0.+0.j, -0.-0.j,  0.+0.j,  1.+0.j, -0.-0.j,\n",
       "         0.+0.j, -0.-0.j],\n",
       "       [-0.-0.j,  0.-0.j, -0.+0.j, -0.-0.j,  0.+0.j, -0.-0.j,  0.+0.j,\n",
       "        -0.-0.j, -0.+0.j, -0.-0.j, -0.-0.j, -0.+0.j, -0.+0.j,  1.+0.j,\n",
       "        -0.+0.j,  0.-0.j],\n",
       "       [-0.+0.j,  0.+0.j,  0.+0.j,  0.-0.j, -0.-0.j,  0.-0.j,  0.+0.j,\n",
       "        -0.-0.j, -0.-0.j, -0.-0.j,  0.-0.j,  0.+0.j,  0.-0.j, -0.-0.j,\n",
       "         1.+0.j,  0.+0.j],\n",
       "       [-0.+0.j, -0.+0.j,  0.-0.j,  0.-0.j,  0.+0.j,  0.-0.j,  0.+0.j,\n",
       "         0.-0.j, -0.-0.j, -0.+0.j, -0.+0.j, -0.+0.j, -0.+0.j,  0.+0.j,\n",
       "         0.-0.j,  1.+0.j]])"
      ]
     },
     "execution_count": 28,
     "metadata": {},
     "output_type": "execute_result"
    }
   ],
   "source": [
    "decomp = np.matmul(np.matmul(eig_vecs, Lam), np.linalg.inv(eig_vecs))\n",
    "np.round(decomp @ np.transpose(np.conj(decomp)), 8)"
   ]
  },
  {
   "cell_type": "code",
   "execution_count": 86,
   "metadata": {},
   "outputs": [
    {
     "data": {
      "text/plain": [
       "array([[-2.50000000e-01+3.46944695e-16j, -3.53553391e-01-3.05745013e-17j,\n",
       "         2.50000000e-01-2.35922393e-16j,  3.53553391e-01+3.60822483e-16j,\n",
       "        -3.35724739e-02+3.91754495e-02j,  2.26732959e-03-9.12179758e-03j,\n",
       "        -4.26147681e-01+1.98625838e-16j,  3.69742025e-02+1.55097926e-02j,\n",
       "         4.86650572e-01-5.55111512e-16j, -2.56966995e-01+1.19905596e-01j,\n",
       "         3.32571447e-02+2.44295187e-02j, -1.49548070e-02-8.06695830e-03j,\n",
       "         4.28995869e-01+0.00000000e+00j, -2.37155657e-01-7.36677008e-02j,\n",
       "         7.31807859e-02-1.05608893e-02j, -2.11748650e-02+2.69372739e-02j],\n",
       "       [ 2.50000000e-01+2.91433544e-16j, -3.53553391e-01+4.36282954e-16j,\n",
       "         2.50000000e-01-2.22044605e-16j, -3.53553391e-01+5.55111512e-17j,\n",
       "         3.35724739e-02-3.91754495e-02j,  2.26732959e-03-9.12179758e-03j,\n",
       "         9.57729670e-02-2.89864552e-02j, -3.05011284e-01-9.63245453e-02j,\n",
       "        -1.45032151e-02+1.95754991e-02j, -5.83210469e-02-6.51231826e-02j,\n",
       "        -3.41989345e-01+2.49800181e-16j,  4.54780108e-01+0.00000000e+00j,\n",
       "         1.39281640e-01+5.37955187e-02j,  1.88344366e-01-2.91517890e-02j,\n",
       "         1.42235750e-01+1.45002083e-01j, -1.36586186e-01+7.45952776e-02j],\n",
       "       [-2.50000000e-01+2.91433544e-16j,  2.18449774e-16+1.61685986e-16j,\n",
       "         2.50000000e-01+1.38777878e-17j,  8.89879671e-16+5.06045553e-16j,\n",
       "        -3.49768742e-01-4.71844785e-16j, -3.53428426e-01-3.05311332e-16j,\n",
       "         2.06229398e-01+1.78656327e-02j,  3.61646626e-01-6.93889390e-17j,\n",
       "        -2.84580714e-02+5.43695994e-02j, -1.70528054e-01-1.39318073e-01j,\n",
       "         1.14901939e-02+1.33657126e-01j, -1.59427831e-01+6.19714512e-02j,\n",
       "        -1.56110781e-01+2.78397846e-02j,  3.85231947e-01+0.00000000e+00j,\n",
       "        -2.62703316e-01+1.55562973e-01j,  2.88759737e-01+1.72420970e-01j],\n",
       "       [ 2.50000000e-01-1.80411242e-16j,  6.13234216e-17+2.39231544e-16j,\n",
       "         2.50000000e-01-1.66533454e-16j, -8.76078882e-16-3.41946311e-16j,\n",
       "         3.49768742e-01+6.93889390e-16j, -3.53428426e-01-4.57966998e-16j,\n",
       "         1.24145316e-01+1.11208225e-02j, -9.36095447e-02+8.08147527e-02j,\n",
       "         6.25438620e-03+9.36624003e-02j, -3.33720582e-01-4.57107048e-02j,\n",
       "         2.97242006e-01-1.58086644e-01j, -1.01969278e-01-5.68410396e-02j,\n",
       "         1.33603448e-01-2.59557341e-02j, -4.02680760e-02-4.45159117e-02j,\n",
       "        -3.31758280e-01+1.94289029e-16j, -3.26296525e-01+7.08884183e-02j],\n",
       "       [ 2.50000000e-01-1.24900090e-16j, -5.09995465e-17+3.92561952e-18j,\n",
       "         2.50000000e-01+1.38777878e-17j,  3.53553391e-01+0.00000000e+00j,\n",
       "        -3.35724739e-02+3.91754495e-02j,  3.53428426e-01+2.35922393e-16j,\n",
       "        -1.24145316e-01-1.11208225e-02j,  9.36095447e-02-8.08147527e-02j,\n",
       "        -2.18717449e-01+9.85865089e-03j,  7.60477567e-02+1.94124778e-02j,\n",
       "        -2.97242006e-01+1.58086644e-01j, -1.91183373e-01-5.53727663e-02j,\n",
       "        -1.56110781e-01+2.78397846e-02j,  3.85231947e-01-6.93889390e-17j,\n",
       "        -2.62703316e-01+1.55562973e-01j, -2.28647606e-01-1.01532551e-01j],\n",
       "       [-2.50000000e-01+3.88578059e-16j, -4.89380514e-18-7.30070643e-17j,\n",
       "         2.50000000e-01+0.00000000e+00j, -3.53553391e-01+2.22044605e-16j,\n",
       "         3.35724739e-02-3.91754495e-02j,  3.53428426e-01+9.71445147e-17j,\n",
       "        -2.06229398e-01-1.78656327e-02j, -3.61646626e-01+1.38777878e-16j,\n",
       "        -2.53429907e-01-2.94341500e-02j,  2.39240285e-01-7.41948909e-02j,\n",
       "        -1.14901939e-02-1.33657126e-01j, -2.48641927e-01+6.34397246e-02j,\n",
       "         1.33603448e-01-2.59557341e-02j, -4.02680760e-02-4.45159117e-02j,\n",
       "        -3.31758280e-01+1.94289029e-16j,  3.86408657e-01+0.00000000e+00j],\n",
       "       [ 2.50000000e-01-1.80411242e-16j,  3.53553391e-01-4.03323208e-17j,\n",
       "         2.50000000e-01-2.08166817e-16j,  9.63269805e-16+4.53301031e-16j,\n",
       "        -3.49768742e-01-3.88578059e-16j, -2.26732959e-03+9.12179758e-03j,\n",
       "        -9.57729670e-02+2.89864552e-02j,  3.05011284e-01+9.63245453e-02j,\n",
       "        -2.39475051e-01-6.42282503e-02j,  3.51447292e-01-2.42861287e-16j,\n",
       "         3.41989345e-01+1.80411242e-16j,  3.65566012e-01+1.46827337e-03j,\n",
       "         4.28995869e-01+4.44089210e-16j, -2.37155657e-01-7.36677008e-02j,\n",
       "         7.31807859e-02-1.05608893e-02j, -3.89372662e-02-9.78256922e-02j],\n",
       "       [-2.50000000e-01+1.38777878e-16j,  3.53553391e-01-1.03216047e-16j,\n",
       "         2.50000000e-01+2.22044605e-16j, -6.46564424e-16-3.39930129e-16j,\n",
       "         3.49768742e-01+4.44089210e-16j, -2.26732959e-03+9.12179758e-03j,\n",
       "         4.26147681e-01+1.63931368e-16j, -3.69742025e-02-1.55097926e-02j,\n",
       "         2.61678736e-01-8.38037494e-02j,  1.52801344e-01+1.85028778e-01j,\n",
       "        -3.32571447e-02-2.44295187e-02j, -1.04168903e-01-6.59868493e-03j,\n",
       "         1.39281640e-01+5.37955187e-02j,  1.88344366e-01-2.91517890e-02j,\n",
       "         1.42235750e-01+1.45002083e-01j,  7.64740548e-02-1.45483696e-01j],\n",
       "       [-2.50000000e-01+2.35922393e-16j, -6.20129049e-17-3.64129731e-16j,\n",
       "         2.50000000e-01+0.00000000e+00j,  9.25975929e-16+3.79553480e-16j,\n",
       "        -3.49768742e-01-4.71844785e-16j,  3.53428426e-01+2.49800181e-16j,\n",
       "         1.24145316e-01+1.11208225e-02j, -9.36095447e-02+8.08147527e-02j,\n",
       "         6.25438620e-03+9.36624003e-02j, -3.33720582e-01-4.57107048e-02j,\n",
       "         2.97242006e-01-1.58086644e-01j, -1.01969278e-01-5.68410396e-02j,\n",
       "        -1.33603448e-01+2.59557341e-02j,  4.02680760e-02+4.45159117e-02j,\n",
       "         3.31758280e-01+0.00000000e+00j, -3.26296525e-01+7.08884183e-02j],\n",
       "       [ 2.50000000e-01-2.77555756e-16j, -1.35260925e-16-1.76023218e-16j,\n",
       "         2.50000000e-01-1.94289029e-16j, -7.86052267e-16-1.93854354e-16j,\n",
       "         3.49768742e-01+4.99600361e-16j,  3.53428426e-01+0.00000000e+00j,\n",
       "         2.06229398e-01+1.78656327e-02j,  3.61646626e-01+0.00000000e+00j,\n",
       "        -2.84580714e-02+5.43695994e-02j, -1.70528054e-01-1.39318073e-01j,\n",
       "         1.14901939e-02+1.33657126e-01j, -1.59427831e-01+6.19714512e-02j,\n",
       "         1.56110781e-01-2.78397846e-02j, -3.85231947e-01+6.93889390e-17j,\n",
       "         2.62703316e-01-1.55562973e-01j,  2.88759737e-01+1.72420970e-01j],\n",
       "       [-2.50000000e-01+8.32667268e-17j,  3.53553391e-01-3.25260652e-16j,\n",
       "         2.50000000e-01+3.46944695e-16j,  3.53553391e-01+5.55111512e-17j,\n",
       "        -3.35724739e-02+3.91754495e-02j, -2.26732959e-03+9.12179758e-03j,\n",
       "         9.57729670e-02-2.89864552e-02j, -3.05011284e-01-9.63245453e-02j,\n",
       "        -1.45032151e-02+1.95754991e-02j, -5.83210469e-02-6.51231826e-02j,\n",
       "        -3.41989345e-01-8.32667268e-17j,  4.54780108e-01-3.78169718e-16j,\n",
       "        -1.39281640e-01-5.37955187e-02j, -1.88344366e-01+2.91517890e-02j,\n",
       "        -1.42235750e-01-1.45002083e-01j, -1.36586186e-01+7.45952776e-02j],\n",
       "       [ 2.50000000e-01-4.30211422e-16j,  3.53553391e-01+0.00000000e+00j,\n",
       "         2.50000000e-01-2.77555756e-17j, -3.53553391e-01+4.71844785e-16j,\n",
       "         3.35724739e-02-3.91754495e-02j, -2.26732959e-03+9.12179758e-03j,\n",
       "        -4.26147681e-01+5.63785130e-17j,  3.69742025e-02+1.55097926e-02j,\n",
       "         4.86650572e-01+0.00000000e+00j, -2.56966995e-01+1.19905596e-01j,\n",
       "         3.32571447e-02+2.44295187e-02j, -1.49548070e-02-8.06695830e-03j,\n",
       "        -4.28995869e-01-9.43689571e-16j,  2.37155657e-01+7.36677008e-02j,\n",
       "        -7.31807859e-02+1.05608893e-02j, -2.11748650e-02+2.69372739e-02j],\n",
       "       [ 2.50000000e-01+0.00000000e+00j, -3.53553391e-01-4.90059382e-17j,\n",
       "         2.50000000e-01-2.22044605e-16j,  6.74638802e-16+5.01213767e-16j,\n",
       "        -3.49768742e-01-5.82867088e-16j,  2.26732959e-03-9.12179758e-03j,\n",
       "         4.26147681e-01+0.00000000e+00j, -3.69742025e-02-1.55097926e-02j,\n",
       "         2.61678736e-01-8.38037494e-02j,  1.52801344e-01+1.85028778e-01j,\n",
       "        -3.32571447e-02-2.44295187e-02j, -1.04168903e-01-6.59868493e-03j,\n",
       "        -1.39281640e-01-5.37955187e-02j, -1.88344366e-01+2.91517890e-02j,\n",
       "        -1.42235750e-01-1.45002083e-01j,  7.64740548e-02-1.45483696e-01j],\n",
       "       [-2.50000000e-01+6.52256027e-16j, -3.53553391e-01+4.00070602e-16j,\n",
       "         2.50000000e-01-9.71445147e-17j, -7.69488492e-16-2.05641451e-16j,\n",
       "         3.49768742e-01+0.00000000e+00j,  2.26732959e-03-9.12179758e-03j,\n",
       "        -9.57729670e-02+2.89864552e-02j,  3.05011284e-01+9.63245453e-02j,\n",
       "        -2.39475051e-01-6.42282503e-02j,  3.51447292e-01+0.00000000e+00j,\n",
       "         3.41989345e-01+0.00000000e+00j,  3.65566012e-01+1.46827337e-03j,\n",
       "        -4.28995869e-01-7.21644966e-16j,  2.37155657e-01+7.36677008e-02j,\n",
       "        -7.31807859e-02+1.05608893e-02j, -3.89372662e-02-9.78256922e-02j],\n",
       "       [ 2.50000000e-01-2.08166817e-16j,  3.66170446e-16+1.54280682e-16j,\n",
       "         2.50000000e-01-6.93889390e-17j,  3.53553391e-01-8.32667268e-17j,\n",
       "        -3.35724739e-02+3.91754495e-02j, -3.53428426e-01-3.19189120e-16j,\n",
       "        -2.06229398e-01-1.78656327e-02j, -3.61646626e-01-4.02455846e-16j,\n",
       "        -2.53429907e-01-2.94341500e-02j,  2.39240285e-01-7.41948909e-02j,\n",
       "        -1.14901939e-02-1.33657126e-01j, -2.48641927e-01+6.34397246e-02j,\n",
       "        -1.33603448e-01+2.59557341e-02j,  4.02680760e-02+4.45159117e-02j,\n",
       "         3.31758280e-01-4.71844785e-16j,  3.86408657e-01+8.32667268e-17j],\n",
       "       [-2.50000000e-01+3.19189120e-16j,  3.71486160e-16+2.30231166e-16j,\n",
       "         2.50000000e-01-6.93889390e-17j, -3.53553391e-01+0.00000000e+00j,\n",
       "         3.35724739e-02-3.91754495e-02j, -3.53428426e-01-8.32667268e-17j,\n",
       "        -1.24145316e-01-1.11208225e-02j,  9.36095447e-02-8.08147527e-02j,\n",
       "        -2.18717449e-01+9.85865089e-03j,  7.60477567e-02+1.94124778e-02j,\n",
       "        -2.97242006e-01+1.58086644e-01j, -1.91183373e-01-5.53727663e-02j,\n",
       "         1.56110781e-01-2.78397846e-02j, -3.85231947e-01+1.17961196e-16j,\n",
       "         2.62703316e-01-1.55562973e-01j, -2.28647606e-01-1.01532551e-01j]])"
      ]
     },
     "execution_count": 86,
     "metadata": {},
     "output_type": "execute_result"
    }
   ],
   "source": [
    "eig_vecs"
   ]
  },
  {
   "cell_type": "code",
   "execution_count": 22,
   "metadata": {},
   "outputs": [
    {
     "data": {
      "text/plain": [
       "array([[-3.53553391e-01-4.20871585e-16j,  2.56534812e-16+7.96603053e-17j,\n",
       "         3.53553391e-01+3.33644647e-16j, -6.22457832e-17+8.20532562e-17j,\n",
       "         3.53553391e-01+3.97429654e-16j,  3.92523115e-16+2.87856676e-16j,\n",
       "        -3.53553391e-01-2.54780412e-16j,  4.06809426e-16+2.48384926e-16j,\n",
       "        -3.53553391e-01-2.50233486e-16j,  1.17756934e-16-8.72133556e-17j,\n",
       "         3.53553391e-01+2.36445513e-16j, -2.77555756e-17+3.14424381e-16j,\n",
       "         3.53553391e-01+3.39641950e-16j,  1.37383090e-16-6.00530588e-18j,\n",
       "        -3.53553391e-01-1.47196168e-16j,  1.84764821e-16+2.34666227e-17j],\n",
       "       [ 1.28942506e-16-2.51630871e-16j, -3.20762201e-03+1.29047311e-02j,\n",
       "         4.23379430e-16+1.66533454e-16j,  3.20762201e-03-1.29047311e-02j,\n",
       "         3.41790433e-17+1.87350135e-16j, -3.20762201e-03+1.29047311e-02j,\n",
       "        -1.11855716e-17-2.34116995e-16j,  3.20762201e-03-1.29047311e-02j,\n",
       "         2.78262040e-17-6.36353702e-17j,  5.00000000e-01+1.05459099e-16j,\n",
       "         2.49332699e-16+2.68489566e-16j, -5.00000000e-01-4.09436779e-16j,\n",
       "         5.57926905e-17+3.25620745e-16j,  5.00000000e-01+8.42886415e-17j,\n",
       "        -3.05370101e-16-1.23313752e-17j, -5.00000000e-01-2.74648765e-16j],\n",
       "       [-3.95312691e-16+4.29836517e-17j,  3.53553391e-01-1.99725943e-17j,\n",
       "        -2.43882596e-17+2.45326947e-17j,  3.53553391e-01+2.85214127e-16j,\n",
       "        -3.94505605e-18+4.41588504e-17j,  3.53553391e-01+3.31771458e-17j,\n",
       "         9.95255666e-17-1.12468621e-16j,  3.53553391e-01+4.38124118e-17j,\n",
       "         1.38777878e-16+1.37383090e-16j,  3.53553391e-01-6.76510331e-17j,\n",
       "        -3.30277332e-16-4.99348020e-16j,  3.53553391e-01+1.37036652e-16j,\n",
       "         1.34015774e-16-4.37857164e-16j,  3.53553391e-01+1.17410496e-16j,\n",
       "         3.51298275e-16+6.37850061e-17j,  3.53553391e-01+1.14466572e-16j],\n",
       "       [ 5.00000000e-01+4.52352567e-17j,  2.23373046e-16+7.42016405e-17j,\n",
       "        -4.79923873e-02+5.60019304e-02j,  1.81130930e-16-1.33226763e-16j,\n",
       "        -4.79923873e-02+5.60019304e-02j, -3.41790433e-17-2.51881849e-16j,\n",
       "         5.00000000e-01-1.75191401e-16j,  1.79953893e-16+1.59152025e-16j,\n",
       "        -4.79923873e-02+5.60019304e-02j, -5.71725150e-17+2.37080003e-16j,\n",
       "         5.00000000e-01-1.03950962e-16j, -1.55256620e-17-2.04136118e-16j,\n",
       "         5.00000000e-01+1.84013135e-16j, -2.70647018e-17-2.97796371e-17j,\n",
       "        -4.79923873e-02+5.60019304e-02j, -8.01659867e-17-1.83186799e-16j],\n",
       "       [ 1.10294768e-15+5.05609015e-16j,  5.41068710e-16-1.00129908e-16j,\n",
       "        -5.05410215e-01+7.95881925e-16j,  1.22744575e-16-4.54100883e-17j,\n",
       "        -5.05410215e-01+6.92644970e-16j, -1.05209636e-16+6.39313679e-17j,\n",
       "         1.11259190e-15+5.76132349e-16j,  2.56778321e-16+5.58230197e-16j,\n",
       "        -5.05410215e-01+7.89087136e-16j, -6.92630102e-17-3.36561241e-16j,\n",
       "         1.01702648e-15+3.15080941e-16j, -2.46767096e-16-7.60577992e-17j,\n",
       "         8.94281904e-16+7.13014469e-16j, -4.09813305e-17-1.09154997e-16j,\n",
       "        -5.05410215e-01+6.13299370e-16j,  2.08665778e-16+1.12497595e-16j],\n",
       "       [-3.60950062e-16-1.96526897e-16j, -5.00176790e-01+3.79037307e-16j,\n",
       "        -2.49888505e-16-6.68104683e-17j,  5.00176790e-01-2.86196786e-16j,\n",
       "         3.76568094e-16-6.36651703e-17j, -5.00176790e-01+2.67975749e-16j,\n",
       "         2.27329126e-16-3.83943275e-17j,  5.00176790e-01-3.90967748e-16j,\n",
       "         3.01468432e-16+8.65499248e-17j,  4.49452241e-16+2.58348272e-16j,\n",
       "        -1.99676196e-17+1.04120210e-16j, -1.40562284e-16-2.59975150e-16j,\n",
       "        -2.64322768e-16-8.58991735e-17j,  9.71788629e-17+1.85681042e-16j,\n",
       "        -7.54787708e-17-9.37081893e-17j, -2.22123115e-16-2.19953944e-16j],\n",
       "       [-3.79708850e-01+1.61886334e-02j,  2.34303619e-01+1.00034570e-02j,\n",
       "        -3.79708850e-01+1.61886334e-02j, -2.34303619e-01-1.00034570e-02j,\n",
       "         3.79708850e-01-1.61886334e-02j, -2.34303619e-01-1.00034570e-02j,\n",
       "         3.79708850e-01-1.61886334e-02j,  2.34303619e-01+1.00034570e-02j,\n",
       "        -1.87334974e-02+1.05233494e-02j, -2.34303619e-01-1.00034570e-02j,\n",
       "        -1.87334974e-02+1.05233494e-02j,  2.34303619e-01+1.00034570e-02j,\n",
       "         1.87334974e-02-1.05233494e-02j,  2.34303619e-01+1.00034570e-02j,\n",
       "         1.87334974e-02-1.05233494e-02j, -2.34303619e-01-1.00034570e-02j],\n",
       "       [ 2.22525554e-01-6.37187804e-02j,  1.16483983e-01-9.05243839e-02j,\n",
       "         2.22525554e-01-6.37187804e-02j, -1.16483983e-01+9.05243839e-02j,\n",
       "        -2.22525554e-01+6.37187804e-02j, -1.16483983e-01+9.05243839e-02j,\n",
       "        -2.22525554e-01+6.37187804e-02j,  1.16483983e-01-9.05243839e-02j,\n",
       "        -4.01464665e-01-1.29706540e-01j, -1.16483983e-01+9.05243839e-02j,\n",
       "        -4.01464665e-01-1.29706540e-01j,  1.16483983e-01-9.05243839e-02j,\n",
       "         4.01464665e-01+1.29706540e-01j,  1.16483983e-01-9.05243839e-02j,\n",
       "         4.01464665e-01+1.29706540e-01j, -1.16483983e-01+9.05243839e-02j],\n",
       "       [ 4.33598107e-01-1.00773689e-02j, -2.58463667e-01+2.30015175e-01j,\n",
       "        -4.33598107e-01+1.00773689e-02j, -3.54447638e-01-1.23783907e-01j,\n",
       "         4.33598107e-01-1.00773689e-02j, -3.54447638e-01-1.23783907e-01j,\n",
       "        -4.33598107e-01+1.00773689e-02j, -2.58463667e-01+2.30015175e-01j,\n",
       "        -1.23263277e-01-1.04662298e-01j,  3.54447638e-01+1.23783907e-01j,\n",
       "         1.23263277e-01+1.04662298e-01j,  2.58463667e-01-2.30015175e-01j,\n",
       "        -1.23263277e-01-1.04662298e-01j,  2.58463667e-01-2.30015175e-01j,\n",
       "         1.23263277e-01+1.04662298e-01j,  3.54447638e-01+1.23783907e-01j],\n",
       "       [ 1.27449556e-01+3.76377554e-02j, -5.66272483e-01+1.95338712e-01j,\n",
       "        -1.27449556e-01-3.76377554e-02j,  1.14254327e-01-1.83859693e-01j,\n",
       "         1.27449556e-01+3.76377554e-02j,  1.14254327e-01-1.83859693e-01j,\n",
       "        -1.27449556e-01-3.76377554e-02j, -5.66272483e-01+1.95338712e-01j,\n",
       "        -6.54546820e-02-2.93961105e-01j, -1.14254327e-01+1.83859693e-01j,\n",
       "         6.54546820e-02+2.93961105e-01j,  5.66272483e-01-1.95338712e-01j,\n",
       "        -6.54546820e-02-2.93961105e-01j,  5.66272483e-01-1.95338712e-01j,\n",
       "         6.54546820e-02+2.93961105e-01j, -1.14254327e-01+1.83859693e-01j],\n",
       "       [ 1.95531284e-01+3.08697374e-02j,  1.95531284e-01+3.08697374e-02j,\n",
       "         1.95531284e-01+3.08697374e-02j, -1.95531284e-01-3.08697374e-02j,\n",
       "        -1.95531284e-01-3.08697374e-02j, -1.95531284e-01-3.08697374e-02j,\n",
       "        -1.95531284e-01-3.08697374e-02j,  1.95531284e-01+3.08697374e-02j,\n",
       "         3.17168366e-01+2.33293027e-01j, -1.95531284e-01-3.08697374e-02j,\n",
       "         3.17168366e-01+2.33293027e-01j,  1.95531284e-01+3.08697374e-02j,\n",
       "        -3.17168366e-01-2.33293027e-01j,  1.95531284e-01+3.08697374e-02j,\n",
       "        -3.17168366e-01-2.33293027e-01j, -1.95531284e-01-3.08697374e-02j],\n",
       "       [-3.52290825e-01+4.11290256e-02j, -1.08467176e-01-8.52149562e-02j,\n",
       "         3.52290825e-01-4.11290256e-02j, -3.52290825e-01+4.11290256e-02j,\n",
       "        -3.52290825e-01+4.11290256e-02j, -3.52290825e-01+4.11290256e-02j,\n",
       "         3.52290825e-01-4.11290256e-02j, -1.08467176e-01-8.52149562e-02j,\n",
       "        -9.27365437e-02+8.13212900e-02j,  3.52290825e-01-4.11290256e-02j,\n",
       "         9.27365437e-02-8.13212900e-02j,  1.08467176e-01+8.52149562e-02j,\n",
       "        -9.27365437e-02+8.13212900e-02j,  1.08467176e-01+8.52149562e-02j,\n",
       "         9.27365437e-02-8.13212900e-02j,  3.52290825e-01-4.11290256e-02j],\n",
       "       [ 3.47010029e-02-1.98912132e-02j,  1.62101286e-01+1.54828575e-01j,\n",
       "         3.47010029e-02-1.98912132e-02j,  1.62101286e-01+1.54828575e-01j,\n",
       "         3.47010029e-02-1.98912132e-02j, -1.62101286e-01-1.54828575e-01j,\n",
       "         3.47010029e-02-1.98912132e-02j, -1.62101286e-01-1.54828575e-01j,\n",
       "        -3.47010029e-02+1.98912132e-02j, -5.95204455e-01+2.38983754e-02j,\n",
       "        -3.47010029e-02+1.98912132e-02j, -5.95204455e-01+2.38983754e-02j,\n",
       "        -3.47010029e-02+1.98912132e-02j,  5.95204455e-01-2.38983754e-02j,\n",
       "        -3.47010029e-02+1.98912132e-02j,  5.95204455e-01-2.38983754e-02j],\n",
       "       [-3.43595552e-01+8.73280579e-02j,  2.24212046e-01+2.28058276e-01j,\n",
       "        -3.43595552e-01+8.73280579e-02j,  2.24212046e-01+2.28058276e-01j,\n",
       "        -3.43595552e-01+8.73280579e-02j, -2.24212046e-01-2.28058276e-01j,\n",
       "        -3.43595552e-01+8.73280579e-02j, -2.24212046e-01-2.28058276e-01j,\n",
       "         3.43595552e-01-8.73280579e-02j, -3.26710083e-01+1.76732571e-01j,\n",
       "         3.43595552e-01-8.73280579e-02j, -3.26710083e-01+1.76732571e-01j,\n",
       "         3.43595552e-01-8.73280579e-02j,  3.26710083e-01-1.76732571e-01j,\n",
       "         3.43595552e-01-8.73280579e-02j,  3.26710083e-01-1.76732571e-01j],\n",
       "       [-2.00582921e-01+2.47792209e-02j, -4.52067332e-01-8.09715441e-03j,\n",
       "        -2.00582921e-01+2.47792209e-02j, -4.52067332e-01-8.09715441e-03j,\n",
       "        -2.00582921e-01+2.47792209e-02j,  4.52067332e-01+8.09715441e-03j,\n",
       "        -2.00582921e-01+2.47792209e-02j,  4.52067332e-01+8.09715441e-03j,\n",
       "         2.00582921e-01-2.47792209e-02j, -1.74457347e-01+7.85782664e-02j,\n",
       "         2.00582921e-01-2.47792209e-02j, -1.74457347e-01+7.85782664e-02j,\n",
       "         2.00582921e-01-2.47792209e-02j,  1.74457347e-01-7.85782664e-02j,\n",
       "         2.00582921e-01-2.47792209e-02j,  1.74457347e-01-7.85782664e-02j],\n",
       "       [-2.09242369e-02+1.11891791e-01j,  4.22708708e-02-1.35528100e-01j,\n",
       "         2.09242369e-02-1.11891791e-01j, -2.09242369e-02+1.11891791e-01j,\n",
       "        -2.09242369e-02+1.11891791e-01j, -2.09242369e-02+1.11891791e-01j,\n",
       "         2.09242369e-02-1.11891791e-01j,  4.22708708e-02-1.35528100e-01j,\n",
       "        -4.79709838e-01+1.58954235e-01j,  2.09242369e-02-1.11891791e-01j,\n",
       "         4.79709838e-01-1.58954235e-01j, -4.22708708e-02+1.35528100e-01j,\n",
       "        -4.79709838e-01+1.58954235e-01j, -4.22708708e-02+1.35528100e-01j,\n",
       "         4.79709838e-01-1.58954235e-01j,  2.09242369e-02-1.11891791e-01j]])"
      ]
     },
     "execution_count": 22,
     "metadata": {},
     "output_type": "execute_result"
    }
   ],
   "source": [
    "eig_vecs_inv_mod = np.linalg.inv(eig_vecs) @ np.linalg.inv(U_1) @ np.linalg.inv(cnot__01) @ np.linalg.inv(cnot_12_) @ np.linalg.inv(cnot23__)\n",
    "\n",
    "\n",
    "eig_vecs_inv_mod"
   ]
  },
  {
   "cell_type": "code",
   "execution_count": 4,
   "metadata": {},
   "outputs": [
    {
     "ename": "NameError",
     "evalue": "name 'QuantumCircuit' is not defined",
     "output_type": "error",
     "traceback": [
      "\u001b[0;31m---------------------------------------------------------------------------\u001b[0m",
      "\u001b[0;31mNameError\u001b[0m                                 Traceback (most recent call last)",
      "\u001b[0;32m<ipython-input-4-8c9bd7da5064>\u001b[0m in \u001b[0;36m<module>\u001b[0;34m\u001b[0m\n\u001b[0;32m----> 1\u001b[0;31m \u001b[0mqc\u001b[0m \u001b[0;34m=\u001b[0m \u001b[0mQuantumCircuit\u001b[0m\u001b[0;34m(\u001b[0m\u001b[0;36m4\u001b[0m\u001b[0;34m)\u001b[0m\u001b[0;34m\u001b[0m\u001b[0;34m\u001b[0m\u001b[0m\n\u001b[0m\u001b[1;32m      2\u001b[0m \u001b[0mqc\u001b[0m\u001b[0;34m.\u001b[0m\u001b[0misometry\u001b[0m\u001b[0;34m(\u001b[0m\u001b[0mnp\u001b[0m\u001b[0;34m.\u001b[0m\u001b[0mlinalg\u001b[0m\u001b[0;34m.\u001b[0m\u001b[0minv\u001b[0m\u001b[0;34m(\u001b[0m\u001b[0meig_vecs\u001b[0m\u001b[0;34m)\u001b[0m\u001b[0;34m,\u001b[0m \u001b[0;34m[\u001b[0m\u001b[0;36m0\u001b[0m\u001b[0;34m,\u001b[0m\u001b[0;36m1\u001b[0m\u001b[0;34m,\u001b[0m\u001b[0;36m2\u001b[0m\u001b[0;34m,\u001b[0m\u001b[0;36m3\u001b[0m\u001b[0;34m]\u001b[0m\u001b[0;34m,\u001b[0m \u001b[0;34m[\u001b[0m\u001b[0;34m]\u001b[0m\u001b[0;34m)\u001b[0m\u001b[0;34m\u001b[0m\u001b[0;34m\u001b[0m\u001b[0m\n\u001b[1;32m      3\u001b[0m \u001b[0mqc\u001b[0m \u001b[0;34m=\u001b[0m \u001b[0mtranspile\u001b[0m\u001b[0;34m(\u001b[0m\u001b[0mqc\u001b[0m\u001b[0;34m,\u001b[0m \u001b[0mbasis_gates\u001b[0m\u001b[0;34m=\u001b[0m\u001b[0;34m[\u001b[0m\u001b[0;34m'u3'\u001b[0m\u001b[0;34m,\u001b[0m\u001b[0;34m'cx'\u001b[0m\u001b[0;34m]\u001b[0m\u001b[0;34m,\u001b[0m \u001b[0moptimization_level\u001b[0m\u001b[0;34m=\u001b[0m\u001b[0;36m3\u001b[0m\u001b[0;34m)\u001b[0m\u001b[0;34m\u001b[0m\u001b[0;34m\u001b[0m\u001b[0m\n\u001b[1;32m      4\u001b[0m \u001b[0mqc\u001b[0m\u001b[0;34m.\u001b[0m\u001b[0misometry\u001b[0m\u001b[0;34m(\u001b[0m\u001b[0mLam\u001b[0m\u001b[0;34m,\u001b[0m \u001b[0;34m[\u001b[0m\u001b[0;36m0\u001b[0m\u001b[0;34m,\u001b[0m\u001b[0;36m1\u001b[0m\u001b[0;34m,\u001b[0m\u001b[0;36m2\u001b[0m\u001b[0;34m,\u001b[0m\u001b[0;36m3\u001b[0m\u001b[0;34m]\u001b[0m\u001b[0;34m,\u001b[0m \u001b[0;34m[\u001b[0m\u001b[0;34m]\u001b[0m\u001b[0;34m)\u001b[0m\u001b[0;34m\u001b[0m\u001b[0;34m\u001b[0m\u001b[0m\n\u001b[1;32m      5\u001b[0m \u001b[0mqc\u001b[0m \u001b[0;34m=\u001b[0m \u001b[0mtranspile\u001b[0m\u001b[0;34m(\u001b[0m\u001b[0mqc\u001b[0m\u001b[0;34m,\u001b[0m \u001b[0mbasis_gates\u001b[0m\u001b[0;34m=\u001b[0m\u001b[0;34m[\u001b[0m\u001b[0;34m'u3'\u001b[0m\u001b[0;34m,\u001b[0m\u001b[0;34m'cx'\u001b[0m\u001b[0;34m]\u001b[0m\u001b[0;34m,\u001b[0m \u001b[0moptimization_level\u001b[0m\u001b[0;34m=\u001b[0m\u001b[0;36m3\u001b[0m\u001b[0;34m)\u001b[0m\u001b[0;34m\u001b[0m\u001b[0;34m\u001b[0m\u001b[0m\n",
      "\u001b[0;31mNameError\u001b[0m: name 'QuantumCircuit' is not defined"
     ]
    }
   ],
   "source": [
    "qc = QuantumCircuit(4)\n",
    "qc.isometry(np.linalg.inv(eig_vecs), [0,1,2,3], [])\n",
    "qc = transpile(qc, basis_gates=['u3','cx'], optimization_level=3)\n",
    "qc.isometry(Lam, [0,1,2,3], [])\n",
    "qc = transpile(qc, basis_gates=['u3','cx'], optimization_level=3)\n",
    "qc.isometry(eig_vecs, [0,1,2,3], [])\n",
    "qc = transpile(qc, basis_gates=['u3','cx'], optimization_level=3)\n",
    "\n",
    "\n",
    "check_circuit(qc)"
   ]
  },
  {
   "cell_type": "code",
   "execution_count": null,
   "metadata": {},
   "outputs": [],
   "source": []
  },
  {
   "cell_type": "code",
   "execution_count": null,
   "metadata": {},
   "outputs": [],
   "source": []
  },
  {
   "cell_type": "code",
   "execution_count": 13,
   "metadata": {},
   "outputs": [],
   "source": [
    "iden = np.identity(2)\n",
    "x = np.array([[0,1], [1,0]])\n",
    "def U3(th, ph, la):\n",
    "    return np.array([[np.cos(th/2), -np.exp(1j*la)*np.sin(th/2)],[np.exp(1j*ph)*np.sin(th/2), np.exp(1j*(la + ph)) * np.cos(th/2)]])\n",
    "# cnot10 = np.array([[1,0,0,0], [0,1,0,0], [0,0,0,1], [0,0,1,0]])\n",
    "cnot01 = np.array([[1,0,0,0], [0,0,0,1], [0,0,1,0], [0,1,0,0]])\n",
    "\n",
    "cnot__01 = np.kron(np.kron(iden, iden), cnot01)\n",
    "cnot__10 = np.kron(np.kron(iden, iden), cnot10)\n",
    "cnot_12_ = np.kron(np.kron(iden, cnot01), iden)\n",
    "cnot23__ = np.kron(np.kron(cnot01, iden), iden)\n",
    "\n",
    "\n",
    "# first_U = np.kron(np.kron(np.kron(iden, iden), U3(p[0], p[1], p[1]+np.pi)), iden)\n",
    "# cnots = np.matmul(np.matmul(cnot23__, cnot_12_), cnot__10)\n",
    "# last_Us = np.kron(np.kron(np.kron(U3(p[8], p[9], p[9]+np.pi), U3(p[6], p[7], p[7]+np.pi)), U3(p[4], p[5], p[5]+np.pi)), U3(p[2], p[3], p[3]+np.pi))\n"
   ]
  },
  {
   "cell_type": "code",
   "execution_count": 14,
   "metadata": {
    "scrolled": true
   },
   "outputs": [
    {
     "name": "stdout",
     "output_type": "stream",
     "text": [
      "Circuit stats:\n",
      "||U-V||_2 = 1.448494675289716e-14\n",
      "(U is the reference unitary, V is yours, and the global phase has been removed from both of them).\n",
      "Cost is 1054\n",
      "\n",
      "Great! Your circuit meets all the constrains.\n",
      "Your score is 1054. The lower, the better!\n",
      "Feel free to submit your answer and remember you can re-submit a new circuit at any time!\n"
     ]
    }
   ],
   "source": [
    "th1 = np.pi/2\n",
    "th2 = 3*np.pi/12\n",
    "th3 = np.pi/2\n",
    "\n",
    "U_1 = np.kron(np.kron(np.kron(iden, iden), iden), U3(th1, 0, 0))\n",
    "U_1_m = np.kron(np.kron(np.kron(iden, iden), iden), U3(-th1, 0, 0))\n",
    "U_2 = np.kron(np.kron(np.kron(iden, iden), U3(th2, 0, 0)), iden)\n",
    "U_2_m = np.kron(np.kron(np.kron(iden, iden), U3(-th2, 0, 0)), iden)\n",
    "cnots = np.matmul(np.matmul(cnot23__, cnot_12_), cnot__01)\n",
    "\n",
    "U_mod = U @ np.linalg.inv(U_1) @ np.linalg.inv(cnot__01) @ np.linalg.inv(cnot_12_) @ np.linalg.inv(cnot23__) @ np.linalg.inv(U_2)\n",
    "# # inverse modifications on back of U\n",
    "# U_mod = np.matmul(np.matmul(np.matmul(np.linalg.inv(cnot_12_), np.linalg.inv(cnot__01)), np.linalg.inv(U_1_m)), U_mod)\n",
    "# # More modifications\n",
    "# U_mod = np.matmul(np.matmul(np.linalg.inv(U_2_m), np.linalg.inv(cnot23__)), U_mod)\n",
    "\n",
    "\n",
    "qc = QuantumCircuit(4)\n",
    "qc.u3(th1, 0, 0, 0)\n",
    "qc.cx(0,1)\n",
    "qc.cx(1,2)\n",
    "qc.cx(2,3)\n",
    "qc.u3(th2, 0, 0, 1)\n",
    "qc.isometry(U_mod, [0,1,2,3], [])\n",
    "# qc.u3(-th2, 0, 0, 1)\n",
    "# qc.cx(2,3)\n",
    "# qc.cx(1,2)\n",
    "# qc.cx(0,1)\n",
    "# qc.u3(-th1, 0, 0, 0)\n",
    "qc = transpile(qc, basis_gates=['u3','cx'], optimization_level=3)\n",
    "check_circuit(qc)"
   ]
  },
  {
   "cell_type": "code",
   "execution_count": null,
   "metadata": {},
   "outputs": [],
   "source": []
  },
  {
   "cell_type": "markdown",
   "metadata": {},
   "source": [
    "You can check whether your circuit is valid before submitting it with `check_circuit(qc)`. Once you have a valid solution, please submit it by running the following cell (delete the `#` before `submit_circuit`). You can re-submit at any time.\n"
   ]
  },
  {
   "cell_type": "code",
   "execution_count": 520,
   "metadata": {},
   "outputs": [
    {
     "data": {
      "text/html": [
       "\n",
       "        <div style=\"border: 2px solid black; padding: 2rem;\">\n",
       "            <p>\n",
       "                Success 🎉! Your circuit has been submitted. Return to the\n",
       "                <a href=\"https://quantum-computing.ibm.com/challenges/4anniversary/?exercise=4\" target=\"_blank\">\n",
       "                    IBM Quantum Challenge page\n",
       "                </a>\n",
       "                and check your score and ranking.\n",
       "            </p>\n",
       "            <p>\n",
       "                Remember that you can submit a circuit as many times as you\n",
       "                want.\n",
       "            </p>\n",
       "        </div>"
      ],
      "text/plain": [
       "<IPython.core.display.HTML object>"
      ]
     },
     "metadata": {},
     "output_type": "display_data"
    }
   ],
   "source": [
    "# Send the circuit as the final answer, can re-submit at any time\n",
    "# submit_circuit(qc) "
   ]
  },
  {
   "cell_type": "code",
   "execution_count": null,
   "metadata": {},
   "outputs": [],
   "source": []
  },
  {
   "cell_type": "code",
   "execution_count": 23,
   "metadata": {},
   "outputs": [
    {
     "name": "stdout",
     "output_type": "stream",
     "text": [
      "Circuit stats:\n",
      "||U-V||_2 = 1.6584687833912384e-15\n",
      "(U is the reference unitary, V is yours, and the global phase has been removed from both of them).\n",
      "Cost is 160\n",
      "\n",
      "Great! Your circuit meets all the constrains.\n",
      "Your score is 160. The lower, the better!\n",
      "Feel free to submit your answer and remember you can re-submit a new circuit at any time!\n"
     ]
    }
   ],
   "source": [
    "qc = QuantumCircuit(4)\n",
    "qc.h(range(4))\n",
    "qc.diagonal(list(np.diag(np.round(m, 9))), [0,1,2,3])\n",
    "qc.h(range(4))\n",
    "qc = transpile(qc, basis_gates=['u3','cx'], optimization_level=3)\n",
    "check_circuit(qc)"
   ]
  },
  {
   "cell_type": "code",
   "execution_count": 601,
   "metadata": {},
   "outputs": [
    {
     "data": {
      "image/png": "[encoded data removed]",
      "text/plain": [
       "<Figure size 1683.19x565.88 with 1 Axes>"
      ]
     },
     "execution_count": 601,
     "metadata": {},
     "output_type": "execute_result"
    }
   ],
   "source": [
    "qc.draw()"
   ]
  },
  {
   "cell_type": "code",
   "execution_count": 12,
   "metadata": {},
   "outputs": [
    {
     "data": {
      "text/plain": [
       "array([[ 1.        +0.j        ,  0.        +0.j        ],\n",
       "       [ 0.        +0.j        , -0.70710678+0.70710678j]])"
      ]
     },
     "execution_count": 12,
     "metadata": {},
     "output_type": "execute_result"
    }
   ],
   "source": [
    "U3(0,0,3*np.pi/4)"
   ]
  },
  {
   "cell_type": "code",
   "execution_count": null,
   "metadata": {},
   "outputs": [],
   "source": []
  },
  {
   "cell_type": "code",
   "execution_count": 47,
   "metadata": {},
   "outputs": [
    {
     "name": "stdout",
     "output_type": "stream",
     "text": [
      "Circuit stats:\n",
      "||U-V||_2 = 1.6282449964388848e-15\n",
      "(U is the reference unitary, V is yours, and the global phase has been removed from both of them).\n",
      "Cost is 159\n",
      "\n",
      "Great! Your circuit meets all the constrains.\n",
      "Your score is 159. The lower, the better!\n",
      "Feel free to submit your answer and remember you can re-submit a new circuit at any time!\n"
     ]
    },
    {
     "data": {
      "image/png": "[encoded data removed]",
      "text/plain": [
       "<Figure size 1683.19x565.88 with 1 Axes>"
      ]
     },
     "execution_count": 47,
     "metadata": {},
     "output_type": "execute_result"
    }
   ],
   "source": [
    "# hand written gate reduction\n",
    "qc = QuantumCircuit(4)\n",
    "\n",
    "qc.u3(np.pi/2,0,np.pi,0)\n",
    "qc.u3(np.pi/2,0,np.pi,1)\n",
    "qc.u3(np.pi/2,0,np.pi,2)\n",
    "qc.u3(np.pi/2,0,np.pi,3)\n",
    "\n",
    "qc.cx(1,0)\n",
    "qc.u3(0,0,np.pi/4,0)\n",
    "qc.cx(2,0)\n",
    "qc.u3(0,0,-np.pi/4,0)\n",
    "qc.cx(1,0)\n",
    "qc.u3(0,0,np.pi/4,0)\n",
    "qc.cx(3,0)\n",
    "qc.u3(0,0,3*np.pi/4,0)\n",
    "qc.cx(1,0)\n",
    "qc.u3(0,0,-np.pi/4,0)\n",
    "qc.cx(2,0)\n",
    "qc.u3(0,0,-np.pi/4,0)\n",
    "qc.cx(1,0)\n",
    "qc.u3(0,0,-np.pi/4,0)\n",
    "qc.cx(2,1)\n",
    "qc.u3(0,0,-np.pi/4,1)\n",
    "qc.cx(3,0)\n",
    "qc.cx(3,1)\n",
    "qc.u3(0,0,np.pi/4,1)\n",
    "qc.cx(2,1)\n",
    "qc.u3(0,0,-np.pi/4,1)\n",
    "qc.u3(0,0,-np.pi/4,2)\n",
    "qc.cx(3,1)\n",
    "qc.cx(3,2)\n",
    "\n",
    "qc.u3(np.pi/2,0,np.pi,0)\n",
    "qc.u3(np.pi/2,0,np.pi,1)\n",
    "\n",
    "qc.u3(np.pi/2,0,5*np.pi/4,2)\n",
    "qc.u3(np.pi/2,0,3*np.pi/2,3)\n",
    "qc.cx(2,3)\n",
    "\n",
    "check_circuit(qc)\n",
    "\n",
    "qc.draw()"
   ]
  },
  {
   "cell_type": "code",
   "execution_count": 345,
   "metadata": {},
   "outputs": [
    {
     "data": {
      "text/plain": [
       "array([[1, 0, 0, 0],\n",
       "       [0, 0, 1, 0],\n",
       "       [0, 0, 0, 1],\n",
       "       [0, 1, 0, 0]])"
      ]
     },
     "execution_count": 345,
     "metadata": {},
     "output_type": "execute_result"
    }
   ],
   "source": [
    "cnot01@cnot10"
   ]
  },
  {
   "cell_type": "code",
   "execution_count": 540,
   "metadata": {},
   "outputs": [
    {
     "name": "stdout",
     "output_type": "stream",
     "text": [
      "Circuit stats:\n",
      "||U-V||_2 = 1.5698158514677312e-15\n",
      "(U is the reference unitary, V is yours, and the global phase has been removed from both of them).\n",
      "Cost is 158\n",
      "\n",
      "Great! Your circuit meets all the constrains.\n",
      "Your score is 158. The lower, the better!\n",
      "Feel free to submit your answer and remember you can re-submit a new circuit at any time!\n"
     ]
    },
    {
     "data": {
      "image/png": "[encoded data removed]",
      "text/plain": [
       "<Figure size 1683.19x565.88 with 1 Axes>"
      ]
     },
     "execution_count": 540,
     "metadata": {},
     "output_type": "execute_result"
    }
   ],
   "source": [
    "# hand written gate reduction\n",
    "qc = QuantumCircuit(4)\n",
    "\n",
    "qc.cx(0,1)\n",
    "qc.u3(np.pi/2,np.pi/4,np.pi,0)\n",
    "qc.u3(np.pi/2,0,np.pi,2)\n",
    "qc.u3(np.pi/2,0,np.pi,3)\n",
    "\n",
    "qc.cx(2,0)\n",
    "qc.u3(np.pi/2,0,np.pi,1)\n",
    "qc.u3(0,0,-np.pi/4,0)\n",
    "qc.cx(1,0)\n",
    "qc.u3(0,0,np.pi/4,0)\n",
    "qc.cx(3,0)\n",
    "qc.u3(0,0,3*np.pi/4,0)\n",
    "qc.cx(1,0)\n",
    "qc.u3(0,0,-np.pi/4,0)\n",
    "qc.cx(2,0)\n",
    "qc.u3(0,0,-np.pi/4,0)\n",
    "qc.cx(1,0)\n",
    "qc.u3(0,0,-np.pi/4,0)\n",
    "qc.cx(2,1)\n",
    "qc.u3(0,0,-np.pi/4,1)\n",
    "qc.cx(3,0)\n",
    "qc.cx(3,1)\n",
    "qc.u3(0,0,np.pi/4,1)\n",
    "qc.cx(2,1)\n",
    "qc.u3(0,0,-np.pi/4,1)\n",
    "qc.u3(0,0,-np.pi/4,2)\n",
    "qc.cx(3,1)\n",
    "qc.cx(3,2)\n",
    "\n",
    "qc.u3(np.pi/2,0,np.pi,0)\n",
    "qc.u3(np.pi/2,0,np.pi,1)\n",
    "\n",
    "qc.u3(np.pi/2,0,5*np.pi/4,2)\n",
    "qc.u3(np.pi/2,0,3*np.pi/2,3)\n",
    "qc.cx(2,3)\n",
    "\n",
    "\n",
    "# qc = transpile(qc, basis_gates=['u3','cx'], optimization_level=3)\n",
    "check_circuit(qc)\n",
    "\n",
    "qc.draw()"
   ]
  },
  {
   "cell_type": "code",
   "execution_count": 498,
   "metadata": {},
   "outputs": [
    {
     "data": {
      "image/png": "[encoded data removed]",
      "text/plain": [
       "<Figure size 358.792x144.48 with 1 Axes>"
      ]
     },
     "execution_count": 498,
     "metadata": {},
     "output_type": "execute_result"
    }
   ],
   "source": [
    "# hand reduced\n",
    "qc = QuantumCircuit(2)\n",
    "\n",
    "qc.cx(1,0)\n",
    "qc.u3(np.pi/2,np.pi/4,np.pi,0)\n",
    "qc.u3(np.pi/2,0,np.pi,1)\n",
    "\n",
    "simulator = Aer.get_backend('unitary_simulator')\n",
    "job = execute(qc, simulator)\n",
    "result = job.result()\n",
    "my_u = result.get_unitary(qc)\n",
    "\n",
    "qc.draw()"
   ]
  },
  {
   "cell_type": "code",
   "execution_count": null,
   "metadata": {},
   "outputs": [],
   "source": []
  },
  {
   "cell_type": "code",
   "execution_count": 536,
   "metadata": {},
   "outputs": [
    {
     "data": {
      "text/plain": [
       "array([[ 0.70710678+0.00000000e+00j,  0.70710678-8.65956056e-17j],\n",
       "       [ 0.70710678+0.00000000e+00j, -0.70710678+8.65956056e-17j]])"
      ]
     },
     "execution_count": 536,
     "metadata": {},
     "output_type": "execute_result"
    }
   ],
   "source": [
    "U3(np.pi/2,0,np.pi)"
   ]
  },
  {
   "cell_type": "code",
   "execution_count": 537,
   "metadata": {},
   "outputs": [
    {
     "data": {
      "text/plain": [
       "array([[ 0.70710678+0.00000000e+00j,  0.70710678-8.65956056e-17j],\n",
       "       [ 0.70710678+0.00000000e+00j, -0.70710678+8.65956056e-17j]])"
      ]
     },
     "execution_count": 537,
     "metadata": {},
     "output_type": "execute_result"
    }
   ],
   "source": [
    "U3(np.pi/2,0,np.pi/2) @ U3(0,0,np.pi/2)"
   ]
  },
  {
   "cell_type": "code",
   "execution_count": 499,
   "metadata": {},
   "outputs": [
    {
     "data": {
      "text/plain": [
       "(array([[ 1.      -0.j      ,  0.      -0.j      ],\n",
       "        [-0.      -0.j      ,  0.707107+0.707107j]]),\n",
       " array([[1.      +0.j      , 0.      +0.j      ],\n",
       "        [0.      +0.j      , 0.707107+0.707107j]]))"
      ]
     },
     "execution_count": 499,
     "metadata": {},
     "output_type": "execute_result"
    }
   ],
   "source": [
    "np.round(np.transpose(np.conj(U3(0,0,-np.pi/4))), 6), np.round(np.linalg.inv(U3(0,0,-np.pi/4)), 6)"
   ]
  },
  {
   "cell_type": "code",
   "execution_count": 500,
   "metadata": {},
   "outputs": [],
   "source": [
    "def conj_trans_u3(phi, la):\n",
    "    temp = phi\n",
    "    phi = -1*la + np.pi\n",
    "    la = -1*temp + np.pi\n",
    "    return [phi/np.pi, la/np.pi]"
   ]
  },
  {
   "cell_type": "code",
   "execution_count": 501,
   "metadata": {},
   "outputs": [
    {
     "data": {
      "text/plain": [
       "[1.25, 1.0]"
      ]
     },
     "execution_count": 501,
     "metadata": {},
     "output_type": "execute_result"
    }
   ],
   "source": [
    "conj_trans_u3(0,-np.pi/4)"
   ]
  },
  {
   "cell_type": "code",
   "execution_count": 502,
   "metadata": {},
   "outputs": [
    {
     "data": {
      "text/plain": [
       "array([[1.      +0.j      , 0.      +0.j      ],\n",
       "       [0.      -0.j      , 0.707107+0.707107j]])"
      ]
     },
     "execution_count": 502,
     "metadata": {},
     "output_type": "execute_result"
    }
   ],
   "source": [
    "np.round(U3(0,5*np.pi/4,np.pi), 6)"
   ]
  },
  {
   "cell_type": "code",
   "execution_count": 516,
   "metadata": {},
   "outputs": [
    {
     "data": {
      "text/plain": [
       "(array([[ 0.707107+0.j,  0.707107+0.j],\n",
       "        [ 0.707107-0.j, -0.707107+0.j]]),\n",
       " array([[ 0.707107+0.j,  0.707107-0.j],\n",
       "        [ 0.707107+0.j, -0.707107+0.j]]))"
      ]
     },
     "execution_count": 516,
     "metadata": {},
     "output_type": "execute_result"
    }
   ],
   "source": [
    "np.transpose(np.round(U3(np.pi/2,0,np.pi), 6)), np.round(U3(np.pi/2,0,np.pi), 6)"
   ]
  },
  {
   "cell_type": "code",
   "execution_count": 603,
   "metadata": {},
   "outputs": [
    {
     "ename": "AttributeError",
     "evalue": "'QuantumCircuit' object has no attribute 'QFT'",
     "output_type": "error",
     "traceback": [
      "\u001b[0;31m---------------------------------------------------------------------------\u001b[0m",
      "\u001b[0;31mAttributeError\u001b[0m                            Traceback (most recent call last)",
      "\u001b[0;32m<ipython-input-603-5b3d216c99dc>\u001b[0m in \u001b[0;36m<module>\u001b[0;34m\u001b[0m\n\u001b[1;32m     11\u001b[0m \u001b[0mqc\u001b[0m \u001b[0;34m=\u001b[0m \u001b[0mtranspile\u001b[0m\u001b[0;34m(\u001b[0m\u001b[0mqc\u001b[0m\u001b[0;34m,\u001b[0m \u001b[0mbasis_gates\u001b[0m\u001b[0;34m=\u001b[0m\u001b[0;34m[\u001b[0m\u001b[0;34m'u3'\u001b[0m\u001b[0;34m,\u001b[0m\u001b[0;34m'cx'\u001b[0m\u001b[0;34m]\u001b[0m\u001b[0;34m,\u001b[0m \u001b[0moptimization_level\u001b[0m\u001b[0;34m=\u001b[0m\u001b[0;36m3\u001b[0m\u001b[0;34m)\u001b[0m\u001b[0;34m\u001b[0m\u001b[0;34m\u001b[0m\u001b[0m\n\u001b[1;32m     12\u001b[0m \u001b[0;34m\u001b[0m\u001b[0m\n\u001b[0;32m---> 13\u001b[0;31m \u001b[0mqc\u001b[0m\u001b[0;34m.\u001b[0m\u001b[0mQFT\u001b[0m\u001b[0;34m(\u001b[0m\u001b[0;34m)\u001b[0m\u001b[0;34m\u001b[0m\u001b[0;34m\u001b[0m\u001b[0m\n\u001b[0m\u001b[1;32m     14\u001b[0m \u001b[0;34m\u001b[0m\u001b[0m\n\u001b[1;32m     15\u001b[0m \u001b[0msimulator\u001b[0m \u001b[0;34m=\u001b[0m \u001b[0mAer\u001b[0m\u001b[0;34m.\u001b[0m\u001b[0mget_backend\u001b[0m\u001b[0;34m(\u001b[0m\u001b[0;34m'unitary_simulator'\u001b[0m\u001b[0;34m)\u001b[0m\u001b[0;34m\u001b[0m\u001b[0;34m\u001b[0m\u001b[0m\n",
      "\u001b[0;31mAttributeError\u001b[0m: 'QuantumCircuit' object has no attribute 'QFT'"
     ]
    }
   ],
   "source": [
    "qc1 = QuantumCircuit(2)\n",
    "\n",
    "# qc1.u3(np.pi/2,0,5*np.pi/4,0)\n",
    "# qc1.u3(np.pi/2,0,np.pi,1)\n",
    "# qc1.cx(0,1)\n",
    "\n",
    "simulator = Aer.get_backend('unitary_simulator')\n",
    "job = execute(qc1, simulator)\n",
    "result = job.result()\n",
    "my_u2 = result.get_unitary(qc1)\n",
    "\n",
    "qc1.draw()"
   ]
  },
  {
   "cell_type": "code",
   "execution_count": 518,
   "metadata": {},
   "outputs": [
    {
     "data": {
      "text/plain": [
       "(False,\n",
       " array([[ 0.5 +0.j  ,  0.5 +0.j  ,  0.5 +0.j  ,  0.5 +0.j  ],\n",
       "        [ 0.35+0.35j, -0.35-0.35j,  0.35+0.35j, -0.35-0.35j],\n",
       "        [ 0.5 -0.j  , -0.5 +0.j  , -0.5 +0.j  ,  0.5 -0.j  ],\n",
       "        [ 0.35+0.35j,  0.35+0.35j, -0.35-0.35j, -0.35-0.35j]]),\n",
       " array([[ 0.5 +0.j  ,  0.5 -0.j  ,  0.5 -0.j  ,  0.5 -0.j  ],\n",
       "        [ 0.35+0.35j, -0.35-0.35j, -0.35-0.35j,  0.35+0.35j],\n",
       "        [ 0.5 +0.j  ,  0.5 -0.j  , -0.5 +0.j  , -0.5 +0.j  ],\n",
       "        [ 0.35+0.35j, -0.35-0.35j,  0.35+0.35j, -0.35-0.35j]]))"
      ]
     },
     "execution_count": 518,
     "metadata": {},
     "output_type": "execute_result"
    }
   ],
   "source": [
    "np.array_equal(np.round(my_u, 6), np.transpose(np.round(my_u2,6))), np.transpose(np.round(my_u2,2)), np.round(my_u,2)"
   ]
  },
  {
   "cell_type": "code",
   "execution_count": 473,
   "metadata": {},
   "outputs": [
    {
     "data": {
      "text/plain": [
       "array([[ 0.25 -0.604j,  0.25 +0.104j,  0.604+0.25j , -0.104+0.25j ],\n",
       "       [-0.104-0.25j , -0.604+0.25j ,  0.25 -0.104j, -0.25 -0.604j],\n",
       "       [ 0.25 -0.604j,  0.25 +0.104j, -0.604-0.25j ,  0.104-0.25j ],\n",
       "       [ 0.104+0.25j ,  0.604-0.25j ,  0.25 -0.104j, -0.25 -0.604j]])"
      ]
     },
     "execution_count": 473,
     "metadata": {},
     "output_type": "execute_result"
    }
   ],
   "source": [
    "np.round(cnot01@my_u, 3)"
   ]
  },
  {
   "cell_type": "code",
   "execution_count": 544,
   "metadata": {},
   "outputs": [
    {
     "data": {
      "text/plain": [
       "(array([[1.    +0.j    , 0.    +0.j    , 0.    +0.j    , 0.    +0.j    ],\n",
       "        [0.    +0.j    , 0.7071-0.7071j, 0.    +0.j    , 0.    +0.j    ],\n",
       "        [0.    +0.j    , 0.    +0.j    , 0.    -1.j    , 0.    +0.j    ],\n",
       "        [0.    +0.j    , 0.    +0.j    , 0.    +0.j    , 0.7071-0.7071j]]),\n",
       " array([[1.   +0.j   , 0.   +0.j   , 0.   +0.j   , 0.   +0.j   ],\n",
       "        [0.   +0.j   , 0.707-0.707j, 0.   +0.j   , 0.   +0.j   ],\n",
       "        [0.   +0.j   , 0.   +0.j   , 1.   +0.j   , 0.   +0.j   ],\n",
       "        [0.   +0.j   , 0.   +0.j   , 0.   +0.j   , 0.707-0.707j]]))"
      ]
     },
     "execution_count": 544,
     "metadata": {},
     "output_type": "execute_result"
    }
   ],
   "source": [
    "p = np.array([[1,0],[0,np.exp(-1j*np.pi/4)]])\n",
    "np.round(cnot10 @ np.kron(p,p), 4) @ cnot10, np.round(np.kron(np.identity(2), p), 3)"
   ]
  },
  {
   "cell_type": "code",
   "execution_count": null,
   "metadata": {},
   "outputs": [],
   "source": []
  },
  {
   "cell_type": "markdown",
   "metadata": {},
   "source": [
    "# Guess Circuit"
   ]
  },
  {
   "cell_type": "code",
   "execution_count": 182,
   "metadata": {},
   "outputs": [
    {
     "data": {
      "image/png": "[encoded data removed]",
      "text/plain": [
       "<Figure size 599.592x264.88 with 1 Axes>"
      ]
     },
     "execution_count": 182,
     "metadata": {},
     "output_type": "execute_result"
    }
   ],
   "source": [
    "# hand written gate reduction\n",
    "qc2 = QuantumCircuit(4)\n",
    "\n",
    "qc2.cx(1,0)\n",
    "qc2.u3(0,0,np.pi/4,0)\n",
    "qc2.cx(2,0)\n",
    "qc2.u3(0,0,-np.pi/4,0)\n",
    "qc2.cx(1,0)\n",
    "# qc2.u3(0,0,np.pi/4,0)\n",
    "# qc2.cx(3,0)\n",
    "# qc2.u3(0,0,3*np.pi/4,0)\n",
    "# qc2.cx(1,0)\n",
    "# qc2.u3(0,0,-np.pi/4,0)\n",
    "# qc2.cx(2,0)\n",
    "# qc2.u3(0,0,-np.pi/4,0)\n",
    "# qc2.cx(1,0)\n",
    "# qc2.u3(0,0,-np.pi/4,0)\n",
    "\n",
    "# qc = transpile(qc, basis_gates=['u3','cx'], optimization_level=3)\n",
    "# check_circuit(qc)\n",
    "simulator = Aer.get_backend('unitary_simulator')\n",
    "job = execute(qc2, simulator)\n",
    "result = job.result()\n",
    "my_u_part = result.get_unitary(qc2)\n",
    "\n",
    "qc2.draw()"
   ]
  },
  {
   "cell_type": "code",
   "execution_count": 190,
   "metadata": {
    "scrolled": true
   },
   "outputs": [
    {
     "data": {
      "text/plain": [
       "(array([1.+0.j, 1.+0.j, 1.+0.j, 1.+0.j, 0.+0.j, 0.+0.j, 0.+0.j, 0.+0.j,\n",
       "        1.+0.j, 1.+0.j, 1.+0.j, 1.+0.j, 0.+0.j, 0.+0.j, 0.+0.j, 0.+0.j]),\n",
       " array([[1.    +0.j    , 0.    +0.j    , 0.    +0.j    , 0.    +0.j    ,\n",
       "         0.    +0.j    , 0.    +0.j    , 0.    +0.j    , 0.    +0.j    ,\n",
       "         0.    +0.j    , 0.    +0.j    , 0.    +0.j    , 0.    +0.j    ,\n",
       "         0.    +0.j    , 0.    +0.j    , 0.    +0.j    , 0.    +0.j    ],\n",
       "        [0.    +0.j    , 1.    +0.j    , 0.    +0.j    , 0.    +0.j    ,\n",
       "         0.    +0.j    , 0.    +0.j    , 0.    +0.j    , 0.    +0.j    ,\n",
       "         0.    +0.j    , 0.    +0.j    , 0.    +0.j    , 0.    +0.j    ,\n",
       "         0.    +0.j    , 0.    +0.j    , 0.    +0.j    , 0.    +0.j    ],\n",
       "        [0.    +0.j    , 0.    +0.j    , 1.    +0.j    , 0.    +0.j    ,\n",
       "         0.    +0.j    , 0.    +0.j    , 0.    +0.j    , 0.    +0.j    ,\n",
       "         0.    +0.j    , 0.    +0.j    , 0.    +0.j    , 0.    +0.j    ,\n",
       "         0.    +0.j    , 0.    +0.j    , 0.    +0.j    , 0.    +0.j    ],\n",
       "        [0.    +0.j    , 0.    +0.j    , 0.    +0.j    , 1.    +0.j    ,\n",
       "         0.    +0.j    , 0.    +0.j    , 0.    +0.j    , 0.    +0.j    ,\n",
       "         0.    +0.j    , 0.    +0.j    , 0.    +0.j    , 0.    +0.j    ,\n",
       "         0.    +0.j    , 0.    +0.j    , 0.    +0.j    , 0.    +0.j    ],\n",
       "        [0.    +0.j    , 0.    +0.j    , 0.    +0.j    , 0.    +0.j    ,\n",
       "         0.    +0.j    , 0.7071+0.7071j, 0.    +0.j    , 0.    +0.j    ,\n",
       "         0.    +0.j    , 0.    +0.j    , 0.    +0.j    , 0.    +0.j    ,\n",
       "         0.    +0.j    , 0.    +0.j    , 0.    +0.j    , 0.    +0.j    ],\n",
       "        [0.    +0.j    , 0.    +0.j    , 0.    +0.j    , 0.    +0.j    ,\n",
       "         0.7071-0.7071j, 0.    +0.j    , 0.    +0.j    , 0.    +0.j    ,\n",
       "         0.    +0.j    , 0.    +0.j    , 0.    +0.j    , 0.    +0.j    ,\n",
       "         0.    +0.j    , 0.    +0.j    , 0.    +0.j    , 0.    +0.j    ],\n",
       "        [0.    +0.j    , 0.    +0.j    , 0.    +0.j    , 0.    +0.j    ,\n",
       "         0.    +0.j    , 0.    +0.j    , 0.    +0.j    , 0.7071-0.7071j,\n",
       "         0.    +0.j    , 0.    +0.j    , 0.    +0.j    , 0.    +0.j    ,\n",
       "         0.    +0.j    , 0.    +0.j    , 0.    +0.j    , 0.    +0.j    ],\n",
       "        [0.    +0.j    , 0.    +0.j    , 0.    +0.j    , 0.    +0.j    ,\n",
       "         0.    +0.j    , 0.    +0.j    , 0.7071+0.7071j, 0.    +0.j    ,\n",
       "         0.    +0.j    , 0.    +0.j    , 0.    +0.j    , 0.    +0.j    ,\n",
       "         0.    +0.j    , 0.    +0.j    , 0.    +0.j    , 0.    +0.j    ],\n",
       "        [0.    +0.j    , 0.    +0.j    , 0.    +0.j    , 0.    +0.j    ,\n",
       "         0.    +0.j    , 0.    +0.j    , 0.    +0.j    , 0.    +0.j    ,\n",
       "         1.    +0.j    , 0.    +0.j    , 0.    +0.j    , 0.    +0.j    ,\n",
       "         0.    +0.j    , 0.    +0.j    , 0.    +0.j    , 0.    +0.j    ],\n",
       "        [0.    +0.j    , 0.    +0.j    , 0.    +0.j    , 0.    +0.j    ,\n",
       "         0.    +0.j    , 0.    +0.j    , 0.    +0.j    , 0.    +0.j    ,\n",
       "         0.    +0.j    , 1.    +0.j    , 0.    +0.j    , 0.    +0.j    ,\n",
       "         0.    +0.j    , 0.    +0.j    , 0.    +0.j    , 0.    +0.j    ],\n",
       "        [0.    +0.j    , 0.    +0.j    , 0.    +0.j    , 0.    +0.j    ,\n",
       "         0.    +0.j    , 0.    +0.j    , 0.    +0.j    , 0.    +0.j    ,\n",
       "         0.    +0.j    , 0.    +0.j    , 1.    +0.j    , 0.    +0.j    ,\n",
       "         0.    +0.j    , 0.    +0.j    , 0.    +0.j    , 0.    +0.j    ],\n",
       "        [0.    +0.j    , 0.    +0.j    , 0.    +0.j    , 0.    +0.j    ,\n",
       "         0.    +0.j    , 0.    +0.j    , 0.    +0.j    , 0.    +0.j    ,\n",
       "         0.    +0.j    , 0.    +0.j    , 0.    +0.j    , 1.    +0.j    ,\n",
       "         0.    +0.j    , 0.    +0.j    , 0.    +0.j    , 0.    +0.j    ],\n",
       "        [0.    +0.j    , 0.    +0.j    , 0.    +0.j    , 0.    +0.j    ,\n",
       "         0.    +0.j    , 0.    +0.j    , 0.    +0.j    , 0.    +0.j    ,\n",
       "         0.    +0.j    , 0.    +0.j    , 0.    +0.j    , 0.    +0.j    ,\n",
       "         0.    +0.j    , 0.7071+0.7071j, 0.    +0.j    , 0.    +0.j    ],\n",
       "        [0.    +0.j    , 0.    +0.j    , 0.    +0.j    , 0.    +0.j    ,\n",
       "         0.    +0.j    , 0.    +0.j    , 0.    +0.j    , 0.    +0.j    ,\n",
       "         0.    +0.j    , 0.    +0.j    , 0.    +0.j    , 0.    +0.j    ,\n",
       "         0.7071-0.7071j, 0.    +0.j    , 0.    +0.j    , 0.    +0.j    ],\n",
       "        [0.    +0.j    , 0.    +0.j    , 0.    +0.j    , 0.    +0.j    ,\n",
       "         0.    +0.j    , 0.    +0.j    , 0.    +0.j    , 0.    +0.j    ,\n",
       "         0.    +0.j    , 0.    +0.j    , 0.    +0.j    , 0.    +0.j    ,\n",
       "         0.    +0.j    , 0.    +0.j    , 0.    +0.j    , 0.7071-0.7071j],\n",
       "        [0.    +0.j    , 0.    +0.j    , 0.    +0.j    , 0.    +0.j    ,\n",
       "         0.    +0.j    , 0.    +0.j    , 0.    +0.j    , 0.    +0.j    ,\n",
       "         0.    +0.j    , 0.    +0.j    , 0.    +0.j    , 0.    +0.j    ,\n",
       "         0.    +0.j    , 0.    +0.j    , 0.7071+0.7071j, 0.    +0.j    ]]))"
      ]
     },
     "execution_count": 190,
     "metadata": {},
     "output_type": "execute_result"
    }
   ],
   "source": [
    "np.diag(np.round(my_u_part, 4)), np.round(my_u_part, 4)"
   ]
  },
  {
   "cell_type": "code",
   "execution_count": 191,
   "metadata": {
    "scrolled": true
   },
   "outputs": [
    {
     "data": {
      "text/plain": [
       "(array([1.    +0.j    , 1.    +0.j    , 1.    +0.j    , 1.    +0.j    ,\n",
       "        0.7071+0.7071j, 0.7071-0.7071j, 0.7071-0.7071j, 0.7071+0.7071j,\n",
       "        1.    +0.j    , 1.    +0.j    , 1.    +0.j    , 1.    +0.j    ,\n",
       "        0.7071+0.7071j, 0.7071-0.7071j, 0.7071-0.7071j, 0.7071+0.7071j]),\n",
       " array([[1.    +0.j    , 0.    +0.j    , 0.    +0.j    , 0.    +0.j    ,\n",
       "         0.    +0.j    , 0.    +0.j    , 0.    +0.j    , 0.    +0.j    ,\n",
       "         0.    +0.j    , 0.    +0.j    , 0.    +0.j    , 0.    +0.j    ,\n",
       "         0.    +0.j    , 0.    +0.j    , 0.    +0.j    , 0.    +0.j    ],\n",
       "        [0.    +0.j    , 1.    +0.j    , 0.    +0.j    , 0.    +0.j    ,\n",
       "         0.    +0.j    , 0.    +0.j    , 0.    +0.j    , 0.    +0.j    ,\n",
       "         0.    +0.j    , 0.    +0.j    , 0.    +0.j    , 0.    +0.j    ,\n",
       "         0.    +0.j    , 0.    +0.j    , 0.    +0.j    , 0.    +0.j    ],\n",
       "        [0.    +0.j    , 0.    +0.j    , 1.    +0.j    , 0.    +0.j    ,\n",
       "         0.    +0.j    , 0.    +0.j    , 0.    +0.j    , 0.    +0.j    ,\n",
       "         0.    +0.j    , 0.    +0.j    , 0.    +0.j    , 0.    +0.j    ,\n",
       "         0.    +0.j    , 0.    +0.j    , 0.    +0.j    , 0.    +0.j    ],\n",
       "        [0.    +0.j    , 0.    +0.j    , 0.    +0.j    , 1.    +0.j    ,\n",
       "         0.    +0.j    , 0.    +0.j    , 0.    +0.j    , 0.    +0.j    ,\n",
       "         0.    +0.j    , 0.    +0.j    , 0.    +0.j    , 0.    +0.j    ,\n",
       "         0.    +0.j    , 0.    +0.j    , 0.    +0.j    , 0.    +0.j    ],\n",
       "        [0.    +0.j    , 0.    +0.j    , 0.    +0.j    , 0.    +0.j    ,\n",
       "         0.7071+0.7071j, 0.    +0.j    , 0.    +0.j    , 0.    +0.j    ,\n",
       "         0.    +0.j    , 0.    +0.j    , 0.    +0.j    , 0.    +0.j    ,\n",
       "         0.    +0.j    , 0.    +0.j    , 0.    +0.j    , 0.    +0.j    ],\n",
       "        [0.    +0.j    , 0.    +0.j    , 0.    +0.j    , 0.    +0.j    ,\n",
       "         0.    +0.j    , 0.7071-0.7071j, 0.    +0.j    , 0.    +0.j    ,\n",
       "         0.    +0.j    , 0.    +0.j    , 0.    +0.j    , 0.    +0.j    ,\n",
       "         0.    +0.j    , 0.    +0.j    , 0.    +0.j    , 0.    +0.j    ],\n",
       "        [0.    +0.j    , 0.    +0.j    , 0.    +0.j    , 0.    +0.j    ,\n",
       "         0.    +0.j    , 0.    +0.j    , 0.7071-0.7071j, 0.    +0.j    ,\n",
       "         0.    +0.j    , 0.    +0.j    , 0.    +0.j    , 0.    +0.j    ,\n",
       "         0.    +0.j    , 0.    +0.j    , 0.    +0.j    , 0.    +0.j    ],\n",
       "        [0.    +0.j    , 0.    +0.j    , 0.    +0.j    , 0.    +0.j    ,\n",
       "         0.    +0.j    , 0.    +0.j    , 0.    +0.j    , 0.7071+0.7071j,\n",
       "         0.    +0.j    , 0.    +0.j    , 0.    +0.j    , 0.    +0.j    ,\n",
       "         0.    +0.j    , 0.    +0.j    , 0.    +0.j    , 0.    +0.j    ],\n",
       "        [0.    +0.j    , 0.    +0.j    , 0.    +0.j    , 0.    +0.j    ,\n",
       "         0.    +0.j    , 0.    +0.j    , 0.    +0.j    , 0.    +0.j    ,\n",
       "         1.    +0.j    , 0.    +0.j    , 0.    +0.j    , 0.    +0.j    ,\n",
       "         0.    +0.j    , 0.    +0.j    , 0.    +0.j    , 0.    +0.j    ],\n",
       "        [0.    +0.j    , 0.    +0.j    , 0.    +0.j    , 0.    +0.j    ,\n",
       "         0.    +0.j    , 0.    +0.j    , 0.    +0.j    , 0.    +0.j    ,\n",
       "         0.    +0.j    , 1.    +0.j    , 0.    +0.j    , 0.    +0.j    ,\n",
       "         0.    +0.j    , 0.    +0.j    , 0.    +0.j    , 0.    +0.j    ],\n",
       "        [0.    +0.j    , 0.    +0.j    , 0.    +0.j    , 0.    +0.j    ,\n",
       "         0.    +0.j    , 0.    +0.j    , 0.    +0.j    , 0.    +0.j    ,\n",
       "         0.    +0.j    , 0.    +0.j    , 1.    +0.j    , 0.    +0.j    ,\n",
       "         0.    +0.j    , 0.    +0.j    , 0.    +0.j    , 0.    +0.j    ],\n",
       "        [0.    +0.j    , 0.    +0.j    , 0.    +0.j    , 0.    +0.j    ,\n",
       "         0.    +0.j    , 0.    +0.j    , 0.    +0.j    , 0.    +0.j    ,\n",
       "         0.    +0.j    , 0.    +0.j    , 0.    +0.j    , 1.    +0.j    ,\n",
       "         0.    +0.j    , 0.    +0.j    , 0.    +0.j    , 0.    +0.j    ],\n",
       "        [0.    +0.j    , 0.    +0.j    , 0.    +0.j    , 0.    +0.j    ,\n",
       "         0.    +0.j    , 0.    +0.j    , 0.    +0.j    , 0.    +0.j    ,\n",
       "         0.    +0.j    , 0.    +0.j    , 0.    +0.j    , 0.    +0.j    ,\n",
       "         0.7071+0.7071j, 0.    +0.j    , 0.    +0.j    , 0.    +0.j    ],\n",
       "        [0.    +0.j    , 0.    +0.j    , 0.    +0.j    , 0.    +0.j    ,\n",
       "         0.    +0.j    , 0.    +0.j    , 0.    +0.j    , 0.    +0.j    ,\n",
       "         0.    +0.j    , 0.    +0.j    , 0.    +0.j    , 0.    +0.j    ,\n",
       "         0.    +0.j    , 0.7071-0.7071j, 0.    +0.j    , 0.    +0.j    ],\n",
       "        [0.    +0.j    , 0.    +0.j    , 0.    +0.j    , 0.    +0.j    ,\n",
       "         0.    +0.j    , 0.    +0.j    , 0.    +0.j    , 0.    +0.j    ,\n",
       "         0.    +0.j    , 0.    +0.j    , 0.    +0.j    , 0.    +0.j    ,\n",
       "         0.    +0.j    , 0.    +0.j    , 0.7071-0.7071j, 0.    +0.j    ],\n",
       "        [0.    +0.j    , 0.    +0.j    , 0.    +0.j    , 0.    +0.j    ,\n",
       "         0.    +0.j    , 0.    +0.j    , 0.    +0.j    , 0.    +0.j    ,\n",
       "         0.    +0.j    , 0.    +0.j    , 0.    +0.j    , 0.    +0.j    ,\n",
       "         0.    +0.j    , 0.    +0.j    , 0.    +0.j    , 0.7071+0.7071j]]))"
      ]
     },
     "execution_count": 191,
     "metadata": {},
     "output_type": "execute_result"
    }
   ],
   "source": [
    "np.diag(np.round(my_u_part@ cnot_2_0, 4)), np.round(my_u_part@ cnot_2_0, 4)"
   ]
  },
  {
   "cell_type": "code",
   "execution_count": 189,
   "metadata": {
    "scrolled": true
   },
   "outputs": [
    {
     "data": {
      "text/plain": [
       "(array([1.    +0.j    , 0.    +1.j    , 1.    +0.j    , 0.    +1.j    ,\n",
       "        0.    +0.j    , 0.    +0.j    , 0.    +0.j    , 0.    +0.j    ,\n",
       "        0.    +0.j    , 0.    +0.j    , 0.    +0.j    , 0.    +0.j    ,\n",
       "        0.7071+0.7071j, 0.7071+0.7071j, 0.7071+0.7071j, 0.7071+0.7071j]),\n",
       " array([[1.  +0.j  , 0.  +0.j  , 0.  +0.j  , 0.  +0.j  , 0.  +0.j  ,\n",
       "         0.  +0.j  , 0.  +0.j  , 0.  +0.j  , 0.  +0.j  , 0.  +0.j  ,\n",
       "         0.  +0.j  , 0.  +0.j  , 0.  +0.j  , 0.  +0.j  , 0.  +0.j  ,\n",
       "         0.  +0.j  ],\n",
       "        [0.  +0.j  , 0.  +1.j  , 0.  +0.j  , 0.  +0.j  , 0.  +0.j  ,\n",
       "         0.  +0.j  , 0.  +0.j  , 0.  +0.j  , 0.  +0.j  , 0.  +0.j  ,\n",
       "         0.  +0.j  , 0.  +0.j  , 0.  +0.j  , 0.  +0.j  , 0.  +0.j  ,\n",
       "         0.  +0.j  ],\n",
       "        [0.  +0.j  , 0.  +0.j  , 1.  +0.j  , 0.  +0.j  , 0.  +0.j  ,\n",
       "         0.  +0.j  , 0.  +0.j  , 0.  +0.j  , 0.  +0.j  , 0.  +0.j  ,\n",
       "         0.  +0.j  , 0.  +0.j  , 0.  +0.j  , 0.  +0.j  , 0.  +0.j  ,\n",
       "         0.  +0.j  ],\n",
       "        [0.  +0.j  , 0.  +0.j  , 0.  +0.j  , 0.  +1.j  , 0.  +0.j  ,\n",
       "         0.  +0.j  , 0.  +0.j  , 0.  +0.j  , 0.  +0.j  , 0.  +0.j  ,\n",
       "         0.  +0.j  , 0.  +0.j  , 0.  +0.j  , 0.  +0.j  , 0.  +0.j  ,\n",
       "         0.  +0.j  ],\n",
       "        [0.  +0.j  , 0.  +0.j  , 0.  +0.j  , 0.  +0.j  , 0.  +0.j  ,\n",
       "         0.71+0.71j, 0.  +0.j  , 0.  +0.j  , 0.  +0.j  , 0.  +0.j  ,\n",
       "         0.  +0.j  , 0.  +0.j  , 0.  +0.j  , 0.  +0.j  , 0.  +0.j  ,\n",
       "         0.  +0.j  ],\n",
       "        [0.  +0.j  , 0.  +0.j  , 0.  +0.j  , 0.  +0.j  , 0.71+0.71j,\n",
       "         0.  +0.j  , 0.  +0.j  , 0.  +0.j  , 0.  +0.j  , 0.  +0.j  ,\n",
       "         0.  +0.j  , 0.  +0.j  , 0.  +0.j  , 0.  +0.j  , 0.  +0.j  ,\n",
       "         0.  +0.j  ],\n",
       "        [0.  +0.j  , 0.  +0.j  , 0.  +0.j  , 0.  +0.j  , 0.  +0.j  ,\n",
       "         0.  +0.j  , 0.  +0.j  , 0.71+0.71j, 0.  +0.j  , 0.  +0.j  ,\n",
       "         0.  +0.j  , 0.  +0.j  , 0.  +0.j  , 0.  +0.j  , 0.  +0.j  ,\n",
       "         0.  +0.j  ],\n",
       "        [0.  +0.j  , 0.  +0.j  , 0.  +0.j  , 0.  +0.j  , 0.  +0.j  ,\n",
       "         0.  +0.j  , 0.71+0.71j, 0.  +0.j  , 0.  +0.j  , 0.  +0.j  ,\n",
       "         0.  +0.j  , 0.  +0.j  , 0.  +0.j  , 0.  +0.j  , 0.  +0.j  ,\n",
       "         0.  +0.j  ],\n",
       "        [0.  +0.j  , 0.  +0.j  , 0.  +0.j  , 0.  +0.j  , 0.  +0.j  ,\n",
       "         0.  +0.j  , 0.  +0.j  , 0.  +0.j  , 0.  +0.j  , 0.  +1.j  ,\n",
       "         0.  +0.j  , 0.  +0.j  , 0.  +0.j  , 0.  +0.j  , 0.  +0.j  ,\n",
       "         0.  +0.j  ],\n",
       "        [0.  +0.j  , 0.  +0.j  , 0.  +0.j  , 0.  +0.j  , 0.  +0.j  ,\n",
       "         0.  +0.j  , 0.  +0.j  , 0.  +0.j  , 1.  +0.j  , 0.  +0.j  ,\n",
       "         0.  +0.j  , 0.  +0.j  , 0.  +0.j  , 0.  +0.j  , 0.  +0.j  ,\n",
       "         0.  +0.j  ],\n",
       "        [0.  +0.j  , 0.  +0.j  , 0.  +0.j  , 0.  +0.j  , 0.  +0.j  ,\n",
       "         0.  +0.j  , 0.  +0.j  , 0.  +0.j  , 0.  +0.j  , 0.  +0.j  ,\n",
       "         0.  +0.j  , 0.  +1.j  , 0.  +0.j  , 0.  +0.j  , 0.  +0.j  ,\n",
       "         0.  +0.j  ],\n",
       "        [0.  +0.j  , 0.  +0.j  , 0.  +0.j  , 0.  +0.j  , 0.  +0.j  ,\n",
       "         0.  +0.j  , 0.  +0.j  , 0.  +0.j  , 0.  +0.j  , 0.  +0.j  ,\n",
       "         1.  +0.j  , 0.  +0.j  , 0.  +0.j  , 0.  +0.j  , 0.  +0.j  ,\n",
       "         0.  +0.j  ],\n",
       "        [0.  +0.j  , 0.  +0.j  , 0.  +0.j  , 0.  +0.j  , 0.  +0.j  ,\n",
       "         0.  +0.j  , 0.  +0.j  , 0.  +0.j  , 0.  +0.j  , 0.  +0.j  ,\n",
       "         0.  +0.j  , 0.  +0.j  , 0.71+0.71j, 0.  +0.j  , 0.  +0.j  ,\n",
       "         0.  +0.j  ],\n",
       "        [0.  +0.j  , 0.  +0.j  , 0.  +0.j  , 0.  +0.j  , 0.  +0.j  ,\n",
       "         0.  +0.j  , 0.  +0.j  , 0.  +0.j  , 0.  +0.j  , 0.  +0.j  ,\n",
       "         0.  +0.j  , 0.  +0.j  , 0.  +0.j  , 0.71+0.71j, 0.  +0.j  ,\n",
       "         0.  +0.j  ],\n",
       "        [0.  +0.j  , 0.  +0.j  , 0.  +0.j  , 0.  +0.j  , 0.  +0.j  ,\n",
       "         0.  +0.j  , 0.  +0.j  , 0.  +0.j  , 0.  +0.j  , 0.  +0.j  ,\n",
       "         0.  +0.j  , 0.  +0.j  , 0.  +0.j  , 0.  +0.j  , 0.71+0.71j,\n",
       "         0.  +0.j  ],\n",
       "        [0.  +0.j  , 0.  +0.j  , 0.  +0.j  , 0.  +0.j  , 0.  +0.j  ,\n",
       "         0.  +0.j  , 0.  +0.j  , 0.  +0.j  , 0.  +0.j  , 0.  +0.j  ,\n",
       "         0.  +0.j  , 0.  +0.j  , 0.  +0.j  , 0.  +0.j  , 0.  +0.j  ,\n",
       "         0.71+0.71j]]))"
      ]
     },
     "execution_count": 189,
     "metadata": {},
     "output_type": "execute_result"
    }
   ],
   "source": [
    "gues = np.kron(np.kron(np.kron(iden,U3(0,0,np.pi/4)),iden),iden) @ cnot_2_0\n",
    "np.diag(np.round(guess, 4)), np.round(guess, 2)"
   ]
  },
  {
   "cell_type": "code",
   "execution_count": 148,
   "metadata": {},
   "outputs": [
    {
     "data": {
      "text/plain": [
       "False"
      ]
     },
     "execution_count": 148,
     "metadata": {},
     "output_type": "execute_result"
    }
   ],
   "source": [
    "np.array_equal(np.round(np.transpose(my_u_part), 5), np.round(my_u_part,5))"
   ]
  },
  {
   "cell_type": "code",
   "execution_count": 149,
   "metadata": {},
   "outputs": [],
   "source": [
    "cnot_2_0 = np.array([[1., 0., 0., 0., 0., 0., 0., 0., 0., 0., 0., 0., 0., 0., 0., 0.],\n",
    "       [0., 1., 0., 0., 0., 0., 0., 0., 0., 0., 0., 0., 0., 0., 0., 0.],\n",
    "       [0., 0., 1., 0., 0., 0., 0., 0., 0., 0., 0., 0., 0., 0., 0., 0.],\n",
    "       [0., 0., 0., 1., 0., 0., 0., 0., 0., 0., 0., 0., 0., 0., 0., 0.],\n",
    "       [0., 0., 0., 0., 0., 1., 0., 0., 0., 0., 0., 0., 0., 0., 0., 0.],\n",
    "       [0., 0., 0., 0., 1., 0., 0., 0., 0., 0., 0., 0., 0., 0., 0., 0.],\n",
    "       [0., 0., 0., 0., 0., 0., 0., 1., 0., 0., 0., 0., 0., 0., 0., 0.],\n",
    "       [0., 0., 0., 0., 0., 0., 1., 0., 0., 0., 0., 0., 0., 0., 0., 0.],\n",
    "       [0., 0., 0., 0., 0., 0., 0., 0., 1., 0., 0., 0., 0., 0., 0., 0.],\n",
    "       [0., 0., 0., 0., 0., 0., 0., 0., 0., 1., 0., 0., 0., 0., 0., 0.],\n",
    "       [0., 0., 0., 0., 0., 0., 0., 0., 0., 0., 1., 0., 0., 0., 0., 0.],\n",
    "       [0., 0., 0., 0., 0., 0., 0., 0., 0., 0., 0., 1., 0., 0., 0., 0.],\n",
    "       [0., 0., 0., 0., 0., 0., 0., 0., 0., 0., 0., 0., 0., 1., 0., 0.],\n",
    "       [0., 0., 0., 0., 0., 0., 0., 0., 0., 0., 0., 0., 1., 0., 0., 0.],\n",
    "       [0., 0., 0., 0., 0., 0., 0., 0., 0., 0., 0., 0., 0., 0., 0., 1.],\n",
    "       [0., 0., 0., 0., 0., 0., 0., 0., 0., 0., 0., 0., 0., 0., 1., 0.]])\n",
    "cnot3__0 = np.array([[1., 0., 0., 0., 0., 0., 0., 0., 0., 0., 0., 0., 0., 0., 0., 0.],\n",
    "       [0., 1., 0., 0., 0., 0., 0., 0., 0., 0., 0., 0., 0., 0., 0., 0.],\n",
    "       [0., 0., 1., 0., 0., 0., 0., 0., 0., 0., 0., 0., 0., 0., 0., 0.],\n",
    "       [0., 0., 0., 1., 0., 0., 0., 0., 0., 0., 0., 0., 0., 0., 0., 0.],\n",
    "       [0., 0., 0., 0., 1., 0., 0., 0., 0., 0., 0., 0., 0., 0., 0., 0.],\n",
    "       [0., 0., 0., 0., 0., 1., 0., 0., 0., 0., 0., 0., 0., 0., 0., 0.],\n",
    "       [0., 0., 0., 0., 0., 0., 1., 0., 0., 0., 0., 0., 0., 0., 0., 0.],\n",
    "       [0., 0., 0., 0., 0., 0., 0., 1., 0., 0., 0., 0., 0., 0., 0., 0.],\n",
    "       [0., 0., 0., 0., 0., 0., 0., 0., 0., 1., 0., 0., 0., 0., 0., 0.],\n",
    "       [0., 0., 0., 0., 0., 0., 0., 0., 1., 0., 0., 0., 0., 0., 0., 0.],\n",
    "       [0., 0., 0., 0., 0., 0., 0., 0., 0., 0., 0., 1., 0., 0., 0., 0.],\n",
    "       [0., 0., 0., 0., 0., 0., 0., 0., 0., 0., 1., 0., 0., 0., 0., 0.],\n",
    "       [0., 0., 0., 0., 0., 0., 0., 0., 0., 0., 0., 0., 0., 1., 0., 0.],\n",
    "       [0., 0., 0., 0., 0., 0., 0., 0., 0., 0., 0., 0., 1., 0., 0., 0.],\n",
    "       [0., 0., 0., 0., 0., 0., 0., 0., 0., 0., 0., 0., 0., 0., 0., 1.],\n",
    "       [0., 0., 0., 0., 0., 0., 0., 0., 0., 0., 0., 0., 0., 0., 1., 0.]])\n"
   ]
  },
  {
   "cell_type": "code",
   "execution_count": 163,
   "metadata": {},
   "outputs": [
    {
     "data": {
      "text/plain": [
       "(array([[1.        +0.j        , 0.        +0.j        ,\n",
       "         0.        +0.j        , 0.        +0.j        ,\n",
       "         0.        +0.j        , 0.        +0.j        ,\n",
       "         0.        +0.j        , 0.        +0.j        ,\n",
       "         0.        +0.j        , 0.        +0.j        ,\n",
       "         0.        +0.j        , 0.        +0.j        ,\n",
       "         0.        +0.j        , 0.        +0.j        ,\n",
       "         0.        +0.j        , 0.        +0.j        ],\n",
       "        [0.        +0.j        , 1.        +0.j        ,\n",
       "         0.        +0.j        , 0.        +0.j        ,\n",
       "         0.        +0.j        , 0.        +0.j        ,\n",
       "         0.        +0.j        , 0.        +0.j        ,\n",
       "         0.        +0.j        , 0.        +0.j        ,\n",
       "         0.        +0.j        , 0.        +0.j        ,\n",
       "         0.        +0.j        , 0.        +0.j        ,\n",
       "         0.        +0.j        , 0.        +0.j        ],\n",
       "        [0.        +0.j        , 0.        +0.j        ,\n",
       "         1.        +0.j        , 0.        +0.j        ,\n",
       "         0.        +0.j        , 0.        +0.j        ,\n",
       "         0.        +0.j        , 0.        +0.j        ,\n",
       "         0.        +0.j        , 0.        +0.j        ,\n",
       "         0.        +0.j        , 0.        +0.j        ,\n",
       "         0.        +0.j        , 0.        +0.j        ,\n",
       "         0.        +0.j        , 0.        +0.j        ],\n",
       "        [0.        +0.j        , 0.        +0.j        ,\n",
       "         0.        +0.j        , 1.        +0.j        ,\n",
       "         0.        +0.j        , 0.        +0.j        ,\n",
       "         0.        +0.j        , 0.        +0.j        ,\n",
       "         0.        +0.j        , 0.        +0.j        ,\n",
       "         0.        +0.j        , 0.        +0.j        ,\n",
       "         0.        +0.j        , 0.        +0.j        ,\n",
       "         0.        +0.j        , 0.        +0.j        ],\n",
       "        [0.        +0.j        , 0.        +0.j        ,\n",
       "         0.        +0.j        , 0.        +0.j        ,\n",
       "         1.        +0.j        , 0.        +0.j        ,\n",
       "         0.        +0.j        , 0.        +0.j        ,\n",
       "         0.        +0.j        , 0.        +0.j        ,\n",
       "         0.        +0.j        , 0.        +0.j        ,\n",
       "         0.        +0.j        , 0.        +0.j        ,\n",
       "         0.        +0.j        , 0.        +0.j        ],\n",
       "        [0.        +0.j        , 0.        +0.j        ,\n",
       "         0.        +0.j        , 0.        +0.j        ,\n",
       "         0.        +0.j        , 1.        +0.j        ,\n",
       "         0.        +0.j        , 0.        +0.j        ,\n",
       "         0.        +0.j        , 0.        +0.j        ,\n",
       "         0.        +0.j        , 0.        +0.j        ,\n",
       "         0.        +0.j        , 0.        +0.j        ,\n",
       "         0.        +0.j        , 0.        +0.j        ],\n",
       "        [0.        +0.j        , 0.        +0.j        ,\n",
       "         0.        +0.j        , 0.        +0.j        ,\n",
       "         0.        +0.j        , 0.        +0.j        ,\n",
       "         1.        +0.j        , 0.        +0.j        ,\n",
       "         0.        +0.j        , 0.        +0.j        ,\n",
       "         0.        +0.j        , 0.        +0.j        ,\n",
       "         0.        +0.j        , 0.        +0.j        ,\n",
       "         0.        +0.j        , 0.        +0.j        ],\n",
       "        [0.        +0.j        , 0.        +0.j        ,\n",
       "         0.        +0.j        , 0.        +0.j        ,\n",
       "         0.        +0.j        , 0.        +0.j        ,\n",
       "         0.        +0.j        , 1.        +0.j        ,\n",
       "         0.        +0.j        , 0.        +0.j        ,\n",
       "         0.        +0.j        , 0.        +0.j        ,\n",
       "         0.        +0.j        , 0.        +0.j        ,\n",
       "         0.        +0.j        , 0.        +0.j        ],\n",
       "        [0.        +0.j        , 0.        +0.j        ,\n",
       "         0.        +0.j        , 0.        +0.j        ,\n",
       "         0.        +0.j        , 0.        +0.j        ,\n",
       "         0.        +0.j        , 0.        +0.j        ,\n",
       "         0.70710678+0.70710678j, 0.        +0.j        ,\n",
       "         0.        +0.j        , 0.        +0.j        ,\n",
       "         0.        +0.j        , 0.        +0.j        ,\n",
       "         0.        +0.j        , 0.        +0.j        ],\n",
       "        [0.        +0.j        , 0.        +0.j        ,\n",
       "         0.        +0.j        , 0.        +0.j        ,\n",
       "         0.        +0.j        , 0.        +0.j        ,\n",
       "         0.        +0.j        , 0.        +0.j        ,\n",
       "         0.        +0.j        , 0.70710678+0.70710678j,\n",
       "         0.        +0.j        , 0.        +0.j        ,\n",
       "         0.        +0.j        , 0.        +0.j        ,\n",
       "         0.        +0.j        , 0.        +0.j        ],\n",
       "        [0.        +0.j        , 0.        +0.j        ,\n",
       "         0.        +0.j        , 0.        +0.j        ,\n",
       "         0.        +0.j        , 0.        +0.j        ,\n",
       "         0.        +0.j        , 0.        +0.j        ,\n",
       "         0.        +0.j        , 0.        +0.j        ,\n",
       "         0.70710678+0.70710678j, 0.        +0.j        ,\n",
       "         0.        +0.j        , 0.        +0.j        ,\n",
       "         0.        +0.j        , 0.        +0.j        ],\n",
       "        [0.        +0.j        , 0.        +0.j        ,\n",
       "         0.        +0.j        , 0.        +0.j        ,\n",
       "         0.        +0.j        , 0.        +0.j        ,\n",
       "         0.        +0.j        , 0.        +0.j        ,\n",
       "         0.        +0.j        , 0.        +0.j        ,\n",
       "         0.        +0.j        , 0.70710678+0.70710678j,\n",
       "         0.        +0.j        , 0.        +0.j        ,\n",
       "         0.        +0.j        , 0.        +0.j        ],\n",
       "        [0.        +0.j        , 0.        +0.j        ,\n",
       "         0.        +0.j        , 0.        +0.j        ,\n",
       "         0.        +0.j        , 0.        +0.j        ,\n",
       "         0.        +0.j        , 0.        +0.j        ,\n",
       "         0.        +0.j        , 0.        +0.j        ,\n",
       "         0.        +0.j        , 0.        +0.j        ,\n",
       "         0.70710678+0.70710678j, 0.        +0.j        ,\n",
       "         0.        +0.j        , 0.        +0.j        ],\n",
       "        [0.        +0.j        , 0.        +0.j        ,\n",
       "         0.        +0.j        , 0.        +0.j        ,\n",
       "         0.        +0.j        , 0.        +0.j        ,\n",
       "         0.        +0.j        , 0.        +0.j        ,\n",
       "         0.        +0.j        , 0.        +0.j        ,\n",
       "         0.        +0.j        , 0.        +0.j        ,\n",
       "         0.        +0.j        , 0.70710678+0.70710678j,\n",
       "         0.        +0.j        , 0.        +0.j        ],\n",
       "        [0.        +0.j        , 0.        +0.j        ,\n",
       "         0.        +0.j        , 0.        +0.j        ,\n",
       "         0.        +0.j        , 0.        +0.j        ,\n",
       "         0.        +0.j        , 0.        +0.j        ,\n",
       "         0.        +0.j        , 0.        +0.j        ,\n",
       "         0.        +0.j        , 0.        +0.j        ,\n",
       "         0.        +0.j        , 0.        +0.j        ,\n",
       "         0.70710678+0.70710678j, 0.        +0.j        ],\n",
       "        [0.        +0.j        , 0.        +0.j        ,\n",
       "         0.        +0.j        , 0.        +0.j        ,\n",
       "         0.        +0.j        , 0.        +0.j        ,\n",
       "         0.        +0.j        , 0.        +0.j        ,\n",
       "         0.        +0.j        , 0.        +0.j        ,\n",
       "         0.        +0.j        , 0.        +0.j        ,\n",
       "         0.        +0.j        , 0.        +0.j        ,\n",
       "         0.        +0.j        , 0.70710678+0.70710678j]]),\n",
       " array([[ 1.,  0.,  0.,  0.,  0.,  0.,  0.,  0.,  0.,  0.,  0.,  0.,  0.,\n",
       "          0.,  0.,  0.],\n",
       "        [ 0., -1.,  0., -0.,  0., -0.,  0., -0.,  0., -0.,  0., -0.,  0.,\n",
       "         -0.,  0., -0.],\n",
       "        [ 0.,  0.,  1.,  0.,  0.,  0.,  0.,  0.,  0.,  0.,  0.,  0.,  0.,\n",
       "          0.,  0.,  0.],\n",
       "        [ 0., -0.,  0., -1.,  0., -0.,  0., -0.,  0., -0.,  0., -0.,  0.,\n",
       "         -0.,  0., -0.],\n",
       "        [ 0.,  0.,  0.,  0.,  1.,  0.,  0.,  0.,  0.,  0.,  0.,  0.,  0.,\n",
       "          0.,  0.,  0.],\n",
       "        [ 0., -0.,  0., -0.,  0., -1.,  0., -0.,  0., -0.,  0., -0.,  0.,\n",
       "         -0.,  0., -0.],\n",
       "        [ 0.,  0.,  0.,  0.,  0.,  0.,  1.,  0.,  0.,  0.,  0.,  0.,  0.,\n",
       "          0.,  0.,  0.],\n",
       "        [ 0., -0.,  0., -0.,  0., -0.,  0., -1.,  0., -0.,  0., -0.,  0.,\n",
       "         -0.,  0., -0.],\n",
       "        [ 0.,  0.,  0.,  0.,  0.,  0.,  0.,  0.,  1.,  0.,  0.,  0.,  0.,\n",
       "          0.,  0.,  0.],\n",
       "        [ 0., -0.,  0., -0.,  0., -0.,  0., -0.,  0., -1.,  0., -0.,  0.,\n",
       "         -0.,  0., -0.],\n",
       "        [ 0.,  0.,  0.,  0.,  0.,  0.,  0.,  0.,  0.,  0.,  1.,  0.,  0.,\n",
       "          0.,  0.,  0.],\n",
       "        [ 0., -0.,  0., -0.,  0., -0.,  0., -0.,  0., -0.,  0., -1.,  0.,\n",
       "         -0.,  0., -0.],\n",
       "        [ 0.,  0.,  0.,  0.,  0.,  0.,  0.,  0.,  0.,  0.,  0.,  0.,  1.,\n",
       "          0.,  0.,  0.],\n",
       "        [ 0., -0.,  0., -0.,  0., -0.,  0., -0.,  0., -0.,  0., -0.,  0.,\n",
       "         -1.,  0., -0.],\n",
       "        [ 0.,  0.,  0.,  0.,  0.,  0.,  0.,  0.,  0.,  0.,  0.,  0.,  0.,\n",
       "          0.,  1.,  0.],\n",
       "        [ 0., -0.,  0., -0.,  0., -0.,  0., -0.,  0., -0.,  0., -0.,  0.,\n",
       "         -0.,  0., -1.]]))"
      ]
     },
     "execution_count": 163,
     "metadata": {},
     "output_type": "execute_result"
    }
   ],
   "source": [
    "z = np.array([[1,0],[0,-1]])\n",
    "np.kron(np.kron(np.kron(U3(0,0,np.pi/4),iden),iden),iden),np.kron(np.kron(np.kron(iden,iden),iden),z)"
   ]
  },
  {
   "cell_type": "code",
   "execution_count": 161,
   "metadata": {
    "scrolled": true
   },
   "outputs": [
    {
     "data": {
      "text/plain": [
       "array([ 1.    +0.j    ,  0.7071+0.7071j,  0.    -1.j    , -0.7071+0.7071j,\n",
       "        0.    +1.j    ,  0.7071-0.7071j, -1.    +0.j    , -0.7071-0.7071j,\n",
       "        0.7071+0.7071j,  1.    +0.j    ,  0.7071-0.7071j,  0.    +1.j    ,\n",
       "       -0.7071+0.7071j,  0.    -1.j    ,  0.7071+0.7071j,  1.    +0.j    ])"
      ]
     },
     "execution_count": 161,
     "metadata": {},
     "output_type": "execute_result"
    }
   ],
   "source": [
    "guess =  my_u_part @ cnot3__0\n",
    "np.diag(np.round(guess,4))"
   ]
  },
  {
   "cell_type": "code",
   "execution_count": 181,
   "metadata": {
    "scrolled": true
   },
   "outputs": [
    {
     "data": {
      "text/plain": [
       "array([1.    +0.j    , 0.    +1.j    , 1.    +0.j    , 0.    +1.j    ,\n",
       "       0.    +0.j    , 0.    +0.j    , 0.    +0.j    , 0.    +0.j    ,\n",
       "       0.    +0.j    , 0.    +0.j    , 0.    +0.j    , 0.    +0.j    ,\n",
       "       0.7071+0.7071j, 0.7071+0.7071j, 0.7071+0.7071j, 0.7071+0.7071j])"
      ]
     },
     "execution_count": 181,
     "metadata": {},
     "output_type": "execute_result"
    }
   ],
   "source": [
    "guess =  cnot3__0 @ np.kron(np.kron(np.kron(iden,iden),iden),U3(0,0,np.pi/4)) @ cnot_2_0 @ np.kron(np.kron(np.kron(iden,iden),iden),U3(0,0,np.pi/4))\n",
    "np.round(np.diag(guess),4)"
   ]
  },
  {
   "cell_type": "code",
   "execution_count": 180,
   "metadata": {},
   "outputs": [
    {
     "data": {
      "text/plain": [
       "array([ 1.    +0.j    ,  0.7071+0.7071j,  0.    -1.j    , -0.7071+0.7071j,\n",
       "        0.    +1.j    ,  0.7071-0.7071j, -1.    +0.j    , -0.7071-0.7071j,\n",
       "        0.    +0.j    ,  0.    +0.j    ,  0.    +0.j    ,  0.    +0.j    ,\n",
       "        0.    +0.j    ,  0.    +0.j    ,  0.    +0.j    ,  0.    +0.j    ])"
      ]
     },
     "execution_count": 180,
     "metadata": {},
     "output_type": "execute_result"
    }
   ],
   "source": [
    "np.round(np.diag(my_u_part), 4)"
   ]
  },
  {
   "cell_type": "code",
   "execution_count": 177,
   "metadata": {},
   "outputs": [
    {
     "data": {
      "text/plain": [
       "array([[ 1.00000000e+00+0.00000000e+00j,  0.00000000e+00+0.00000000e+00j,\n",
       "         0.00000000e+00+0.00000000e+00j,  0.00000000e+00+0.00000000e+00j,\n",
       "         0.00000000e+00+0.00000000e+00j,  0.00000000e+00+0.00000000e+00j,\n",
       "         0.00000000e+00+0.00000000e+00j,  0.00000000e+00+0.00000000e+00j,\n",
       "         0.00000000e+00+0.00000000e+00j,  0.00000000e+00+0.00000000e+00j,\n",
       "         0.00000000e+00+0.00000000e+00j,  0.00000000e+00+0.00000000e+00j,\n",
       "         0.00000000e+00+0.00000000e+00j,  0.00000000e+00+0.00000000e+00j,\n",
       "         0.00000000e+00+0.00000000e+00j,  0.00000000e+00+0.00000000e+00j],\n",
       "       [ 0.00000000e+00+0.00000000e+00j,  7.07106781e-01+7.07106781e-01j,\n",
       "         0.00000000e+00+0.00000000e+00j,  0.00000000e+00+0.00000000e+00j,\n",
       "         0.00000000e+00+0.00000000e+00j,  0.00000000e+00+0.00000000e+00j,\n",
       "         0.00000000e+00+0.00000000e+00j,  0.00000000e+00+0.00000000e+00j,\n",
       "         0.00000000e+00+0.00000000e+00j,  0.00000000e+00+0.00000000e+00j,\n",
       "         0.00000000e+00+0.00000000e+00j,  0.00000000e+00+0.00000000e+00j,\n",
       "         0.00000000e+00+0.00000000e+00j,  0.00000000e+00+0.00000000e+00j,\n",
       "         0.00000000e+00+0.00000000e+00j,  0.00000000e+00+0.00000000e+00j],\n",
       "       [ 0.00000000e+00+0.00000000e+00j,  0.00000000e+00+0.00000000e+00j,\n",
       "         2.22044605e-16-1.00000000e+00j,  0.00000000e+00+0.00000000e+00j,\n",
       "         0.00000000e+00+0.00000000e+00j,  0.00000000e+00+0.00000000e+00j,\n",
       "         0.00000000e+00+0.00000000e+00j,  0.00000000e+00+0.00000000e+00j,\n",
       "         0.00000000e+00+0.00000000e+00j,  0.00000000e+00+0.00000000e+00j,\n",
       "         0.00000000e+00+0.00000000e+00j,  0.00000000e+00+0.00000000e+00j,\n",
       "         0.00000000e+00+0.00000000e+00j,  0.00000000e+00+0.00000000e+00j,\n",
       "         0.00000000e+00+0.00000000e+00j,  0.00000000e+00+0.00000000e+00j],\n",
       "       [ 0.00000000e+00+0.00000000e+00j,  0.00000000e+00+0.00000000e+00j,\n",
       "         0.00000000e+00+0.00000000e+00j, -7.07106781e-01+7.07106781e-01j,\n",
       "         0.00000000e+00+0.00000000e+00j,  0.00000000e+00+0.00000000e+00j,\n",
       "         0.00000000e+00+0.00000000e+00j,  0.00000000e+00+0.00000000e+00j,\n",
       "         0.00000000e+00+0.00000000e+00j,  0.00000000e+00+0.00000000e+00j,\n",
       "         0.00000000e+00+0.00000000e+00j,  0.00000000e+00+0.00000000e+00j,\n",
       "         0.00000000e+00+0.00000000e+00j,  0.00000000e+00+0.00000000e+00j,\n",
       "         0.00000000e+00+0.00000000e+00j,  0.00000000e+00+0.00000000e+00j],\n",
       "       [ 0.00000000e+00+0.00000000e+00j,  0.00000000e+00+0.00000000e+00j,\n",
       "         0.00000000e+00+0.00000000e+00j,  0.00000000e+00+0.00000000e+00j,\n",
       "         0.00000000e+00+1.00000000e+00j,  0.00000000e+00+0.00000000e+00j,\n",
       "         0.00000000e+00+0.00000000e+00j,  0.00000000e+00+0.00000000e+00j,\n",
       "         0.00000000e+00+0.00000000e+00j,  0.00000000e+00+0.00000000e+00j,\n",
       "         0.00000000e+00+0.00000000e+00j,  0.00000000e+00+0.00000000e+00j,\n",
       "         0.00000000e+00+0.00000000e+00j,  0.00000000e+00+0.00000000e+00j,\n",
       "         0.00000000e+00+0.00000000e+00j,  0.00000000e+00+0.00000000e+00j],\n",
       "       [ 0.00000000e+00+0.00000000e+00j,  0.00000000e+00+0.00000000e+00j,\n",
       "         0.00000000e+00+0.00000000e+00j,  0.00000000e+00+0.00000000e+00j,\n",
       "         0.00000000e+00+0.00000000e+00j,  7.07106781e-01-7.07106781e-01j,\n",
       "         0.00000000e+00+0.00000000e+00j,  0.00000000e+00+0.00000000e+00j,\n",
       "         0.00000000e+00+0.00000000e+00j,  0.00000000e+00+0.00000000e+00j,\n",
       "         0.00000000e+00+0.00000000e+00j,  0.00000000e+00+0.00000000e+00j,\n",
       "         0.00000000e+00+0.00000000e+00j,  0.00000000e+00+0.00000000e+00j,\n",
       "         0.00000000e+00+0.00000000e+00j,  0.00000000e+00+0.00000000e+00j],\n",
       "       [ 0.00000000e+00+0.00000000e+00j,  0.00000000e+00+0.00000000e+00j,\n",
       "         0.00000000e+00+0.00000000e+00j,  0.00000000e+00+0.00000000e+00j,\n",
       "         0.00000000e+00+0.00000000e+00j,  0.00000000e+00+0.00000000e+00j,\n",
       "        -1.00000000e+00+2.22044605e-16j,  0.00000000e+00+0.00000000e+00j,\n",
       "         0.00000000e+00+0.00000000e+00j,  0.00000000e+00+0.00000000e+00j,\n",
       "         0.00000000e+00+0.00000000e+00j,  0.00000000e+00+0.00000000e+00j,\n",
       "         0.00000000e+00+0.00000000e+00j,  0.00000000e+00+0.00000000e+00j,\n",
       "         0.00000000e+00+0.00000000e+00j,  0.00000000e+00+0.00000000e+00j],\n",
       "       [ 0.00000000e+00+0.00000000e+00j,  0.00000000e+00+0.00000000e+00j,\n",
       "         0.00000000e+00+0.00000000e+00j,  0.00000000e+00+0.00000000e+00j,\n",
       "         0.00000000e+00+0.00000000e+00j,  0.00000000e+00+0.00000000e+00j,\n",
       "         0.00000000e+00+0.00000000e+00j, -7.07106781e-01-7.07106781e-01j,\n",
       "         0.00000000e+00+0.00000000e+00j,  0.00000000e+00+0.00000000e+00j,\n",
       "         0.00000000e+00+0.00000000e+00j,  0.00000000e+00+0.00000000e+00j,\n",
       "         0.00000000e+00+0.00000000e+00j,  0.00000000e+00+0.00000000e+00j,\n",
       "         0.00000000e+00+0.00000000e+00j,  0.00000000e+00+0.00000000e+00j],\n",
       "       [ 0.00000000e+00+0.00000000e+00j,  0.00000000e+00+0.00000000e+00j,\n",
       "         0.00000000e+00+0.00000000e+00j,  0.00000000e+00+0.00000000e+00j,\n",
       "         0.00000000e+00+0.00000000e+00j,  0.00000000e+00+0.00000000e+00j,\n",
       "         0.00000000e+00+0.00000000e+00j,  0.00000000e+00+0.00000000e+00j,\n",
       "         0.00000000e+00+0.00000000e+00j,  7.07106781e-01+7.07106781e-01j,\n",
       "         0.00000000e+00+0.00000000e+00j,  0.00000000e+00+0.00000000e+00j,\n",
       "         0.00000000e+00+0.00000000e+00j,  0.00000000e+00+0.00000000e+00j,\n",
       "         0.00000000e+00+0.00000000e+00j,  0.00000000e+00+0.00000000e+00j],\n",
       "       [ 0.00000000e+00+0.00000000e+00j,  0.00000000e+00+0.00000000e+00j,\n",
       "         0.00000000e+00+0.00000000e+00j,  0.00000000e+00+0.00000000e+00j,\n",
       "         0.00000000e+00+0.00000000e+00j,  0.00000000e+00+0.00000000e+00j,\n",
       "         0.00000000e+00+0.00000000e+00j,  0.00000000e+00+0.00000000e+00j,\n",
       "         1.00000000e+00+2.22044605e-16j,  0.00000000e+00+0.00000000e+00j,\n",
       "         0.00000000e+00+0.00000000e+00j,  0.00000000e+00+0.00000000e+00j,\n",
       "         0.00000000e+00+0.00000000e+00j,  0.00000000e+00+0.00000000e+00j,\n",
       "         0.00000000e+00+0.00000000e+00j,  0.00000000e+00+0.00000000e+00j],\n",
       "       [ 0.00000000e+00+0.00000000e+00j,  0.00000000e+00+0.00000000e+00j,\n",
       "         0.00000000e+00+0.00000000e+00j,  0.00000000e+00+0.00000000e+00j,\n",
       "         0.00000000e+00+0.00000000e+00j,  0.00000000e+00+0.00000000e+00j,\n",
       "         0.00000000e+00+0.00000000e+00j,  0.00000000e+00+0.00000000e+00j,\n",
       "         0.00000000e+00+0.00000000e+00j,  0.00000000e+00+0.00000000e+00j,\n",
       "         0.00000000e+00+0.00000000e+00j,  7.07106781e-01-7.07106781e-01j,\n",
       "         0.00000000e+00+0.00000000e+00j,  0.00000000e+00+0.00000000e+00j,\n",
       "         0.00000000e+00+0.00000000e+00j,  0.00000000e+00+0.00000000e+00j],\n",
       "       [ 0.00000000e+00+0.00000000e+00j,  0.00000000e+00+0.00000000e+00j,\n",
       "         0.00000000e+00+0.00000000e+00j,  0.00000000e+00+0.00000000e+00j,\n",
       "         0.00000000e+00+0.00000000e+00j,  0.00000000e+00+0.00000000e+00j,\n",
       "         0.00000000e+00+0.00000000e+00j,  0.00000000e+00+0.00000000e+00j,\n",
       "         0.00000000e+00+0.00000000e+00j,  0.00000000e+00+0.00000000e+00j,\n",
       "         0.00000000e+00+1.00000000e+00j,  0.00000000e+00+0.00000000e+00j,\n",
       "         0.00000000e+00+0.00000000e+00j,  0.00000000e+00+0.00000000e+00j,\n",
       "         0.00000000e+00+0.00000000e+00j,  0.00000000e+00+0.00000000e+00j],\n",
       "       [ 0.00000000e+00+0.00000000e+00j,  0.00000000e+00+0.00000000e+00j,\n",
       "         0.00000000e+00+0.00000000e+00j,  0.00000000e+00+0.00000000e+00j,\n",
       "         0.00000000e+00+0.00000000e+00j,  0.00000000e+00+0.00000000e+00j,\n",
       "         0.00000000e+00+0.00000000e+00j,  0.00000000e+00+0.00000000e+00j,\n",
       "         0.00000000e+00+0.00000000e+00j,  0.00000000e+00+0.00000000e+00j,\n",
       "         0.00000000e+00+0.00000000e+00j,  0.00000000e+00+0.00000000e+00j,\n",
       "         0.00000000e+00+0.00000000e+00j, -7.07106781e-01+7.07106781e-01j,\n",
       "         0.00000000e+00+0.00000000e+00j,  0.00000000e+00+0.00000000e+00j],\n",
       "       [ 0.00000000e+00+0.00000000e+00j,  0.00000000e+00+0.00000000e+00j,\n",
       "         0.00000000e+00+0.00000000e+00j,  0.00000000e+00+0.00000000e+00j,\n",
       "         0.00000000e+00+0.00000000e+00j,  0.00000000e+00+0.00000000e+00j,\n",
       "         0.00000000e+00+0.00000000e+00j,  0.00000000e+00+0.00000000e+00j,\n",
       "         0.00000000e+00+0.00000000e+00j,  0.00000000e+00+0.00000000e+00j,\n",
       "         0.00000000e+00+0.00000000e+00j,  0.00000000e+00+0.00000000e+00j,\n",
       "         2.22044605e-16-1.00000000e+00j,  0.00000000e+00+0.00000000e+00j,\n",
       "         0.00000000e+00+0.00000000e+00j,  0.00000000e+00+0.00000000e+00j],\n",
       "       [ 0.00000000e+00+0.00000000e+00j,  0.00000000e+00+0.00000000e+00j,\n",
       "         0.00000000e+00+0.00000000e+00j,  0.00000000e+00+0.00000000e+00j,\n",
       "         0.00000000e+00+0.00000000e+00j,  0.00000000e+00+0.00000000e+00j,\n",
       "         0.00000000e+00+0.00000000e+00j,  0.00000000e+00+0.00000000e+00j,\n",
       "         0.00000000e+00+0.00000000e+00j,  0.00000000e+00+0.00000000e+00j,\n",
       "         0.00000000e+00+0.00000000e+00j,  0.00000000e+00+0.00000000e+00j,\n",
       "         0.00000000e+00+0.00000000e+00j,  0.00000000e+00+0.00000000e+00j,\n",
       "         0.00000000e+00+0.00000000e+00j,  7.07106781e-01+7.07106781e-01j],\n",
       "       [ 0.00000000e+00+0.00000000e+00j,  0.00000000e+00+0.00000000e+00j,\n",
       "         0.00000000e+00+0.00000000e+00j,  0.00000000e+00+0.00000000e+00j,\n",
       "         0.00000000e+00+0.00000000e+00j,  0.00000000e+00+0.00000000e+00j,\n",
       "         0.00000000e+00+0.00000000e+00j,  0.00000000e+00+0.00000000e+00j,\n",
       "         0.00000000e+00+0.00000000e+00j,  0.00000000e+00+0.00000000e+00j,\n",
       "         0.00000000e+00+0.00000000e+00j,  0.00000000e+00+0.00000000e+00j,\n",
       "         0.00000000e+00+0.00000000e+00j,  0.00000000e+00+0.00000000e+00j,\n",
       "         1.00000000e+00+0.00000000e+00j,  0.00000000e+00+0.00000000e+00j]])"
      ]
     },
     "execution_count": 177,
     "metadata": {},
     "output_type": "execute_result"
    }
   ],
   "source": [
    "my_u_part"
   ]
  },
  {
   "cell_type": "code",
   "execution_count": 86,
   "metadata": {},
   "outputs": [
    {
     "data": {
      "text/plain": [
       "array([[1., 0.],\n",
       "       [0., 1.]])"
      ]
     },
     "execution_count": 86,
     "metadata": {},
     "output_type": "execute_result"
    }
   ],
   "source": [
    "iden"
   ]
  },
  {
   "cell_type": "code",
   "execution_count": 78,
   "metadata": {},
   "outputs": [
    {
     "data": {
      "text/plain": [
       "array([[1., 0., 0., 0., 0., 0., 0., 0., 0., 0., 0., 0., 0., 0., 0., 0.],\n",
       "       [0., 1., 0., 0., 0., 0., 0., 0., 0., 0., 0., 0., 0., 0., 0., 0.],\n",
       "       [0., 0., 1., 0., 0., 0., 0., 0., 0., 0., 0., 0., 0., 0., 0., 0.],\n",
       "       [0., 0., 0., 1., 0., 0., 0., 0., 0., 0., 0., 0., 0., 0., 0., 0.],\n",
       "       [0., 0., 0., 0., 0., 0., 0., 0., 0., 0., 0., 0., 1., 0., 0., 0.],\n",
       "       [0., 0., 0., 0., 0., 0., 0., 0., 0., 0., 0., 0., 0., 1., 0., 0.],\n",
       "       [0., 0., 0., 0., 0., 0., 0., 0., 0., 0., 0., 0., 0., 0., 1., 0.],\n",
       "       [0., 0., 0., 0., 0., 0., 0., 0., 0., 0., 0., 0., 0., 0., 0., 1.],\n",
       "       [0., 0., 0., 0., 0., 0., 0., 0., 1., 0., 0., 0., 0., 0., 0., 0.],\n",
       "       [0., 0., 0., 0., 0., 0., 0., 0., 0., 1., 0., 0., 0., 0., 0., 0.],\n",
       "       [0., 0., 0., 0., 0., 0., 0., 0., 0., 0., 1., 0., 0., 0., 0., 0.],\n",
       "       [0., 0., 0., 0., 0., 0., 0., 0., 0., 0., 0., 1., 0., 0., 0., 0.],\n",
       "       [0., 0., 0., 0., 1., 0., 0., 0., 0., 0., 0., 0., 0., 0., 0., 0.],\n",
       "       [0., 0., 0., 0., 0., 1., 0., 0., 0., 0., 0., 0., 0., 0., 0., 0.],\n",
       "       [0., 0., 0., 0., 0., 0., 1., 0., 0., 0., 0., 0., 0., 0., 0., 0.],\n",
       "       [0., 0., 0., 0., 0., 0., 0., 1., 0., 0., 0., 0., 0., 0., 0., 0.]])"
      ]
     },
     "execution_count": 78,
     "metadata": {},
     "output_type": "execute_result"
    }
   ],
   "source": [
    "np.kron(np.kron(cnot01,iden),iden)"
   ]
  },
  {
   "cell_type": "code",
   "execution_count": 43,
   "metadata": {},
   "outputs": [
    {
     "name": "stdout",
     "output_type": "stream",
     "text": [
      "Circuit stats:\n",
      "||U-V||_2 = 1.997675722667397\n",
      "(U is the reference unitary, V is yours, and the global phase has been removed from both of them).\n",
      "Cost is 37\n",
      "\n",
      "Something is not right with your circuit: the circuit differs from the unitary more than 0.01\n"
     ]
    },
    {
     "data": {
      "image/png": "[encoded data removed]",
      "text/plain": [
       "<Figure size 840.392x264.88 with 1 Axes>"
      ]
     },
     "execution_count": 43,
     "metadata": {},
     "output_type": "execute_result"
    }
   ],
   "source": [
    "# hand written gate reduction\n",
    "qc2 = QuantumCircuit(4)\n",
    "\n",
    "qc2.u3(np.pi/2,0,0, 0)\n",
    "\n",
    "qc2.cx(0,1)\n",
    "\n",
    "qc2.u3(np.pi/2,0,0, 1)\n",
    "\n",
    "qc2.cx(0,2)\n",
    "\n",
    "qc2.u3(np.pi/2,0,0, 2)\n",
    "\n",
    "qc2.cx(0,3)\n",
    "\n",
    "qc2.u3(np.pi/2,0,0, 0)\n",
    "qc2.u3(np.pi/2,0,0, 1)\n",
    "qc2.u3(np.pi/2,0,0, 2)\n",
    "qc2.u3(np.pi/2,0,0, 3)\n",
    "\n",
    "\n",
    "# qc2 = transpile(qc2, basis_gates=['u3','cx'], optimization_level=3)\n",
    "check_circuit(qc2)\n",
    "\n",
    "qc2.draw()"
   ]
  },
  {
   "cell_type": "code",
   "execution_count": null,
   "metadata": {},
   "outputs": [],
   "source": []
  }
 ],
 "metadata": {
  "kernelspec": {
   "display_name": "Python 3",
   "language": "python",
   "name": "python3"
  },
  "language_info": {
   "codemirror_mode": {
    "name": "ipython",
    "version": 3
   },
   "file_extension": ".py",
   "mimetype": "text/x-python",
   "name": "python",
   "nbconvert_exporter": "python",
   "pygments_lexer": "ipython3",
   "version": "3.7.7"
  }
 },
 "nbformat": 4,
 "nbformat_minor": 4
}
