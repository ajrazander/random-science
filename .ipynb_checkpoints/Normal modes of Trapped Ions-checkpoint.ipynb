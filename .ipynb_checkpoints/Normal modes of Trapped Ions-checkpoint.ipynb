{
 "cells": [
  {
   "cell_type": "markdown",
   "metadata": {},
   "source": [
    "# Normal Modes: Ion Chain\n",
    "Here we estimate normal modes of ion chains and ion pancakes using classical estimations"
   ]
  },
  {
   "cell_type": "code",
   "execution_count": 2,
   "metadata": {},
   "outputs": [],
   "source": [
    "import numpy as np\n",
    "import matplotlib.pyplot as plt"
   ]
  },
  {
   "cell_type": "markdown",
   "metadata": {},
   "source": [
    "The energy potential for N identical ions in a linear Paul trap can be estimated as identical masses connected in a 3D harmonic potential. Each ion interacts through it's positive electric charge.\n",
    "\n",
    "$$\n",
    "V(x,y) = \\sum_{i=1}^{N}\\left(\\frac{1}{2}m \\omega_x^2 x_i^2 + \\frac{1}{2}m \\omega_y^2 y_i^2 + \\frac{1}{2}m \\omega_z^2 z_i^2\\right) + \\sum_{i<j}^{N}\\frac{e^2}{4\\pi \\epsilon_0 \\sqrt{(x_i-x_j)^2 + (y_i-y_j)^2+ (z_i-z_j)^2}}\n",
    "$$\n"
   ]
  },
  {
   "cell_type": "code",
   "execution_count": 18,
   "metadata": {},
   "outputs": [],
   "source": [
    "# number of ions\n",
    "N = 5\n",
    "\n",
    "# constants\n",
    "m = 170.936323 * 1.66054e-27\n",
    "e = 1.60217662e-19\n",
    "epsilon_0 = 8.85418782e-12\n",
    "\n",
    "# harmonic frequencies\n",
    "wx = 2 * np.pi * 300000\n",
    "wy = wx\n",
    "wz = 1.5 * wx\n",
    "\n",
    "def potential_energy(xs, ys, zs, wx=wx, wy=wy, wz=wz, N=N, m=m, e=e, epsilon_0=epsilon_0):\n",
    "    # harmonic energy\n",
    "    harm_energy = np.sum(1/2 * m * (wx**2 * xs**2 + wy**2 * ys**2 + wz**2 * zs**2))\n",
    "\n",
    "    # electronic interaction\n",
    "    interaction = 0\n",
    "    for i in range(N):\n",
    "        for j in range(i+1,N):\n",
    "            interaction += 1/np.sqrt((xs[i]-xs[j])**2 + (ys[i]-ys[j])**2 + (zs[i]-zs[j])**2)\n",
    "    interaction = e**2/4/np.pi/epsilon_0 * interaction\n",
    "\n",
    "    return harm_energy + interaction"
   ]
  },
  {
   "cell_type": "code",
   "execution_count": 27,
   "metadata": {},
   "outputs": [
    {
     "data": {
      "text/plain": [
       "1.7147472844342489e-23"
      ]
     },
     "execution_count": 27,
     "metadata": {},
     "output_type": "execute_result"
    }
   ],
   "source": [
    "for i in range(10):\n",
    "    x_0s = np.linspace(-100,100, 5)*1e-6\n",
    "    y_0s = x_0s\n",
    "    z_0s = x_0s\n",
    "\n",
    "    print(potential_energy(x_0s, y_0s, z_0s))\n",
    "    "
   ]
  },
  {
   "cell_type": "code",
   "execution_count": 26,
   "metadata": {},
   "outputs": [
    {
     "data": {
      "text/plain": [
       "array([-100.,  -50.,    0.,   50.,  100.])"
      ]
     },
     "execution_count": 26,
     "metadata": {},
     "output_type": "execute_result"
    }
   ],
   "source": [
    "np.linspace(-100,100, 5)"
   ]
  },
  {
   "cell_type": "markdown",
   "metadata": {},
   "source": [
    "##### "
   ]
  }
 ],
 "metadata": {
  "kernelspec": {
   "display_name": "Python 3",
   "language": "python",
   "name": "python3"
  },
  "language_info": {
   "codemirror_mode": {
    "name": "ipython",
    "version": 3
   },
   "file_extension": ".py",
   "mimetype": "text/x-python",
   "name": "python",
   "nbconvert_exporter": "python",
   "pygments_lexer": "ipython3",
   "version": "3.6.4"
  }
 },
 "nbformat": 4,
 "nbformat_minor": 2
}
