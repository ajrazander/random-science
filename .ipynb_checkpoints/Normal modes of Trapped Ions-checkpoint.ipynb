{
 "cells": [
  {
   "cell_type": "markdown",
   "metadata": {},
   "source": [
    "# Normal Modes: Ion Chain\n",
    "Here we estimate normal modes of ion chains and ion pancakes using classical estimations"
   ]
  },
  {
   "cell_type": "code",
   "execution_count": 88,
   "metadata": {},
   "outputs": [],
   "source": [
    "import numpy as np\n",
    "import random\n",
    "import matplotlib.pyplot as plt\n",
    "\n",
    "from scipy.optimize import minimize\n",
    "from scipy.stats import linregress"
   ]
  },
  {
   "cell_type": "markdown",
   "metadata": {},
   "source": [
    "The energy potential for N identical ions in a linear Paul trap can be estimated as identical masses connected in a 3D harmonic potential. Each ion interacts through it's positive electric charge.\n",
    "\n",
    "$$\n",
    "V(x,y) = \\sum_{i=1}^{N}\\left(\\frac{1}{2}m \\omega_x^2 x_i^2 + \\frac{1}{2}m \\omega_y^2 y_i^2 + \\frac{1}{2}m \\omega_z^2 z_i^2\\right) + \\sum_{i<j}^{N}\\frac{e^2}{4\\pi \\epsilon_0 \\sqrt{(x_i-x_j)^2 + (y_i-y_j)^2+ (z_i-z_j)^2}}\n",
    "$$\n",
    "\n",
    "There are $3N + \\sim N^2$ terms in the potential making the problem $\\sim O(N^2)$ hard."
   ]
  },
  {
   "cell_type": "code",
   "execution_count": 89,
   "metadata": {},
   "outputs": [
    {
     "name": "stdout",
     "output_type": "stream",
     "text": [
      "alpha 3.0\n"
     ]
    }
   ],
   "source": [
    "# number of ions\n",
    "N = 6\n",
    "\n",
    "# constants\n",
    "m = 170.936323 * 1.66054e-27\n",
    "e = 1.60217662e-19\n",
    "epsilon_0 = 8.85418782e-12\n",
    "\n",
    "# harmonic frequencies\n",
    "wx = 2 * np.pi * 300000\n",
    "wy = wx\n",
    "wz = 3.0*wx\n",
    "\n",
    "def potential_energy(positions, wx=wx, wy=wy, wz=wz, N=N, m=m, e=e, epsilon_0=epsilon_0):\n",
    "    xs = positions[:N]\n",
    "    ys = positions[N:2*N]\n",
    "    zs = positions[2*N:3*N]\n",
    "    \n",
    "    # harmonic energy\n",
    "    harm_energy = np.sum(1/2 * m * (wx**2 * xs**2 + wy**2 * ys**2 + wz**2 * zs**2))\n",
    "\n",
    "    # electronic interaction\n",
    "    interaction = 0\n",
    "    for i in range(N):\n",
    "        for j in range(i+1,N):\n",
    "            interaction += 1/np.sqrt((xs[i]-xs[j])**2 + (ys[i]-ys[j])**2 + (zs[i]-zs[j])**2)\n",
    "    interaction = e**2/4/np.pi/epsilon_0 * interaction\n",
    "\n",
    "    return harm_energy + interaction\n",
    "\n",
    "print('alpha',wz/wx)"
   ]
  },
  {
   "cell_type": "code",
   "execution_count": 90,
   "metadata": {},
   "outputs": [
    {
     "data": {
      "text/plain": [
       "array([ 7.66688754e-06, -3.37165732e-07,  5.04800570e-06, -7.81781207e-06,\n",
       "       -4.54202625e-06,  2.28643059e-08, -2.82133515e-06, -8.16416460e-06,\n",
       "        6.42637483e-06, -2.21711728e-06,  6.77787741e-06, -9.53364658e-10,\n",
       "        7.89506510e-09, -2.44168779e-09, -2.10895054e-08, -7.43183611e-08,\n",
       "        5.22179360e-08,  1.22489927e-08])"
      ]
     },
     "execution_count": 90,
     "metadata": {},
     "output_type": "execute_result"
    }
   ],
   "source": [
    "# Initial guess and minimization\n",
    "xs_0 = random.sample(range(-N,N), N)\n",
    "ys_0 = random.sample(range(-N,N), N)\n",
    "zs_0 = [0] * N\n",
    "\n",
    "x0 = np.array(xs_0 + ys_0 + zs_0) * 1e-6\n",
    "res = minimize(potential_energy, x0, method='Nelder-Mead', tol=1e-18)\n",
    "\n",
    "# Educated guess. 2nd minimization\n",
    "x0 = res.x\n",
    "res = minimize(potential_energy, x0, method='Nelder-Mead', tol=1e-18)\n",
    "res.x"
   ]
  },
  {
   "cell_type": "code",
   "execution_count": 91,
   "metadata": {},
   "outputs": [
    {
     "data": {
      "image/png": "[encoded data removed]",
      "text/plain": [
       "<Figure size 432x432 with 1 Axes>"
      ]
     },
     "metadata": {
      "needs_background": "light"
     },
     "output_type": "display_data"
    },
    {
     "data": {
      "image/png": "[encoded data removed]",
      "text/plain": [
       "<Figure size 432x432 with 1 Axes>"
      ]
     },
     "metadata": {
      "needs_background": "light"
     },
     "output_type": "display_data"
    },
    {
     "data": {
      "image/png": "[encoded data removed]",
      "text/plain": [
       "<Figure size 432x432 with 1 Axes>"
      ]
     },
     "metadata": {
      "needs_background": "light"
     },
     "output_type": "display_data"
    }
   ],
   "source": [
    "# Plot radial plane\n",
    "xs = res.x[:N]\n",
    "ys = res.x[N:2*N]\n",
    "zs = res.x[2*N:3*N]\n",
    "\n",
    "plt.figure(figsize=(6,6))\n",
    "plt.scatter(xs*1e6, ys*1e6, marker='o',s = 100)\n",
    "plt.title('Ion equilibrium position')\n",
    "plt.xlabel('x position in micron')\n",
    "plt.ylabel('y position in micron')\n",
    "plt.ylim(-30,30)\n",
    "plt.xlim(-30,30)\n",
    "plt.show()\n",
    "\n",
    "plt.figure(figsize=(6,6))\n",
    "plt.scatter(xs*1e6, zs*1e6, marker='o',s = 100)\n",
    "plt.title('Ion equilibrium position')\n",
    "plt.xlabel('x position in micron')\n",
    "plt.ylabel('z position in micron')\n",
    "plt.ylim(-30,30)\n",
    "plt.xlim(-30,30)\n",
    "plt.show()\n",
    "\n",
    "plt.figure(figsize=(6,6))\n",
    "plt.scatter(ys*1e6, zs*1e6, marker='o',s = 100)\n",
    "plt.title('Ion equilibrium position')\n",
    "plt.xlabel('y position in micron')\n",
    "plt.ylabel('z position in micron')\n",
    "plt.ylim(-30,30)\n",
    "plt.xlim(-30,30)\n",
    "plt.show()"
   ]
  },
  {
   "cell_type": "markdown",
   "metadata": {},
   "source": [
    "### Normal Modes\n",
    "Ions motion can be used to send quantum information through the crystal. To do this, it's essential to know the normal modes of the ions. Let's compute them based on the ion positions\n",
    "\n",
    "The energy potential for N identical ions in a linear Paul trap can be estimated as identical masses connected in a 3D harmonic potential. Each ion interacts through it's positive electric charge.\n",
    "\n",
    "$$\n",
    "L = \\frac{1}{2}m\\sum_{i=1}^{N}\\left(\\dot{x_i}^2 + \\dot{y_i}^2 + \\dot{z_i}^2\\right) + \\sum_{i=1}^{N}\\left(\\frac{1}{2}m \\omega_x^2 x_i^2 + \\frac{1}{2}m \\omega_y^2 y_i^2 + \\frac{1}{2}m \\omega_z^2 z_i^2\\right) + \\sum_{i<j}^{N}\\frac{e^2}{4\\pi \\epsilon_0 \\sqrt{(x_i-x_j)^2 + (y_i-y_j)^2+ (z_i-z_j)^2}}\n",
    "$$\n",
    "\n",
    "equations of motion\n",
    "\n",
    "$$\n",
    "\\sum_{i=1}^{N}\\ddot{x_i} = \\sum_{i=1}^{N}\\omega_x^2 x_i - \\frac{e^2}{4 \\pi \\epsilon_0 m}\\sum_{i<j}^{N}\\frac{x_i - x_j}{\\left((x_i-x_j)^2 + (y_i-y_j)^2+ (z_i-z_j)^2\\right)^{3/2}}\n",
    "$$\n",
    "\n",
    "$$\n",
    "\\sum_{i=1}^{N}\\ddot{y_i} = \\sum_{i=1}^{N}\\omega_y^2 y_i - \\frac{e^2}{4 \\pi \\epsilon_0 m}\\sum_{i<j}^{N}\\frac{y_i - y_j}{\\left((x_i-x_j)^2 + (y_i-y_j)^2+ (z_i-z_j)^2\\right)^{3/2}}\n",
    "$$\n",
    "\n",
    "$$\n",
    "\\sum_{i=1}^{N}\\ddot{z_i} = \\sum_{i=1}^{N}\\omega_z^2 z_i - \\frac{e^2}{4 \\pi \\epsilon_0 m}\\sum_{i<j}^{N}\\frac{z_i - z_j}{\\left((x_i-x_j)^2 + (y_i-y_j)^2+ (z_i-z_j)^2\\right)^{3/2}}\n",
    "$$"
   ]
  },
  {
   "cell_type": "markdown",
   "metadata": {},
   "source": [
    "$$\n",
    "\\sum_{i=1}^{N}\\ddot{x_i} = \\sum_{i=1}^{N}\\omega_x^2 x_i - \\frac{e^2}{4 \\pi \\epsilon_0 m}\\left(\\sum_{i<j}^{N}\\frac{x_i}{\\left((x_i-x_j)^2 + (y_i-y_j)^2+ (z_i-z_j)^2\\right)^{3/2}} - \\sum_{i<j}^{N}\\frac{x_j}{\\left((x_i-x_j)^2 + (y_i-y_j)^2+ (z_i-z_j)^2\\right)^{3/2}}\\right)\n",
    "$$\n",
    "\n",
    "$$\n",
    "\\sum_{i=1}^{N}\\ddot{y_i} = \\sum_{i=1}^{N}\\omega_y^2 y_i - \\frac{e^2}{4 \\pi \\epsilon_0 m}\\sum_{i<j}^{N}\\frac{y_i - y_j}{\\left((x_i-x_j)^2 + (y_i-y_j)^2+ (z_i-z_j)^2\\right)^{3/2}}\n",
    "$$\n",
    "\n",
    "$$\n",
    "\\sum_{i=1}^{N}\\ddot{z_i} = \\sum_{i=1}^{N}\\omega_z^2 z_i - \\frac{e^2}{4 \\pi \\epsilon_0 m}\\sum_{i<j}^{N}\\frac{z_i - z_j}{\\left((x_i-x_j)^2 + (y_i-y_j)^2+ (z_i-z_j)^2\\right)^{3/2}}\n",
    "$$"
   ]
  },
  {
   "cell_type": "code",
   "execution_count": 92,
   "metadata": {},
   "outputs": [],
   "source": [
    "x_matrix = np.zeros((N,N))\n",
    "prefactor = -e**2/4/np.pi/epsilon_0/m\n",
    "\n",
    "# Add harmonic terms to matrix\n",
    "x_matrix += wx**2 * np.diag(np.ones(N))\n",
    "\n",
    "# Add interaction diagonal terms\n",
    "for i in range(N):\n",
    "    interact_diag = 0\n",
    "    for j in range(i+1,N):\n",
    "        interact_diag += 1/((xs[i]-xs[j])**2+(ys[i]-ys[j])**2+(zs[i]-zs[j])**2)**(3/2)\n",
    "    interact_diag *= prefactor\n",
    "    x_matrix[i,i] += interact_diag\n",
    "\n",
    "# Add interaction cross terms \n",
    "for i in range(N):\n",
    "    for j in range(i+1,N):\n",
    "        cross_term = 0\n",
    "        for k in range(i+1,N):\n",
    "            cross_term += 1/((xs[i]-xs[k])**2+(ys[i]-ys[k])**2+(zs[i]-zs[k])**2)**(3/2)\n",
    "        cross_term *= -prefactor\n",
    "        x_matrix[i,j] += cross_term\n"
   ]
  },
  {
   "cell_type": "code",
   "execution_count": 95,
   "metadata": {},
   "outputs": [
    {
     "data": {
      "text/plain": [
       "-0.0008127902520452252"
      ]
     },
     "execution_count": 95,
     "metadata": {},
     "output_type": "execute_result"
    }
   ],
   "source": [
    "-e**2/4/np.pi/epsilon_0/m"
   ]
  },
  {
   "cell_type": "code",
   "execution_count": 107,
   "metadata": {},
   "outputs": [
    {
     "data": {
      "text/plain": [
       "(array([ 73348., 133034., 152532., 168767., 228656., 300000.]),\n",
       " array([[1.    , 0.972 , 0.963 , 0.9546, 0.9175, 0.8652],\n",
       "        [0.    , 0.2352, 0.2686, 0.2949, 0.3752, 0.4326],\n",
       "        [0.    , 0.    , 0.0207, 0.0408, 0.1251, 0.2163],\n",
       "        [0.    , 0.    , 0.    , 0.0032, 0.0392, 0.1081],\n",
       "        [0.    , 0.    , 0.    , 0.    , 0.0152, 0.0541],\n",
       "        [0.    , 0.    , 0.    , 0.    , 0.    , 0.0541]]))"
      ]
     },
     "execution_count": 107,
     "metadata": {},
     "output_type": "execute_result"
    }
   ],
   "source": [
    "eig_vals, eig_vecs = np.linalg.eig(x_matrix)\n",
    "np.round(np.sqrt(np.abs(eig_vals))/2/np.pi), np.round(eig_vecs,4)"
   ]
  },
  {
   "cell_type": "code",
   "execution_count": null,
   "metadata": {},
   "outputs": [],
   "source": []
  }
 ],
 "metadata": {
  "kernelspec": {
   "display_name": "Python 3",
   "language": "python",
   "name": "python3"
  },
  "language_info": {
   "codemirror_mode": {
    "name": "ipython",
    "version": 3
   },
   "file_extension": ".py",
   "mimetype": "text/x-python",
   "name": "python",
   "nbconvert_exporter": "python",
   "pygments_lexer": "ipython3",
   "version": "3.6.4"
  }
 },
 "nbformat": 4,
 "nbformat_minor": 2
}
