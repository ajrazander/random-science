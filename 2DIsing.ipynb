{
 "cells": [
  {
   "cell_type": "markdown",
   "metadata": {},
   "source": [
    "# 2D Ising Model\n",
    "The 2D Ising model using the metropolis-based Monte Carlo method, as described in Fig. 8.8 Schroeder (an undergraduate statistical mechanics/thermodynamics textbook). The magnetization M, the average energy U, the heat capacity C, and the magnetic susceptibility χ are all plotted as functions of temperature. The signature discontinuity in C and χ mark the critical temperature and phase transition of the 2D spin lattice."
   ]
  },
  {
   "cell_type": "code",
   "execution_count": 3,
   "metadata": {},
   "outputs": [
    {
     "data": {
      "text/html": [
       "\n",
       "    <div class=\"bk-root\">\n",
       "        <a href=\"https://bokeh.pydata.org\" target=\"_blank\" class=\"bk-logo bk-logo-small bk-logo-notebook\"></a>\n",
       "        <span id=\"1001\">Loading BokehJS ...</span>\n",
       "    </div>"
      ]
     },
     "metadata": {},
     "output_type": "display_data"
    },
    {
     "data": {
      "application/javascript": [
       "\n",
       "(function(root) {\n",
       "  function now() {\n",
       "    return new Date();\n",
       "  }\n",
       "\n",
       "  var force = true;\n",
       "\n",
       "  if (typeof root._bokeh_onload_callbacks === \"undefined\" || force === true) {\n",
       "    root._bokeh_onload_callbacks = [];\n",
       "    root._bokeh_is_loading = undefined;\n",
       "  }\n",
       "\n",
       "  var JS_MIME_TYPE = 'application/javascript';\n",
       "  var HTML_MIME_TYPE = 'text/html';\n",
       "  var EXEC_MIME_TYPE = 'application/vnd.bokehjs_exec.v0+json';\n",
       "  var CLASS_NAME = 'output_bokeh rendered_html';\n",
       "\n",
       "  /**\n",
       "   * Render data to the DOM node\n",
       "   */\n",
       "  function render(props, node) {\n",
       "    var script = document.createElement(\"script\");\n",
       "    node.appendChild(script);\n",
       "  }\n",
       "\n",
       "  /**\n",
       "   * Handle when an output is cleared or removed\n",
       "   */\n",
       "  function handleClearOutput(event, handle) {\n",
       "    var cell = handle.cell;\n",
       "\n",
       "    var id = cell.output_area._bokeh_element_id;\n",
       "    var server_id = cell.output_area._bokeh_server_id;\n",
       "    // Clean up Bokeh references\n",
       "    if (id != null && id in Bokeh.index) {\n",
       "      Bokeh.index[id].model.document.clear();\n",
       "      delete Bokeh.index[id];\n",
       "    }\n",
       "\n",
       "    if (server_id !== undefined) {\n",
       "      // Clean up Bokeh references\n",
       "      var cmd = \"from bokeh.io.state import curstate; print(curstate().uuid_to_server['\" + server_id + \"'].get_sessions()[0].document.roots[0]._id)\";\n",
       "      cell.notebook.kernel.execute(cmd, {\n",
       "        iopub: {\n",
       "          output: function(msg) {\n",
       "            var id = msg.content.text.trim();\n",
       "            if (id in Bokeh.index) {\n",
       "              Bokeh.index[id].model.document.clear();\n",
       "              delete Bokeh.index[id];\n",
       "            }\n",
       "          }\n",
       "        }\n",
       "      });\n",
       "      // Destroy server and session\n",
       "      var cmd = \"import bokeh.io.notebook as ion; ion.destroy_server('\" + server_id + \"')\";\n",
       "      cell.notebook.kernel.execute(cmd);\n",
       "    }\n",
       "  }\n",
       "\n",
       "  /**\n",
       "   * Handle when a new output is added\n",
       "   */\n",
       "  function handleAddOutput(event, handle) {\n",
       "    var output_area = handle.output_area;\n",
       "    var output = handle.output;\n",
       "\n",
       "    // limit handleAddOutput to display_data with EXEC_MIME_TYPE content only\n",
       "    if ((output.output_type != \"display_data\") || (!output.data.hasOwnProperty(EXEC_MIME_TYPE))) {\n",
       "      return\n",
       "    }\n",
       "\n",
       "    var toinsert = output_area.element.find(\".\" + CLASS_NAME.split(' ')[0]);\n",
       "\n",
       "    if (output.metadata[EXEC_MIME_TYPE][\"id\"] !== undefined) {\n",
       "      toinsert[toinsert.length - 1].firstChild.textContent = output.data[JS_MIME_TYPE];\n",
       "      // store reference to embed id on output_area\n",
       "      output_area._bokeh_element_id = output.metadata[EXEC_MIME_TYPE][\"id\"];\n",
       "    }\n",
       "    if (output.metadata[EXEC_MIME_TYPE][\"server_id\"] !== undefined) {\n",
       "      var bk_div = document.createElement(\"div\");\n",
       "      bk_div.innerHTML = output.data[HTML_MIME_TYPE];\n",
       "      var script_attrs = bk_div.children[0].attributes;\n",
       "      for (var i = 0; i < script_attrs.length; i++) {\n",
       "        toinsert[toinsert.length - 1].firstChild.setAttribute(script_attrs[i].name, script_attrs[i].value);\n",
       "      }\n",
       "      // store reference to server id on output_area\n",
       "      output_area._bokeh_server_id = output.metadata[EXEC_MIME_TYPE][\"server_id\"];\n",
       "    }\n",
       "  }\n",
       "\n",
       "  function register_renderer(events, OutputArea) {\n",
       "\n",
       "    function append_mime(data, metadata, element) {\n",
       "      // create a DOM node to render to\n",
       "      var toinsert = this.create_output_subarea(\n",
       "        metadata,\n",
       "        CLASS_NAME,\n",
       "        EXEC_MIME_TYPE\n",
       "      );\n",
       "      this.keyboard_manager.register_events(toinsert);\n",
       "      // Render to node\n",
       "      var props = {data: data, metadata: metadata[EXEC_MIME_TYPE]};\n",
       "      render(props, toinsert[toinsert.length - 1]);\n",
       "      element.append(toinsert);\n",
       "      return toinsert\n",
       "    }\n",
       "\n",
       "    /* Handle when an output is cleared or removed */\n",
       "    events.on('clear_output.CodeCell', handleClearOutput);\n",
       "    events.on('delete.Cell', handleClearOutput);\n",
       "\n",
       "    /* Handle when a new output is added */\n",
       "    events.on('output_added.OutputArea', handleAddOutput);\n",
       "\n",
       "    /**\n",
       "     * Register the mime type and append_mime function with output_area\n",
       "     */\n",
       "    OutputArea.prototype.register_mime_type(EXEC_MIME_TYPE, append_mime, {\n",
       "      /* Is output safe? */\n",
       "      safe: true,\n",
       "      /* Index of renderer in `output_area.display_order` */\n",
       "      index: 0\n",
       "    });\n",
       "  }\n",
       "\n",
       "  // register the mime type if in Jupyter Notebook environment and previously unregistered\n",
       "  if (root.Jupyter !== undefined) {\n",
       "    var events = require('base/js/events');\n",
       "    var OutputArea = require('notebook/js/outputarea').OutputArea;\n",
       "\n",
       "    if (OutputArea.prototype.mime_types().indexOf(EXEC_MIME_TYPE) == -1) {\n",
       "      register_renderer(events, OutputArea);\n",
       "    }\n",
       "  }\n",
       "\n",
       "  \n",
       "  if (typeof (root._bokeh_timeout) === \"undefined\" || force === true) {\n",
       "    root._bokeh_timeout = Date.now() + 5000;\n",
       "    root._bokeh_failed_load = false;\n",
       "  }\n",
       "\n",
       "  var NB_LOAD_WARNING = {'data': {'text/html':\n",
       "     \"<div style='background-color: #fdd'>\\n\"+\n",
       "     \"<p>\\n\"+\n",
       "     \"BokehJS does not appear to have successfully loaded. If loading BokehJS from CDN, this \\n\"+\n",
       "     \"may be due to a slow or bad network connection. Possible fixes:\\n\"+\n",
       "     \"</p>\\n\"+\n",
       "     \"<ul>\\n\"+\n",
       "     \"<li>re-rerun `output_notebook()` to attempt to load from CDN again, or</li>\\n\"+\n",
       "     \"<li>use INLINE resources instead, as so:</li>\\n\"+\n",
       "     \"</ul>\\n\"+\n",
       "     \"<code>\\n\"+\n",
       "     \"from bokeh.resources import INLINE\\n\"+\n",
       "     \"output_notebook(resources=INLINE)\\n\"+\n",
       "     \"</code>\\n\"+\n",
       "     \"</div>\"}};\n",
       "\n",
       "  function display_loaded() {\n",
       "    var el = document.getElementById(\"1001\");\n",
       "    if (el != null) {\n",
       "      el.textContent = \"BokehJS is loading...\";\n",
       "    }\n",
       "    if (root.Bokeh !== undefined) {\n",
       "      if (el != null) {\n",
       "        el.textContent = \"BokehJS \" + root.Bokeh.version + \" successfully loaded.\";\n",
       "      }\n",
       "    } else if (Date.now() < root._bokeh_timeout) {\n",
       "      setTimeout(display_loaded, 100)\n",
       "    }\n",
       "  }\n",
       "\n",
       "\n",
       "  function run_callbacks() {\n",
       "    try {\n",
       "      root._bokeh_onload_callbacks.forEach(function(callback) {\n",
       "        if (callback != null)\n",
       "          callback();\n",
       "      });\n",
       "    } finally {\n",
       "      delete root._bokeh_onload_callbacks\n",
       "    }\n",
       "    console.debug(\"Bokeh: all callbacks have finished\");\n",
       "  }\n",
       "\n",
       "  function load_libs(css_urls, js_urls, callback) {\n",
       "    if (css_urls == null) css_urls = [];\n",
       "    if (js_urls == null) js_urls = [];\n",
       "\n",
       "    root._bokeh_onload_callbacks.push(callback);\n",
       "    if (root._bokeh_is_loading > 0) {\n",
       "      console.debug(\"Bokeh: BokehJS is being loaded, scheduling callback at\", now());\n",
       "      return null;\n",
       "    }\n",
       "    if (js_urls == null || js_urls.length === 0) {\n",
       "      run_callbacks();\n",
       "      return null;\n",
       "    }\n",
       "    console.debug(\"Bokeh: BokehJS not loaded, scheduling load and callback at\", now());\n",
       "    root._bokeh_is_loading = css_urls.length + js_urls.length;\n",
       "\n",
       "    function on_load() {\n",
       "      root._bokeh_is_loading--;\n",
       "      if (root._bokeh_is_loading === 0) {\n",
       "        console.debug(\"Bokeh: all BokehJS libraries/stylesheets loaded\");\n",
       "        run_callbacks()\n",
       "      }\n",
       "    }\n",
       "\n",
       "    function on_error() {\n",
       "      console.error(\"failed to load \" + url);\n",
       "    }\n",
       "\n",
       "    for (var i = 0; i < css_urls.length; i++) {\n",
       "      var url = css_urls[i];\n",
       "      const element = document.createElement(\"link\");\n",
       "      element.onload = on_load;\n",
       "      element.onerror = on_error;\n",
       "      element.rel = \"stylesheet\";\n",
       "      element.type = \"text/css\";\n",
       "      element.href = url;\n",
       "      console.debug(\"Bokeh: injecting link tag for BokehJS stylesheet: \", url);\n",
       "      document.body.appendChild(element);\n",
       "    }\n",
       "\n",
       "    for (var i = 0; i < js_urls.length; i++) {\n",
       "      var url = js_urls[i];\n",
       "      var element = document.createElement('script');\n",
       "      element.onload = on_load;\n",
       "      element.onerror = on_error;\n",
       "      element.async = false;\n",
       "      element.src = url;\n",
       "      console.debug(\"Bokeh: injecting script tag for BokehJS library: \", url);\n",
       "      document.head.appendChild(element);\n",
       "    }\n",
       "  };var element = document.getElementById(\"1001\");\n",
       "  if (element == null) {\n",
       "    console.error(\"Bokeh: ERROR: autoload.js configured with elementid '1001' but no matching script tag was found. \")\n",
       "    return false;\n",
       "  }\n",
       "\n",
       "  function inject_raw_css(css) {\n",
       "    const element = document.createElement(\"style\");\n",
       "    element.appendChild(document.createTextNode(css));\n",
       "    document.body.appendChild(element);\n",
       "  }\n",
       "\n",
       "  var js_urls = [\"https://cdn.pydata.org/bokeh/release/bokeh-1.3.1.min.js\", \"https://cdn.pydata.org/bokeh/release/bokeh-widgets-1.3.1.min.js\", \"https://cdn.pydata.org/bokeh/release/bokeh-tables-1.3.1.min.js\", \"https://cdn.pydata.org/bokeh/release/bokeh-gl-1.3.1.min.js\"];\n",
       "  var css_urls = [];\n",
       "\n",
       "  var inline_js = [\n",
       "    function(Bokeh) {\n",
       "      Bokeh.set_log_level(\"info\");\n",
       "    },\n",
       "    \n",
       "    function(Bokeh) {\n",
       "      \n",
       "    },\n",
       "    function(Bokeh) {} // ensure no trailing comma for IE\n",
       "  ];\n",
       "\n",
       "  function run_inline_js() {\n",
       "    \n",
       "    if ((root.Bokeh !== undefined) || (force === true)) {\n",
       "      for (var i = 0; i < inline_js.length; i++) {\n",
       "        inline_js[i].call(root, root.Bokeh);\n",
       "      }if (force === true) {\n",
       "        display_loaded();\n",
       "      }} else if (Date.now() < root._bokeh_timeout) {\n",
       "      setTimeout(run_inline_js, 100);\n",
       "    } else if (!root._bokeh_failed_load) {\n",
       "      console.log(\"Bokeh: BokehJS failed to load within specified timeout.\");\n",
       "      root._bokeh_failed_load = true;\n",
       "    } else if (force !== true) {\n",
       "      var cell = $(document.getElementById(\"1001\")).parents('.cell').data().cell;\n",
       "      cell.output_area.append_execute_result(NB_LOAD_WARNING)\n",
       "    }\n",
       "\n",
       "  }\n",
       "\n",
       "  if (root._bokeh_is_loading === 0) {\n",
       "    console.debug(\"Bokeh: BokehJS loaded, going straight to plotting\");\n",
       "    run_inline_js();\n",
       "  } else {\n",
       "    load_libs(css_urls, js_urls, function() {\n",
       "      console.debug(\"Bokeh: BokehJS plotting callback run at\", now());\n",
       "      run_inline_js();\n",
       "    });\n",
       "  }\n",
       "}(window));"
      ],
      "application/vnd.bokehjs_load.v0+json": "\n(function(root) {\n  function now() {\n    return new Date();\n  }\n\n  var force = true;\n\n  if (typeof root._bokeh_onload_callbacks === \"undefined\" || force === true) {\n    root._bokeh_onload_callbacks = [];\n    root._bokeh_is_loading = undefined;\n  }\n\n  \n\n  \n  if (typeof (root._bokeh_timeout) === \"undefined\" || force === true) {\n    root._bokeh_timeout = Date.now() + 5000;\n    root._bokeh_failed_load = false;\n  }\n\n  var NB_LOAD_WARNING = {'data': {'text/html':\n     \"<div style='background-color: #fdd'>\\n\"+\n     \"<p>\\n\"+\n     \"BokehJS does not appear to have successfully loaded. If loading BokehJS from CDN, this \\n\"+\n     \"may be due to a slow or bad network connection. Possible fixes:\\n\"+\n     \"</p>\\n\"+\n     \"<ul>\\n\"+\n     \"<li>re-rerun `output_notebook()` to attempt to load from CDN again, or</li>\\n\"+\n     \"<li>use INLINE resources instead, as so:</li>\\n\"+\n     \"</ul>\\n\"+\n     \"<code>\\n\"+\n     \"from bokeh.resources import INLINE\\n\"+\n     \"output_notebook(resources=INLINE)\\n\"+\n     \"</code>\\n\"+\n     \"</div>\"}};\n\n  function display_loaded() {\n    var el = document.getElementById(\"1001\");\n    if (el != null) {\n      el.textContent = \"BokehJS is loading...\";\n    }\n    if (root.Bokeh !== undefined) {\n      if (el != null) {\n        el.textContent = \"BokehJS \" + root.Bokeh.version + \" successfully loaded.\";\n      }\n    } else if (Date.now() < root._bokeh_timeout) {\n      setTimeout(display_loaded, 100)\n    }\n  }\n\n\n  function run_callbacks() {\n    try {\n      root._bokeh_onload_callbacks.forEach(function(callback) {\n        if (callback != null)\n          callback();\n      });\n    } finally {\n      delete root._bokeh_onload_callbacks\n    }\n    console.debug(\"Bokeh: all callbacks have finished\");\n  }\n\n  function load_libs(css_urls, js_urls, callback) {\n    if (css_urls == null) css_urls = [];\n    if (js_urls == null) js_urls = [];\n\n    root._bokeh_onload_callbacks.push(callback);\n    if (root._bokeh_is_loading > 0) {\n      console.debug(\"Bokeh: BokehJS is being loaded, scheduling callback at\", now());\n      return null;\n    }\n    if (js_urls == null || js_urls.length === 0) {\n      run_callbacks();\n      return null;\n    }\n    console.debug(\"Bokeh: BokehJS not loaded, scheduling load and callback at\", now());\n    root._bokeh_is_loading = css_urls.length + js_urls.length;\n\n    function on_load() {\n      root._bokeh_is_loading--;\n      if (root._bokeh_is_loading === 0) {\n        console.debug(\"Bokeh: all BokehJS libraries/stylesheets loaded\");\n        run_callbacks()\n      }\n    }\n\n    function on_error() {\n      console.error(\"failed to load \" + url);\n    }\n\n    for (var i = 0; i < css_urls.length; i++) {\n      var url = css_urls[i];\n      const element = document.createElement(\"link\");\n      element.onload = on_load;\n      element.onerror = on_error;\n      element.rel = \"stylesheet\";\n      element.type = \"text/css\";\n      element.href = url;\n      console.debug(\"Bokeh: injecting link tag for BokehJS stylesheet: \", url);\n      document.body.appendChild(element);\n    }\n\n    for (var i = 0; i < js_urls.length; i++) {\n      var url = js_urls[i];\n      var element = document.createElement('script');\n      element.onload = on_load;\n      element.onerror = on_error;\n      element.async = false;\n      element.src = url;\n      console.debug(\"Bokeh: injecting script tag for BokehJS library: \", url);\n      document.head.appendChild(element);\n    }\n  };var element = document.getElementById(\"1001\");\n  if (element == null) {\n    console.error(\"Bokeh: ERROR: autoload.js configured with elementid '1001' but no matching script tag was found. \")\n    return false;\n  }\n\n  function inject_raw_css(css) {\n    const element = document.createElement(\"style\");\n    element.appendChild(document.createTextNode(css));\n    document.body.appendChild(element);\n  }\n\n  var js_urls = [\"https://cdn.pydata.org/bokeh/release/bokeh-1.3.1.min.js\", \"https://cdn.pydata.org/bokeh/release/bokeh-widgets-1.3.1.min.js\", \"https://cdn.pydata.org/bokeh/release/bokeh-tables-1.3.1.min.js\", \"https://cdn.pydata.org/bokeh/release/bokeh-gl-1.3.1.min.js\"];\n  var css_urls = [];\n\n  var inline_js = [\n    function(Bokeh) {\n      Bokeh.set_log_level(\"info\");\n    },\n    \n    function(Bokeh) {\n      \n    },\n    function(Bokeh) {} // ensure no trailing comma for IE\n  ];\n\n  function run_inline_js() {\n    \n    if ((root.Bokeh !== undefined) || (force === true)) {\n      for (var i = 0; i < inline_js.length; i++) {\n        inline_js[i].call(root, root.Bokeh);\n      }if (force === true) {\n        display_loaded();\n      }} else if (Date.now() < root._bokeh_timeout) {\n      setTimeout(run_inline_js, 100);\n    } else if (!root._bokeh_failed_load) {\n      console.log(\"Bokeh: BokehJS failed to load within specified timeout.\");\n      root._bokeh_failed_load = true;\n    } else if (force !== true) {\n      var cell = $(document.getElementById(\"1001\")).parents('.cell').data().cell;\n      cell.output_area.append_execute_result(NB_LOAD_WARNING)\n    }\n\n  }\n\n  if (root._bokeh_is_loading === 0) {\n    console.debug(\"Bokeh: BokehJS loaded, going straight to plotting\");\n    run_inline_js();\n  } else {\n    load_libs(css_urls, js_urls, function() {\n      console.debug(\"Bokeh: BokehJS plotting callback run at\", now());\n      run_inline_js();\n    });\n  }\n}(window));"
     },
     "metadata": {},
     "output_type": "display_data"
    }
   ],
   "source": [
    "import matplotlib.pyplot as plt\n",
    "from bokeh.io import output_notebook, show\n",
    "from bokeh.plotting import figure\n",
    "output_notebook()\n",
    "\n",
    "from numba import jit, njit\n",
    "import numpy as np\n",
    "\n",
    "import random\n",
    "import time"
   ]
  },
  {
   "cell_type": "code",
   "execution_count": 2,
   "metadata": {},
   "outputs": [],
   "source": [
    "# Helper functions\n",
    "\n",
    "# Calculate the energy of the lattice.\n",
    "# The energy is the sum of interactions between spins divided by the total number of spins\n",
    "@njit\n",
    "def calcE(s):\n",
    "    E = 0\n",
    "    for i in range(width):\n",
    "        for j in range(width):\n",
    "            E += -deltaU(s,i,j)/2\n",
    "    return E/width**2\n",
    "\n",
    "# Calculate magnetization. \n",
    "# Magnetization is the sum of all spins divided by the total number of spins\n",
    "@njit\n",
    "def calcM(s):\n",
    "    m = np.abs(s.sum())\n",
    "    return m/width**2\n",
    "\n",
    "# Calculate interaction energy between spins. Assume periodic boundaries\n",
    "# Interaction energy will be the difference in energy due to flipping spin i,j \n",
    "# (i.e. 2*spin_value*neighboring_spins)\n",
    "@njit\n",
    "def deltaU(s,i,j):\n",
    "    #top\n",
    "    if i == 0:\n",
    "        t = s[width-1,j]  # periodic boundary\n",
    "    else:\n",
    "        t = s[i-1,j]\n",
    "    #bottom\n",
    "    if i == width-1:\n",
    "        b = s[0,j]  # periodic boundary\n",
    "    else:\n",
    "        b = s[i+1,j]\n",
    "    #left\n",
    "    if j == 0:\n",
    "        l = s[i,width-1]  # periodic boundary\n",
    "    else:\n",
    "        l = s[i,j-1]\n",
    "    #right\n",
    "    if j == width-1:\n",
    "        r = s[i,0]  # periodic boundary\n",
    "    else:\n",
    "        r = s[i,j+1]\n",
    "    return 2*s[i,j]*(t+b+r+l)  # difference in energy if i,j is flipped\n",
    "\n",
    "# Monte carlo cycle\n",
    "@njit\n",
    "def montecc(s,Temp,cycles):\n",
    "    for m in range(cycles):\n",
    "        i = random.randrange(width)  # choose random row\n",
    "        j = random.randrange(width)  # choose random column\n",
    "        ediff = deltaU(s,i,j)\n",
    "        if ediff <= 0:\n",
    "            s[i,j] = -s[i,j]  # flip spin\n",
    "        elif random.random() < np.exp(-ediff/Temp):\n",
    "            s[i,j] = -s[i,j]\n",
    "    return s\n",
    "\n",
    "# Compute physical quantities\n",
    "@njit\n",
    "def computePQ(s,T,cycles):\n",
    "    En = 0\n",
    "    En_sq = 0\n",
    "    Mg = 0\n",
    "    Mg_sq = 0\n",
    "    for p in range(cycles):\n",
    "        s = montecc(s,T,1)\n",
    "        E = calcE(s)\n",
    "        M = calcM(s)\n",
    "        En += E\n",
    "        Mg += M\n",
    "        En_sq += E*E\n",
    "        Mg_sq += M*M\n",
    "    aveEn = En/cycles\n",
    "    mag = Mg/cycles\n",
    "    sus = (Mg_sq/cycles-(Mg/cycles)**2)/T\n",
    "    heatCap = (En_sq/cycles-(En/cycles)**2)/(T**2)\n",
    "    return aveEn, mag, sus, heatCap"
   ]
  },
  {
   "cell_type": "code",
   "execution_count": 3,
   "metadata": {
    "scrolled": true
   },
   "outputs": [
    {
     "name": "stdout",
     "output_type": "stream",
     "text": [
      "Elapsed = 153.1240358352661\n"
     ]
    }
   ],
   "source": [
    "# Initial parameters\n",
    "\n",
    "width = 32  # width of sqaure spin lattice; 64 points may take hours\n",
    "s = np.random.choice([1,-1],size=(width,width))  # initial spin sites randomly (+1 or -1)\n",
    "cycles = 1000 * width**2\n",
    "\n",
    "# Initlaize temperature range (crosses critical temperature)\n",
    "temps = np.arange(1.60,3.15,0.02)\n",
    "\n",
    "# Inititalize magnetization, average energy, heat capacity, and susceptibility\n",
    "mag = np.zeros(len(temps))\n",
    "aveEn = np.zeros(len(temps))\n",
    "heatCap = np.zeros(len(temps))\n",
    "sus = np.zeros(len(temps))\n",
    "\n",
    "start = time.time()\n",
    "# Compute physical quanities (magnetization, etc.)\n",
    "for ind, T in enumerate(temps):\n",
    "    # Cycle spins\n",
    "    s = montecc(s,T,cycles)\n",
    "    # Compute physical quanitites with 1000 cycles per spin\n",
    "    aveEn[ind], mag[ind], sus[ind], heatCap[ind] = computePQ(s,T,cycles)\n",
    "end = time.time()\n",
    "print(\"Elapsed = %s\" % (end - start))"
   ]
  },
  {
   "cell_type": "code",
   "execution_count": 4,
   "metadata": {},
   "outputs": [
    {
     "data": {
      "image/png": "[encoded data removed]",
      "text/plain": [
       "<Figure size 432x288 with 1 Axes>"
      ]
     },
     "metadata": {
      "needs_background": "light"
     },
     "output_type": "display_data"
    },
    {
     "data": {
      "image/png": "[encoded data removed]",
      "text/plain": [
       "<Figure size 432x288 with 1 Axes>"
      ]
     },
     "metadata": {
      "needs_background": "light"
     },
     "output_type": "display_data"
    },
    {
     "data": {
      "image/png": "[encoded data removed]",
      "text/plain": [
       "<Figure size 432x288 with 1 Axes>"
      ]
     },
     "metadata": {
      "needs_background": "light"
     },
     "output_type": "display_data"
    },
    {
     "data": {
      "image/png": "[encoded data removed]",
      "text/plain": [
       "<Figure size 432x288 with 1 Axes>"
      ]
     },
     "metadata": {
      "needs_background": "light"
     },
     "output_type": "display_data"
    }
   ],
   "source": [
    "# Plot calculated stuff\n",
    "\n",
    "plt.scatter(temps,aveEn,s=2)\n",
    "plt.xlabel('Temperature')\n",
    "plt.ylabel('Average Energy')\n",
    "plt.show()\n",
    "\n",
    "plt.scatter(temps,heatCap,s=2)\n",
    "plt.xlabel('Temperature')\n",
    "plt.ylabel('Heat Capacity')\n",
    "plt.show()\n",
    "\n",
    "plt.scatter(temps,mag,s=2)\n",
    "plt.xlabel('Temperature')\n",
    "plt.ylabel('Magnetization')\n",
    "plt.show()\n",
    "\n",
    "plt.scatter(temps,sus,s=2)\n",
    "plt.xlabel('Temperature')\n",
    "plt.ylabel('Susceptibility')\n",
    "plt.show()"
   ]
  },
  {
   "cell_type": "markdown",
   "metadata": {},
   "source": [
    "# Faster Computation\n",
    "The first completed version of the code (with numba) the hyperparameters were\n",
    "\n",
    "```width = 32\n",
    "cycles = 1000 * width**2\n",
    "temps = np.arange(1.60,3.15,0.02)```\n",
    "\n",
    "and took ~ 155 seconds\n",
    "\n",
    "Let's see what optimizations can be made! Before we look at each function, note that `x**2` takes noticably longer than `x*x` and numba offers a fastmasth option that will be incorperated in each function."
   ]
  },
  {
   "cell_type": "code",
   "execution_count": 5,
   "metadata": {},
   "outputs": [],
   "source": [
    "# Initial parameters\n",
    "\n",
    "width = 2**5  # width of sqaure spin lattice; MUST BE POWER OF 2; 64 points may take hours\n",
    "width_log2 = int(np.log2(width))\n",
    "s = np.random.choice([1,-1],size=(width,width))  # initial spin sites randomly (+1 or -1)\n",
    "cycles = 1000 * width**2\n",
    "\n",
    "# Initlaize temperature range (crosses critical temperature)\n",
    "temps = np.arange(1.60,3.15,0.02)\n",
    "\n",
    "# Inititalize magnetization, average energy, heat capacity, and susceptibility\n",
    "mag = np.zeros(len(temps))\n",
    "aveEn = np.zeros(len(temps))\n",
    "heatCap = np.zeros(len(temps))\n",
    "sus = np.zeros(len(temps))"
   ]
  },
  {
   "cell_type": "code",
   "execution_count": 6,
   "metadata": {},
   "outputs": [
    {
     "name": "stdout",
     "output_type": "stream",
     "text": [
      "288 ns ± 17.9 ns per loop (mean ± std. dev. of 7 runs, 1000000 loops each)\n"
     ]
    }
   ],
   "source": [
    "# old way\n",
    "%timeit width**2"
   ]
  },
  {
   "cell_type": "code",
   "execution_count": 7,
   "metadata": {},
   "outputs": [
    {
     "name": "stdout",
     "output_type": "stream",
     "text": [
      "65 ns ± 0.531 ns per loop (mean ± std. dev. of 7 runs, 10000000 loops each)\n"
     ]
    }
   ],
   "source": [
    "# new way\n",
    "%timeit width*width"
   ]
  },
  {
   "cell_type": "markdown",
   "metadata": {},
   "source": [
    "## Delta u\n",
    "Is there a faster way to implement periodic boundary conditions and add up neighboring spins? An attempt using np.roll and matrix addition/mulitplication was made, but it was x20 slower."
   ]
  },
  {
   "cell_type": "code",
   "execution_count": 8,
   "metadata": {},
   "outputs": [],
   "source": [
    "# Calculate interaction energy between spins. Assume periodic boundaries. i and j and be any value\n",
    "# Interaction energy will be the difference in energy due to flipping spin i,j \n",
    "# (i.e. 2*spin_value*neighboring_spins)\n",
    "@njit(fastmath=True)\n",
    "def deltaU_fast(s,i,j):\n",
    "    #top\n",
    "    if i == 0:\n",
    "        t = s[width-1,j]  # periodic boundary\n",
    "    else:\n",
    "        t = s[i-1,j]\n",
    "    #bottom\n",
    "    if i == width-1:\n",
    "        b = s[0,j]  # periodic boundary\n",
    "    else:\n",
    "        b = s[i+1,j]\n",
    "    #left\n",
    "    if j == 0:\n",
    "        l = s[i,width-1]  # periodic boundary\n",
    "    else:\n",
    "        l = s[i,j-1]\n",
    "    #right\n",
    "    if j == width-1:\n",
    "        r = s[i,0]  # periodic boundary\n",
    "    else:\n",
    "        r = s[i,j+1]\n",
    "    return s[i,j] * (t+b+r+l)  # difference in energy if i,j is flipped"
   ]
  },
  {
   "cell_type": "code",
   "execution_count": 9,
   "metadata": {},
   "outputs": [
    {
     "name": "stdout",
     "output_type": "stream",
     "text": [
      "381 ns ± 2.45 ns per loop (mean ± std. dev. of 7 runs, 1000000 loops each)\n"
     ]
    }
   ],
   "source": [
    "%timeit deltaU(s,15,15)"
   ]
  },
  {
   "cell_type": "code",
   "execution_count": 10,
   "metadata": {},
   "outputs": [
    {
     "name": "stdout",
     "output_type": "stream",
     "text": [
      "383 ns ± 2.83 ns per loop (mean ± std. dev. of 7 runs, 1000000 loops each)\n"
     ]
    }
   ],
   "source": [
    "%timeit deltaU_fast(s,15,15)"
   ]
  },
  {
   "cell_type": "markdown",
   "metadata": {},
   "source": [
    "%timeit reveals that `calcE()` takes up the most time. Let's start there for possible improvements.\n",
    "## Calculate Energy\n",
    "Using just matrix manipulations to compute the total energy took x10 longer than the the double for loop with jit. Also, having a function for the bulk spins and a function for the edge spins (in hopes of reducing if logic) actually ran slower as well. I noticed the output of `deltaU()` is multipled by 2, but then immediately divided by two in `calcE()`. Resolving this throughout the functions helped lower runtime. The two other speed ups are from `fastmath=True` and replacing `x**2` with `x*x`"
   ]
  },
  {
   "cell_type": "code",
   "execution_count": 11,
   "metadata": {},
   "outputs": [],
   "source": [
    "# Calculate the energy of the lattice.\n",
    "# The energy is the sum of interactions between spins divided by the total number of spins\n",
    "@njit(fastmath=True)\n",
    "def calcE_fast(s):\n",
    "    E = 0\n",
    "    for i in range(width):\n",
    "        for j in range(width):\n",
    "            E += -deltaU_fast(s,i,j)\n",
    "    return E / (width*width)"
   ]
  },
  {
   "cell_type": "code",
   "execution_count": 12,
   "metadata": {},
   "outputs": [
    {
     "name": "stdout",
     "output_type": "stream",
     "text": [
      "2.87 µs ± 94.3 ns per loop (mean ± std. dev. of 7 runs, 100000 loops each)\n"
     ]
    }
   ],
   "source": [
    "# old way\n",
    "%timeit calcE(s)"
   ]
  },
  {
   "cell_type": "code",
   "execution_count": 13,
   "metadata": {},
   "outputs": [
    {
     "name": "stdout",
     "output_type": "stream",
     "text": [
      "1.79 µs ± 21.7 ns per loop (mean ± std. dev. of 7 runs, 1000000 loops each)\n"
     ]
    }
   ],
   "source": [
    "# new way\n",
    "%timeit calcE_fast(s)"
   ]
  },
  {
   "cell_type": "markdown",
   "metadata": {},
   "source": [
    "## Calculate Magnetization\n",
    "Already fast and not a main time contributor"
   ]
  },
  {
   "cell_type": "code",
   "execution_count": 14,
   "metadata": {},
   "outputs": [],
   "source": [
    "# Calculate magnetization. \n",
    "# Magnetization is the sum of all spins divided by the total number of spins\n",
    "@njit(fastmath=True)\n",
    "def calcM_fast(s):\n",
    "    m = np.abs(s.sum()) / (width*width)\n",
    "    return m"
   ]
  },
  {
   "cell_type": "code",
   "execution_count": 15,
   "metadata": {},
   "outputs": [
    {
     "name": "stdout",
     "output_type": "stream",
     "text": [
      "391 ns ± 4.92 ns per loop (mean ± std. dev. of 7 runs, 1000000 loops each)\n"
     ]
    }
   ],
   "source": [
    "%timeit calcM(s)"
   ]
  },
  {
   "cell_type": "code",
   "execution_count": 16,
   "metadata": {},
   "outputs": [
    {
     "name": "stdout",
     "output_type": "stream",
     "text": [
      "392 ns ± 2.15 ns per loop (mean ± std. dev. of 7 runs, 1000000 loops each)\n"
     ]
    }
   ],
   "source": [
    "%timeit calcM_fast(s)"
   ]
  },
  {
   "cell_type": "markdown",
   "metadata": {},
   "source": [
    "## Monte Carlo Cycle\n",
    "Overall, `montecc()` and `montecc_fast()` take the same time for one cycle, but `montecc_fast()` is noticably faster over many cycles.\n",
    "\n",
    "### Lattice Size\n",
    "If we restrict the lattice size to be a power of 2, the random number generating time deceases by a factor of 10 for that part of the computation."
   ]
  },
  {
   "cell_type": "code",
   "execution_count": 17,
   "metadata": {},
   "outputs": [],
   "source": [
    "# Monte carlo cycle\n",
    "@njit(fastmath=True)\n",
    "def montecc_fast(s,Temp,cycles):\n",
    "    for m in range(cycles):\n",
    "        i = random.getrandbits(width_log2)  # choose random row\n",
    "        j = random.getrandbits(width_log2)  # choose random column\n",
    "        ediff = 2 * deltaU_fast(s,i,j)\n",
    "        if ediff <= 0:\n",
    "            s[i,j] *= -1  # flip spin\n",
    "        elif random.random() < np.exp(-ediff/Temp):\n",
    "            s[i,j] *= -1\n",
    "    return s"
   ]
  },
  {
   "cell_type": "code",
   "execution_count": 18,
   "metadata": {},
   "outputs": [
    {
     "name": "stdout",
     "output_type": "stream",
     "text": [
      "986 ns ± 3.72 ns per loop (mean ± std. dev. of 7 runs, 1000000 loops each)\n"
     ]
    }
   ],
   "source": [
    "# old way: random number generation\n",
    "%timeit random.randrange(width)"
   ]
  },
  {
   "cell_type": "code",
   "execution_count": 19,
   "metadata": {},
   "outputs": [
    {
     "name": "stdout",
     "output_type": "stream",
     "text": [
      "151 ns ± 0.816 ns per loop (mean ± std. dev. of 7 runs, 10000000 loops each)\n"
     ]
    }
   ],
   "source": [
    "# new way: random number generation\n",
    "%timeit random.getrandbits(width_log2)"
   ]
  },
  {
   "cell_type": "code",
   "execution_count": 20,
   "metadata": {},
   "outputs": [
    {
     "name": "stdout",
     "output_type": "stream",
     "text": [
      "1.47 µs ± 29.5 ns per loop (mean ± std. dev. of 7 runs, 1000000 loops each)\n"
     ]
    }
   ],
   "source": [
    "#generate an s for testing\n",
    "%timeit montecc(s,1.60,20)"
   ]
  },
  {
   "cell_type": "code",
   "execution_count": 21,
   "metadata": {},
   "outputs": [
    {
     "name": "stdout",
     "output_type": "stream",
     "text": [
      "The slowest run took 10.30 times longer than the fastest. This could mean that an intermediate result is being cached.\n",
      "3.19 µs ± 3.76 µs per loop (mean ± std. dev. of 7 runs, 1 loop each)\n"
     ]
    }
   ],
   "source": [
    "%timeit montecc_fast(s,1.60,20)"
   ]
  },
  {
   "cell_type": "markdown",
   "metadata": {},
   "source": [
    "## Main computation loop\n",
    "Most of the time comes from calcE function. All previously mentioned speed ups are included here."
   ]
  },
  {
   "cell_type": "code",
   "execution_count": 22,
   "metadata": {},
   "outputs": [],
   "source": [
    "# Compute physical quantities\n",
    "@njit(fastmath=True)\n",
    "def computePQ_fast(s,T,cycles):\n",
    "    En = 0\n",
    "    En_sq = 0\n",
    "    Mg = 0\n",
    "    Mg_sq = 0\n",
    "    for p in range(cycles):\n",
    "        s = montecc_fast(s,T,1)\n",
    "        E = calcE_fast(s)\n",
    "        M = calcM_fast(s)\n",
    "        En += E\n",
    "        Mg += M\n",
    "        En_sq += E*E\n",
    "        Mg_sq += M*M\n",
    "    aveEn = En / cycles\n",
    "    mag = Mg / cycles\n",
    "    sus = (Mg_sq / cycles - (mag * mag))/T\n",
    "    heatCap = (En_sq / cycles - (aveEn * aveEn))/(T*T)\n",
    "    return aveEn, mag, sus, heatCap"
   ]
  },
  {
   "cell_type": "code",
   "execution_count": 23,
   "metadata": {},
   "outputs": [
    {
     "name": "stdout",
     "output_type": "stream",
     "text": [
      "94 µs ± 1.46 µs per loop (mean ± std. dev. of 7 runs, 10000 loops each)\n"
     ]
    }
   ],
   "source": [
    "%timeit computePQ(s,1.60,50)"
   ]
  },
  {
   "cell_type": "code",
   "execution_count": 24,
   "metadata": {},
   "outputs": [
    {
     "name": "stdout",
     "output_type": "stream",
     "text": [
      "79 µs ± 4.62 µs per loop (mean ± std. dev. of 7 runs, 1 loop each)\n"
     ]
    }
   ],
   "source": [
    "%timeit computePQ_fast(s,1.60,50)"
   ]
  },
  {
   "cell_type": "markdown",
   "metadata": {},
   "source": [
    "## Faster Computation\n",
    "Let's use these faster functions and see how well they do! The previous computation was 155s. With the \"fast\" functions and same hyperparameters, it's 126s! An 18.7% faster computation!"
   ]
  },
  {
   "cell_type": "code",
   "execution_count": 25,
   "metadata": {},
   "outputs": [],
   "source": [
    "# Fast helper functions all in one place\n",
    "\n",
    "# Calculate the energy of the lattice.\n",
    "# The energy is the sum of interactions between spins divided by the total number of spins\n",
    "@njit(fastmath=True)\n",
    "def calcE_fast(s):\n",
    "    E = 0\n",
    "    for i in range(width):\n",
    "        for j in range(width):\n",
    "            E += -deltaU_fast(s,i,j)\n",
    "    return E / (width*width)\n",
    "\n",
    "\n",
    "# Calculate magnetization. \n",
    "# Magnetization is the sum of all spins divided by the total number of spins\n",
    "@njit(fastmath=True)\n",
    "def calcM_fast(s):\n",
    "    m = np.abs(s.sum()) / (width*width)\n",
    "    return m\n",
    "\n",
    "# Calculate interaction energy between spins. Assume periodic boundaries. i and j and be any value\n",
    "# Interaction energy will be the difference in energy due to flipping spin i,j \n",
    "# (i.e. 2*spin_value*neighboring_spins)\n",
    "@njit(fastmath=True)\n",
    "def deltaU_fast(s,i,j):\n",
    "    #top\n",
    "    if i == 0:\n",
    "        t = s[width-1,j]  # periodic boundary\n",
    "    else:\n",
    "        t = s[i-1,j]\n",
    "    #bottom\n",
    "    if i == width-1:\n",
    "        b = s[0,j]  # periodic boundary\n",
    "    else:\n",
    "        b = s[i+1,j]\n",
    "    #left\n",
    "    if j == 0:\n",
    "        l = s[i,width-1]  # periodic boundary\n",
    "    else:\n",
    "        l = s[i,j-1]\n",
    "    #right\n",
    "    if j == width-1:\n",
    "        r = s[i,0]  # periodic boundary\n",
    "    else:\n",
    "        r = s[i,j+1]\n",
    "    return s[i,j] * (t+b+r+l)  # difference in energy if i,j is flipped\n",
    "\n",
    "# Monte carlo cycle\n",
    "@njit(fastmath=True)\n",
    "def montecc_fast(s,Temp,cycles):\n",
    "    for m in range(cycles):\n",
    "        i = random.getrandbits(width_log2)  # choose random row\n",
    "        j = random.getrandbits(width_log2)  # choose random column\n",
    "        ediff = 2 * deltaU_fast(s,i,j)\n",
    "        if ediff <= 0:\n",
    "            s[i,j] *= -1  # flip spin\n",
    "        elif random.random() < np.exp(-ediff/Temp):\n",
    "            s[i,j] *= -1\n",
    "    return s\n",
    "\n",
    "\n",
    "# Compute physical quantities\n",
    "@njit(fastmath=True)\n",
    "def computePQ_fast(s,T,cycles):\n",
    "    En = 0\n",
    "    En_sq = 0\n",
    "    Mg = 0\n",
    "    Mg_sq = 0\n",
    "    for p in range(cycles):\n",
    "        s = montecc_fast(s,T,1)\n",
    "        E = calcE_fast(s)\n",
    "        M = calcM_fast(s)\n",
    "        En += E\n",
    "        Mg += M\n",
    "        En_sq += E*E\n",
    "        Mg_sq += M*M\n",
    "    aveEn = En / cycles\n",
    "    mag = Mg / cycles\n",
    "    sus = (Mg_sq / cycles - (mag * mag))/T\n",
    "    heatCap = (En_sq / cycles - (aveEn * aveEn))/(T*T)\n",
    "    return aveEn, mag, sus, heatCap"
   ]
  },
  {
   "cell_type": "code",
   "execution_count": 26,
   "metadata": {
    "scrolled": true
   },
   "outputs": [
    {
     "name": "stdout",
     "output_type": "stream",
     "text": [
      "Elapsed = 126.50802516937256\n"
     ]
    }
   ],
   "source": [
    "start = time.time()\n",
    "# Compute physical quanities (magnetization, etc.)\n",
    "for ind, T in enumerate(temps):\n",
    "    # Cycle spins\n",
    "    s = montecc_fast(s,T,cycles)\n",
    "    # Compute physical quanitites with 1000 cycles per spin\n",
    "    aveEn[ind], mag[ind], sus[ind], heatCap[ind] = computePQ_fast(s,T,cycles)\n",
    "end = time.time()\n",
    "print(\"Elapsed = %s\" % (end - start))"
   ]
  },
  {
   "cell_type": "code",
   "execution_count": 27,
   "metadata": {},
   "outputs": [
    {
     "data": {
      "image/png": "[encoded data removed]",
      "text/plain": [
       "<Figure size 432x288 with 1 Axes>"
      ]
     },
     "metadata": {
      "needs_background": "light"
     },
     "output_type": "display_data"
    },
    {
     "data": {
      "image/png": "[encoded data removed]",
      "text/plain": [
       "<Figure size 432x288 with 1 Axes>"
      ]
     },
     "metadata": {
      "needs_background": "light"
     },
     "output_type": "display_data"
    },
    {
     "data": {
      "image/png": "[encoded data removed]",
      "text/plain": [
       "<Figure size 432x288 with 1 Axes>"
      ]
     },
     "metadata": {
      "needs_background": "light"
     },
     "output_type": "display_data"
    },
    {
     "data": {
      "image/png": "[encoded data removed]",
      "text/plain": [
       "<Figure size 432x288 with 1 Axes>"
      ]
     },
     "metadata": {
      "needs_background": "light"
     },
     "output_type": "display_data"
    }
   ],
   "source": [
    "# Plot calculated stuff\n",
    "\n",
    "plt.scatter(temps,aveEn,s=2)\n",
    "plt.xlabel('Temperature')\n",
    "plt.ylabel('Average Energy')\n",
    "plt.show()\n",
    "\n",
    "plt.scatter(temps,heatCap,s=2)\n",
    "plt.xlabel('Temperature')\n",
    "plt.ylabel('Heat Capacity')\n",
    "plt.show()\n",
    "\n",
    "plt.scatter(temps,mag,s=2)\n",
    "plt.xlabel('Temperature')\n",
    "plt.ylabel('Magnetization')\n",
    "plt.show()\n",
    "\n",
    "plt.scatter(temps,sus,s=2)\n",
    "plt.xlabel('Temperature')\n",
    "plt.ylabel('Susceptibility')\n",
    "plt.show()"
   ]
  },
  {
   "cell_type": "code",
   "execution_count": null,
   "metadata": {},
   "outputs": [],
   "source": []
  },
  {
   "cell_type": "code",
   "execution_count": null,
   "metadata": {},
   "outputs": [],
   "source": []
  },
  {
   "cell_type": "code",
   "execution_count": null,
   "metadata": {},
   "outputs": [],
   "source": []
  },
  {
   "cell_type": "code",
   "execution_count": 4,
   "metadata": {},
   "outputs": [],
   "source": [
    "# Reduced helper functions\n",
    "\n",
    "# Calculate magnetization. \n",
    "# Magnetization is the sum of all spins divided by the total number of spins\n",
    "@njit(fastmath=True)\n",
    "def calcM(s, width):\n",
    "    m = np.abs(s.sum())\n",
    "    return m/(width**2)\n",
    "\n",
    "# Calculate interaction energy between spins. Assume periodic boundaries\n",
    "# Interaction energy will be the difference in energy due to flipping spin i,j \n",
    "# (i.e. 2*spin_value*neighboring_spins)\n",
    "@njit(fastmath=True)\n",
    "def deltaU(s, i, j, width):\n",
    "    #top\n",
    "    if i == 0:\n",
    "        t = s[width-1,j]  # periodic boundary\n",
    "    else:\n",
    "        t = s[i-1,j]\n",
    "    #bottom\n",
    "    if i == width-1:\n",
    "        b = s[0,j]  # periodic boundary\n",
    "    else:\n",
    "        b = s[i+1,j]\n",
    "    #left\n",
    "    if j == 0:\n",
    "        l = s[i,width-1]  # periodic boundary\n",
    "    else:\n",
    "        l = s[i,j-1]\n",
    "    #right\n",
    "    if j == width-1:\n",
    "        r = s[i,0]  # periodic boundary\n",
    "    else:\n",
    "        r = s[i,j+1]\n",
    "    return 2*s[i,j]*(t+b+r+l)  # difference in energy if i,j is flipped\n",
    "\n",
    "# Monte carlo cycle\n",
    "@njit(fastmath=True)\n",
    "def montecc(s, T, cycles, width):\n",
    "    for m in range(cycles):\n",
    "        i = random.randrange(width)  # choose random row\n",
    "        j = random.randrange(width)  # choose random column\n",
    "        ediff = deltaU(s, i, j, width)\n",
    "        if ediff <= 0:\n",
    "            s[i,j] = -s[i,j]  # flip spin\n",
    "        elif random.random() < np.exp(-ediff/T):\n",
    "            s[i,j] = -s[i,j]\n",
    "    return s\n",
    "\n",
    "# Compute physical quantities\n",
    "@njit(fastmath=True)\n",
    "def computePQ(s, T, cycles, width):\n",
    "    Mg = 0\n",
    "    Mg_sq = 0\n",
    "    for p in range(cycles):\n",
    "        s = montecc(s, T, 1, width)\n",
    "        M = calcM(s, width)\n",
    "        Mg += M\n",
    "        Mg_sq += M*M\n",
    "    sus = (Mg_sq/cycles-(Mg/cycles)**2)/T\n",
    "    return sus"
   ]
  },
  {
   "cell_type": "code",
   "execution_count": 5,
   "metadata": {},
   "outputs": [
    {
     "name": "stdout",
     "output_type": "stream",
     "text": [
      "Elapsed = 20.1909019947052\n"
     ]
    }
   ],
   "source": [
    "# Initial parameters\n",
    "\n",
    "width = 16  # width of sqaure spin lattice; 64 points may take hours\n",
    "s = np.random.choice([1,-1], size=(width, width))  # initial spin sites randomly (+1 or -1)\n",
    "cycles = 3000000\n",
    "\n",
    "# Initlaize temperature range (crosses critical temperature)\n",
    "temps = np.arange(1.9, 3.2, 0.04)\n",
    "\n",
    "# Inititalize magnetization, average energy, heat capacity, and susceptibility\n",
    "sus_16 = np.zeros(len(temps))\n",
    "\n",
    "start = time.time()\n",
    "# Compute physical quanities (magnetization, etc.)\n",
    "for ind, T in enumerate(temps):\n",
    "    # Cycle spins\n",
    "    s = montecc(s, T, cycles, width)\n",
    "    sus_16[ind] = computePQ(s, T, cycles, width)\n",
    "end = time.time()\n",
    "print(\"Elapsed = %s\" % (end - start))"
   ]
  },
  {
   "cell_type": "code",
   "execution_count": 7,
   "metadata": {},
   "outputs": [
    {
     "name": "stdout",
     "output_type": "stream",
     "text": [
      "Elapsed = 23.322134017944336\n"
     ]
    }
   ],
   "source": [
    "# Initial parameters\n",
    "\n",
    "width = 32  # width of sqaure spin lattice; 64 points may take hours\n",
    "s = np.random.choice([1,-1], size=(width, width))  # initial spin sites randomly (+1 or -1)\n",
    "\n",
    "# Inititalize magnetization, average energy, heat capacity, and susceptibility\n",
    "sus_32 = np.zeros(len(temps))\n",
    "\n",
    "start = time.time()\n",
    "# Compute physical quanities (magnetization, etc.)\n",
    "for ind, T in enumerate(temps):\n",
    "    # Cycle spins\n",
    "    s = montecc(s, T, cycles, width)\n",
    "    sus_32[ind] = computePQ(s, T, cycles, width)\n",
    "end = time.time()\n",
    "print(\"Elapsed = %s\" % (end - start))"
   ]
  },
  {
   "cell_type": "code",
   "execution_count": 8,
   "metadata": {},
   "outputs": [
    {
     "name": "stdout",
     "output_type": "stream",
     "text": [
      "Elapsed = 47.70257210731506\n"
     ]
    }
   ],
   "source": [
    "# Initial parameters\n",
    "\n",
    "width = 64  # width of sqaure spin lattice; 64 points may take hours\n",
    "s = np.random.choice([1,-1], size=(width, width))  # initial spin sites randomly (+1 or -1)\n",
    "\n",
    "# Inititalize magnetization, average energy, heat capacity, and susceptibility\n",
    "sus_64 = np.zeros(len(temps))\n",
    "\n",
    "start = time.time()\n",
    "# Compute physical quanities (magnetization, etc.)\n",
    "for ind, T in enumerate(temps):\n",
    "    # Cycle spins\n",
    "    s = montecc(s, T, cycles, width)\n",
    "    sus_64[ind] = computePQ(s, T, cycles, width)\n",
    "end = time.time()\n",
    "print(\"Elapsed = %s\" % (end - start))"
   ]
  },
  {
   "cell_type": "code",
   "execution_count": 28,
   "metadata": {},
   "outputs": [
    {
     "data": {
      "text/html": [
       "\n",
       "\n",
       "\n",
       "\n",
       "\n",
       "\n",
       "  <div class=\"bk-root\" id=\"f50845e0-0aa6-42fd-bd81-8f8a33b230c4\" data-root-id=\"5847\"></div>\n"
      ]
     },
     "metadata": {},
     "output_type": "display_data"
    },
    {
     "data": {
      "application/javascript": [
       "(function(root) {\n",
       "  function embed_document(root) {\n",
       "    \n",
       "  var docs_json = {\"54c5b00f-19e2-4e38-9c87-c50a4661194d\":{\"roots\":{\"references\":[{\"attributes\":{\"below\":[{\"id\":\"5856\",\"type\":\"LinearAxis\"}],\"center\":[{\"id\":\"5860\",\"type\":\"Grid\"},{\"id\":\"5865\",\"type\":\"Grid\"}],\"left\":[{\"id\":\"5861\",\"type\":\"LinearAxis\"}],\"plot_height\":350,\"plot_width\":700,\"renderers\":[{\"id\":\"5882\",\"type\":\"GlyphRenderer\"},{\"id\":\"5887\",\"type\":\"GlyphRenderer\"},{\"id\":\"5892\",\"type\":\"GlyphRenderer\"}],\"title\":{\"id\":\"6142\",\"type\":\"Title\"},\"toolbar\":{\"id\":\"5872\",\"type\":\"Toolbar\"},\"x_range\":{\"id\":\"5848\",\"type\":\"DataRange1d\"},\"x_scale\":{\"id\":\"5852\",\"type\":\"LinearScale\"},\"y_range\":{\"id\":\"5850\",\"type\":\"DataRange1d\"},\"y_scale\":{\"id\":\"5854\",\"type\":\"LinearScale\"}},\"id\":\"5847\",\"subtype\":\"Figure\",\"type\":\"Plot\"},{\"attributes\":{\"data_source\":{\"id\":\"5884\",\"type\":\"ColumnDataSource\"},\"glyph\":{\"id\":\"5885\",\"type\":\"Line\"},\"hover_glyph\":null,\"muted_glyph\":null,\"nonselection_glyph\":{\"id\":\"5886\",\"type\":\"Line\"},\"selection_glyph\":null,\"view\":{\"id\":\"5888\",\"type\":\"CDSView\"}},\"id\":\"5887\",\"type\":\"GlyphRenderer\"},{\"attributes\":{\"formatter\":{\"id\":\"6143\",\"type\":\"BasicTickFormatter\"},\"ticker\":{\"id\":\"5862\",\"type\":\"BasicTicker\"}},\"id\":\"5861\",\"type\":\"LinearAxis\"},{\"attributes\":{\"source\":{\"id\":\"5884\",\"type\":\"ColumnDataSource\"}},\"id\":\"5888\",\"type\":\"CDSView\"},{\"attributes\":{},\"id\":\"5862\",\"type\":\"BasicTicker\"},{\"attributes\":{\"line_color\":\"brown\",\"x\":{\"field\":\"x\"},\"y\":{\"field\":\"y\"}},\"id\":\"5890\",\"type\":\"Line\"},{\"attributes\":{\"text\":\"\"},\"id\":\"6142\",\"type\":\"Title\"},{\"attributes\":{},\"id\":\"6143\",\"type\":\"BasicTickFormatter\"},{\"attributes\":{\"dimension\":1,\"ticker\":{\"id\":\"5862\",\"type\":\"BasicTicker\"}},\"id\":\"5865\",\"type\":\"Grid\"},{\"attributes\":{\"line_alpha\":0.1,\"line_color\":\"#1f77b4\",\"x\":{\"field\":\"x\"},\"y\":{\"field\":\"y\"}},\"id\":\"5891\",\"type\":\"Line\"},{\"attributes\":{\"data_source\":{\"id\":\"5879\",\"type\":\"ColumnDataSource\"},\"glyph\":{\"id\":\"5880\",\"type\":\"Line\"},\"hover_glyph\":null,\"muted_glyph\":null,\"nonselection_glyph\":{\"id\":\"5881\",\"type\":\"Line\"},\"selection_glyph\":null,\"view\":{\"id\":\"5883\",\"type\":\"CDSView\"}},\"id\":\"5882\",\"type\":\"GlyphRenderer\"},{\"attributes\":{\"data_source\":{\"id\":\"5889\",\"type\":\"ColumnDataSource\"},\"glyph\":{\"id\":\"5890\",\"type\":\"Line\"},\"hover_glyph\":null,\"muted_glyph\":null,\"nonselection_glyph\":{\"id\":\"5891\",\"type\":\"Line\"},\"selection_glyph\":null,\"view\":{\"id\":\"5893\",\"type\":\"CDSView\"}},\"id\":\"5892\",\"type\":\"GlyphRenderer\"},{\"attributes\":{\"line_alpha\":0.1,\"line_color\":\"#1f77b4\",\"x\":{\"field\":\"x\"},\"y\":{\"field\":\"y\"}},\"id\":\"5881\",\"type\":\"Line\"},{\"attributes\":{\"ticker\":{\"id\":\"5857\",\"type\":\"BasicTicker\"}},\"id\":\"5860\",\"type\":\"Grid\"},{\"attributes\":{\"source\":{\"id\":\"5889\",\"type\":\"ColumnDataSource\"}},\"id\":\"5893\",\"type\":\"CDSView\"},{\"attributes\":{\"active_drag\":\"auto\",\"active_inspect\":\"auto\",\"active_multi\":null,\"active_scroll\":\"auto\",\"active_tap\":\"auto\",\"tools\":[{\"id\":\"5866\",\"type\":\"PanTool\"},{\"id\":\"5867\",\"type\":\"WheelZoomTool\"},{\"id\":\"5868\",\"type\":\"BoxZoomTool\"},{\"id\":\"5869\",\"type\":\"SaveTool\"},{\"id\":\"5870\",\"type\":\"ResetTool\"},{\"id\":\"5871\",\"type\":\"HelpTool\"}]},\"id\":\"5872\",\"type\":\"Toolbar\"},{\"attributes\":{},\"id\":\"5866\",\"type\":\"PanTool\"},{\"attributes\":{},\"id\":\"6145\",\"type\":\"BasicTickFormatter\"},{\"attributes\":{},\"id\":\"5867\",\"type\":\"WheelZoomTool\"},{\"attributes\":{\"bottom_units\":\"screen\",\"fill_alpha\":{\"value\":0.5},\"fill_color\":{\"value\":\"lightgrey\"},\"left_units\":\"screen\",\"level\":\"overlay\",\"line_alpha\":{\"value\":1.0},\"line_color\":{\"value\":\"black\"},\"line_dash\":[4,4],\"line_width\":{\"value\":2},\"render_mode\":\"css\",\"right_units\":\"screen\",\"top_units\":\"screen\"},\"id\":\"6147\",\"type\":\"BoxAnnotation\"},{\"attributes\":{\"overlay\":{\"id\":\"6147\",\"type\":\"BoxAnnotation\"}},\"id\":\"5868\",\"type\":\"BoxZoomTool\"},{\"attributes\":{\"callback\":null,\"data\":{\"x\":{\"__ndarray__\":\"ZXIFMbmCSMD1I91f+FRGwIXVtI43J0TAFoeMvXb5QcBMccjYa5c/wG3UdzbqOzvAjTcnlGjgNsCumtbx5oQywJ77C5/KUizA38FqWsebI8BBEJMriMkVwBBzQokGbvG/cq3jzQklCkA2SjRwi4AeQNpeu/xI9ydATEyuICZXMEAr6f7Cp7I0QAuGT2UpDjlA6iKgB6tpPUDlX/hUluJAQFSuICZXEENAxPxI9xc+RUAzS3HI2GtHQKOZmZmZmUlAE+jBalrHS0CCNuo7G/VNQHlCiQZuEVBAsWkdb04oUUDpkLHXLj9SQCC4RUAPVlNAWN/ZqO9sVECQBm4R0INVQMgtAnqwmlZA\",\"dtype\":\"float64\",\"shape\":[33]},\"y\":{\"__ndarray__\":\"aty7TAq0iD/S0ruqynCRP3UKsRfJL5I/ouIp54immz8brXqlIkOiP2p9DJeA1qs/r4XVx5+IvD+gjHaMlbHBP7wQdwuX8M4/P9LRycKFyz88YC7z70zRP2UcnnItvdM/aCSQHV1g2j/9g8xVrZzYP5Cpc0bgbdc/w0DZ1VDi0z8NQmm+ownTP+tJFm65LM4/emtxYxp6yz8dM6eROqjIP93Z9L4HCMU/ra2HJHRDxD+cxz00qGLAPy6N5J5Ol8A/HzqX8rYgvT+gCgCq4XW4P8/mzEoogLg/g5cW++/gtT9YN0lvnomzP60ClB/6c7Q/Lo/fhnMcsT8wuOQxzkiwP/wUoNmmLa8/\",\"dtype\":\"float64\",\"shape\":[33]}},\"selected\":{\"id\":\"6148\",\"type\":\"Selection\"},\"selection_policy\":{\"id\":\"6149\",\"type\":\"UnionRenderers\"}},\"id\":\"5879\",\"type\":\"ColumnDataSource\"},{\"attributes\":{},\"id\":\"6148\",\"type\":\"Selection\"},{\"attributes\":{\"callback\":null,\"data\":{\"x\":{\"__ndarray__\":\"ZXIFMbmCaMD1I91f+FRmwIXVtI43J2TAFoeMvXb5YcBMccjYa5dfwG3UdzbqO1vAjTcnlGjgVsCumtbx5oRSwJ77C5/KUkzA38FqWsebQ8BBEJMriMk1wBBzQokGbhHAcq3jzQklKkA2SjRwi4A+QNpeu/xI90dATEyuICZXUEAr6f7Cp7JUQAuGT2UpDllA6iKgB6tpXUDlX/hUluJgQFSuICZXEGNAxPxI9xc+ZUAzS3HI2GtnQKOZmZmZmWlAE+jBalrHa0CCNuo7G/VtQHlCiQZuEXBAsWkdb04ocUDpkLHXLj9yQCC4RUAPVnNAWN/ZqO9sdECQBm4R0IN1QMgtAnqwmnZA\",\"dtype\":\"float64\",\"shape\":[33]},\"y\":{\"__ndarray__\":\"+r8tGoMQfj/x71ZrykeBP+MzFM+kJII/V4T0Y9A+lD+Vg9fBvKSYP28KBt/v7JY/g8B5TDx/lj/xgviCB2q+P74tv3ygicw/j0Nlp7yn1z8fbGGyn0/pP0hI1svY+Ng/Q6WgpzaD3j95oEFPLGHdP4/8mse40dU/d/TaFCJHzT+993UK7DXJP3EoJ9/+9cM/2rWviM4Ywj+DqXHGEDq6P/gMB/D/Aro/8s6OTburtj+EmRinbICxP/VWydx6vKs/MCt5eyXPsT/tFIQ93D6qP/qzsUCrM6U/QlDr0Y0Kpj/NAc6/R1OkP4DeGpW71KA/OTZgvj+8nT/3MDcqu3igPzO1YI8X06A/\",\"dtype\":\"float64\",\"shape\":[33]}},\"selected\":{\"id\":\"6150\",\"type\":\"Selection\"},\"selection_policy\":{\"id\":\"6151\",\"type\":\"UnionRenderers\"}},\"id\":\"5884\",\"type\":\"ColumnDataSource\"},{\"attributes\":{},\"id\":\"5869\",\"type\":\"SaveTool\"},{\"attributes\":{},\"id\":\"6149\",\"type\":\"UnionRenderers\"},{\"attributes\":{},\"id\":\"5852\",\"type\":\"LinearScale\"},{\"attributes\":{},\"id\":\"5870\",\"type\":\"ResetTool\"},{\"attributes\":{},\"id\":\"6150\",\"type\":\"Selection\"},{\"attributes\":{\"callback\":null},\"id\":\"5850\",\"type\":\"DataRange1d\"},{\"attributes\":{},\"id\":\"5871\",\"type\":\"HelpTool\"},{\"attributes\":{},\"id\":\"5857\",\"type\":\"BasicTicker\"},{\"attributes\":{},\"id\":\"6151\",\"type\":\"UnionRenderers\"},{\"attributes\":{\"formatter\":{\"id\":\"6145\",\"type\":\"BasicTickFormatter\"},\"ticker\":{\"id\":\"5857\",\"type\":\"BasicTicker\"}},\"id\":\"5856\",\"type\":\"LinearAxis\"},{\"attributes\":{},\"id\":\"6152\",\"type\":\"Selection\"},{\"attributes\":{\"source\":{\"id\":\"5879\",\"type\":\"ColumnDataSource\"}},\"id\":\"5883\",\"type\":\"CDSView\"},{\"attributes\":{},\"id\":\"6153\",\"type\":\"UnionRenderers\"},{\"attributes\":{\"line_color\":\"red\",\"x\":{\"field\":\"x\"},\"y\":{\"field\":\"y\"}},\"id\":\"5880\",\"type\":\"Line\"},{\"attributes\":{\"callback\":null,\"data\":{\"x\":{\"__ndarray__\":\"ZXIFMbmCiMD1I91f+FSGwIXVtI43J4TAFoeMvXb5gcBMccjYa5d/wG3UdzbqO3vAjTcnlGjgdsCumtbx5oRywJ77C5/KUmzA38FqWsebY8BBEJMriMlVwBBzQokGbjHAcq3jzQklSkA2SjRwi4BeQNpeu/xI92dATEyuICZXcEAr6f7Cp7J0QAuGT2UpDnlA6iKgB6tpfUDlX/hUluKAQFSuICZXEINAxPxI9xc+hUAzS3HI2GuHQKOZmZmZmYlAE+jBalrHi0CCNuo7G/WNQHlCiQZuEZBAsWkdb04okUDpkLHXLj+SQCC4RUAPVpNAWN/ZqO9slECQBm4R0IOVQMgtAnqwmpZA\",\"dtype\":\"float64\",\"shape\":[33]},\"y\":{\"__ndarray__\":\"QASYCCpzaT9Bu4OUM3RyP41YTXV3BnI/WVsRn975fT+oaaZljzSEP4hTwzzAJKQ/ky2uuHpQjz+qi5oEo76OPxqwc+ce96A/+f0EDztfsj86KRzvuvq1P+eO+LEwNek/07AzX0nSwT+qFL75sMm5P7zpN0KSZc4/CRJ7063cxD8tSpz95BSqPz9IMRZCFLA/geKm1emvrz9gMLheIF2zPw13zQm32LA/B+BesUd9oT+tOITWAgekPzslVFKFOJo/hFhdxOJcmT/vjecP2iygP1+5QROZc6A/4JZf9APKkz8im5iyHWybP2SIRvOhnJI/wBux3jTpiz+7JE5vRwyQP7Z0kgw0yZQ/\",\"dtype\":\"float64\",\"shape\":[33]}},\"selected\":{\"id\":\"6152\",\"type\":\"Selection\"},\"selection_policy\":{\"id\":\"6153\",\"type\":\"UnionRenderers\"}},\"id\":\"5889\",\"type\":\"ColumnDataSource\"},{\"attributes\":{\"line_color\":\"blue\",\"x\":{\"field\":\"x\"},\"y\":{\"field\":\"y\"}},\"id\":\"5885\",\"type\":\"Line\"},{\"attributes\":{\"callback\":null},\"id\":\"5848\",\"type\":\"DataRange1d\"},{\"attributes\":{},\"id\":\"5854\",\"type\":\"LinearScale\"},{\"attributes\":{\"line_alpha\":0.1,\"line_color\":\"#1f77b4\",\"x\":{\"field\":\"x\"},\"y\":{\"field\":\"y\"}},\"id\":\"5886\",\"type\":\"Line\"}],\"root_ids\":[\"5847\"]},\"title\":\"Bokeh Application\",\"version\":\"1.3.1\"}};\n",
       "  var render_items = [{\"docid\":\"54c5b00f-19e2-4e38-9c87-c50a4661194d\",\"roots\":{\"5847\":\"f50845e0-0aa6-42fd-bd81-8f8a33b230c4\"}}];\n",
       "  root.Bokeh.embed.embed_items_notebook(docs_json, render_items);\n",
       "\n",
       "  }\n",
       "  if (root.Bokeh !== undefined) {\n",
       "    embed_document(root);\n",
       "  } else {\n",
       "    var attempts = 0;\n",
       "    var timer = setInterval(function(root) {\n",
       "      if (root.Bokeh !== undefined) {\n",
       "        embed_document(root);\n",
       "        clearInterval(timer);\n",
       "      }\n",
       "      attempts++;\n",
       "      if (attempts > 100) {\n",
       "        console.log(\"Bokeh: ERROR: Unable to run BokehJS code because BokehJS library is missing\");\n",
       "        clearInterval(timer);\n",
       "      }\n",
       "    }, 10, root)\n",
       "  }\n",
       "})(window);"
      ],
      "application/vnd.bokehjs_exec.v0+json": ""
     },
     "metadata": {
      "application/vnd.bokehjs_exec.v0+json": {
       "id": "5847"
      }
     },
     "output_type": "display_data"
    }
   ],
   "source": [
    "nu = 1\n",
    "eta = 2.5\n",
    "tc = 2.35\n",
    "t = (temps-tc)/tc\n",
    "x16 = t * (16**2)**(1/nu)\n",
    "y16 = sus_16 * (16**2)**(eta - 2)\n",
    "x32 = t * (32**2)**(1/nu)\n",
    "y32 = sus_32 * (32**2)**(eta - 2)\n",
    "x64 = t * (64**2)**(1/nu)\n",
    "y64 = sus_64 * (64**2)**(eta - 2)\n",
    "\n",
    "#Interactive plot\n",
    "p = figure(plot_width=700, plot_height=350)\n",
    "p.line(x16, y16, color='red')\n",
    "p.line(x32, y32, color='blue')\n",
    "p.line(x64, y64, color='brown')\n",
    "show(p)"
   ]
  },
  {
   "cell_type": "code",
   "execution_count": 10,
   "metadata": {},
   "outputs": [
    {
     "data": {
      "text/html": [
       "\n",
       "\n",
       "\n",
       "\n",
       "\n",
       "\n",
       "  <div class=\"bk-root\" id=\"967a6915-46b9-4a15-9adb-5912af1459ad\" data-root-id=\"1140\"></div>\n"
      ]
     },
     "metadata": {},
     "output_type": "display_data"
    },
    {
     "data": {
      "application/javascript": [
       "(function(root) {\n",
       "  function embed_document(root) {\n",
       "    \n",
       "  var docs_json = {\"9d2f71d0-7344-43ae-aaa8-14c117ef28d4\":{\"roots\":{\"references\":[{\"attributes\":{\"below\":[{\"id\":\"1149\",\"type\":\"LinearAxis\"}],\"center\":[{\"id\":\"1153\",\"type\":\"Grid\"},{\"id\":\"1158\",\"type\":\"Grid\"}],\"left\":[{\"id\":\"1154\",\"type\":\"LinearAxis\"}],\"plot_height\":400,\"renderers\":[{\"id\":\"1175\",\"type\":\"GlyphRenderer\"},{\"id\":\"1180\",\"type\":\"GlyphRenderer\"},{\"id\":\"1185\",\"type\":\"GlyphRenderer\"}],\"title\":{\"id\":\"1201\",\"type\":\"Title\"},\"toolbar\":{\"id\":\"1165\",\"type\":\"Toolbar\"},\"x_range\":{\"id\":\"1141\",\"type\":\"DataRange1d\"},\"x_scale\":{\"id\":\"1145\",\"type\":\"LinearScale\"},\"y_range\":{\"id\":\"1143\",\"type\":\"DataRange1d\"},\"y_scale\":{\"id\":\"1147\",\"type\":\"LinearScale\"}},\"id\":\"1140\",\"subtype\":\"Figure\",\"type\":\"Plot\"},{\"attributes\":{},\"id\":\"1163\",\"type\":\"ResetTool\"},{\"attributes\":{},\"id\":\"1212\",\"type\":\"UnionRenderers\"},{\"attributes\":{\"source\":{\"id\":\"1182\",\"type\":\"ColumnDataSource\"}},\"id\":\"1186\",\"type\":\"CDSView\"},{\"attributes\":{},\"id\":\"1210\",\"type\":\"UnionRenderers\"},{\"attributes\":{},\"id\":\"1208\",\"type\":\"UnionRenderers\"},{\"attributes\":{\"fill_alpha\":{\"value\":0.1},\"fill_color\":{\"value\":\"#1f77b4\"},\"line_alpha\":{\"value\":0.1},\"line_color\":{\"value\":\"#1f77b4\"},\"x\":{\"field\":\"x\"},\"y\":{\"field\":\"y\"}},\"id\":\"1179\",\"type\":\"Scatter\"},{\"attributes\":{\"callback\":null,\"data\":{\"x\":{\"__ndarray__\":\"ZmZmZmZm/j8K16NwPQr/P65H4XoUrv8/KVyPwvUoAEB7FK5H4XoAQM3MzMzMzABAH4XrUbgeAUBxPQrXo3ABQMP1KFyPwgFAFa5H4XoUAkBnZmZmZmYCQLkehetRuAJAC9ejcD0KA0Bdj8L1KFwDQK9H4XoUrgNAAQAAAAAABEBTuB6F61EEQKVwPQrXowRA9yhcj8L1BEBJ4XoUrkcFQJuZmZmZmQVA7VG4HoXrBUA/CtejcD0GQJHC9ShcjwZA43oUrkfhBkA1MzMzMzMHQIfrUbgehQdA2aNwPQrXB0ArXI/C9SgIQH0UrkfheghAz8zMzMzMCEAhhetRuB4JQHM9CtejcAlA\",\"dtype\":\"float64\",\"shape\":[33]},\"y\":{\"__ndarray__\":\"QASYCCpzCT9Bu4OUM3QSP41YTXV3BhI/WVsRn975HT+oaaZljzQkP4hTwzzAJEQ/ky2uuHpQLz+qi5oEo74uPxqwc+ce90A/+f0EDztfUj86KRzvuvpVP+eO+LEwNYk/07AzX0nSYT+qFL75sMlZP7zpN0KSZW4/CRJ7063cZD8tSpz95BRKPz9IMRZCFFA/geKm1emvTz9gMLheIF1TPw13zQm32FA/B+BesUd9QT+tOITWAgdEPzslVFKFODo/hFhdxOJcOT/vjecP2ixAP1+5QROZc0A/4JZf9APKMz8im5iyHWw7P2SIRvOhnDI/wBux3jTpKz+7JE5vRwwwP7Z0kgw0yTQ/\",\"dtype\":\"float64\",\"shape\":[33]}},\"selected\":{\"id\":\"1211\",\"type\":\"Selection\"},\"selection_policy\":{\"id\":\"1212\",\"type\":\"UnionRenderers\"}},\"id\":\"1182\",\"type\":\"ColumnDataSource\"},{\"attributes\":{},\"id\":\"1209\",\"type\":\"Selection\"},{\"attributes\":{},\"id\":\"1164\",\"type\":\"HelpTool\"},{\"attributes\":{},\"id\":\"1204\",\"type\":\"BasicTickFormatter\"},{\"attributes\":{\"callback\":null,\"data\":{\"x\":{\"__ndarray__\":\"ZmZmZmZm/j8K16NwPQr/P65H4XoUrv8/KVyPwvUoAEB7FK5H4XoAQM3MzMzMzABAH4XrUbgeAUBxPQrXo3ABQMP1KFyPwgFAFa5H4XoUAkBnZmZmZmYCQLkehetRuAJAC9ejcD0KA0Bdj8L1KFwDQK9H4XoUrgNAAQAAAAAABEBTuB6F61EEQKVwPQrXowRA9yhcj8L1BEBJ4XoUrkcFQJuZmZmZmQVA7VG4HoXrBUA/CtejcD0GQJHC9ShcjwZA43oUrkfhBkA1MzMzMzMHQIfrUbgehQdA2aNwPQrXB0ArXI/C9SgIQH0UrkfheghAz8zMzMzMCEAhhetRuB4JQHM9CtejcAlA\",\"dtype\":\"float64\",\"shape\":[33]},\"y\":{\"__ndarray__\":\"aty7TAq0SD/S0ruqynBRP3UKsRfJL1I/ouIp54imWz8brXqlIkNiP2p9DJeA1ms/r4XVx5+IfD+gjHaMlbGBP7wQdwuX8I4/P9LRycKFiz88YC7z70yRP2UcnnItvZM/aCSQHV1gmj/9g8xVrZyYP5Cpc0bgbZc/w0DZ1VDikz8NQmm+owmTP+tJFm65LI4/emtxYxp6iz8dM6eROqiIP93Z9L4HCIU/ra2HJHRDhD+cxz00qGKAPy6N5J5Ol4A/HzqX8rYgfT+gCgCq4XV4P8/mzEoogHg/g5cW++/gdT9YN0lvnolzP60ClB/6c3Q/Lo/fhnMccT8wuOQxzkhwP/wUoNmmLW8/\",\"dtype\":\"float64\",\"shape\":[33]}},\"selected\":{\"id\":\"1207\",\"type\":\"Selection\"},\"selection_policy\":{\"id\":\"1208\",\"type\":\"UnionRenderers\"}},\"id\":\"1172\",\"type\":\"ColumnDataSource\"},{\"attributes\":{},\"id\":\"1147\",\"type\":\"LinearScale\"},{\"attributes\":{},\"id\":\"1202\",\"type\":\"BasicTickFormatter\"},{\"attributes\":{},\"id\":\"1207\",\"type\":\"Selection\"},{\"attributes\":{\"callback\":null,\"data\":{\"x\":{\"__ndarray__\":\"ZmZmZmZm/j8K16NwPQr/P65H4XoUrv8/KVyPwvUoAEB7FK5H4XoAQM3MzMzMzABAH4XrUbgeAUBxPQrXo3ABQMP1KFyPwgFAFa5H4XoUAkBnZmZmZmYCQLkehetRuAJAC9ejcD0KA0Bdj8L1KFwDQK9H4XoUrgNAAQAAAAAABEBTuB6F61EEQKVwPQrXowRA9yhcj8L1BEBJ4XoUrkcFQJuZmZmZmQVA7VG4HoXrBUA/CtejcD0GQJHC9ShcjwZA43oUrkfhBkA1MzMzMzMHQIfrUbgehQdA2aNwPQrXB0ArXI/C9SgIQH0UrkfheghAz8zMzMzMCEAhhetRuB4JQHM9CtejcAlA\",\"dtype\":\"float64\",\"shape\":[33]},\"y\":{\"__ndarray__\":\"+r8tGoMQLj/x71ZrykcxP+MzFM+kJDI/V4T0Y9A+RD+Vg9fBvKRIP28KBt/v7EY/g8B5TDx/Rj/xgviCB2puP74tv3ygiXw/j0Nlp7ynhz8fbGGyn0+ZP0hI1svY+Ig/Q6WgpzaDjj95oEFPLGGNP4/8mse40YU/d/TaFCJHfT+993UK7DV5P3EoJ9/+9XM/2rWviM4Ycj+DqXHGEDpqP/gMB/D/Amo/8s6OTburZj+EmRinbIBhP/VWydx6vFs/MCt5eyXPYT/tFIQ93D5aP/qzsUCrM1U/QlDr0Y0KVj/NAc6/R1NUP4DeGpW71FA/OTZgvj+8TT/3MDcqu3hQPzO1YI8X01A/\",\"dtype\":\"float64\",\"shape\":[33]}},\"selected\":{\"id\":\"1209\",\"type\":\"Selection\"},\"selection_policy\":{\"id\":\"1210\",\"type\":\"UnionRenderers\"}},\"id\":\"1177\",\"type\":\"ColumnDataSource\"},{\"attributes\":{},\"id\":\"1211\",\"type\":\"Selection\"},{\"attributes\":{\"data_source\":{\"id\":\"1182\",\"type\":\"ColumnDataSource\"},\"glyph\":{\"id\":\"1183\",\"type\":\"Scatter\"},\"hover_glyph\":null,\"muted_glyph\":null,\"nonselection_glyph\":{\"id\":\"1184\",\"type\":\"Scatter\"},\"selection_glyph\":null,\"view\":{\"id\":\"1186\",\"type\":\"CDSView\"}},\"id\":\"1185\",\"type\":\"GlyphRenderer\"},{\"attributes\":{},\"id\":\"1159\",\"type\":\"PanTool\"},{\"attributes\":{\"bottom_units\":\"screen\",\"fill_alpha\":{\"value\":0.5},\"fill_color\":{\"value\":\"lightgrey\"},\"left_units\":\"screen\",\"level\":\"overlay\",\"line_alpha\":{\"value\":1.0},\"line_color\":{\"value\":\"black\"},\"line_dash\":[4,4],\"line_width\":{\"value\":2},\"render_mode\":\"css\",\"right_units\":\"screen\",\"top_units\":\"screen\"},\"id\":\"1206\",\"type\":\"BoxAnnotation\"},{\"attributes\":{\"callback\":null},\"id\":\"1141\",\"type\":\"DataRange1d\"},{\"attributes\":{},\"id\":\"1150\",\"type\":\"BasicTicker\"},{\"attributes\":{\"source\":{\"id\":\"1172\",\"type\":\"ColumnDataSource\"}},\"id\":\"1176\",\"type\":\"CDSView\"},{\"attributes\":{\"active_drag\":\"auto\",\"active_inspect\":\"auto\",\"active_multi\":null,\"active_scroll\":\"auto\",\"active_tap\":\"auto\",\"tools\":[{\"id\":\"1159\",\"type\":\"PanTool\"},{\"id\":\"1160\",\"type\":\"WheelZoomTool\"},{\"id\":\"1161\",\"type\":\"BoxZoomTool\"},{\"id\":\"1162\",\"type\":\"SaveTool\"},{\"id\":\"1163\",\"type\":\"ResetTool\"},{\"id\":\"1164\",\"type\":\"HelpTool\"}]},\"id\":\"1165\",\"type\":\"Toolbar\"},{\"attributes\":{},\"id\":\"1145\",\"type\":\"LinearScale\"},{\"attributes\":{\"fill_color\":{\"value\":\"brown\"},\"line_color\":{\"value\":\"brown\"},\"x\":{\"field\":\"x\"},\"y\":{\"field\":\"y\"}},\"id\":\"1183\",\"type\":\"Scatter\"},{\"attributes\":{\"fill_alpha\":{\"value\":0.1},\"fill_color\":{\"value\":\"#1f77b4\"},\"line_alpha\":{\"value\":0.1},\"line_color\":{\"value\":\"#1f77b4\"},\"x\":{\"field\":\"x\"},\"y\":{\"field\":\"y\"}},\"id\":\"1174\",\"type\":\"Scatter\"},{\"attributes\":{\"callback\":null},\"id\":\"1143\",\"type\":\"DataRange1d\"},{\"attributes\":{\"data_source\":{\"id\":\"1177\",\"type\":\"ColumnDataSource\"},\"glyph\":{\"id\":\"1178\",\"type\":\"Scatter\"},\"hover_glyph\":null,\"muted_glyph\":null,\"nonselection_glyph\":{\"id\":\"1179\",\"type\":\"Scatter\"},\"selection_glyph\":null,\"view\":{\"id\":\"1181\",\"type\":\"CDSView\"}},\"id\":\"1180\",\"type\":\"GlyphRenderer\"},{\"attributes\":{\"text\":\"\"},\"id\":\"1201\",\"type\":\"Title\"},{\"attributes\":{},\"id\":\"1160\",\"type\":\"WheelZoomTool\"},{\"attributes\":{\"fill_color\":{\"value\":\"red\"},\"line_color\":{\"value\":\"red\"},\"x\":{\"field\":\"x\"},\"y\":{\"field\":\"y\"}},\"id\":\"1173\",\"type\":\"Scatter\"},{\"attributes\":{},\"id\":\"1155\",\"type\":\"BasicTicker\"},{\"attributes\":{},\"id\":\"1162\",\"type\":\"SaveTool\"},{\"attributes\":{\"fill_color\":{\"value\":\"blue\"},\"line_color\":{\"value\":\"blue\"},\"x\":{\"field\":\"x\"},\"y\":{\"field\":\"y\"}},\"id\":\"1178\",\"type\":\"Scatter\"},{\"attributes\":{\"overlay\":{\"id\":\"1206\",\"type\":\"BoxAnnotation\"}},\"id\":\"1161\",\"type\":\"BoxZoomTool\"},{\"attributes\":{\"source\":{\"id\":\"1177\",\"type\":\"ColumnDataSource\"}},\"id\":\"1181\",\"type\":\"CDSView\"},{\"attributes\":{\"fill_alpha\":{\"value\":0.1},\"fill_color\":{\"value\":\"#1f77b4\"},\"line_alpha\":{\"value\":0.1},\"line_color\":{\"value\":\"#1f77b4\"},\"x\":{\"field\":\"x\"},\"y\":{\"field\":\"y\"}},\"id\":\"1184\",\"type\":\"Scatter\"},{\"attributes\":{\"formatter\":{\"id\":\"1204\",\"type\":\"BasicTickFormatter\"},\"ticker\":{\"id\":\"1150\",\"type\":\"BasicTicker\"}},\"id\":\"1149\",\"type\":\"LinearAxis\"},{\"attributes\":{\"formatter\":{\"id\":\"1202\",\"type\":\"BasicTickFormatter\"},\"ticker\":{\"id\":\"1155\",\"type\":\"BasicTicker\"}},\"id\":\"1154\",\"type\":\"LinearAxis\"},{\"attributes\":{\"ticker\":{\"id\":\"1150\",\"type\":\"BasicTicker\"}},\"id\":\"1153\",\"type\":\"Grid\"},{\"attributes\":{\"dimension\":1,\"ticker\":{\"id\":\"1155\",\"type\":\"BasicTicker\"}},\"id\":\"1158\",\"type\":\"Grid\"},{\"attributes\":{\"data_source\":{\"id\":\"1172\",\"type\":\"ColumnDataSource\"},\"glyph\":{\"id\":\"1173\",\"type\":\"Scatter\"},\"hover_glyph\":null,\"muted_glyph\":null,\"nonselection_glyph\":{\"id\":\"1174\",\"type\":\"Scatter\"},\"selection_glyph\":null,\"view\":{\"id\":\"1176\",\"type\":\"CDSView\"}},\"id\":\"1175\",\"type\":\"GlyphRenderer\"}],\"root_ids\":[\"1140\"]},\"title\":\"Bokeh Application\",\"version\":\"1.3.1\"}};\n",
       "  var render_items = [{\"docid\":\"9d2f71d0-7344-43ae-aaa8-14c117ef28d4\",\"roots\":{\"1140\":\"967a6915-46b9-4a15-9adb-5912af1459ad\"}}];\n",
       "  root.Bokeh.embed.embed_items_notebook(docs_json, render_items);\n",
       "\n",
       "  }\n",
       "  if (root.Bokeh !== undefined) {\n",
       "    embed_document(root);\n",
       "  } else {\n",
       "    var attempts = 0;\n",
       "    var timer = setInterval(function(root) {\n",
       "      if (root.Bokeh !== undefined) {\n",
       "        embed_document(root);\n",
       "        clearInterval(timer);\n",
       "      }\n",
       "      attempts++;\n",
       "      if (attempts > 100) {\n",
       "        console.log(\"Bokeh: ERROR: Unable to run BokehJS code because BokehJS library is missing\");\n",
       "        clearInterval(timer);\n",
       "      }\n",
       "    }, 10, root)\n",
       "  }\n",
       "})(window);"
      ],
      "application/vnd.bokehjs_exec.v0+json": ""
     },
     "metadata": {
      "application/vnd.bokehjs_exec.v0+json": {
       "id": "1140"
      }
     },
     "output_type": "display_data"
    }
   ],
   "source": [
    "# Plot calculated stuff\n",
    "\n",
    "p = figure(plot_width=600, plot_height=400)\n",
    "p.scatter(temps, sus_16, color='red')\n",
    "p.scatter(temps, sus_32, color='blue')\n",
    "p.scatter(temps, sus_64, color='brown')\n",
    "\n",
    "show(p)"
   ]
  },
  {
   "cell_type": "code",
   "execution_count": null,
   "metadata": {},
   "outputs": [],
   "source": []
  }
 ],
 "metadata": {
  "kernelspec": {
   "display_name": "Python 3",
   "language": "python",
   "name": "python3"
  },
  "language_info": {
   "codemirror_mode": {
    "name": "ipython",
    "version": 3
   },
   "file_extension": ".py",
   "mimetype": "text/x-python",
   "name": "python",
   "nbconvert_exporter": "python",
   "pygments_lexer": "ipython3",
   "version": "3.7.7"
  }
 },
 "nbformat": 4,
 "nbformat_minor": 2
}
